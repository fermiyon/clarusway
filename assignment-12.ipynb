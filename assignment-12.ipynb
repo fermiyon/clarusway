{
 "cells": [
  {
   "cell_type": "code",
   "execution_count": 13,
   "metadata": {},
   "outputs": [
    {
     "name": "stdout",
     "output_type": "stream",
     "text": [
      "It is an invalid entry. Don't use non-numeric, float, or negative values!\n",
      "93084 is an Armstrong number\n"
     ]
    }
   ],
   "source": [
    "from curses.ascii import isdigit\n",
    "\n",
    "while True:\n",
    "  number = input('Please write a number: ')\n",
    "  if number.isdigit():\n",
    "    number_len = len(str(number))\n",
    "    total = 0\n",
    "    for i in str(number):\n",
    "     total += int(i)**int(number_len)\n",
    "    if total == int(number):\n",
    "     print(f'{number} is an Armstrong number')\n",
    "    else:\n",
    "     print(f'{number} is not an Armstrong number')\n",
    "    break\n",
    "  else:\n",
    "    print(\"It is an invalid entry. Don't use non-numeric, float, or negative values!\")\n"
   ]
  }
 ],
 "metadata": {
  "kernelspec": {
   "display_name": "Python 3.10.7 64-bit",
   "language": "python",
   "name": "python3"
  },
  "language_info": {
   "codemirror_mode": {
    "name": "ipython",
    "version": 3
   },
   "file_extension": ".py",
   "mimetype": "text/x-python",
   "name": "python",
   "nbconvert_exporter": "python",
   "pygments_lexer": "ipython3",
   "version": "3.10.7"
  },
  "orig_nbformat": 4,
  "vscode": {
   "interpreter": {
    "hash": "aee8b7b246df8f9039afb4144a1f6fd8d2ca17a180786b69acc140d282b71a49"
   }
  }
 },
 "nbformat": 4,
 "nbformat_minor": 2
}
