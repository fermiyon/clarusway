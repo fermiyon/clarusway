{
 "cells": [
  {
   "attachments": {},
   "cell_type": "markdown",
   "metadata": {},
   "source": [
    "EXERCISE 1. What is the normal body temperature for healthy humans? A random sample of 130 healthy human body temperatures provided by Allen Shoemaker yielded 98.25 degrees and standard deviation 0.73 degrees. \n",
    "\n",
    "Give a 99% confidence interval for the average body temperature of healthy people."
   ]
  },
  {
   "cell_type": "code",
   "execution_count": 30,
   "metadata": {},
   "outputs": [],
   "source": [
    "import numpy as np\n",
    "from scipy import stats\n",
    "import pandas as pd\n",
    "import seaborn as sns\n"
   ]
  },
  {
   "cell_type": "code",
   "execution_count": 31,
   "metadata": {},
   "outputs": [
    {
     "data": {
      "text/plain": [
       "(98.08260738705933, 98.41739261294067)"
      ]
     },
     "execution_count": 31,
     "metadata": {},
     "output_type": "execute_result"
    }
   ],
   "source": [
    "n = 130\n",
    "xbar = 98.25\n",
    "s = 0.73\n",
    "sem = s / np.sqrt(n)\n",
    "confidence = 0.99\n",
    "stats.t.interval(alpha = confidence, df=n-1, loc=xbar, scale=sem)"
   ]
  },
  {
   "cell_type": "code",
   "execution_count": 32,
   "metadata": {},
   "outputs": [],
   "source": [
    "# n = 130\n",
    "# xbar = 98.25\n",
    "# sigma = 0.73\n",
    "# alpha = 0.99\n",
    "# sem = sigma / np.sqrt(n)\n",
    "\n",
    "# stats.norm.interval(alpha = 0.99, loc=xbar, scale=sem)"
   ]
  },
  {
   "attachments": {},
   "cell_type": "markdown",
   "metadata": {},
   "source": [
    "EXERCISE 2. The administrators for a hospital wished to estimate the average number of days required for inpatient treatment of patients between the ages of 25 and 34. A random sample of 500 hospital patients between these ages produced a mean and standard deviation equal to 5.4 and 3.1 days, respectively.\n",
    "\n",
    "Construct a 95% confidence interval for the mean length of stay for the population of patients from which the sample was drawn."
   ]
  },
  {
   "cell_type": "code",
   "execution_count": 33,
   "metadata": {},
   "outputs": [
    {
     "data": {
      "text/plain": [
       "(5.127617354510309, 5.672382645489692)"
      ]
     },
     "execution_count": 33,
     "metadata": {},
     "output_type": "execute_result"
    }
   ],
   "source": [
    "n = 500\n",
    "xbar = 5.4\n",
    "s = 3.1\n",
    "confidence = 0.95\n",
    "sem = s / np.sqrt(n)\n",
    "stats.t.interval(alpha = confidence, df=n-1, loc=xbar, scale=sem)"
   ]
  },
  {
   "attachments": {},
   "cell_type": "markdown",
   "metadata": {},
   "source": [
    "EXERCISE 3. The hourly wages in a particular industry are normally distributed with mean $13.20 and standard deviation $2.50. A company in this industry employs 40 workers, paying them an average of $12.20 per hour. Can this company be accused of paying substandard wages? Use an α = .01 level test. (Wackerly, Ex.10.18)\n",
    "\n",
    "CHECK: statistic: -2.5298221281347035, pvalue= 0.005706018193000826"
   ]
  },
  {
   "cell_type": "code",
   "execution_count": 34,
   "metadata": {},
   "outputs": [],
   "source": [
    "# Given Variables\n",
    "mu0 = 13.20\n",
    "sigma = 2.5\n",
    "xbar = 12.20\n",
    "n = 40\n",
    "alpha = 0.01\n",
    "null_hypothesis = \"The company pays standard wages\"\n",
    "alternative_hypothesis = \"The company pays substandard wages\"\n"
   ]
  },
  {
   "cell_type": "code",
   "execution_count": 35,
   "metadata": {},
   "outputs": [
    {
     "data": {
      "text/plain": [
       "-2.5298221281347035"
      ]
     },
     "execution_count": 35,
     "metadata": {},
     "output_type": "execute_result"
    }
   ],
   "source": [
    "# Statistic test\n",
    "z = (xbar - mu0) / (sigma / np.sqrt(n))\n",
    "z"
   ]
  },
  {
   "cell_type": "code",
   "execution_count": 36,
   "metadata": {},
   "outputs": [
    {
     "data": {
      "text/plain": [
       "0.005706018193000872"
      ]
     },
     "execution_count": 36,
     "metadata": {},
     "output_type": "execute_result"
    }
   ],
   "source": [
    "p_value = 1 - stats.norm.cdf(np.abs(z))\n",
    "p_value\n"
   ]
  },
  {
   "cell_type": "code",
   "execution_count": 37,
   "metadata": {},
   "outputs": [
    {
     "name": "stdout",
     "output_type": "stream",
     "text": [
      "The p-value of 0.0057 is less than 0.01, so we can reject the null hypothesis and conclude that The company pays substandard wages.\n"
     ]
    }
   ],
   "source": [
    "if p_value < alpha:\n",
    "    print(f\"The p-value of {p_value:.4f} is less than {alpha}, so we can reject the null hypothesis and conclude that {alternative_hypothesis}.\")\n",
    "else:\n",
    "    print(f\"The p-value of {p_value:.4f} is not less than {alpha}, so we cannot reject the null hypothesis and must conclude that {null_hypothesis}.\")"
   ]
  },
  {
   "attachments": {},
   "cell_type": "markdown",
   "metadata": {},
   "source": [
    "EXERCISE 4.Shear strength measurements derived from unconfined compression tests for two types of soils gave the results shown in the following document (measurements in tons per square foot). Do the soils appear to differ with respect to average shear strength, at the 1% significance level?\n",
    "\n",
    "Results for two type of soils\n",
    "\n",
    "CHECK: statistic: 5.1681473319343345, pvalue= 2.593228732352821e-06"
   ]
  },
  {
   "cell_type": "code",
   "execution_count": 57,
   "metadata": {},
   "outputs": [],
   "source": [
    "df = pd.read_csv('soil.csv')\n",
    "alpha = 0.01\n",
    "null_hypothesis = \"the soils doesn't appear to differ with respect to average shear strength\"\n",
    "alternative_hypothesis = \"the soils appear to differ with respect to average shear strength\""
   ]
  },
  {
   "cell_type": "code",
   "execution_count": 39,
   "metadata": {},
   "outputs": [
    {
     "name": "stdout",
     "output_type": "stream",
     "text": [
      "t-statistic: 5.1681473319343345, p-value: 2.593228732352821e-06\n"
     ]
    }
   ],
   "source": [
    "# t-test\n",
    "t, p_value = stats.ttest_ind(df['Soil1'].dropna(), df['Soil2'].dropna())\n",
    "\n",
    "print(f't-statistic: {t}, p-value: {p_value}')\n",
    "\n"
   ]
  },
  {
   "cell_type": "code",
   "execution_count": 40,
   "metadata": {},
   "outputs": [
    {
     "name": "stdout",
     "output_type": "stream",
     "text": [
      "The p-value of 0.0000 is less than 0.01, so we can reject the null hypothesis and conclude that The company pays substandard wages.\n"
     ]
    }
   ],
   "source": [
    "if p_value < alpha:\n",
    "    print(f\"The p-value of {p_value:.4f} is less than {alpha}, so we can reject the null hypothesis and conclude that {alternative_hypothesis}.\")\n",
    "else:\n",
    "    print(f\"The p-value of {p_value:.4f} is not less than {alpha}, so we cannot reject the null hypothesis and must conclude that {null_hypothesis}.\")"
   ]
  },
  {
   "attachments": {},
   "cell_type": "markdown",
   "metadata": {},
   "source": [
    "EXERCISE 5. The following dataset is based on data provided by the World Bank (https://datacatalog.worldbank.org/dataset/education-statistics). World Bank Edstats.  2015 PISA Test Dataset\n",
    "\n",
    "Get descriptive statistics (the central tendency, dispersion and shape of a dataset’s distribution) for each continent group (AS, EU, AF, NA, SA, OC).\n",
    "Determine whether there is any difference (on the average) for the math scores among European (EU) and Asian (AS) countries (assume normality and equal variances). Draw side-by-side box plots.\n",
    "CHECK: statistic=0.870055317967983, pvalue=0.38826888111307345"
   ]
  },
  {
   "cell_type": "code",
   "execution_count": 82,
   "metadata": {},
   "outputs": [],
   "source": [
    "null_hypothesis = \"there is no significant difference (on the average) for the math scores among European (EU) and Asian (AS) countries\"\n",
    "alternative_hypothesis = \"there is difference (on the average) for the math scores among European (EU) and Asian (AS) countries\"\n",
    "alpha = 0.05\n"
   ]
  },
  {
   "cell_type": "code",
   "execution_count": 83,
   "metadata": {},
   "outputs": [
    {
     "data": {
      "text/html": [
       "<div>\n",
       "<style scoped>\n",
       "    .dataframe tbody tr th:only-of-type {\n",
       "        vertical-align: middle;\n",
       "    }\n",
       "\n",
       "    .dataframe tbody tr th {\n",
       "        vertical-align: top;\n",
       "    }\n",
       "\n",
       "    .dataframe thead th {\n",
       "        text-align: right;\n",
       "    }\n",
       "</style>\n",
       "<table border=\"1\" class=\"dataframe\">\n",
       "  <thead>\n",
       "    <tr style=\"text-align: right;\">\n",
       "      <th></th>\n",
       "      <th>Country Code</th>\n",
       "      <th>Continent_Code</th>\n",
       "      <th>internet_users_per_100</th>\n",
       "      <th>Math</th>\n",
       "      <th>Reading</th>\n",
       "      <th>Science</th>\n",
       "    </tr>\n",
       "  </thead>\n",
       "  <tbody>\n",
       "    <tr>\n",
       "      <th>0</th>\n",
       "      <td>ALB</td>\n",
       "      <td>EU</td>\n",
       "      <td>63.252933</td>\n",
       "      <td>413.1570</td>\n",
       "      <td>405.2588</td>\n",
       "      <td>427.2250</td>\n",
       "    </tr>\n",
       "    <tr>\n",
       "      <th>1</th>\n",
       "      <td>ARE</td>\n",
       "      <td>AS</td>\n",
       "      <td>90.500000</td>\n",
       "      <td>427.4827</td>\n",
       "      <td>433.5423</td>\n",
       "      <td>436.7311</td>\n",
       "    </tr>\n",
       "    <tr>\n",
       "      <th>2</th>\n",
       "      <td>ARG</td>\n",
       "      <td>SA</td>\n",
       "      <td>68.043064</td>\n",
       "      <td>409.0333</td>\n",
       "      <td>425.3031</td>\n",
       "      <td>432.2262</td>\n",
       "    </tr>\n",
       "    <tr>\n",
       "      <th>3</th>\n",
       "      <td>AUS</td>\n",
       "      <td>OC</td>\n",
       "      <td>84.560519</td>\n",
       "      <td>493.8962</td>\n",
       "      <td>502.9006</td>\n",
       "      <td>509.9939</td>\n",
       "    </tr>\n",
       "    <tr>\n",
       "      <th>4</th>\n",
       "      <td>AUT</td>\n",
       "      <td>EU</td>\n",
       "      <td>83.940142</td>\n",
       "      <td>496.7423</td>\n",
       "      <td>484.8656</td>\n",
       "      <td>495.0375</td>\n",
       "    </tr>\n",
       "  </tbody>\n",
       "</table>\n",
       "</div>"
      ],
      "text/plain": [
       "  Country Code Continent_Code  internet_users_per_100      Math   Reading  \\\n",
       "0          ALB             EU               63.252933  413.1570  405.2588   \n",
       "1          ARE             AS               90.500000  427.4827  433.5423   \n",
       "2          ARG             SA               68.043064  409.0333  425.3031   \n",
       "3          AUS             OC               84.560519  493.8962  502.9006   \n",
       "4          AUT             EU               83.940142  496.7423  484.8656   \n",
       "\n",
       "    Science  \n",
       "0  427.2250  \n",
       "1  436.7311  \n",
       "2  432.2262  \n",
       "3  509.9939  \n",
       "4  495.0375  "
      ]
     },
     "execution_count": 83,
     "metadata": {},
     "output_type": "execute_result"
    }
   ],
   "source": [
    "df = pd.read_csv('pisa.csv')\n",
    "df.head()"
   ]
  },
  {
   "cell_type": "code",
   "execution_count": 84,
   "metadata": {},
   "outputs": [
    {
     "data": {
      "text/html": [
       "<div>\n",
       "<style scoped>\n",
       "    .dataframe tbody tr th:only-of-type {\n",
       "        vertical-align: middle;\n",
       "    }\n",
       "\n",
       "    .dataframe tbody tr th {\n",
       "        vertical-align: top;\n",
       "    }\n",
       "\n",
       "    .dataframe thead th {\n",
       "        text-align: right;\n",
       "    }\n",
       "</style>\n",
       "<table border=\"1\" class=\"dataframe\">\n",
       "  <thead>\n",
       "    <tr style=\"text-align: right;\">\n",
       "      <th></th>\n",
       "      <th>Country Code</th>\n",
       "      <th>Continent_Code</th>\n",
       "      <th>internet_users_per_100</th>\n",
       "      <th>Math</th>\n",
       "      <th>Reading</th>\n",
       "      <th>Science</th>\n",
       "    </tr>\n",
       "  </thead>\n",
       "  <tbody>\n",
       "    <tr>\n",
       "      <th>5</th>\n",
       "      <td>BEL</td>\n",
       "      <td>EU</td>\n",
       "      <td>85.052900</td>\n",
       "      <td>506.9844</td>\n",
       "      <td>498.5242</td>\n",
       "      <td>501.9997</td>\n",
       "    </tr>\n",
       "    <tr>\n",
       "      <th>63</th>\n",
       "      <td>THA</td>\n",
       "      <td>AS</td>\n",
       "      <td>39.316127</td>\n",
       "      <td>415.4638</td>\n",
       "      <td>409.1301</td>\n",
       "      <td>421.3373</td>\n",
       "    </tr>\n",
       "    <tr>\n",
       "      <th>6</th>\n",
       "      <td>BGR</td>\n",
       "      <td>EU</td>\n",
       "      <td>56.656300</td>\n",
       "      <td>441.1899</td>\n",
       "      <td>431.7175</td>\n",
       "      <td>445.7720</td>\n",
       "    </tr>\n",
       "    <tr>\n",
       "      <th>37</th>\n",
       "      <td>KAZ</td>\n",
       "      <td>AS</td>\n",
       "      <td>72.900000</td>\n",
       "      <td>459.8160</td>\n",
       "      <td>427.1410</td>\n",
       "      <td>456.4836</td>\n",
       "    </tr>\n",
       "    <tr>\n",
       "      <th>24</th>\n",
       "      <td>GBR</td>\n",
       "      <td>EU</td>\n",
       "      <td>92.000300</td>\n",
       "      <td>492.4785</td>\n",
       "      <td>497.9719</td>\n",
       "      <td>509.2215</td>\n",
       "    </tr>\n",
       "    <tr>\n",
       "      <th>28</th>\n",
       "      <td>HRV</td>\n",
       "      <td>EU</td>\n",
       "      <td>69.803100</td>\n",
       "      <td>464.0401</td>\n",
       "      <td>486.8632</td>\n",
       "      <td>475.3912</td>\n",
       "    </tr>\n",
       "    <tr>\n",
       "      <th>57</th>\n",
       "      <td>ROU</td>\n",
       "      <td>EU</td>\n",
       "      <td>55.763200</td>\n",
       "      <td>443.9543</td>\n",
       "      <td>433.6166</td>\n",
       "      <td>434.8849</td>\n",
       "    </tr>\n",
       "    <tr>\n",
       "      <th>15</th>\n",
       "      <td>CZE</td>\n",
       "      <td>EU</td>\n",
       "      <td>75.668839</td>\n",
       "      <td>492.3254</td>\n",
       "      <td>487.2501</td>\n",
       "      <td>492.8300</td>\n",
       "    </tr>\n",
       "    <tr>\n",
       "      <th>7</th>\n",
       "      <td>BRA</td>\n",
       "      <td>SA</td>\n",
       "      <td>58.327952</td>\n",
       "      <td>377.0695</td>\n",
       "      <td>407.3486</td>\n",
       "      <td>400.6821</td>\n",
       "    </tr>\n",
       "    <tr>\n",
       "      <th>61</th>\n",
       "      <td>SVN</td>\n",
       "      <td>EU</td>\n",
       "      <td>73.098700</td>\n",
       "      <td>509.9196</td>\n",
       "      <td>505.2159</td>\n",
       "      <td>512.8636</td>\n",
       "    </tr>\n",
       "  </tbody>\n",
       "</table>\n",
       "</div>"
      ],
      "text/plain": [
       "   Country Code Continent_Code  internet_users_per_100      Math   Reading  \\\n",
       "5           BEL             EU               85.052900  506.9844  498.5242   \n",
       "63          THA             AS               39.316127  415.4638  409.1301   \n",
       "6           BGR             EU               56.656300  441.1899  431.7175   \n",
       "37          KAZ             AS               72.900000  459.8160  427.1410   \n",
       "24          GBR             EU               92.000300  492.4785  497.9719   \n",
       "28          HRV             EU               69.803100  464.0401  486.8632   \n",
       "57          ROU             EU               55.763200  443.9543  433.6166   \n",
       "15          CZE             EU               75.668839  492.3254  487.2501   \n",
       "7           BRA             SA               58.327952  377.0695  407.3486   \n",
       "61          SVN             EU               73.098700  509.9196  505.2159   \n",
       "\n",
       "     Science  \n",
       "5   501.9997  \n",
       "63  421.3373  \n",
       "6   445.7720  \n",
       "37  456.4836  \n",
       "24  509.2215  \n",
       "28  475.3912  \n",
       "57  434.8849  \n",
       "15  492.8300  \n",
       "7   400.6821  \n",
       "61  512.8636  "
      ]
     },
     "execution_count": 84,
     "metadata": {},
     "output_type": "execute_result"
    }
   ],
   "source": [
    "df.sample(10)"
   ]
  },
  {
   "cell_type": "code",
   "execution_count": 85,
   "metadata": {},
   "outputs": [
    {
     "data": {
      "text/plain": [
       "(70, 6)"
      ]
     },
     "execution_count": 85,
     "metadata": {},
     "output_type": "execute_result"
    }
   ],
   "source": [
    "df.shape"
   ]
  },
  {
   "cell_type": "code",
   "execution_count": 86,
   "metadata": {},
   "outputs": [
    {
     "name": "stdout",
     "output_type": "stream",
     "text": [
      "<class 'pandas.core.frame.DataFrame'>\n",
      "RangeIndex: 70 entries, 0 to 69\n",
      "Data columns (total 6 columns):\n",
      " #   Column                  Non-Null Count  Dtype  \n",
      "---  ------                  --------------  -----  \n",
      " 0   Country Code            70 non-null     object \n",
      " 1   Continent_Code          65 non-null     object \n",
      " 2   internet_users_per_100  70 non-null     float64\n",
      " 3   Math                    70 non-null     float64\n",
      " 4   Reading                 70 non-null     float64\n",
      " 5   Science                 70 non-null     float64\n",
      "dtypes: float64(4), object(2)\n",
      "memory usage: 3.4+ KB\n"
     ]
    }
   ],
   "source": [
    "df.info()"
   ]
  },
  {
   "cell_type": "code",
   "execution_count": 87,
   "metadata": {},
   "outputs": [
    {
     "data": {
      "text/html": [
       "<div>\n",
       "<style scoped>\n",
       "    .dataframe tbody tr th:only-of-type {\n",
       "        vertical-align: middle;\n",
       "    }\n",
       "\n",
       "    .dataframe tbody tr th {\n",
       "        vertical-align: top;\n",
       "    }\n",
       "\n",
       "    .dataframe thead th {\n",
       "        text-align: right;\n",
       "    }\n",
       "</style>\n",
       "<table border=\"1\" class=\"dataframe\">\n",
       "  <thead>\n",
       "    <tr style=\"text-align: right;\">\n",
       "      <th></th>\n",
       "      <th>count</th>\n",
       "      <th>mean</th>\n",
       "      <th>std</th>\n",
       "      <th>min</th>\n",
       "      <th>25%</th>\n",
       "      <th>50%</th>\n",
       "      <th>75%</th>\n",
       "      <th>max</th>\n",
       "    </tr>\n",
       "  </thead>\n",
       "  <tbody>\n",
       "    <tr>\n",
       "      <th>internet_users_per_100</th>\n",
       "      <td>70.0</td>\n",
       "      <td>71.973099</td>\n",
       "      <td>16.390632</td>\n",
       "      <td>21.976068</td>\n",
       "      <td>60.899020</td>\n",
       "      <td>72.99935</td>\n",
       "      <td>85.026763</td>\n",
       "      <td>98.2000</td>\n",
       "    </tr>\n",
       "    <tr>\n",
       "      <th>Math</th>\n",
       "      <td>70.0</td>\n",
       "      <td>460.971557</td>\n",
       "      <td>53.327205</td>\n",
       "      <td>327.702000</td>\n",
       "      <td>417.416075</td>\n",
       "      <td>477.60715</td>\n",
       "      <td>500.482925</td>\n",
       "      <td>564.1897</td>\n",
       "    </tr>\n",
       "    <tr>\n",
       "      <th>Reading</th>\n",
       "      <td>70.0</td>\n",
       "      <td>460.997291</td>\n",
       "      <td>49.502679</td>\n",
       "      <td>346.549000</td>\n",
       "      <td>426.948625</td>\n",
       "      <td>480.19985</td>\n",
       "      <td>499.687475</td>\n",
       "      <td>535.1002</td>\n",
       "    </tr>\n",
       "    <tr>\n",
       "      <th>Science</th>\n",
       "      <td>70.0</td>\n",
       "      <td>465.439093</td>\n",
       "      <td>48.397254</td>\n",
       "      <td>331.638800</td>\n",
       "      <td>425.923375</td>\n",
       "      <td>475.40005</td>\n",
       "      <td>502.431250</td>\n",
       "      <td>555.5747</td>\n",
       "    </tr>\n",
       "  </tbody>\n",
       "</table>\n",
       "</div>"
      ],
      "text/plain": [
       "                        count        mean        std         min         25%  \\\n",
       "internet_users_per_100   70.0   71.973099  16.390632   21.976068   60.899020   \n",
       "Math                     70.0  460.971557  53.327205  327.702000  417.416075   \n",
       "Reading                  70.0  460.997291  49.502679  346.549000  426.948625   \n",
       "Science                  70.0  465.439093  48.397254  331.638800  425.923375   \n",
       "\n",
       "                              50%         75%       max  \n",
       "internet_users_per_100   72.99935   85.026763   98.2000  \n",
       "Math                    477.60715  500.482925  564.1897  \n",
       "Reading                 480.19985  499.687475  535.1002  \n",
       "Science                 475.40005  502.431250  555.5747  "
      ]
     },
     "execution_count": 87,
     "metadata": {},
     "output_type": "execute_result"
    }
   ],
   "source": [
    "df.describe().T"
   ]
  },
  {
   "cell_type": "code",
   "execution_count": 88,
   "metadata": {},
   "outputs": [
    {
     "data": {
      "text/html": [
       "<div>\n",
       "<style scoped>\n",
       "    .dataframe tbody tr th:only-of-type {\n",
       "        vertical-align: middle;\n",
       "    }\n",
       "\n",
       "    .dataframe tbody tr th {\n",
       "        vertical-align: top;\n",
       "    }\n",
       "\n",
       "    .dataframe thead th {\n",
       "        text-align: right;\n",
       "    }\n",
       "</style>\n",
       "<table border=\"1\" class=\"dataframe\">\n",
       "  <thead>\n",
       "    <tr style=\"text-align: right;\">\n",
       "      <th></th>\n",
       "      <th>Country Code</th>\n",
       "      <th>Continent_Code</th>\n",
       "      <th>internet_users_per_100</th>\n",
       "      <th>Math</th>\n",
       "      <th>Reading</th>\n",
       "      <th>Science</th>\n",
       "    </tr>\n",
       "  </thead>\n",
       "  <tbody>\n",
       "    <tr>\n",
       "      <th>8</th>\n",
       "      <td>CAN</td>\n",
       "      <td>NaN</td>\n",
       "      <td>88.470000</td>\n",
       "      <td>515.6474</td>\n",
       "      <td>526.6678</td>\n",
       "      <td>527.7047</td>\n",
       "    </tr>\n",
       "    <tr>\n",
       "      <th>13</th>\n",
       "      <td>CRI</td>\n",
       "      <td>NaN</td>\n",
       "      <td>59.762950</td>\n",
       "      <td>400.2534</td>\n",
       "      <td>427.4875</td>\n",
       "      <td>419.6080</td>\n",
       "    </tr>\n",
       "    <tr>\n",
       "      <th>18</th>\n",
       "      <td>DOM</td>\n",
       "      <td>NaN</td>\n",
       "      <td>54.215766</td>\n",
       "      <td>327.7020</td>\n",
       "      <td>357.7377</td>\n",
       "      <td>331.6388</td>\n",
       "    </tr>\n",
       "    <tr>\n",
       "      <th>45</th>\n",
       "      <td>MEX</td>\n",
       "      <td>NaN</td>\n",
       "      <td>57.431043</td>\n",
       "      <td>408.0235</td>\n",
       "      <td>423.2765</td>\n",
       "      <td>415.7099</td>\n",
       "    </tr>\n",
       "    <tr>\n",
       "      <th>68</th>\n",
       "      <td>USA</td>\n",
       "      <td>NaN</td>\n",
       "      <td>74.554202</td>\n",
       "      <td>469.6285</td>\n",
       "      <td>496.9351</td>\n",
       "      <td>496.2424</td>\n",
       "    </tr>\n",
       "  </tbody>\n",
       "</table>\n",
       "</div>"
      ],
      "text/plain": [
       "   Country Code Continent_Code  internet_users_per_100      Math   Reading  \\\n",
       "8           CAN            NaN               88.470000  515.6474  526.6678   \n",
       "13          CRI            NaN               59.762950  400.2534  427.4875   \n",
       "18          DOM            NaN               54.215766  327.7020  357.7377   \n",
       "45          MEX            NaN               57.431043  408.0235  423.2765   \n",
       "68          USA            NaN               74.554202  469.6285  496.9351   \n",
       "\n",
       "     Science  \n",
       "8   527.7047  \n",
       "13  419.6080  \n",
       "18  331.6388  \n",
       "45  415.7099  \n",
       "68  496.2424  "
      ]
     },
     "execution_count": 88,
     "metadata": {},
     "output_type": "execute_result"
    }
   ],
   "source": [
    "df[df['Continent_Code'].isnull()]"
   ]
  },
  {
   "cell_type": "code",
   "execution_count": 89,
   "metadata": {},
   "outputs": [],
   "source": [
    "df['Continent_Code'].fillna('NA', inplace= True)"
   ]
  },
  {
   "cell_type": "code",
   "execution_count": 90,
   "metadata": {},
   "outputs": [
    {
     "data": {
      "text/plain": [
       "Country Code              0\n",
       "Continent_Code            0\n",
       "internet_users_per_100    0\n",
       "Math                      0\n",
       "Reading                   0\n",
       "Science                   0\n",
       "dtype: int64"
      ]
     },
     "execution_count": 90,
     "metadata": {},
     "output_type": "execute_result"
    }
   ],
   "source": [
    "df.isnull().sum()"
   ]
  },
  {
   "cell_type": "code",
   "execution_count": 91,
   "metadata": {},
   "outputs": [],
   "source": [
    "continents = df['Continent_Code'].unique()"
   ]
  },
  {
   "cell_type": "code",
   "execution_count": 92,
   "metadata": {},
   "outputs": [
    {
     "name": "stdout",
     "output_type": "stream",
     "text": [
      "EU\n",
      "                        count        mean        std         min       25%  \\\n",
      "internet_users_per_100   37.0   77.274888  12.425773   53.744979   68.6329   \n",
      "Math                     37.0  477.981449  35.150403  371.311400  464.0401   \n",
      "Reading                  37.0  476.164608  37.720545  351.741500  452.5143   \n",
      "Science                  37.0  478.299381  34.450616  383.682400  460.7749   \n",
      "\n",
      "                             50%         75%       max  \n",
      "internet_users_per_100   76.1840   87.479056   98.2000  \n",
      "Math                    489.7287  503.722000  521.2506  \n",
      "Reading                 487.2501  499.814600  526.4247  \n",
      "Science                 490.2250  501.936900  534.1937  \n",
      "----------------------------------------\n",
      "AS\n",
      "                        count        mean        std         min       25%  \\\n",
      "internet_users_per_100   17.0   68.455613  21.086060   21.976068   50.3000   \n",
      "Math                     17.0  466.216647  64.356490  380.259000  403.8332   \n",
      "Reading                  17.0  454.059682  57.048962  346.549000  408.1022   \n",
      "Science                  17.0  467.945847  56.671371  386.485400  417.6112   \n",
      "\n",
      "                             50%         75%         max  \n",
      "internet_users_per_100   74.0000   84.948353   92.884826  \n",
      "Math                    459.8160  531.296100  564.189700  \n",
      "Reading                 433.5423  508.690500  535.100200  \n",
      "Science                 456.4836  523.277400  555.574700  \n",
      "----------------------------------------\n",
      "SA\n",
      "                        count        mean        std       min         25%  \\\n",
      "internet_users_per_100    7.0   60.180494   9.772455   40.9000   57.116462   \n",
      "Math                      7.0  402.887700  18.128894  377.0695  388.102200   \n",
      "Reading                   7.0  425.359229  19.709688  397.5414  416.126900   \n",
      "Science                   7.0  421.747186  18.470319  396.6836  408.205450   \n",
      "\n",
      "                             50%         75%         max  \n",
      "internet_users_per_100   64.2890   66.321532   69.198471  \n",
      "Math                    409.0333  417.617650  422.671400  \n",
      "Reading                 425.3031  431.922700  458.570900  \n",
      "Science                 424.5905  433.794600  446.956100  \n",
      "----------------------------------------\n",
      "OC\n",
      "                        count        mean       std         min         25%  \\\n",
      "internet_users_per_100    2.0   86.391704  2.589686   84.560519   85.476112   \n",
      "Math                      2.0  494.559750  0.938401  493.896200  494.227975   \n",
      "Reading                   2.0  506.085650  4.504341  502.900600  504.493125   \n",
      "Science                   2.0  511.648700  2.340241  509.993900  510.821300   \n",
      "\n",
      "                               50%         75%         max  \n",
      "internet_users_per_100   86.391704   87.307296   88.222889  \n",
      "Math                    494.559750  494.891525  495.223300  \n",
      "Reading                 506.085650  507.678175  509.270700  \n",
      "Science                 511.648700  512.476100  513.303500  \n",
      "----------------------------------------\n",
      "NA\n",
      "                        count        mean        std         min         25%  \\\n",
      "internet_users_per_100    5.0   66.886792  14.364359   54.215766   57.431043   \n",
      "Math                      5.0  424.250960  71.717058  327.702000  400.253400   \n",
      "Reading                   5.0  446.420920  66.614744  357.737700  423.276500   \n",
      "Science                   5.0  438.180760  76.789918  331.638800  415.709900   \n",
      "\n",
      "                              50%         75%       max  \n",
      "internet_users_per_100   59.76295   74.554202   88.4700  \n",
      "Math                    408.02350  469.628500  515.6474  \n",
      "Reading                 427.48750  496.935100  526.6678  \n",
      "Science                 419.60800  496.242400  527.7047  \n",
      "----------------------------------------\n",
      "AF\n",
      "                        count        mean       std       min         25%  \\\n",
      "internet_users_per_100    2.0   43.359918  7.297226   38.2000   40.779959   \n",
      "Math                      2.0  363.212100  5.099513  359.6062  361.409150   \n",
      "Reading                   2.0  355.457400  7.916909  349.8593  352.658350   \n",
      "Science                   2.0  381.074250  7.536556  375.7451  378.409675   \n",
      "\n",
      "                               50%         75%         max  \n",
      "internet_users_per_100   43.359918   45.939877   48.519836  \n",
      "Math                    363.212100  365.015050  366.818000  \n",
      "Reading                 355.457400  358.256450  361.055500  \n",
      "Science                 381.074250  383.738825  386.403400  \n",
      "----------------------------------------\n"
     ]
    }
   ],
   "source": [
    "for x in continents:\n",
    "    print(x)\n",
    "    print(df[df['Continent_Code'] == x].describe().T)\n",
    "    print('--'*20)"
   ]
  },
  {
   "cell_type": "code",
   "execution_count": 99,
   "metadata": {},
   "outputs": [
    {
     "data": {
      "text/html": [
       "<div>\n",
       "<style scoped>\n",
       "    .dataframe tbody tr th:only-of-type {\n",
       "        vertical-align: middle;\n",
       "    }\n",
       "\n",
       "    .dataframe tbody tr th {\n",
       "        vertical-align: top;\n",
       "    }\n",
       "\n",
       "    .dataframe thead th {\n",
       "        text-align: right;\n",
       "    }\n",
       "</style>\n",
       "<table border=\"1\" class=\"dataframe\">\n",
       "  <thead>\n",
       "    <tr style=\"text-align: right;\">\n",
       "      <th></th>\n",
       "      <th>Continent_Code</th>\n",
       "      <th>AF</th>\n",
       "      <th>AS</th>\n",
       "      <th>EU</th>\n",
       "      <th>NA</th>\n",
       "      <th>OC</th>\n",
       "      <th>SA</th>\n",
       "    </tr>\n",
       "  </thead>\n",
       "  <tbody>\n",
       "    <tr>\n",
       "      <th rowspan=\"8\" valign=\"top\">internet_users_per_100</th>\n",
       "      <th>count</th>\n",
       "      <td>2.000000</td>\n",
       "      <td>17.000000</td>\n",
       "      <td>37.000000</td>\n",
       "      <td>5.000000</td>\n",
       "      <td>2.000000</td>\n",
       "      <td>7.000000</td>\n",
       "    </tr>\n",
       "    <tr>\n",
       "      <th>mean</th>\n",
       "      <td>43.359918</td>\n",
       "      <td>68.455613</td>\n",
       "      <td>77.274888</td>\n",
       "      <td>66.886792</td>\n",
       "      <td>86.391704</td>\n",
       "      <td>60.180494</td>\n",
       "    </tr>\n",
       "    <tr>\n",
       "      <th>std</th>\n",
       "      <td>7.297226</td>\n",
       "      <td>21.086060</td>\n",
       "      <td>12.425773</td>\n",
       "      <td>14.364359</td>\n",
       "      <td>2.589686</td>\n",
       "      <td>9.772455</td>\n",
       "    </tr>\n",
       "    <tr>\n",
       "      <th>min</th>\n",
       "      <td>38.200000</td>\n",
       "      <td>21.976068</td>\n",
       "      <td>53.744979</td>\n",
       "      <td>54.215766</td>\n",
       "      <td>84.560519</td>\n",
       "      <td>40.900000</td>\n",
       "    </tr>\n",
       "    <tr>\n",
       "      <th>25%</th>\n",
       "      <td>40.779959</td>\n",
       "      <td>50.300000</td>\n",
       "      <td>68.632900</td>\n",
       "      <td>57.431043</td>\n",
       "      <td>85.476112</td>\n",
       "      <td>57.116462</td>\n",
       "    </tr>\n",
       "    <tr>\n",
       "      <th>50%</th>\n",
       "      <td>43.359918</td>\n",
       "      <td>74.000000</td>\n",
       "      <td>76.184000</td>\n",
       "      <td>59.762950</td>\n",
       "      <td>86.391704</td>\n",
       "      <td>64.289000</td>\n",
       "    </tr>\n",
       "    <tr>\n",
       "      <th>75%</th>\n",
       "      <td>45.939877</td>\n",
       "      <td>84.948353</td>\n",
       "      <td>87.479056</td>\n",
       "      <td>74.554202</td>\n",
       "      <td>87.307296</td>\n",
       "      <td>66.321532</td>\n",
       "    </tr>\n",
       "    <tr>\n",
       "      <th>max</th>\n",
       "      <td>48.519836</td>\n",
       "      <td>92.884826</td>\n",
       "      <td>98.200000</td>\n",
       "      <td>88.470000</td>\n",
       "      <td>88.222889</td>\n",
       "      <td>69.198471</td>\n",
       "    </tr>\n",
       "    <tr>\n",
       "      <th rowspan=\"8\" valign=\"top\">Math</th>\n",
       "      <th>count</th>\n",
       "      <td>2.000000</td>\n",
       "      <td>17.000000</td>\n",
       "      <td>37.000000</td>\n",
       "      <td>5.000000</td>\n",
       "      <td>2.000000</td>\n",
       "      <td>7.000000</td>\n",
       "    </tr>\n",
       "    <tr>\n",
       "      <th>mean</th>\n",
       "      <td>363.212100</td>\n",
       "      <td>466.216647</td>\n",
       "      <td>477.981449</td>\n",
       "      <td>424.250960</td>\n",
       "      <td>494.559750</td>\n",
       "      <td>402.887700</td>\n",
       "    </tr>\n",
       "    <tr>\n",
       "      <th>std</th>\n",
       "      <td>5.099513</td>\n",
       "      <td>64.356490</td>\n",
       "      <td>35.150403</td>\n",
       "      <td>71.717058</td>\n",
       "      <td>0.938401</td>\n",
       "      <td>18.128894</td>\n",
       "    </tr>\n",
       "    <tr>\n",
       "      <th>min</th>\n",
       "      <td>359.606200</td>\n",
       "      <td>380.259000</td>\n",
       "      <td>371.311400</td>\n",
       "      <td>327.702000</td>\n",
       "      <td>493.896200</td>\n",
       "      <td>377.069500</td>\n",
       "    </tr>\n",
       "    <tr>\n",
       "      <th>25%</th>\n",
       "      <td>361.409150</td>\n",
       "      <td>403.833200</td>\n",
       "      <td>464.040100</td>\n",
       "      <td>400.253400</td>\n",
       "      <td>494.227975</td>\n",
       "      <td>388.102200</td>\n",
       "    </tr>\n",
       "    <tr>\n",
       "      <th>50%</th>\n",
       "      <td>363.212100</td>\n",
       "      <td>459.816000</td>\n",
       "      <td>489.728700</td>\n",
       "      <td>408.023500</td>\n",
       "      <td>494.559750</td>\n",
       "      <td>409.033300</td>\n",
       "    </tr>\n",
       "    <tr>\n",
       "      <th>75%</th>\n",
       "      <td>365.015050</td>\n",
       "      <td>531.296100</td>\n",
       "      <td>503.722000</td>\n",
       "      <td>469.628500</td>\n",
       "      <td>494.891525</td>\n",
       "      <td>417.617650</td>\n",
       "    </tr>\n",
       "    <tr>\n",
       "      <th>max</th>\n",
       "      <td>366.818000</td>\n",
       "      <td>564.189700</td>\n",
       "      <td>521.250600</td>\n",
       "      <td>515.647400</td>\n",
       "      <td>495.223300</td>\n",
       "      <td>422.671400</td>\n",
       "    </tr>\n",
       "    <tr>\n",
       "      <th rowspan=\"8\" valign=\"top\">Reading</th>\n",
       "      <th>count</th>\n",
       "      <td>2.000000</td>\n",
       "      <td>17.000000</td>\n",
       "      <td>37.000000</td>\n",
       "      <td>5.000000</td>\n",
       "      <td>2.000000</td>\n",
       "      <td>7.000000</td>\n",
       "    </tr>\n",
       "    <tr>\n",
       "      <th>mean</th>\n",
       "      <td>355.457400</td>\n",
       "      <td>454.059682</td>\n",
       "      <td>476.164608</td>\n",
       "      <td>446.420920</td>\n",
       "      <td>506.085650</td>\n",
       "      <td>425.359229</td>\n",
       "    </tr>\n",
       "    <tr>\n",
       "      <th>std</th>\n",
       "      <td>7.916909</td>\n",
       "      <td>57.048962</td>\n",
       "      <td>37.720545</td>\n",
       "      <td>66.614744</td>\n",
       "      <td>4.504341</td>\n",
       "      <td>19.709688</td>\n",
       "    </tr>\n",
       "    <tr>\n",
       "      <th>min</th>\n",
       "      <td>349.859300</td>\n",
       "      <td>346.549000</td>\n",
       "      <td>351.741500</td>\n",
       "      <td>357.737700</td>\n",
       "      <td>502.900600</td>\n",
       "      <td>397.541400</td>\n",
       "    </tr>\n",
       "    <tr>\n",
       "      <th>25%</th>\n",
       "      <td>352.658350</td>\n",
       "      <td>408.102200</td>\n",
       "      <td>452.514300</td>\n",
       "      <td>423.276500</td>\n",
       "      <td>504.493125</td>\n",
       "      <td>416.126900</td>\n",
       "    </tr>\n",
       "    <tr>\n",
       "      <th>50%</th>\n",
       "      <td>355.457400</td>\n",
       "      <td>433.542300</td>\n",
       "      <td>487.250100</td>\n",
       "      <td>427.487500</td>\n",
       "      <td>506.085650</td>\n",
       "      <td>425.303100</td>\n",
       "    </tr>\n",
       "    <tr>\n",
       "      <th>75%</th>\n",
       "      <td>358.256450</td>\n",
       "      <td>508.690500</td>\n",
       "      <td>499.814600</td>\n",
       "      <td>496.935100</td>\n",
       "      <td>507.678175</td>\n",
       "      <td>431.922700</td>\n",
       "    </tr>\n",
       "    <tr>\n",
       "      <th>max</th>\n",
       "      <td>361.055500</td>\n",
       "      <td>535.100200</td>\n",
       "      <td>526.424700</td>\n",
       "      <td>526.667800</td>\n",
       "      <td>509.270700</td>\n",
       "      <td>458.570900</td>\n",
       "    </tr>\n",
       "    <tr>\n",
       "      <th rowspan=\"8\" valign=\"top\">Science</th>\n",
       "      <th>count</th>\n",
       "      <td>2.000000</td>\n",
       "      <td>17.000000</td>\n",
       "      <td>37.000000</td>\n",
       "      <td>5.000000</td>\n",
       "      <td>2.000000</td>\n",
       "      <td>7.000000</td>\n",
       "    </tr>\n",
       "    <tr>\n",
       "      <th>mean</th>\n",
       "      <td>381.074250</td>\n",
       "      <td>467.945847</td>\n",
       "      <td>478.299381</td>\n",
       "      <td>438.180760</td>\n",
       "      <td>511.648700</td>\n",
       "      <td>421.747186</td>\n",
       "    </tr>\n",
       "    <tr>\n",
       "      <th>std</th>\n",
       "      <td>7.536556</td>\n",
       "      <td>56.671371</td>\n",
       "      <td>34.450616</td>\n",
       "      <td>76.789918</td>\n",
       "      <td>2.340241</td>\n",
       "      <td>18.470319</td>\n",
       "    </tr>\n",
       "    <tr>\n",
       "      <th>min</th>\n",
       "      <td>375.745100</td>\n",
       "      <td>386.485400</td>\n",
       "      <td>383.682400</td>\n",
       "      <td>331.638800</td>\n",
       "      <td>509.993900</td>\n",
       "      <td>396.683600</td>\n",
       "    </tr>\n",
       "    <tr>\n",
       "      <th>25%</th>\n",
       "      <td>378.409675</td>\n",
       "      <td>417.611200</td>\n",
       "      <td>460.774900</td>\n",
       "      <td>415.709900</td>\n",
       "      <td>510.821300</td>\n",
       "      <td>408.205450</td>\n",
       "    </tr>\n",
       "    <tr>\n",
       "      <th>50%</th>\n",
       "      <td>381.074250</td>\n",
       "      <td>456.483600</td>\n",
       "      <td>490.225000</td>\n",
       "      <td>419.608000</td>\n",
       "      <td>511.648700</td>\n",
       "      <td>424.590500</td>\n",
       "    </tr>\n",
       "    <tr>\n",
       "      <th>75%</th>\n",
       "      <td>383.738825</td>\n",
       "      <td>523.277400</td>\n",
       "      <td>501.936900</td>\n",
       "      <td>496.242400</td>\n",
       "      <td>512.476100</td>\n",
       "      <td>433.794600</td>\n",
       "    </tr>\n",
       "    <tr>\n",
       "      <th>max</th>\n",
       "      <td>386.403400</td>\n",
       "      <td>555.574700</td>\n",
       "      <td>534.193700</td>\n",
       "      <td>527.704700</td>\n",
       "      <td>513.303500</td>\n",
       "      <td>446.956100</td>\n",
       "    </tr>\n",
       "  </tbody>\n",
       "</table>\n",
       "</div>"
      ],
      "text/plain": [
       "Continent_Code                        AF          AS          EU          NA  \\\n",
       "internet_users_per_100 count    2.000000   17.000000   37.000000    5.000000   \n",
       "                       mean    43.359918   68.455613   77.274888   66.886792   \n",
       "                       std      7.297226   21.086060   12.425773   14.364359   \n",
       "                       min     38.200000   21.976068   53.744979   54.215766   \n",
       "                       25%     40.779959   50.300000   68.632900   57.431043   \n",
       "                       50%     43.359918   74.000000   76.184000   59.762950   \n",
       "                       75%     45.939877   84.948353   87.479056   74.554202   \n",
       "                       max     48.519836   92.884826   98.200000   88.470000   \n",
       "Math                   count    2.000000   17.000000   37.000000    5.000000   \n",
       "                       mean   363.212100  466.216647  477.981449  424.250960   \n",
       "                       std      5.099513   64.356490   35.150403   71.717058   \n",
       "                       min    359.606200  380.259000  371.311400  327.702000   \n",
       "                       25%    361.409150  403.833200  464.040100  400.253400   \n",
       "                       50%    363.212100  459.816000  489.728700  408.023500   \n",
       "                       75%    365.015050  531.296100  503.722000  469.628500   \n",
       "                       max    366.818000  564.189700  521.250600  515.647400   \n",
       "Reading                count    2.000000   17.000000   37.000000    5.000000   \n",
       "                       mean   355.457400  454.059682  476.164608  446.420920   \n",
       "                       std      7.916909   57.048962   37.720545   66.614744   \n",
       "                       min    349.859300  346.549000  351.741500  357.737700   \n",
       "                       25%    352.658350  408.102200  452.514300  423.276500   \n",
       "                       50%    355.457400  433.542300  487.250100  427.487500   \n",
       "                       75%    358.256450  508.690500  499.814600  496.935100   \n",
       "                       max    361.055500  535.100200  526.424700  526.667800   \n",
       "Science                count    2.000000   17.000000   37.000000    5.000000   \n",
       "                       mean   381.074250  467.945847  478.299381  438.180760   \n",
       "                       std      7.536556   56.671371   34.450616   76.789918   \n",
       "                       min    375.745100  386.485400  383.682400  331.638800   \n",
       "                       25%    378.409675  417.611200  460.774900  415.709900   \n",
       "                       50%    381.074250  456.483600  490.225000  419.608000   \n",
       "                       75%    383.738825  523.277400  501.936900  496.242400   \n",
       "                       max    386.403400  555.574700  534.193700  527.704700   \n",
       "\n",
       "Continent_Code                        OC          SA  \n",
       "internet_users_per_100 count    2.000000    7.000000  \n",
       "                       mean    86.391704   60.180494  \n",
       "                       std      2.589686    9.772455  \n",
       "                       min     84.560519   40.900000  \n",
       "                       25%     85.476112   57.116462  \n",
       "                       50%     86.391704   64.289000  \n",
       "                       75%     87.307296   66.321532  \n",
       "                       max     88.222889   69.198471  \n",
       "Math                   count    2.000000    7.000000  \n",
       "                       mean   494.559750  402.887700  \n",
       "                       std      0.938401   18.128894  \n",
       "                       min    493.896200  377.069500  \n",
       "                       25%    494.227975  388.102200  \n",
       "                       50%    494.559750  409.033300  \n",
       "                       75%    494.891525  417.617650  \n",
       "                       max    495.223300  422.671400  \n",
       "Reading                count    2.000000    7.000000  \n",
       "                       mean   506.085650  425.359229  \n",
       "                       std      4.504341   19.709688  \n",
       "                       min    502.900600  397.541400  \n",
       "                       25%    504.493125  416.126900  \n",
       "                       50%    506.085650  425.303100  \n",
       "                       75%    507.678175  431.922700  \n",
       "                       max    509.270700  458.570900  \n",
       "Science                count    2.000000    7.000000  \n",
       "                       mean   511.648700  421.747186  \n",
       "                       std      2.340241   18.470319  \n",
       "                       min    509.993900  396.683600  \n",
       "                       25%    510.821300  408.205450  \n",
       "                       50%    511.648700  424.590500  \n",
       "                       75%    512.476100  433.794600  \n",
       "                       max    513.303500  446.956100  "
      ]
     },
     "execution_count": 99,
     "metadata": {},
     "output_type": "execute_result"
    }
   ],
   "source": [
    "df.groupby('Continent_Code').describe().T"
   ]
  },
  {
   "cell_type": "code",
   "execution_count": 94,
   "metadata": {},
   "outputs": [
    {
     "name": "stdout",
     "output_type": "stream",
     "text": [
      "t-statistic: 0.870055317967983, p-value: 0.38826888111307345\n"
     ]
    }
   ],
   "source": [
    "# t-test\n",
    "EU = df[df['Continent_Code'] == 'EU'].dropna()\n",
    "AS = df[df['Continent_Code'] == 'AS'].dropna()\n",
    "t, p_value = stats.ttest_ind(EU.Math, AS.Math)\n",
    "\n",
    "print(f't-statistic: {t}, p-value: {p_value}')\n"
   ]
  },
  {
   "cell_type": "code",
   "execution_count": 95,
   "metadata": {},
   "outputs": [
    {
     "name": "stdout",
     "output_type": "stream",
     "text": [
      "The p-value of 0.3883 is not less than 0.05, so we cannot reject the null hypothesis and must conclude that there is no significant difference (on the average) for the math scores among European (EU) and Asian (AS) countries.\n"
     ]
    }
   ],
   "source": [
    "if p_value < alpha:\n",
    "    print(f\"The p-value of {p_value:.4f} is less than {alpha}, so we can reject the null hypothesis and conclude that {alternative_hypothesis}.\")\n",
    "else:\n",
    "    print(f\"The p-value of {p_value:.4f} is not less than {alpha}, so we cannot reject the null hypothesis and must conclude that {null_hypothesis}.\")"
   ]
  },
  {
   "cell_type": "code",
   "execution_count": 96,
   "metadata": {},
   "outputs": [
    {
     "data": {
      "text/plain": [
       "<AxesSubplot:xlabel='Continent_Code', ylabel='Math'>"
      ]
     },
     "execution_count": 96,
     "metadata": {},
     "output_type": "execute_result"
    },
    {
     "data": {
      "image/png": "[encoded data removed]",
      "text/plain": [
       "<Figure size 432x288 with 1 Axes>"
      ]
     },
     "metadata": {
      "needs_background": "light"
     },
     "output_type": "display_data"
    }
   ],
   "source": [
    "sns.boxplot(x='Continent_Code', y='Math', data=df, order=['EU','AS'])"
   ]
  },
  {
   "cell_type": "code",
   "execution_count": null,
   "metadata": {},
   "outputs": [],
   "source": []
  },
  {
   "cell_type": "code",
   "execution_count": null,
   "metadata": {},
   "outputs": [],
   "source": []
  }
 ],
 "metadata": {
  "kernelspec": {
   "display_name": "base",
   "language": "python",
   "name": "python3"
  },
  "language_info": {
   "codemirror_mode": {
    "name": "ipython",
    "version": 3
   },
   "file_extension": ".py",
   "mimetype": "text/x-python",
   "name": "python",
   "nbconvert_exporter": "python",
   "pygments_lexer": "ipython3",
   "version": "3.9.12 (main, Apr  5 2022, 01:53:17) \n[Clang 12.0.0 ]"
  },
  "orig_nbformat": 4,
  "vscode": {
   "interpreter": {
    "hash": "7b34b089ce0dfc9935940e0a22050b2949fa617f7a2b73925623c261bed16aeb"
   }
  }
 },
 "nbformat": 4,
 "nbformat_minor": 2
}
