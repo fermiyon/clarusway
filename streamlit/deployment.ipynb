{
 "cells": [
  {
   "cell_type": "code",
   "execution_count": 1,
   "metadata": {
    "executionInfo": {
     "elapsed": 1704,
     "status": "ok",
     "timestamp": 1606731504328,
     "user": {
      "displayName": "Richard C",
      "photoUrl": "",
      "userId": "08040814671867660929"
     },
     "user_tz": -180
    },
    "id": "sy5EcZ65lzy-"
   },
   "outputs": [],
   "source": [
    "import pandas as pd      \n",
    "import numpy as np \n",
    "from sklearn.metrics import mean_squared_error, mean_absolute_error, r2_score\n",
    "from sklearn.model_selection import train_test_split\n",
    "from sklearn.linear_model import LinearRegression\n",
    "import pickle"
   ]
  },
  {
   "cell_type": "code",
   "execution_count": 2,
   "metadata": {
    "executionInfo": {
     "elapsed": 825,
     "status": "ok",
     "timestamp": 1606731524112,
     "user": {
      "displayName": "Richard C",
      "photoUrl": "",
      "userId": "08040814671867660929"
     },
     "user_tz": -180
    },
    "id": "-AJL3lU-lzzA"
   },
   "outputs": [],
   "source": [
    "def eval_metrics(actual, pred):\n",
    "    rmse = np.sqrt(mean_squared_error(actual, pred))\n",
    "    mae = mean_absolute_error(actual, pred)\n",
    "    mse = mean_squared_error(actual, pred)\n",
    "    score = r2_score(actual, pred)\n",
    "    return print(\" r2_score:\", score, \"\\n\",\"mae:\", mae, \"\\n\",\"mse:\",mse, \"\\n\",\"rmse:\",rmse)"
   ]
  },
  {
   "cell_type": "code",
   "execution_count": 3,
   "metadata": {},
   "outputs": [
    {
     "data": {
      "text/html": [
       "<div>\n",
       "<style scoped>\n",
       "    .dataframe tbody tr th:only-of-type {\n",
       "        vertical-align: middle;\n",
       "    }\n",
       "\n",
       "    .dataframe tbody tr th {\n",
       "        vertical-align: top;\n",
       "    }\n",
       "\n",
       "    .dataframe thead th {\n",
       "        text-align: right;\n",
       "    }\n",
       "</style>\n",
       "<table border=\"1\" class=\"dataframe\">\n",
       "  <thead>\n",
       "    <tr style=\"text-align: right;\">\n",
       "      <th></th>\n",
       "      <th>TV</th>\n",
       "      <th>radio</th>\n",
       "      <th>newspaper</th>\n",
       "      <th>sales</th>\n",
       "    </tr>\n",
       "  </thead>\n",
       "  <tbody>\n",
       "    <tr>\n",
       "      <th>0</th>\n",
       "      <td>230.1</td>\n",
       "      <td>37.8</td>\n",
       "      <td>69.2</td>\n",
       "      <td>22.1</td>\n",
       "    </tr>\n",
       "    <tr>\n",
       "      <th>1</th>\n",
       "      <td>44.5</td>\n",
       "      <td>39.3</td>\n",
       "      <td>45.1</td>\n",
       "      <td>10.4</td>\n",
       "    </tr>\n",
       "    <tr>\n",
       "      <th>2</th>\n",
       "      <td>17.2</td>\n",
       "      <td>45.9</td>\n",
       "      <td>69.3</td>\n",
       "      <td>9.3</td>\n",
       "    </tr>\n",
       "    <tr>\n",
       "      <th>3</th>\n",
       "      <td>151.5</td>\n",
       "      <td>41.3</td>\n",
       "      <td>58.5</td>\n",
       "      <td>18.5</td>\n",
       "    </tr>\n",
       "    <tr>\n",
       "      <th>4</th>\n",
       "      <td>180.8</td>\n",
       "      <td>10.8</td>\n",
       "      <td>58.4</td>\n",
       "      <td>12.9</td>\n",
       "    </tr>\n",
       "  </tbody>\n",
       "</table>\n",
       "</div>"
      ],
      "text/plain": [
       "      TV  radio  newspaper  sales\n",
       "0  230.1   37.8       69.2   22.1\n",
       "1   44.5   39.3       45.1   10.4\n",
       "2   17.2   45.9       69.3    9.3\n",
       "3  151.5   41.3       58.5   18.5\n",
       "4  180.8   10.8       58.4   12.9"
      ]
     },
     "execution_count": 3,
     "metadata": {},
     "output_type": "execute_result"
    }
   ],
   "source": [
    "df = pd.read_csv(\"Advertising.csv\")\n",
    "df.head()"
   ]
  },
  {
   "cell_type": "code",
   "execution_count": 4,
   "metadata": {},
   "outputs": [
    {
     "name": "stdout",
     "output_type": "stream",
     "text": [
      "<class 'pandas.core.frame.DataFrame'>\n",
      "RangeIndex: 200 entries, 0 to 199\n",
      "Data columns (total 4 columns):\n",
      " #   Column     Non-Null Count  Dtype  \n",
      "---  ------     --------------  -----  \n",
      " 0   TV         200 non-null    float64\n",
      " 1   radio      200 non-null    float64\n",
      " 2   newspaper  200 non-null    float64\n",
      " 3   sales      200 non-null    float64\n",
      "dtypes: float64(4)\n",
      "memory usage: 6.4 KB\n"
     ]
    }
   ],
   "source": [
    "df.info()"
   ]
  },
  {
   "cell_type": "code",
   "execution_count": 5,
   "metadata": {
    "id": "ojUll31ZlzzD"
   },
   "outputs": [],
   "source": [
    "X= df.drop(\"sales\", axis=1)\n",
    "y= df[\"sales\"]\n",
    "X_train, X_test, y_train, y_test = train_test_split(X, y, test_size=0.3, random_state=42)\n",
    "model = LinearRegression()\n",
    "model.fit(X_train, y_train)\n",
    "filename = 'my_model'\n",
    "pickle.dump(model, open(filename, 'wb'))"
   ]
  },
  {
   "cell_type": "code",
   "execution_count": 6,
   "metadata": {},
   "outputs": [
    {
     "data": {
      "text/html": [
       "<div>\n",
       "<style scoped>\n",
       "    .dataframe tbody tr th:only-of-type {\n",
       "        vertical-align: middle;\n",
       "    }\n",
       "\n",
       "    .dataframe tbody tr th {\n",
       "        vertical-align: top;\n",
       "    }\n",
       "\n",
       "    .dataframe thead th {\n",
       "        text-align: right;\n",
       "    }\n",
       "</style>\n",
       "<table border=\"1\" class=\"dataframe\">\n",
       "  <thead>\n",
       "    <tr style=\"text-align: right;\">\n",
       "      <th></th>\n",
       "      <th>TV</th>\n",
       "      <th>radio</th>\n",
       "      <th>newspaper</th>\n",
       "      <th>sales</th>\n",
       "    </tr>\n",
       "  </thead>\n",
       "  <tbody>\n",
       "    <tr>\n",
       "      <th>count</th>\n",
       "      <td>200.000000</td>\n",
       "      <td>200.000000</td>\n",
       "      <td>200.000000</td>\n",
       "      <td>200.000000</td>\n",
       "    </tr>\n",
       "    <tr>\n",
       "      <th>mean</th>\n",
       "      <td>147.042500</td>\n",
       "      <td>23.264000</td>\n",
       "      <td>30.554000</td>\n",
       "      <td>14.022500</td>\n",
       "    </tr>\n",
       "    <tr>\n",
       "      <th>std</th>\n",
       "      <td>85.854236</td>\n",
       "      <td>14.846809</td>\n",
       "      <td>21.778621</td>\n",
       "      <td>5.217457</td>\n",
       "    </tr>\n",
       "    <tr>\n",
       "      <th>min</th>\n",
       "      <td>0.700000</td>\n",
       "      <td>0.000000</td>\n",
       "      <td>0.300000</td>\n",
       "      <td>1.600000</td>\n",
       "    </tr>\n",
       "    <tr>\n",
       "      <th>25%</th>\n",
       "      <td>74.375000</td>\n",
       "      <td>9.975000</td>\n",
       "      <td>12.750000</td>\n",
       "      <td>10.375000</td>\n",
       "    </tr>\n",
       "    <tr>\n",
       "      <th>50%</th>\n",
       "      <td>149.750000</td>\n",
       "      <td>22.900000</td>\n",
       "      <td>25.750000</td>\n",
       "      <td>12.900000</td>\n",
       "    </tr>\n",
       "    <tr>\n",
       "      <th>75%</th>\n",
       "      <td>218.825000</td>\n",
       "      <td>36.525000</td>\n",
       "      <td>45.100000</td>\n",
       "      <td>17.400000</td>\n",
       "    </tr>\n",
       "    <tr>\n",
       "      <th>max</th>\n",
       "      <td>296.400000</td>\n",
       "      <td>49.600000</td>\n",
       "      <td>114.000000</td>\n",
       "      <td>27.000000</td>\n",
       "    </tr>\n",
       "  </tbody>\n",
       "</table>\n",
       "</div>"
      ],
      "text/plain": [
       "               TV       radio   newspaper       sales\n",
       "count  200.000000  200.000000  200.000000  200.000000\n",
       "mean   147.042500   23.264000   30.554000   14.022500\n",
       "std     85.854236   14.846809   21.778621    5.217457\n",
       "min      0.700000    0.000000    0.300000    1.600000\n",
       "25%     74.375000    9.975000   12.750000   10.375000\n",
       "50%    149.750000   22.900000   25.750000   12.900000\n",
       "75%    218.825000   36.525000   45.100000   17.400000\n",
       "max    296.400000   49.600000  114.000000   27.000000"
      ]
     },
     "execution_count": 6,
     "metadata": {},
     "output_type": "execute_result"
    }
   ],
   "source": [
    "df.describe()"
   ]
  },
  {
   "cell_type": "code",
   "execution_count": 7,
   "metadata": {
    "id": "U7FTTc6XlzzE",
    "outputId": "d69eaee2-231f-4ba0-f8a2-0a03f0fd9ed9"
   },
   "outputs": [
    {
     "name": "stdout",
     "output_type": "stream",
     "text": [
      " r2_score: 0.8609466508230368 \n",
      " mae: 1.5116692224549086 \n",
      " mse: 3.796797236715219 \n",
      " rmse: 1.9485372043446385\n"
     ]
    }
   ],
   "source": [
    "y_pred = model.predict(X_test)\n",
    "eval_metrics(y_test, y_pred)"
   ]
  },
  {
   "attachments": {},
   "cell_type": "markdown",
   "metadata": {},
   "source": [
    "**deployment**"
   ]
  },
  {
   "cell_type": "code",
   "execution_count": 8,
   "metadata": {},
   "outputs": [],
   "source": [
    "final_model = pickle.load(open('my_model', 'rb'))"
   ]
  },
  {
   "cell_type": "code",
   "execution_count": 9,
   "metadata": {},
   "outputs": [
    {
     "data": {
      "text/plain": [
       "['TV', 'radio', 'newspaper']"
      ]
     },
     "execution_count": 9,
     "metadata": {},
     "output_type": "execute_result"
    }
   ],
   "source": [
    "columns=list(X.columns)\n",
    "columns"
   ]
  },
  {
   "cell_type": "code",
   "execution_count": 10,
   "metadata": {},
   "outputs": [],
   "source": [
    "my_dict = {\n",
    "    \"TV\": 150,\n",
    "    \"radio\": 25,\n",
    "    \"newspaper\": 30,\n",
    "}"
   ]
  },
  {
   "cell_type": "code",
   "execution_count": 11,
   "metadata": {},
   "outputs": [],
   "source": [
    "df = pd.DataFrame.from_dict([my_dict])"
   ]
  },
  {
   "cell_type": "code",
   "execution_count": 12,
   "metadata": {},
   "outputs": [
    {
     "data": {
      "text/html": [
       "<div>\n",
       "<style scoped>\n",
       "    .dataframe tbody tr th:only-of-type {\n",
       "        vertical-align: middle;\n",
       "    }\n",
       "\n",
       "    .dataframe tbody tr th {\n",
       "        vertical-align: top;\n",
       "    }\n",
       "\n",
       "    .dataframe thead th {\n",
       "        text-align: right;\n",
       "    }\n",
       "</style>\n",
       "<table border=\"1\" class=\"dataframe\">\n",
       "  <thead>\n",
       "    <tr style=\"text-align: right;\">\n",
       "      <th></th>\n",
       "      <th>TV</th>\n",
       "      <th>radio</th>\n",
       "      <th>newspaper</th>\n",
       "    </tr>\n",
       "  </thead>\n",
       "  <tbody>\n",
       "    <tr>\n",
       "      <th>0</th>\n",
       "      <td>150</td>\n",
       "      <td>25</td>\n",
       "      <td>30</td>\n",
       "    </tr>\n",
       "  </tbody>\n",
       "</table>\n",
       "</div>"
      ],
      "text/plain": [
       "    TV  radio  newspaper\n",
       "0  150     25         30"
      ]
     },
     "execution_count": 12,
     "metadata": {},
     "output_type": "execute_result"
    }
   ],
   "source": [
    "df"
   ]
  },
  {
   "cell_type": "code",
   "execution_count": 13,
   "metadata": {},
   "outputs": [
    {
     "name": "stdout",
     "output_type": "stream",
     "text": [
      "[14.50650223]\n"
     ]
    }
   ],
   "source": [
    "prediction = final_model.predict(df)\n",
    "print(prediction)"
   ]
  },
  {
   "cell_type": "code",
   "execution_count": 14,
   "metadata": {},
   "outputs": [
    {
     "name": "stdout",
     "output_type": "stream",
     "text": [
      "The estimated value of sales is 14. \n"
     ]
    }
   ],
   "source": [
    "print(\"The estimated value of sales is {}. \".format(int(prediction[0])))"
   ]
  },
  {
   "cell_type": "code",
   "execution_count": 15,
   "metadata": {},
   "outputs": [
    {
     "ename": "ValueError",
     "evalue": "The python kernel does not appear to be a conda environment.  Please use ``%pip install`` instead.",
     "output_type": "error",
     "traceback": [
      "\u001b[0;31m---------------------------------------------------------------------------\u001b[0m",
      "\u001b[0;31mValueError\u001b[0m                                Traceback (most recent call last)",
      "Cell \u001b[0;32mIn[15], line 1\u001b[0m\n\u001b[0;32m----> 1\u001b[0m get_ipython()\u001b[39m.\u001b[39;49mrun_line_magic(\u001b[39m'\u001b[39;49m\u001b[39mconda\u001b[39;49m\u001b[39m'\u001b[39;49m, \u001b[39m'\u001b[39;49m\u001b[39menv list\u001b[39;49m\u001b[39m'\u001b[39;49m)\n",
      "File \u001b[0;32m~/Desktop/clarusway/classes/mld/streamlit/eu13_env/lib/python3.11/site-packages/IPython/core/interactiveshell.py:2417\u001b[0m, in \u001b[0;36mInteractiveShell.run_line_magic\u001b[0;34m(self, magic_name, line, _stack_depth)\u001b[0m\n\u001b[1;32m   2415\u001b[0m     kwargs[\u001b[39m'\u001b[39m\u001b[39mlocal_ns\u001b[39m\u001b[39m'\u001b[39m] \u001b[39m=\u001b[39m \u001b[39mself\u001b[39m\u001b[39m.\u001b[39mget_local_scope(stack_depth)\n\u001b[1;32m   2416\u001b[0m \u001b[39mwith\u001b[39;00m \u001b[39mself\u001b[39m\u001b[39m.\u001b[39mbuiltin_trap:\n\u001b[0;32m-> 2417\u001b[0m     result \u001b[39m=\u001b[39m fn(\u001b[39m*\u001b[39;49margs, \u001b[39m*\u001b[39;49m\u001b[39m*\u001b[39;49mkwargs)\n\u001b[1;32m   2419\u001b[0m \u001b[39m# The code below prevents the output from being displayed\u001b[39;00m\n\u001b[1;32m   2420\u001b[0m \u001b[39m# when using magics with decodator @output_can_be_silenced\u001b[39;00m\n\u001b[1;32m   2421\u001b[0m \u001b[39m# when the last Python token in the expression is a ';'.\u001b[39;00m\n\u001b[1;32m   2422\u001b[0m \u001b[39mif\u001b[39;00m \u001b[39mgetattr\u001b[39m(fn, magic\u001b[39m.\u001b[39mMAGIC_OUTPUT_CAN_BE_SILENCED, \u001b[39mFalse\u001b[39;00m):\n",
      "File \u001b[0;32m~/Desktop/clarusway/classes/mld/streamlit/eu13_env/lib/python3.11/site-packages/IPython/core/magics/packaging.py:87\u001b[0m, in \u001b[0;36mPackagingMagics.conda\u001b[0;34m(self, line)\u001b[0m\n\u001b[1;32m     81\u001b[0m \u001b[39m\u001b[39m\u001b[39m\"\"\"Run the conda package manager within the current kernel.\u001b[39;00m\n\u001b[1;32m     82\u001b[0m \n\u001b[1;32m     83\u001b[0m \u001b[39mUsage:\u001b[39;00m\n\u001b[1;32m     84\u001b[0m \u001b[39m  %conda install [pkgs]\u001b[39;00m\n\u001b[1;32m     85\u001b[0m \u001b[39m\"\"\"\u001b[39;00m\n\u001b[1;32m     86\u001b[0m \u001b[39mif\u001b[39;00m \u001b[39mnot\u001b[39;00m _is_conda_environment():\n\u001b[0;32m---> 87\u001b[0m     \u001b[39mraise\u001b[39;00m \u001b[39mValueError\u001b[39;00m(\u001b[39m\"\u001b[39m\u001b[39mThe python kernel does not appear to be a conda environment.  \u001b[39m\u001b[39m\"\u001b[39m\n\u001b[1;32m     88\u001b[0m                      \u001b[39m\"\u001b[39m\u001b[39mPlease use ``\u001b[39m\u001b[39m%\u001b[39m\u001b[39mpip install`` instead.\u001b[39m\u001b[39m\"\u001b[39m)\n\u001b[1;32m     90\u001b[0m conda \u001b[39m=\u001b[39m _get_conda_executable()\n\u001b[1;32m     91\u001b[0m args \u001b[39m=\u001b[39m shlex\u001b[39m.\u001b[39msplit(line)\n",
      "\u001b[0;31mValueError\u001b[0m: The python kernel does not appear to be a conda environment.  Please use ``%pip install`` instead."
     ]
    }
   ],
   "source": [
    "conda env list"
   ]
  },
  {
   "cell_type": "code",
   "execution_count": 16,
   "metadata": {},
   "outputs": [
    {
     "name": "stdout",
     "output_type": "stream",
     "text": [
      "Package               Version\n",
      "--------------------- -----------\n",
      "altair                4.2.2\n",
      "appnope               0.1.3\n",
      "asttokens             2.2.1\n",
      "attrs                 23.1.0\n",
      "backcall              0.2.0\n",
      "blinker               1.6.2\n",
      "cachetools            5.3.0\n",
      "certifi               2022.12.7\n",
      "charset-normalizer    3.1.0\n",
      "click                 8.1.3\n",
      "comm                  0.1.3\n",
      "debugpy               1.6.7\n",
      "decorator             5.1.1\n",
      "entrypoints           0.4\n",
      "executing             1.2.0\n",
      "gitdb                 4.0.10\n",
      "GitPython             3.1.31\n",
      "idna                  3.4\n",
      "importlib-metadata    6.6.0\n",
      "ipykernel             6.22.0\n",
      "ipython               8.13.2\n",
      "jedi                  0.18.2\n",
      "Jinja2                3.1.2\n",
      "joblib                1.2.0\n",
      "jsonschema            4.17.3\n",
      "jupyter_client        8.2.0\n",
      "jupyter_core          5.3.0\n",
      "markdown-it-py        2.2.0\n",
      "MarkupSafe            2.1.2\n",
      "matplotlib-inline     0.1.6\n",
      "mdurl                 0.1.2\n",
      "nest-asyncio          1.5.6\n",
      "numpy                 1.24.3\n",
      "packaging             23.1\n",
      "pandas                2.0.1\n",
      "parso                 0.8.3\n",
      "pexpect               4.8.0\n",
      "pickleshare           0.7.5\n",
      "Pillow                9.5.0\n",
      "pip                   23.1.2\n",
      "platformdirs          3.5.0\n",
      "prompt-toolkit        3.0.38\n",
      "protobuf              3.20.3\n",
      "psutil                5.9.5\n",
      "ptyprocess            0.7.0\n",
      "pure-eval             0.2.2\n",
      "pyarrow               12.0.0\n",
      "pydeck                0.8.1b0\n",
      "Pygments              2.15.1\n",
      "Pympler               1.0.1\n",
      "pyrsistent            0.19.3\n",
      "python-dateutil       2.8.2\n",
      "pytz                  2023.3\n",
      "pytz-deprecation-shim 0.1.0.post0\n",
      "pyzmq                 25.0.2\n",
      "requests              2.29.0\n",
      "rich                  13.3.5\n",
      "scikit-learn          1.2.2\n",
      "scipy                 1.10.1\n",
      "setuptools            67.7.2\n",
      "six                   1.16.0\n",
      "smmap                 5.0.0\n",
      "stack-data            0.6.2\n",
      "streamlit             1.22.0\n",
      "tenacity              8.2.2\n",
      "threadpoolctl         3.1.0\n",
      "toml                  0.10.2\n",
      "toolz                 0.12.0\n",
      "tornado               6.3.1\n",
      "traitlets             5.9.0\n",
      "typing_extensions     4.5.0\n",
      "tzdata                2023.3\n",
      "tzlocal               4.3\n",
      "urllib3               1.26.15\n",
      "validators            0.20.0\n",
      "wcwidth               0.2.6\n",
      "wheel                 0.40.0\n",
      "zipp                  3.15.0\n",
      "Note: you may need to restart the kernel to use updated packages.\n"
     ]
    }
   ],
   "source": [
    "pip list"
   ]
  },
  {
   "cell_type": "code",
   "execution_count": 4,
   "metadata": {},
   "outputs": [
    {
     "name": "stdout",
     "output_type": "stream",
     "text": [
      "Requirement already satisfied: scikit-learn==1.0.2 in c:\\users\\user\\anaconda3\\envs\\eu13_test\\lib\\site-packages (from -r requirements.txt (line 1)) (1.0.2)\n",
      "Requirement already satisfied: streamlit==1.10.0 in c:\\users\\user\\anaconda3\\envs\\eu13_test\\lib\\site-packages (from -r requirements.txt (line 2)) (1.10.0)\n",
      "Requirement already satisfied: joblib>=0.11 in c:\\users\\user\\anaconda3\\envs\\eu13_test\\lib\\site-packages (from scikit-learn==1.0.2->-r requirements.txt (line 1)) (1.2.0)\n",
      "Requirement already satisfied: scipy>=1.1.0 in c:\\users\\user\\anaconda3\\envs\\eu13_test\\lib\\site-packages (from scikit-learn==1.0.2->-r requirements.txt (line 1)) (1.10.1)\n",
      "Requirement already satisfied: numpy>=1.14.6 in c:\\users\\user\\appdata\\roaming\\python\\python39\\site-packages (from scikit-learn==1.0.2->-r requirements.txt (line 1)) (1.20.3)\n",
      "Requirement already satisfied: threadpoolctl>=2.0.0 in c:\\users\\user\\anaconda3\\envs\\eu13_test\\lib\\site-packages (from scikit-learn==1.0.2->-r requirements.txt (line 1)) (3.1.0)\n",
      "Requirement already satisfied: tzlocal in c:\\users\\user\\anaconda3\\envs\\eu13_test\\lib\\site-packages (from streamlit==1.10.0->-r requirements.txt (line 2)) (4.3)\n",
      "Requirement already satisfied: tornado>=5.0 in c:\\users\\user\\anaconda3\\envs\\eu13_test\\lib\\site-packages (from streamlit==1.10.0->-r requirements.txt (line 2)) (6.2)\n",
      "Requirement already satisfied: watchdog in c:\\users\\user\\anaconda3\\envs\\eu13_test\\lib\\site-packages (from streamlit==1.10.0->-r requirements.txt (line 2)) (3.0.0)\n",
      "Requirement already satisfied: attrs in c:\\users\\user\\anaconda3\\envs\\eu13_test\\lib\\site-packages (from streamlit==1.10.0->-r requirements.txt (line 2)) (22.1.0)\n",
      "Requirement already satisfied: packaging in c:\\users\\user\\anaconda3\\envs\\eu13_test\\lib\\site-packages (from streamlit==1.10.0->-r requirements.txt (line 2)) (23.0)\n",
      "Requirement already satisfied: blinker in c:\\users\\user\\anaconda3\\envs\\eu13_test\\lib\\site-packages (from streamlit==1.10.0->-r requirements.txt (line 2)) (1.6.2)\n",
      "Requirement already satisfied: semver in c:\\users\\user\\anaconda3\\envs\\eu13_test\\lib\\site-packages (from streamlit==1.10.0->-r requirements.txt (line 2)) (3.0.0)\n",
      "Requirement already satisfied: python-dateutil in c:\\users\\user\\anaconda3\\envs\\eu13_test\\lib\\site-packages (from streamlit==1.10.0->-r requirements.txt (line 2)) (2.8.2)\n",
      "Requirement already satisfied: click>=7.0 in c:\\users\\user\\anaconda3\\envs\\eu13_test\\lib\\site-packages (from streamlit==1.10.0->-r requirements.txt (line 2)) (8.1.3)\n",
      "Requirement already satisfied: toml in c:\\users\\user\\anaconda3\\envs\\eu13_test\\lib\\site-packages (from streamlit==1.10.0->-r requirements.txt (line 2)) (0.10.2)\n",
      "Requirement already satisfied: pillow>=6.2.0 in c:\\users\\user\\anaconda3\\envs\\eu13_test\\lib\\site-packages (from streamlit==1.10.0->-r requirements.txt (line 2)) (9.5.0)\n",
      "Requirement already satisfied: pydeck>=0.1.dev5 in c:\\users\\user\\anaconda3\\envs\\eu13_test\\lib\\site-packages (from streamlit==1.10.0->-r requirements.txt (line 2)) (0.8.1b0)\n",
      "Requirement already satisfied: altair>=3.2.0 in c:\\users\\user\\anaconda3\\envs\\eu13_test\\lib\\site-packages (from streamlit==1.10.0->-r requirements.txt (line 2)) (4.2.2)\n",
      "Requirement already satisfied: cachetools>=4.0 in c:\\users\\user\\anaconda3\\envs\\eu13_test\\lib\\site-packages (from streamlit==1.10.0->-r requirements.txt (line 2)) (5.3.0)\n",
      "Requirement already satisfied: importlib-metadata>=1.4 in c:\\users\\user\\anaconda3\\envs\\eu13_test\\lib\\site-packages (from streamlit==1.10.0->-r requirements.txt (line 2)) (6.0.0)\n",
      "Requirement already satisfied: pyarrow in c:\\users\\user\\anaconda3\\envs\\eu13_test\\lib\\site-packages (from streamlit==1.10.0->-r requirements.txt (line 2)) (11.0.0)\n",
      "Requirement already satisfied: requests in c:\\users\\user\\anaconda3\\envs\\eu13_test\\lib\\site-packages (from streamlit==1.10.0->-r requirements.txt (line 2)) (2.29.0)\n",
      "Requirement already satisfied: pympler>=0.9 in c:\\users\\user\\anaconda3\\envs\\eu13_test\\lib\\site-packages (from streamlit==1.10.0->-r requirements.txt (line 2)) (1.0.1)\n",
      "Requirement already satisfied: validators in c:\\users\\user\\anaconda3\\envs\\eu13_test\\lib\\site-packages (from streamlit==1.10.0->-r requirements.txt (line 2)) (0.20.0)\n",
      "Requirement already satisfied: pandas>=0.21.0 in c:\\users\\user\\anaconda3\\envs\\eu13_test\\lib\\site-packages (from streamlit==1.10.0->-r requirements.txt (line 2)) (2.0.1)\n",
      "Requirement already satisfied: protobuf<4,>=3.12 in c:\\users\\user\\anaconda3\\envs\\eu13_test\\lib\\site-packages (from streamlit==1.10.0->-r requirements.txt (line 2)) (3.20.3)\n",
      "Requirement already satisfied: rich in c:\\users\\user\\anaconda3\\envs\\eu13_test\\lib\\site-packages (from streamlit==1.10.0->-r requirements.txt (line 2)) (13.3.5)\n",
      "Requirement already satisfied: typing-extensions in c:\\users\\user\\anaconda3\\envs\\eu13_test\\lib\\site-packages (from streamlit==1.10.0->-r requirements.txt (line 2)) (4.5.0)\n",
      "Requirement already satisfied: gitpython!=3.1.19 in c:\\users\\user\\anaconda3\\envs\\eu13_test\\lib\\site-packages (from streamlit==1.10.0->-r requirements.txt (line 2)) (3.1.31)\n",
      "Requirement already satisfied: jinja2 in c:\\users\\user\\anaconda3\\envs\\eu13_test\\lib\\site-packages (from altair>=3.2.0->streamlit==1.10.0->-r requirements.txt (line 2)) (3.1.2)\n",
      "Requirement already satisfied: entrypoints in c:\\users\\user\\anaconda3\\envs\\eu13_test\\lib\\site-packages (from altair>=3.2.0->streamlit==1.10.0->-r requirements.txt (line 2)) (0.4)\n",
      "Requirement already satisfied: toolz in c:\\users\\user\\anaconda3\\envs\\eu13_test\\lib\\site-packages (from altair>=3.2.0->streamlit==1.10.0->-r requirements.txt (line 2)) (0.12.0)\n",
      "Requirement already satisfied: jsonschema>=3.0 in c:\\users\\user\\anaconda3\\envs\\eu13_test\\lib\\site-packages (from altair>=3.2.0->streamlit==1.10.0->-r requirements.txt (line 2)) (4.17.3)\n",
      "Requirement already satisfied: colorama in c:\\users\\user\\anaconda3\\envs\\eu13_test\\lib\\site-packages (from click>=7.0->streamlit==1.10.0->-r requirements.txt (line 2)) (0.4.6)\n",
      "Requirement already satisfied: gitdb<5,>=4.0.1 in c:\\users\\user\\anaconda3\\envs\\eu13_test\\lib\\site-packages (from gitpython!=3.1.19->streamlit==1.10.0->-r requirements.txt (line 2)) (4.0.10)\n",
      "Requirement already satisfied: zipp>=0.5 in c:\\users\\user\\anaconda3\\envs\\eu13_test\\lib\\site-packages (from importlib-metadata>=1.4->streamlit==1.10.0->-r requirements.txt (line 2)) (3.11.0)\n",
      "Requirement already satisfied: pytz>=2020.1 in c:\\users\\user\\anaconda3\\envs\\eu13_test\\lib\\site-packages (from pandas>=0.21.0->streamlit==1.10.0->-r requirements.txt (line 2)) (2023.3)\n",
      "Requirement already satisfied: tzdata>=2022.1 in c:\\users\\user\\anaconda3\\envs\\eu13_test\\lib\\site-packages (from pandas>=0.21.0->streamlit==1.10.0->-r requirements.txt (line 2)) (2023.3)\n",
      "Requirement already satisfied: six>=1.5 in c:\\users\\user\\anaconda3\\envs\\eu13_test\\lib\\site-packages (from python-dateutil->streamlit==1.10.0->-r requirements.txt (line 2)) (1.16.0)\n",
      "Requirement already satisfied: charset-normalizer<4,>=2 in c:\\users\\user\\anaconda3\\envs\\eu13_test\\lib\\site-packages (from requests->streamlit==1.10.0->-r requirements.txt (line 2)) (3.1.0)\n",
      "Requirement already satisfied: certifi>=2017.4.17 in c:\\users\\user\\anaconda3\\envs\\eu13_test\\lib\\site-packages (from requests->streamlit==1.10.0->-r requirements.txt (line 2)) (2022.12.7)\n",
      "Requirement already satisfied: urllib3<1.27,>=1.21.1 in c:\\users\\user\\anaconda3\\envs\\eu13_test\\lib\\site-packages (from requests->streamlit==1.10.0->-r requirements.txt (line 2)) (1.26.15)\n",
      "Requirement already satisfied: idna<4,>=2.5 in c:\\users\\user\\anaconda3\\envs\\eu13_test\\lib\\site-packages (from requests->streamlit==1.10.0->-r requirements.txt (line 2)) (3.4)\n",
      "Requirement already satisfied: pygments<3.0.0,>=2.13.0 in c:\\users\\user\\anaconda3\\envs\\eu13_test\\lib\\site-packages (from rich->streamlit==1.10.0->-r requirements.txt (line 2)) (2.15.1)\n",
      "Requirement already satisfied: markdown-it-py<3.0.0,>=2.2.0 in c:\\users\\user\\anaconda3\\envs\\eu13_test\\lib\\site-packages (from rich->streamlit==1.10.0->-r requirements.txt (line 2)) (2.2.0)\n",
      "Requirement already satisfied: pytz-deprecation-shim in c:\\users\\user\\anaconda3\\envs\\eu13_test\\lib\\site-packages (from tzlocal->streamlit==1.10.0->-r requirements.txt (line 2)) (0.1.0.post0)\n",
      "Requirement already satisfied: decorator>=3.4.0 in c:\\users\\user\\anaconda3\\envs\\eu13_test\\lib\\site-packages (from validators->streamlit==1.10.0->-r requirements.txt (line 2)) (5.1.1)\n",
      "Requirement already satisfied: smmap<6,>=3.0.1 in c:\\users\\user\\anaconda3\\envs\\eu13_test\\lib\\site-packages (from gitdb<5,>=4.0.1->gitpython!=3.1.19->streamlit==1.10.0->-r requirements.txt (line 2)) (5.0.0)\n",
      "Requirement already satisfied: MarkupSafe>=2.0 in c:\\users\\user\\anaconda3\\envs\\eu13_test\\lib\\site-packages (from jinja2->altair>=3.2.0->streamlit==1.10.0->-r requirements.txt (line 2)) (2.1.1)\n",
      "Requirement already satisfied: pyrsistent!=0.17.0,!=0.17.1,!=0.17.2,>=0.14.0 in c:\\users\\user\\anaconda3\\envs\\eu13_test\\lib\\site-packages (from jsonschema>=3.0->altair>=3.2.0->streamlit==1.10.0->-r requirements.txt (line 2)) (0.18.0)\n",
      "Requirement already satisfied: mdurl~=0.1 in c:\\users\\user\\anaconda3\\envs\\eu13_test\\lib\\site-packages (from markdown-it-py<3.0.0,>=2.2.0->rich->streamlit==1.10.0->-r requirements.txt (line 2)) (0.1.2)\n",
      "Note: you may need to restart the kernel to use updated packages.\n"
     ]
    }
   ],
   "source": [
    "pip install -r requirements.txt"
   ]
  },
  {
   "cell_type": "code",
   "execution_count": 5,
   "metadata": {},
   "outputs": [
    {
     "name": "stdout",
     "output_type": "stream",
     "text": [
      "Package               Version\n",
      "--------------------- -----------\n",
      "altair                4.2.2\n",
      "anyio                 3.5.0\n",
      "argon2-cffi           21.3.0\n",
      "argon2-cffi-bindings  21.2.0\n",
      "asttokens             2.0.5\n",
      "attrs                 22.1.0\n",
      "backcall              0.2.0\n",
      "beautifulsoup4        4.12.2\n",
      "bleach                4.1.0\n",
      "blinker               1.6.2\n",
      "cachetools            5.3.0\n",
      "certifi               2022.12.7\n",
      "cffi                  1.15.1\n",
      "charset-normalizer    3.1.0\n",
      "click                 8.1.3\n",
      "colorama              0.4.6\n",
      "comm                  0.1.2\n",
      "debugpy               1.5.1\n",
      "decorator             5.1.1\n",
      "defusedxml            0.7.1\n",
      "entrypoints           0.4\n",
      "executing             0.8.3\n",
      "fastjsonschema        2.16.2\n",
      "gitdb                 4.0.10\n",
      "GitPython             3.1.31\n",
      "idna                  3.4\n",
      "importlib-metadata    6.0.0\n",
      "ipykernel             6.19.2\n",
      "ipython               8.12.0\n",
      "ipython-genutils      0.2.0\n",
      "jedi                  0.18.1\n",
      "Jinja2                3.1.2\n",
      "joblib                1.2.0\n",
      "jsonschema            4.17.3\n",
      "jupyter_client        8.1.0\n",
      "jupyter_core          5.3.0\n",
      "jupyter-server        1.23.4\n",
      "jupyterlab-pygments   0.1.2\n",
      "lxml                  4.9.2\n",
      "markdown-it-py        2.2.0\n",
      "MarkupSafe            2.1.1\n",
      "matplotlib-inline     0.1.6\n",
      "mdurl                 0.1.2\n",
      "mistune               0.8.4\n",
      "nb-conda-kernels      2.3.1\n",
      "nbclassic             0.5.5\n",
      "nbclient              0.5.13\n",
      "nbconvert             6.5.4\n",
      "nbformat              5.7.0\n",
      "nest-asyncio          1.5.6\n",
      "notebook              6.5.4\n",
      "notebook_shim         0.2.2\n",
      "numpy                 1.20.3\n",
      "packaging             23.0\n",
      "pandas                2.0.1\n",
      "pandocfilters         1.5.0\n",
      "parso                 0.8.3\n",
      "pickleshare           0.7.5\n",
      "Pillow                9.5.0\n",
      "pip                   23.0.1\n",
      "platformdirs          2.5.2\n",
      "prometheus-client     0.14.1\n",
      "prompt-toolkit        3.0.36\n",
      "protobuf              3.20.3\n",
      "psutil                5.9.0\n",
      "pure-eval             0.2.2\n",
      "pyarrow               11.0.0\n",
      "pyclustertend         1.7.1\n",
      "pycparser             2.21\n",
      "pydeck                0.8.1b0\n",
      "Pygments              2.15.1\n",
      "Pympler               1.0.1\n",
      "pyrsistent            0.18.0\n",
      "python-dateutil       2.8.2\n",
      "pytz                  2023.3\n",
      "pytz-deprecation-shim 0.1.0.post0\n",
      "pywin32               305.1\n",
      "pywinpty              2.0.10\n",
      "pyzmq                 25.0.2\n",
      "requests              2.29.0\n",
      "rich                  13.3.5\n",
      "scikit-learn          1.0.2\n",
      "scipy                 1.10.1\n",
      "semver                3.0.0\n",
      "Send2Trash            1.8.0\n",
      "setuptools            66.0.0\n",
      "six                   1.16.0\n",
      "smmap                 5.0.0\n",
      "sniffio               1.2.0\n",
      "soupsieve             2.4\n",
      "stack-data            0.2.0\n",
      "streamlit             1.10.0\n",
      "terminado             0.17.1\n",
      "threadpoolctl         3.1.0\n",
      "tinycss2              1.2.1\n",
      "toml                  0.10.2\n",
      "toolz                 0.12.0\n",
      "tornado               6.2\n",
      "traitlets             5.7.1\n",
      "typing_extensions     4.5.0\n",
      "tzdata                2023.3\n",
      "tzlocal               4.3\n",
      "urllib3               1.26.15\n",
      "validators            0.20.0\n",
      "watchdog              3.0.0\n",
      "wcwidth               0.2.5\n",
      "webencodings          0.5.1\n",
      "websocket-client      0.58.0\n",
      "wheel                 0.38.4\n",
      "zipp                  3.11.0\n",
      "Note: you may need to restart the kernel to use updated packages.\n"
     ]
    }
   ],
   "source": [
    "pip list"
   ]
  },
  {
   "cell_type": "code",
   "execution_count": 6,
   "metadata": {},
   "outputs": [
    {
     "name": "stdout",
     "output_type": "stream",
     "text": [
      "^C\n"
     ]
    }
   ],
   "source": [
    "!streamlit run my_app.py"
   ]
  },
  {
   "cell_type": "code",
   "execution_count": null,
   "metadata": {},
   "outputs": [],
   "source": []
  }
 ],
 "metadata": {
  "colab": {
   "collapsed_sections": [],
   "name": "modeling_auto_scout.ipynb",
   "provenance": []
  },
  "interpreter": {
   "hash": "c0bb56354a4e9355a7d6dfafff752e037850e37f95314bb813d6fca6f4e76bce"
  },
  "kernelspec": {
   "display_name": "Python 3 (ipykernel)",
   "language": "python",
   "name": "python3"
  },
  "language_info": {
   "codemirror_mode": {
    "name": "ipython",
    "version": 3
   },
   "file_extension": ".py",
   "mimetype": "text/x-python",
   "name": "python",
   "nbconvert_exporter": "python",
   "pygments_lexer": "ipython3",
   "version": "3.11.2"
  }
 },
 "nbformat": 4,
 "nbformat_minor": 4
}
