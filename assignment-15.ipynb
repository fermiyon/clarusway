{
 "cells": [
  {
   "cell_type": "code",
   "execution_count": 2,
   "metadata": {},
   "outputs": [
    {
     "name": "stdout",
     "output_type": "stream",
     "text": [
      "[2, 3, 5, 7, 11, 13, 17, 19, 23, 29, 31, 37, 41, 43, 47, 53, 59, 61, 67, 71, 73, 79, 83, 89, 97]\n"
     ]
    }
   ],
   "source": [
    "#assignment 15\n",
    "def is_prime(num):\n",
    "  bolenler = []\n",
    "  for x in range(2,num + 1):\n",
    "    if num % x == 0:\n",
    "      bolenler.append(x)\n",
    "  if len(bolenler) == 1:\n",
    "    return True\n",
    "  else:\n",
    "    return False\n",
    "def main():\n",
    "  number = int(input('Please enter a number: '))\n",
    "  primes = []\n",
    "  for i in range(1,number+1):\n",
    "    if is_prime(i):\n",
    "      primes.append(i)\n",
    "  print(primes)\n",
    "\n",
    "main()"
   ]
  }
 ],
 "metadata": {
  "kernelspec": {
   "display_name": "Python 3.10.7 64-bit",
   "language": "python",
   "name": "python3"
  },
  "language_info": {
   "codemirror_mode": {
    "name": "ipython",
    "version": 3
   },
   "file_extension": ".py",
   "mimetype": "text/x-python",
   "name": "python",
   "nbconvert_exporter": "python",
   "pygments_lexer": "ipython3",
   "version": "3.10.7"
  },
  "orig_nbformat": 4,
  "vscode": {
   "interpreter": {
    "hash": "aee8b7b246df8f9039afb4144a1f6fd8d2ca17a180786b69acc140d282b71a49"
   }
  }
 },
 "nbformat": 4,
 "nbformat_minor": 2
}
