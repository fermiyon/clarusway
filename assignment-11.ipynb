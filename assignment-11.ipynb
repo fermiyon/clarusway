{
 "cells": [
  {
   "cell_type": "code",
   "execution_count": 2,
   "metadata": {},
   "outputs": [
    {
     "name": "stdout",
     "output_type": "stream",
     "text": [
      "You are not in risky group\n"
     ]
    }
   ],
   "source": [
    "def str2bool(v):\n",
    "  return v.lower() in (\"yes\", \"true\", \"t\", \"1\")\n",
    "age = str2bool(input('Are you a cigarette addict older than 75 years old?'))\n",
    "chronic = str2bool(input('Do you have a severe chronic disease?'))\n",
    "immune = str2bool(input('Is your immune system too weak?'))\n",
    "risk = age or chronic or immune\n",
    "if risk:\n",
    "    print('You are in risky group')\n",
    "else:\n",
    "    print('You are not in risky group')"
   ]
  }
 ],
 "metadata": {
  "kernelspec": {
   "display_name": "Python 3.10.7 64-bit",
   "language": "python",
   "name": "python3"
  },
  "language_info": {
   "codemirror_mode": {
    "name": "ipython",
    "version": 3
   },
   "file_extension": ".py",
   "mimetype": "text/x-python",
   "name": "python",
   "nbconvert_exporter": "python",
   "pygments_lexer": "ipython3",
   "version": "3.10.7"
  },
  "orig_nbformat": 4,
  "vscode": {
   "interpreter": {
    "hash": "aee8b7b246df8f9039afb4144a1f6fd8d2ca17a180786b69acc140d282b71a49"
   }
  }
 },
 "nbformat": 4,
 "nbformat_minor": 2
}
