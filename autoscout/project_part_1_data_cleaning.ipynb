{
 "cells": [
  {
   "cell_type": "markdown",
   "metadata": {
    "id": "Bkw3_pB0s1L-"
   },
   "source": [
    "___\n",
    "\n",
    "<p style=\"text-align: center;\"><img src=\"https://docs.google.com/uc?id=1lY0Uj5R04yMY3-ZppPWxqCr5pvBLYPnV\" class=\"img-fluid\" \n",
    "alt=\"CLRSWY\"></p>\n",
    "\n",
    "## <p style=\"background-color:#FDFEFE; font-family:newtimeroman; color:#9d4f8c; font-size:100%; text-align:center; border-radius:10px 10px;\">WAY TO REINVENT YOURSELF</p>\n",
    "\n",
    "## <p style=\"background-color:#FDFEFE; font-family:newtimeroman; color:#060108; font-size:200%; text-align:center; border-radius:10px 10px;\">DA & DVwPY</p>\n",
    "\n",
    "## <p style=\"background-color:#FDFEFE; font-family:newtimeroman; color:#060108; font-size:200%; text-align:center; border-radius:10px 10px;\">The Exploratory Data Analysis (EDA) Project</p>\n",
    "\n",
    "<img src=https://i.ibb.co/wJW61Y2/Used-cars.jpg width=\"700\" height=\"200\">\n",
    "\n",
    "## <p style=\"background-color:#FDFEFE; font-family:newtimeroman; color:#060108; font-size:200%; text-align:center; border-radius:10px 10px;\">AutoScout Car Price Prediction EDA</p>\n",
    "\n"
   ]
  },
  {
   "cell_type": "markdown",
   "metadata": {
    "id": "Z_oWczxZs1MA"
   },
   "source": [
    "## Introduction\n",
    "Welcome to \"***AutoScout Exploratory Data Analysis (EDA) Project***\". This is the project of completing ***Data Analysis & Data Visualization*** Courses and a successful hand-over is mandatory for getting certification for both courses. **Auto Scout** data used in this project scraped from the Website of an online car trading company in 2022, and contains many features of 13 different car makes including 594 models. In this project, you will have the opportunity to apply many commonly used algorithms for Data Cleaning and Exploratory Data Analysis by using a variety of Python libraries, such as Numpy, Pandas, Matplotlib, Seaborn, Scipy, and then you will get a clean dataset for your analysis and pretictive modelling in Machine Learning Path. So you will have the chance to use all the skills you have already learned in the Data Analysis and Visualization courses.\n",
    "\n",
    "**``In this context, the project consists of 3 parts in general:``**\n",
    "* **The first part** is related to ``'Data Cleaning'``. It deals with Incorrect Headers, Incorrect Format, Anomalies, and Dropping useless columns.\n",
    "* **The second part** is related to ``'Filling Data'``, in other words 'Imputation'. It deals with Missing Values. Categorical to numeric transformation, Encoding, is done as well.\n",
    "* **The third part** is related to ``'Handling Outliers of Data'`` via Visualization libraries. So, some insights will be extracted.\n",
    "\n",
    "**``SPECIAL NOTE:``**  However, you are ``free to create your own style``. You do ``NOT`` have to stick to the steps above. Nevertheless, we, the DA & DV instructors, recommend you study each part separately to create a source notebook for your further studies. \n",
    "\n",
    "In order to build your Portfolio in terms of the GitHub account, you need to push your solution file up to your own repository.\n",
    "\n",
    "Please after solving the task, commit your notebook to GitHub and submit its link to LMS page where the project is settled down.\n",
    "\n",
    "**BE NOTED:** Please ``DO NOT FORGET`` to click the submit button.\n",
    "\n",
    "### Some Reminders on Exploratory data analysis (EDA)\n",
    "\n",
    "Exploratory data analysis (EDA) is an especially important activity in the routine of a data analyst or scientist. It enables an in depth understanding of the dataset, define or discard hypotheses and create predictive models on a solid basis. It uses data manipulation techniques and several statistical tools to describe and understand the relationship between variables and how these can impact business. By means of EDA, we can obtain meaningful insights that can impact analysis under the following questions (If a checklist is good enough for pilots to use every flight, it’s good enough for data scientists to use with every dataset).\n",
    "1. What question are you trying to solve (or prove wrong)?\n",
    "2. What kind of data do you have?\n",
    "3. What’s missing from the data?\n",
    "4. Where are the outliers?\n",
    "5. How can you add, change or remove features to get more out of your data?\n",
    "\n",
    "**``Exploratory data analysis (EDA)``** is often an **iterative brainstorming process** where you pose a question, review the data, and develop further questions to investigate before beginning model development work. The image below shows how the brainstorming phase is connected with that of understanding the variables and how this in turn is connected again with the brainstorming phase.<br>\n",
    "\n",
    "<img src=https://i.ibb.co/k0MC950/EDA-Process.png width=\"300\" height=\"100\">\n",
    "\n",
    "[Image Credit: Andrew D.](https://towardsdatascience.com/exploratory-data-analysis-in-python-a-step-by-step-process-d0dfa6bf94ee)\n",
    "\n"
   ]
  },
  {
   "cell_type": "markdown",
   "metadata": {
    "id": "vvgJ5KWTs1MB"
   },
   "source": [
    "# PART- 1 `( Data Cleaning )`"
   ]
  },
  {
   "cell_type": "code",
   "execution_count": 343,
   "metadata": {},
   "outputs": [],
   "source": [
    "# %pip install seaborn --upgrade"
   ]
  },
  {
   "cell_type": "code",
   "execution_count": 344,
   "metadata": {},
   "outputs": [],
   "source": [
    "import pandas as pd\n",
    "import seaborn as sns\n",
    "import matplotlib.pyplot as plt\n",
    "from matplotlib.patches import Patch\n",
    "from matplotlib.lines import Line2D\n",
    "import numpy as np\n",
    "from tqdm import tqdm\n",
    "tqdm.pandas()\n"
   ]
  },
  {
   "cell_type": "code",
   "execution_count": 345,
   "metadata": {},
   "outputs": [
    {
     "data": {
      "text/plain": [
       "'2.0.0rc0'"
      ]
     },
     "execution_count": 345,
     "metadata": {},
     "output_type": "execute_result"
    }
   ],
   "source": [
    "pd.__version__"
   ]
  },
  {
   "cell_type": "code",
   "execution_count": 346,
   "metadata": {},
   "outputs": [
    {
     "data": {
      "text/plain": [
       "'0.12.2'"
      ]
     },
     "execution_count": 346,
     "metadata": {},
     "output_type": "execute_result"
    }
   ],
   "source": [
    "sns.__version__"
   ]
  },
  {
   "cell_type": "code",
   "execution_count": 347,
   "metadata": {},
   "outputs": [],
   "source": [
    "def show_nulls(data):\n",
    "    \n",
    "    '''\n",
    "    \n",
    "    This function plots missing values for each column by observation in the dataset.\n",
    "    \n",
    "    ''' \n",
    "    plt.figure(figsize=(10, 5))\n",
    "\n",
    "    sns.displot(data=data.isnull().melt(value_name=\"missing\"),\n",
    "                y=\"variable\",\n",
    "                hue=\"missing\",\n",
    "                multiple=\"fill\",\n",
    "                height=9.25)\n",
    "\n",
    "    plt.axvline(0.2, color=\"r\")\n",
    "    plt.show()"
   ]
  },
  {
   "cell_type": "code",
   "execution_count": 348,
   "metadata": {
    "id": "Y13_gId7s1MC"
   },
   "outputs": [],
   "source": [
    "df = pd.read_json('as24_cars.json')\n",
    "# pd.options.mode.dtype_backend = 'pyarrow'\n",
    "# df = pd.read_csv('before_drop.csv')"
   ]
  },
  {
   "cell_type": "code",
   "execution_count": 349,
   "metadata": {},
   "outputs": [],
   "source": [
    "pd.options.display.max_columns = 100\n",
    "# pd.options.display.max_rows = 100\n",
    "pd.options.display.float_format = '{:.2f}'.format\n"
   ]
  },
  {
   "cell_type": "code",
   "execution_count": 350,
   "metadata": {},
   "outputs": [
    {
     "data": {
      "text/plain": [
       "{'make_model': 'make_model',\n",
       " 'short_description': 'short_description',\n",
       " 'make': 'make',\n",
       " 'model': 'model',\n",
       " 'location': 'location',\n",
       " 'price': 'price',\n",
       " 'Body type': 'body_type',\n",
       " 'Type': 'type',\n",
       " 'Doors': 'doors',\n",
       " 'Country version': 'country_version',\n",
       " 'Offer number': 'offer_number',\n",
       " 'Warranty': 'warranty',\n",
       " 'Mileage': 'mileage',\n",
       " 'First registration': 'first_registration',\n",
       " 'Gearbox': 'gearbox',\n",
       " 'Fuel type': 'fuel_type',\n",
       " 'Colour': 'colour',\n",
       " 'Paint': 'paint',\n",
       " 'desc': 'desc',\n",
       " 'seller': 'seller',\n",
       " 'Seats': 'seats',\n",
       " 'Power': 'power',\n",
       " 'Engine size': 'engine_size',\n",
       " 'Gears': 'gears',\n",
       " 'CO₂-emissions': 'co2_emissions',\n",
       " 'Manufacturer colour': 'manufacturer_colour',\n",
       " 'Drivetrain': 'drivetrain',\n",
       " 'Cylinders': 'cylinders',\n",
       " 'Fuel consumption': 'fuel_consumption',\n",
       " '\\nComfort & Convenience\\n': 'comfort_convenience',\n",
       " '\\nEntertainment & Media\\n': 'entertainment_media',\n",
       " '\\nSafety & Security\\n': 'safety_security',\n",
       " '\\nExtras\\n': 'extras',\n",
       " 'Empty weight': 'empty_weight',\n",
       " 'Model code': 'model_code',\n",
       " 'General inspection': 'general_inspection',\n",
       " 'Last service': 'last_service',\n",
       " 'Full service history': 'full_service_history',\n",
       " 'Non-smoker vehicle': 'non_smoker_vehicle',\n",
       " 'Emission class': 'emission_class',\n",
       " 'Emissions sticker': 'emissions_sticker',\n",
       " 'Upholstery colour': 'upholstery_colour',\n",
       " 'Upholstery': 'upholstery',\n",
       " 'Production date': 'production_date',\n",
       " 'Previous owner': 'previous_owner',\n",
       " 'Other fuel types': 'other_fuel_types',\n",
       " 'Power consumption': 'power_consumption',\n",
       " 'Energy efficiency class': 'energy_efficiency_class',\n",
       " 'CO₂-efficiency': 'co2_efficiency',\n",
       " 'Fuel consumption (WLTP)': 'fuel_consumption_wltp',\n",
       " 'CO₂-emissions (WLTP)': 'co2_emissions_wltp',\n",
       " 'Available from': 'available_from',\n",
       " 'Taxi or rental car': 'taxi_or_rental_car',\n",
       " 'Availability': 'availability',\n",
       " 'Last timing belt change': 'last_timing_belt_change',\n",
       " 'Electric Range (WLTP)': 'electric_range_wltp',\n",
       " 'Power consumption (WLTP)': 'power_consumption_wltp',\n",
       " 'Battery Ownership': 'battery_ownership'}"
      ]
     },
     "execution_count": 350,
     "metadata": {},
     "output_type": "execute_result"
    }
   ],
   "source": [
    "new_column_names = {col: col.lower().replace('\\n', '').replace('&', '').replace('co₂', 'co2').replace('-', '_').replace(' ', '_').replace('__', '_').replace('(', '').replace(')', '') for col in df.columns}\n",
    "new_column_names"
   ]
  },
  {
   "cell_type": "code",
   "execution_count": 351,
   "metadata": {},
   "outputs": [
    {
     "data": {
      "text/plain": [
       "Index(['make_model', 'short_description', 'make', 'model', 'location', 'price',\n",
       "       'body_type', 'type', 'doors', 'country_version', 'offer_number',\n",
       "       'warranty', 'mileage', 'first_registration', 'gearbox', 'fuel_type',\n",
       "       'colour', 'paint', 'desc', 'seller', 'seats', 'power', 'engine_size',\n",
       "       'gears', 'co2_emissions', 'manufacturer_colour', 'drivetrain',\n",
       "       'cylinders', 'fuel_consumption', 'comfort_convenience',\n",
       "       'entertainment_media', 'safety_security', 'extras', 'empty_weight',\n",
       "       'model_code', 'general_inspection', 'last_service',\n",
       "       'full_service_history', 'non_smoker_vehicle', 'emission_class',\n",
       "       'emissions_sticker', 'upholstery_colour', 'upholstery',\n",
       "       'production_date', 'previous_owner', 'other_fuel_types',\n",
       "       'power_consumption', 'energy_efficiency_class', 'co2_efficiency',\n",
       "       'fuel_consumption_wltp', 'co2_emissions_wltp', 'available_from',\n",
       "       'taxi_or_rental_car', 'availability', 'last_timing_belt_change',\n",
       "       'electric_range_wltp', 'power_consumption_wltp', 'battery_ownership'],\n",
       "      dtype='object')"
      ]
     },
     "execution_count": 351,
     "metadata": {},
     "output_type": "execute_result"
    }
   ],
   "source": [
    "df = df.rename(columns=new_column_names)\n",
    "df.columns"
   ]
  },
  {
   "cell_type": "code",
   "execution_count": 352,
   "metadata": {},
   "outputs": [
    {
     "data": {
      "text/plain": [
       "<Figure size 720x360 with 0 Axes>"
      ]
     },
     "metadata": {},
     "output_type": "display_data"
    },
    {
     "data": {
      "image/png": "[encoded data removed]",
      "text/plain": [
       "<Figure size 727.25x666 with 1 Axes>"
      ]
     },
     "metadata": {
      "needs_background": "light"
     },
     "output_type": "display_data"
    }
   ],
   "source": [
    "show_nulls(df)"
   ]
  },
  {
   "cell_type": "code",
   "execution_count": 353,
   "metadata": {},
   "outputs": [
    {
     "data": {
      "text/html": [
       "<div>\n",
       "<style scoped>\n",
       "    .dataframe tbody tr th:only-of-type {\n",
       "        vertical-align: middle;\n",
       "    }\n",
       "\n",
       "    .dataframe tbody tr th {\n",
       "        vertical-align: top;\n",
       "    }\n",
       "\n",
       "    .dataframe thead th {\n",
       "        text-align: right;\n",
       "    }\n",
       "</style>\n",
       "<table border=\"1\" class=\"dataframe\">\n",
       "  <thead>\n",
       "    <tr style=\"text-align: right;\">\n",
       "      <th></th>\n",
       "      <th>make_model</th>\n",
       "      <th>short_description</th>\n",
       "      <th>make</th>\n",
       "      <th>model</th>\n",
       "      <th>location</th>\n",
       "      <th>price</th>\n",
       "      <th>body_type</th>\n",
       "      <th>type</th>\n",
       "      <th>doors</th>\n",
       "      <th>country_version</th>\n",
       "      <th>offer_number</th>\n",
       "      <th>warranty</th>\n",
       "      <th>mileage</th>\n",
       "      <th>first_registration</th>\n",
       "      <th>gearbox</th>\n",
       "      <th>fuel_type</th>\n",
       "      <th>colour</th>\n",
       "      <th>paint</th>\n",
       "      <th>desc</th>\n",
       "      <th>seller</th>\n",
       "      <th>seats</th>\n",
       "      <th>power</th>\n",
       "      <th>engine_size</th>\n",
       "      <th>gears</th>\n",
       "      <th>co2_emissions</th>\n",
       "      <th>manufacturer_colour</th>\n",
       "      <th>drivetrain</th>\n",
       "      <th>cylinders</th>\n",
       "      <th>fuel_consumption</th>\n",
       "      <th>comfort_convenience</th>\n",
       "      <th>entertainment_media</th>\n",
       "      <th>safety_security</th>\n",
       "      <th>extras</th>\n",
       "      <th>empty_weight</th>\n",
       "      <th>model_code</th>\n",
       "      <th>general_inspection</th>\n",
       "      <th>last_service</th>\n",
       "      <th>full_service_history</th>\n",
       "      <th>non_smoker_vehicle</th>\n",
       "      <th>emission_class</th>\n",
       "      <th>emissions_sticker</th>\n",
       "      <th>upholstery_colour</th>\n",
       "      <th>upholstery</th>\n",
       "      <th>production_date</th>\n",
       "      <th>previous_owner</th>\n",
       "      <th>other_fuel_types</th>\n",
       "      <th>power_consumption</th>\n",
       "      <th>energy_efficiency_class</th>\n",
       "      <th>co2_efficiency</th>\n",
       "      <th>fuel_consumption_wltp</th>\n",
       "      <th>co2_emissions_wltp</th>\n",
       "      <th>available_from</th>\n",
       "      <th>taxi_or_rental_car</th>\n",
       "      <th>availability</th>\n",
       "      <th>last_timing_belt_change</th>\n",
       "      <th>electric_range_wltp</th>\n",
       "      <th>power_consumption_wltp</th>\n",
       "      <th>battery_ownership</th>\n",
       "    </tr>\n",
       "  </thead>\n",
       "  <tbody>\n",
       "    <tr>\n",
       "      <th>5550</th>\n",
       "      <td>Renault Clio</td>\n",
       "      <td>1.2 75CV GPL 5 porte Wave 201407</td>\n",
       "      <td>\\nRenault\\n</td>\n",
       "      <td>[\\n, Clio ,\\n]</td>\n",
       "      <td>Via Partanna Mondello 52,  90100 Palermo - Pa, IT</td>\n",
       "      <td>€ 7,500.-</td>\n",
       "      <td>[\\n, Convertible, \\n]</td>\n",
       "      <td>[\\n, Used, \\n]</td>\n",
       "      <td>NaN</td>\n",
       "      <td>[\\n, Italy, \\n]</td>\n",
       "      <td>[\\n, 2294580, \\n]</td>\n",
       "      <td>NaN</td>\n",
       "      <td>115,195 km</td>\n",
       "      <td>01/2015</td>\n",
       "      <td>NaN</td>\n",
       "      <td>Liquid petroleum gas (LPG)</td>\n",
       "      <td>White</td>\n",
       "      <td>NaN</td>\n",
       "      <td>NaN</td>\n",
       "      <td>Dealer</td>\n",
       "      <td>NaN</td>\n",
       "      <td>[\\n54 kW (73 hp)\\n]</td>\n",
       "      <td>[\\n1,149 cc\\n]</td>\n",
       "      <td>NaN</td>\n",
       "      <td>NaN</td>\n",
       "      <td>NaN</td>\n",
       "      <td>NaN</td>\n",
       "      <td>NaN</td>\n",
       "      <td>[[0 l/100 km (comb.)]]</td>\n",
       "      <td>NaN</td>\n",
       "      <td>NaN</td>\n",
       "      <td>NaN</td>\n",
       "      <td>NaN</td>\n",
       "      <td>NaN</td>\n",
       "      <td>NaN</td>\n",
       "      <td>NaN</td>\n",
       "      <td>NaN</td>\n",
       "      <td>NaN</td>\n",
       "      <td>NaN</td>\n",
       "      <td>NaN</td>\n",
       "      <td>NaN</td>\n",
       "      <td>NaN</td>\n",
       "      <td>Other</td>\n",
       "      <td>NaN</td>\n",
       "      <td>NaN</td>\n",
       "      <td>NaN</td>\n",
       "      <td>NaN</td>\n",
       "      <td>NaN</td>\n",
       "      <td>NaN</td>\n",
       "      <td>NaN</td>\n",
       "      <td>NaN</td>\n",
       "      <td>NaN</td>\n",
       "      <td>NaN</td>\n",
       "      <td>NaN</td>\n",
       "      <td>NaN</td>\n",
       "      <td>NaN</td>\n",
       "      <td>NaN</td>\n",
       "      <td>NaN</td>\n",
       "    </tr>\n",
       "    <tr>\n",
       "      <th>8185</th>\n",
       "      <td>Peugeot 306</td>\n",
       "      <td>Coupé 2.0 16v GTI</td>\n",
       "      <td>\\nPeugeot\\n</td>\n",
       "      <td>[\\n, 306 ,\\n]</td>\n",
       "      <td>15630 Miño, ES</td>\n",
       "      <td>€ 9,000.-</td>\n",
       "      <td>[\\n, Coupe, \\n]</td>\n",
       "      <td>[\\n, Used, \\n]</td>\n",
       "      <td>[\\n, 3, \\n]</td>\n",
       "      <td>NaN</td>\n",
       "      <td>NaN</td>\n",
       "      <td>NaN</td>\n",
       "      <td>225,000 km</td>\n",
       "      <td>06/1998</td>\n",
       "      <td>[\\nManual\\n]</td>\n",
       "      <td>Gasoline</td>\n",
       "      <td>Grey</td>\n",
       "      <td>Metallic</td>\n",
       "      <td>NaN</td>\n",
       "      <td>Private seller</td>\n",
       "      <td>[\\n, 5, \\n]</td>\n",
       "      <td>[\\n123 kW (167 hp)\\n]</td>\n",
       "      <td>[\\n1,998 cc\\n]</td>\n",
       "      <td>[\\n6\\n]</td>\n",
       "      <td>NaN</td>\n",
       "      <td>NaN</td>\n",
       "      <td>NaN</td>\n",
       "      <td>[\\n4\\n]</td>\n",
       "      <td>[[9.4 l/100 km (comb.)], [13.6 l/100 km (city)...</td>\n",
       "      <td>[Air conditioning, Electrical side mirrors, Fo...</td>\n",
       "      <td>NaN</td>\n",
       "      <td>[ABS, Central door lock, Fog lights, Passenger...</td>\n",
       "      <td>[Alloy wheels, Sport seats]</td>\n",
       "      <td>[\\n1,215 kg\\n]</td>\n",
       "      <td>NaN</td>\n",
       "      <td>NaN</td>\n",
       "      <td>NaN</td>\n",
       "      <td>Yes</td>\n",
       "      <td>NaN</td>\n",
       "      <td>Euro 2</td>\n",
       "      <td>NaN</td>\n",
       "      <td>Black</td>\n",
       "      <td>alcantara</td>\n",
       "      <td>NaN</td>\n",
       "      <td>NaN</td>\n",
       "      <td>NaN</td>\n",
       "      <td>NaN</td>\n",
       "      <td>NaN</td>\n",
       "      <td>NaN</td>\n",
       "      <td>NaN</td>\n",
       "      <td>NaN</td>\n",
       "      <td>NaN</td>\n",
       "      <td>NaN</td>\n",
       "      <td>NaN</td>\n",
       "      <td>NaN</td>\n",
       "      <td>NaN</td>\n",
       "      <td>NaN</td>\n",
       "      <td>NaN</td>\n",
       "    </tr>\n",
       "    <tr>\n",
       "      <th>4515</th>\n",
       "      <td>Opel Astra</td>\n",
       "      <td>K 1.4 Turbo Edition IntelliLux IntelliLink A</td>\n",
       "      <td>\\nOpel\\n</td>\n",
       "      <td>[\\n, Astra ,\\n]</td>\n",
       "      <td>Fritz-Meinhardt-Str. 2,  01239 Dresden, DE</td>\n",
       "      <td>€ 15,990.-</td>\n",
       "      <td>[\\n, Sedan, \\n]</td>\n",
       "      <td>[\\n, Used, \\n]</td>\n",
       "      <td>[\\n, 5, \\n]</td>\n",
       "      <td>[\\n, Germany, \\n]</td>\n",
       "      <td>[\\n, 0532C, \\n]</td>\n",
       "      <td>[\\n, Yes, \\n]</td>\n",
       "      <td>83,187 km</td>\n",
       "      <td>11/2017</td>\n",
       "      <td>[\\nManual\\n]</td>\n",
       "      <td>Regular/Benzine 91</td>\n",
       "      <td>Brown</td>\n",
       "      <td>Metallic</td>\n",
       "      <td>[Komfort, 2- Zonen Klimaautomatik,  , Zentralv...</td>\n",
       "      <td>Dealer</td>\n",
       "      <td>[\\n, 5, \\n]</td>\n",
       "      <td>[\\n110 kW (150 hp)\\n]</td>\n",
       "      <td>[\\n1,399 cc\\n]</td>\n",
       "      <td>NaN</td>\n",
       "      <td>0 g/km (comb.)</td>\n",
       "      <td>Kokusnuss Braun Metallic</td>\n",
       "      <td>NaN</td>\n",
       "      <td>NaN</td>\n",
       "      <td>[[5.4 l/100 km (comb.)]]</td>\n",
       "      <td>[Automatic climate control, 2 zones, Cruise co...</td>\n",
       "      <td>[Android Auto, Apple CarPlay, Bluetooth, Hands...</td>\n",
       "      <td>[ABS, Central door lock, Distance warning syst...</td>\n",
       "      <td>[Alloy wheels, Automatically dimming interior ...</td>\n",
       "      <td>NaN</td>\n",
       "      <td>NaN</td>\n",
       "      <td>New</td>\n",
       "      <td>NaN</td>\n",
       "      <td>Yes</td>\n",
       "      <td>Yes</td>\n",
       "      <td>Euro 6</td>\n",
       "      <td>4 (Green)</td>\n",
       "      <td>NaN</td>\n",
       "      <td>Cloth</td>\n",
       "      <td>NaN</td>\n",
       "      <td>NaN</td>\n",
       "      <td>NaN</td>\n",
       "      <td>NaN</td>\n",
       "      <td>NaN</td>\n",
       "      <td>NaN</td>\n",
       "      <td>NaN</td>\n",
       "      <td>NaN</td>\n",
       "      <td>NaN</td>\n",
       "      <td>NaN</td>\n",
       "      <td>NaN</td>\n",
       "      <td>NaN</td>\n",
       "      <td>NaN</td>\n",
       "      <td>NaN</td>\n",
       "      <td>NaN</td>\n",
       "    </tr>\n",
       "  </tbody>\n",
       "</table>\n",
       "</div>"
      ],
      "text/plain": [
       "        make_model                             short_description         make   \n",
       "5550  Renault Clio              1.2 75CV GPL 5 porte Wave 201407  \\nRenault\\n  \\\n",
       "8185   Peugeot 306                             Coupé 2.0 16v GTI  \\nPeugeot\\n   \n",
       "4515    Opel Astra  K 1.4 Turbo Edition IntelliLux IntelliLink A     \\nOpel\\n   \n",
       "\n",
       "                model                                           location   \n",
       "5550   [\\n, Clio ,\\n]  Via Partanna Mondello 52,  90100 Palermo - Pa, IT  \\\n",
       "8185    [\\n, 306 ,\\n]                                     15630 Miño, ES   \n",
       "4515  [\\n, Astra ,\\n]         Fritz-Meinhardt-Str. 2,  01239 Dresden, DE   \n",
       "\n",
       "           price              body_type            type        doors   \n",
       "5550   € 7,500.-  [\\n, Convertible, \\n]  [\\n, Used, \\n]          NaN  \\\n",
       "8185   € 9,000.-        [\\n, Coupe, \\n]  [\\n, Used, \\n]  [\\n, 3, \\n]   \n",
       "4515  € 15,990.-        [\\n, Sedan, \\n]  [\\n, Used, \\n]  [\\n, 5, \\n]   \n",
       "\n",
       "        country_version       offer_number       warranty     mileage   \n",
       "5550    [\\n, Italy, \\n]  [\\n, 2294580, \\n]            NaN  115,195 km  \\\n",
       "8185                NaN                NaN            NaN  225,000 km   \n",
       "4515  [\\n, Germany, \\n]    [\\n, 0532C, \\n]  [\\n, Yes, \\n]   83,187 km   \n",
       "\n",
       "     first_registration       gearbox                   fuel_type colour   \n",
       "5550            01/2015           NaN  Liquid petroleum gas (LPG)  White  \\\n",
       "8185            06/1998  [\\nManual\\n]                    Gasoline   Grey   \n",
       "4515            11/2017  [\\nManual\\n]          Regular/Benzine 91  Brown   \n",
       "\n",
       "         paint                                               desc   \n",
       "5550       NaN                                                NaN  \\\n",
       "8185  Metallic                                                NaN   \n",
       "4515  Metallic  [Komfort, 2- Zonen Klimaautomatik,  , Zentralv...   \n",
       "\n",
       "              seller        seats                  power     engine_size   \n",
       "5550          Dealer          NaN    [\\n54 kW (73 hp)\\n]  [\\n1,149 cc\\n]  \\\n",
       "8185  Private seller  [\\n, 5, \\n]  [\\n123 kW (167 hp)\\n]  [\\n1,998 cc\\n]   \n",
       "4515          Dealer  [\\n, 5, \\n]  [\\n110 kW (150 hp)\\n]  [\\n1,399 cc\\n]   \n",
       "\n",
       "        gears   co2_emissions       manufacturer_colour drivetrain cylinders   \n",
       "5550      NaN             NaN                       NaN        NaN       NaN  \\\n",
       "8185  [\\n6\\n]             NaN                       NaN        NaN   [\\n4\\n]   \n",
       "4515      NaN  0 g/km (comb.)  Kokusnuss Braun Metallic        NaN       NaN   \n",
       "\n",
       "                                       fuel_consumption   \n",
       "5550                             [[0 l/100 km (comb.)]]  \\\n",
       "8185  [[9.4 l/100 km (comb.)], [13.6 l/100 km (city)...   \n",
       "4515                           [[5.4 l/100 km (comb.)]]   \n",
       "\n",
       "                                    comfort_convenience   \n",
       "5550                                                NaN  \\\n",
       "8185  [Air conditioning, Electrical side mirrors, Fo...   \n",
       "4515  [Automatic climate control, 2 zones, Cruise co...   \n",
       "\n",
       "                                    entertainment_media   \n",
       "5550                                                NaN  \\\n",
       "8185                                                NaN   \n",
       "4515  [Android Auto, Apple CarPlay, Bluetooth, Hands...   \n",
       "\n",
       "                                        safety_security   \n",
       "5550                                                NaN  \\\n",
       "8185  [ABS, Central door lock, Fog lights, Passenger...   \n",
       "4515  [ABS, Central door lock, Distance warning syst...   \n",
       "\n",
       "                                                 extras    empty_weight   \n",
       "5550                                                NaN             NaN  \\\n",
       "8185                        [Alloy wheels, Sport seats]  [\\n1,215 kg\\n]   \n",
       "4515  [Alloy wheels, Automatically dimming interior ...             NaN   \n",
       "\n",
       "     model_code general_inspection last_service full_service_history   \n",
       "5550        NaN                NaN          NaN                  NaN  \\\n",
       "8185        NaN                NaN          NaN                  Yes   \n",
       "4515        NaN                New          NaN                  Yes   \n",
       "\n",
       "     non_smoker_vehicle emission_class emissions_sticker upholstery_colour   \n",
       "5550                NaN            NaN               NaN               NaN  \\\n",
       "8185                NaN         Euro 2               NaN             Black   \n",
       "4515                Yes         Euro 6         4 (Green)               NaN   \n",
       "\n",
       "     upholstery  production_date previous_owner other_fuel_types   \n",
       "5550      Other              NaN            NaN              NaN  \\\n",
       "8185  alcantara              NaN            NaN              NaN   \n",
       "4515      Cloth              NaN            NaN              NaN   \n",
       "\n",
       "     power_consumption energy_efficiency_class co2_efficiency   \n",
       "5550               NaN                     NaN            NaN  \\\n",
       "8185               NaN                     NaN            NaN   \n",
       "4515               NaN                     NaN            NaN   \n",
       "\n",
       "     fuel_consumption_wltp co2_emissions_wltp available_from   \n",
       "5550                   NaN                NaN            NaN  \\\n",
       "8185                   NaN                NaN            NaN   \n",
       "4515                   NaN                NaN            NaN   \n",
       "\n",
       "     taxi_or_rental_car availability last_timing_belt_change   \n",
       "5550                NaN          NaN                     NaN  \\\n",
       "8185                NaN          NaN                     NaN   \n",
       "4515                NaN          NaN                     NaN   \n",
       "\n",
       "     electric_range_wltp power_consumption_wltp battery_ownership  \n",
       "5550                 NaN                    NaN               NaN  \n",
       "8185                 NaN                    NaN               NaN  \n",
       "4515                 NaN                    NaN               NaN  "
      ]
     },
     "execution_count": 353,
     "metadata": {},
     "output_type": "execute_result"
    }
   ],
   "source": [
    "df.sample(3)"
   ]
  },
  {
   "cell_type": "code",
   "execution_count": 354,
   "metadata": {},
   "outputs": [
    {
     "name": "stdout",
     "output_type": "stream",
     "text": [
      "Column \u001b[1m\u001b[91mmake_model\u001b[0m has mixed object types.\n",
      "Column \u001b[1m\u001b[91mshort_description\u001b[0m has mixed object types.\n",
      "Column \u001b[1m\u001b[91mmake\u001b[0m has mixed object types.\n",
      "Column \u001b[1m\u001b[91mmodel\u001b[0m has mixed object types.\n",
      "Column \u001b[1m\u001b[91mlocation\u001b[0m has mixed object types.\n",
      "Column \u001b[1m\u001b[91mprice\u001b[0m has mixed object types.\n",
      "Column \u001b[1m\u001b[91mbody_type\u001b[0m has mixed object types.\n",
      "Column \u001b[1m\u001b[91mtype\u001b[0m has mixed object types.\n",
      "Column \u001b[1m\u001b[91mdoors\u001b[0m has mixed object types.\n",
      "Column \u001b[1m\u001b[91mcountry_version\u001b[0m has mixed object types.\n",
      "Column \u001b[1m\u001b[91moffer_number\u001b[0m has mixed object types.\n",
      "Column \u001b[1m\u001b[91mwarranty\u001b[0m has mixed object types.\n",
      "Column \u001b[1m\u001b[91mmileage\u001b[0m has mixed object types.\n",
      "Column \u001b[1m\u001b[91mfirst_registration\u001b[0m has mixed object types.\n",
      "Column \u001b[1m\u001b[91mgearbox\u001b[0m has mixed object types.\n",
      "Column \u001b[1m\u001b[91mfuel_type\u001b[0m has mixed object types.\n",
      "Column \u001b[1m\u001b[91mcolour\u001b[0m has mixed object types.\n",
      "Column \u001b[1m\u001b[91mpaint\u001b[0m has mixed object types.\n",
      "Column \u001b[1m\u001b[91mdesc\u001b[0m has mixed object types.\n",
      "Column \u001b[1m\u001b[91mseller\u001b[0m has mixed object types.\n",
      "Column \u001b[1m\u001b[91mseats\u001b[0m has mixed object types.\n",
      "Column \u001b[1m\u001b[91mpower\u001b[0m has mixed object types.\n",
      "Column \u001b[1m\u001b[91mengine_size\u001b[0m has mixed object types.\n",
      "Column \u001b[1m\u001b[91mgears\u001b[0m has mixed object types.\n",
      "Column \u001b[1m\u001b[91mco2_emissions\u001b[0m has mixed object types.\n",
      "Column \u001b[1m\u001b[91mmanufacturer_colour\u001b[0m has mixed object types.\n",
      "Column \u001b[1m\u001b[91mdrivetrain\u001b[0m has mixed object types.\n",
      "Column \u001b[1m\u001b[91mcylinders\u001b[0m has mixed object types.\n",
      "Column \u001b[1m\u001b[91mfuel_consumption\u001b[0m has mixed object types.\n",
      "Column \u001b[1m\u001b[91mcomfort_convenience\u001b[0m has mixed object types.\n",
      "Column \u001b[1m\u001b[91mentertainment_media\u001b[0m has mixed object types.\n",
      "Column \u001b[1m\u001b[91msafety_security\u001b[0m has mixed object types.\n",
      "Column \u001b[1m\u001b[91mextras\u001b[0m has mixed object types.\n",
      "Column \u001b[1m\u001b[91mempty_weight\u001b[0m has mixed object types.\n",
      "Column \u001b[1m\u001b[91mmodel_code\u001b[0m has mixed object types.\n",
      "Column \u001b[1m\u001b[91mgeneral_inspection\u001b[0m has mixed object types.\n",
      "Column \u001b[1m\u001b[91mlast_service\u001b[0m has mixed object types.\n",
      "Column \u001b[1m\u001b[91mfull_service_history\u001b[0m has mixed object types.\n",
      "Column \u001b[1m\u001b[91mnon_smoker_vehicle\u001b[0m has mixed object types.\n",
      "Column \u001b[1m\u001b[91memission_class\u001b[0m has mixed object types.\n",
      "Column \u001b[1m\u001b[91memissions_sticker\u001b[0m has mixed object types.\n",
      "Column \u001b[1m\u001b[91mupholstery_colour\u001b[0m has mixed object types.\n",
      "Column \u001b[1m\u001b[91mupholstery\u001b[0m has mixed object types.\n",
      "Column \u001b[1m\u001b[92mproduction_date\u001b[0m has one object type.\n",
      "Column \u001b[1m\u001b[91mprevious_owner\u001b[0m has mixed object types.\n",
      "Column \u001b[1m\u001b[91mother_fuel_types\u001b[0m has mixed object types.\n",
      "Column \u001b[1m\u001b[91mpower_consumption\u001b[0m has mixed object types.\n",
      "Column \u001b[1m\u001b[91menergy_efficiency_class\u001b[0m has mixed object types.\n",
      "Column \u001b[1m\u001b[91mco2_efficiency\u001b[0m has mixed object types.\n",
      "Column \u001b[1m\u001b[91mfuel_consumption_wltp\u001b[0m has mixed object types.\n",
      "Column \u001b[1m\u001b[91mco2_emissions_wltp\u001b[0m has mixed object types.\n",
      "Column \u001b[1m\u001b[91mavailable_from\u001b[0m has mixed object types.\n",
      "Column \u001b[1m\u001b[91mtaxi_or_rental_car\u001b[0m has mixed object types.\n",
      "Column \u001b[1m\u001b[91mavailability\u001b[0m has mixed object types.\n",
      "Column \u001b[1m\u001b[91mlast_timing_belt_change\u001b[0m has mixed object types.\n",
      "Column \u001b[1m\u001b[91melectric_range_wltp\u001b[0m has mixed object types.\n",
      "Column \u001b[1m\u001b[91mpower_consumption_wltp\u001b[0m has mixed object types.\n",
      "Column \u001b[1m\u001b[91mbattery_ownership\u001b[0m has mixed object types.\n"
     ]
    }
   ],
   "source": [
    "class color:\n",
    "    PURPLE = '\\033[95m'\n",
    "    CYAN = '\\033[96m'\n",
    "    DARKCYAN = '\\033[36m'\n",
    "    BLUE = '\\033[94m'\n",
    "    GREEN = '\\033[92m'\n",
    "    YELLOW = '\\033[93m'\n",
    "    RED = '\\033[91m'\n",
    "    BOLD = '\\033[1m'\n",
    "    UNDERLINE = '\\033[4m'\n",
    "    END = '\\033[0m'\n",
    "mixed_type_columns = [(x,', '.join(list(df[x].apply(type).unique().astype(str)))) for x in df if df[x].apply(type).nunique() > 1]\n",
    "one_type_columns = [(x,list(df[x].apply(type).unique())) for x in df if df[x].apply(type).nunique() == 1]\n",
    "def check_column_types(data):\n",
    "    for x in data:\n",
    "        if data[x].apply(type).nunique() > 1:\n",
    "            print(\"Column\" + \" \" + color.BOLD + color.RED + str(x) + color.END + \" \" + \"has mixed object types.\" )\n",
    "        elif data[x].apply(type).nunique() == 1:\n",
    "            print(\"Column\" + \" \" + color.BOLD + color.GREEN + str(x) + color.END + \" \" + \"has one object type.\" )\n",
    "        else:\n",
    "            print('Error')\n",
    "check_column_types(df)\n"
   ]
  },
  {
   "cell_type": "code",
   "execution_count": 355,
   "metadata": {},
   "outputs": [],
   "source": [
    "## DONE\n",
    "def removeWhiteFromList(x):\n",
    "    return list(filter(lambda x: x.strip(), x))\n",
    "df['desc'] = df['desc'].apply(lambda x: removeWhiteFromList(x) if isinstance(x, list) else x)"
   ]
  },
  {
   "cell_type": "code",
   "execution_count": 356,
   "metadata": {},
   "outputs": [
    {
     "data": {
      "text/plain": [
       "(29480, 58)"
      ]
     },
     "execution_count": 356,
     "metadata": {},
     "output_type": "execute_result"
    }
   ],
   "source": [
    "df.shape"
   ]
  },
  {
   "cell_type": "code",
   "execution_count": 357,
   "metadata": {},
   "outputs": [
    {
     "name": "stdout",
     "output_type": "stream",
     "text": [
      "<class 'pandas.core.frame.DataFrame'>\n",
      "RangeIndex: 29480 entries, 0 to 29479\n",
      "Data columns (total 58 columns):\n",
      " #   Column                   Non-Null Count  Dtype  \n",
      "---  ------                   --------------  -----  \n",
      " 0   make_model               28630 non-null  object \n",
      " 1   short_description        28630 non-null  object \n",
      " 2   make                     28630 non-null  object \n",
      " 3   model                    28630 non-null  object \n",
      " 4   location                 28630 non-null  object \n",
      " 5   price                    28630 non-null  object \n",
      " 6   body_type                28630 non-null  object \n",
      " 7   type                     28630 non-null  object \n",
      " 8   doors                    28271 non-null  object \n",
      " 9   country_version          16889 non-null  object \n",
      " 10  offer_number             23100 non-null  object \n",
      " 11  warranty                 15784 non-null  object \n",
      " 12  mileage                  28629 non-null  object \n",
      " 13  first_registration       28628 non-null  object \n",
      " 14  gearbox                  28382 non-null  object \n",
      " 15  fuel_type                26843 non-null  object \n",
      " 16  colour                   26906 non-null  object \n",
      " 17  paint                    14495 non-null  object \n",
      " 18  desc                     28047 non-null  object \n",
      " 19  seller                   28630 non-null  object \n",
      " 20  seats                    25505 non-null  object \n",
      " 21  power                    28058 non-null  object \n",
      " 22  engine_size              27227 non-null  object \n",
      " 23  gears                    18954 non-null  object \n",
      " 24  co2_emissions            18594 non-null  object \n",
      " 25  manufacturer_colour      21787 non-null  object \n",
      " 26  drivetrain               16893 non-null  object \n",
      " 27  cylinders                18852 non-null  object \n",
      " 28  fuel_consumption         23385 non-null  object \n",
      " 29  comfort_convenience      25433 non-null  object \n",
      " 30  entertainment_media      23644 non-null  object \n",
      " 31  safety_security          25415 non-null  object \n",
      " 32  extras                   23480 non-null  object \n",
      " 33  empty_weight             17758 non-null  object \n",
      " 34  model_code               8367 non-null   object \n",
      " 35  general_inspection       12254 non-null  object \n",
      " 36  last_service             2003 non-null   object \n",
      " 37  full_service_history     12565 non-null  object \n",
      " 38  non_smoker_vehicle       11594 non-null  object \n",
      " 39  emission_class           17859 non-null  object \n",
      " 40  emissions_sticker        9414 non-null   object \n",
      " 41  upholstery_colour        14569 non-null  object \n",
      " 42  upholstery               18610 non-null  object \n",
      " 43  production_date          5908 non-null   float64\n",
      " 44  previous_owner           14015 non-null  object \n",
      " 45  other_fuel_types         2313 non-null   object \n",
      " 46  power_consumption        515 non-null    object \n",
      " 47  energy_efficiency_class  7804 non-null   object \n",
      " 48  co2_efficiency           7804 non-null   object \n",
      " 49  fuel_consumption_wltp    100 non-null    object \n",
      " 50  co2_emissions_wltp       116 non-null    object \n",
      " 51  available_from           393 non-null    object \n",
      " 52  taxi_or_rental_car       422 non-null    object \n",
      " 53  availability             301 non-null    object \n",
      " 54  last_timing_belt_change  572 non-null    object \n",
      " 55  electric_range_wltp      16 non-null     object \n",
      " 56  power_consumption_wltp   16 non-null     object \n",
      " 57  battery_ownership        7 non-null      object \n",
      "dtypes: float64(1), object(57)\n",
      "memory usage: 13.0+ MB\n"
     ]
    }
   ],
   "source": [
    "df.info()"
   ]
  },
  {
   "cell_type": "code",
   "execution_count": 358,
   "metadata": {},
   "outputs": [],
   "source": [
    "# DONE drop rows with all NaN values\n",
    "df = df.dropna(axis=0, how='all')"
   ]
  },
  {
   "cell_type": "code",
   "execution_count": 359,
   "metadata": {},
   "outputs": [
    {
     "data": {
      "text/plain": [
       "(28630, 58)"
      ]
     },
     "execution_count": 359,
     "metadata": {},
     "output_type": "execute_result"
    }
   ],
   "source": [
    "df.shape"
   ]
  },
  {
   "cell_type": "code",
   "execution_count": 360,
   "metadata": {},
   "outputs": [],
   "source": [
    "# DONE clean make\n",
    "df.make = df.make.str.strip('\\n')\n",
    "df.loc[df.make == 'SEAT','make'] = 'Seat'\n",
    "df = df.reset_index(drop=True)"
   ]
  },
  {
   "cell_type": "code",
   "execution_count": 361,
   "metadata": {},
   "outputs": [],
   "source": [
    "# DONE clean make_model\n",
    "df.loc[df.make_model.str.contains('SEAT'),'make_model'] = df.loc[df.make_model.str.contains('SEAT'),'make_model'].apply(lambda x: x.replace('SEAT','Seat'))\n",
    "df.loc[df.make_model.str.contains('TUCSON'),'make_model'] = df.loc[df.make_model.str.contains('TUCSON'),'make_model'].apply(lambda x: x.replace('TUCSON','Tucson'))"
   ]
  },
  {
   "cell_type": "code",
   "execution_count": 362,
   "metadata": {},
   "outputs": [],
   "source": [
    "# df.make_model.value_counts().to_excel('make_model.xlsx')"
   ]
  },
  {
   "cell_type": "code",
   "execution_count": 363,
   "metadata": {},
   "outputs": [
    {
     "data": {
      "text/plain": [
       "0           [\\n, A 160 ,\\n]\n",
       "1         [\\n, EQE 350 ,\\n]\n",
       "2        [\\n, A 45 AMG ,\\n]\n",
       "3        [\\n, A 35 AMG ,\\n]\n",
       "4        [\\n, A 45 AMG ,\\n]\n",
       "                ...        \n",
       "28625         [\\n, S90 ,\\n]\n",
       "28626         [\\n, S40 ,\\n]\n",
       "28627         [\\n, C30 ,\\n]\n",
       "28628         [\\n, S90 ,\\n]\n",
       "28629         [\\n, S80 ,\\n]\n",
       "Name: model, Length: 28630, dtype: object"
      ]
     },
     "execution_count": 363,
     "metadata": {},
     "output_type": "execute_result"
    }
   ],
   "source": [
    "df.model"
   ]
  },
  {
   "cell_type": "code",
   "execution_count": 364,
   "metadata": {},
   "outputs": [],
   "source": [
    "# DONE clean model\n",
    "df['model'] = df.model.astype(str).str.replace(r\"['\\n,\", '').str.replace(r\",\\n']\", '').str.strip()"
   ]
  },
  {
   "cell_type": "code",
   "execution_count": 365,
   "metadata": {},
   "outputs": [
    {
     "data": {
      "text/plain": [
       "0           A 160\n",
       "1         EQE 350\n",
       "2        A 45 AMG\n",
       "3        A 35 AMG\n",
       "4        A 45 AMG\n",
       "           ...   \n",
       "28625         S90\n",
       "28626         S40\n",
       "28627         C30\n",
       "28628         S90\n",
       "28629         S80\n",
       "Name: model, Length: 28630, dtype: object"
      ]
     },
     "execution_count": 365,
     "metadata": {},
     "output_type": "execute_result"
    }
   ],
   "source": [
    "df.model"
   ]
  },
  {
   "cell_type": "code",
   "execution_count": 366,
   "metadata": {},
   "outputs": [],
   "source": [
    "#pd.set_option('display.max_rows', None)\n",
    "#pd.reset_option('all')"
   ]
  },
  {
   "cell_type": "code",
   "execution_count": 367,
   "metadata": {},
   "outputs": [
    {
     "data": {
      "text/html": [
       "<div>\n",
       "<style scoped>\n",
       "    .dataframe tbody tr th:only-of-type {\n",
       "        vertical-align: middle;\n",
       "    }\n",
       "\n",
       "    .dataframe tbody tr th {\n",
       "        vertical-align: top;\n",
       "    }\n",
       "\n",
       "    .dataframe thead th {\n",
       "        text-align: right;\n",
       "    }\n",
       "</style>\n",
       "<table border=\"1\" class=\"dataframe\">\n",
       "  <thead>\n",
       "    <tr style=\"text-align: right;\">\n",
       "      <th></th>\n",
       "      <th>make_model</th>\n",
       "      <th>short_description</th>\n",
       "      <th>make</th>\n",
       "      <th>model</th>\n",
       "      <th>location</th>\n",
       "      <th>price</th>\n",
       "      <th>body_type</th>\n",
       "      <th>type</th>\n",
       "      <th>doors</th>\n",
       "      <th>country_version</th>\n",
       "      <th>offer_number</th>\n",
       "      <th>warranty</th>\n",
       "      <th>mileage</th>\n",
       "      <th>first_registration</th>\n",
       "      <th>gearbox</th>\n",
       "      <th>fuel_type</th>\n",
       "      <th>colour</th>\n",
       "      <th>paint</th>\n",
       "      <th>desc</th>\n",
       "      <th>seller</th>\n",
       "      <th>seats</th>\n",
       "      <th>power</th>\n",
       "      <th>engine_size</th>\n",
       "      <th>gears</th>\n",
       "      <th>co2_emissions</th>\n",
       "      <th>manufacturer_colour</th>\n",
       "      <th>drivetrain</th>\n",
       "      <th>cylinders</th>\n",
       "      <th>fuel_consumption</th>\n",
       "      <th>comfort_convenience</th>\n",
       "      <th>entertainment_media</th>\n",
       "      <th>safety_security</th>\n",
       "      <th>extras</th>\n",
       "      <th>empty_weight</th>\n",
       "      <th>model_code</th>\n",
       "      <th>general_inspection</th>\n",
       "      <th>last_service</th>\n",
       "      <th>full_service_history</th>\n",
       "      <th>non_smoker_vehicle</th>\n",
       "      <th>emission_class</th>\n",
       "      <th>emissions_sticker</th>\n",
       "      <th>upholstery_colour</th>\n",
       "      <th>upholstery</th>\n",
       "      <th>production_date</th>\n",
       "      <th>previous_owner</th>\n",
       "      <th>other_fuel_types</th>\n",
       "      <th>power_consumption</th>\n",
       "      <th>energy_efficiency_class</th>\n",
       "      <th>co2_efficiency</th>\n",
       "      <th>fuel_consumption_wltp</th>\n",
       "      <th>co2_emissions_wltp</th>\n",
       "      <th>available_from</th>\n",
       "      <th>taxi_or_rental_car</th>\n",
       "      <th>availability</th>\n",
       "      <th>last_timing_belt_change</th>\n",
       "      <th>electric_range_wltp</th>\n",
       "      <th>power_consumption_wltp</th>\n",
       "      <th>battery_ownership</th>\n",
       "    </tr>\n",
       "  </thead>\n",
       "  <tbody>\n",
       "    <tr>\n",
       "      <th>27042</th>\n",
       "      <td>Volvo XC40</td>\n",
       "      <td>T4 R Design Geartronic</td>\n",
       "      <td>Volvo</td>\n",
       "      <td>XC40</td>\n",
       "      <td>Waldstr. 51,  63128 Dietzenbach, DE</td>\n",
       "      <td>€ 34,900.-</td>\n",
       "      <td>[\\n, Off-Road/Pick-up, \\n]</td>\n",
       "      <td>[\\n, Used, \\n]</td>\n",
       "      <td>[\\n, 4, \\n]</td>\n",
       "      <td>[\\n, Germany, \\n]</td>\n",
       "      <td>[\\n, 156292, \\n]</td>\n",
       "      <td>[\\n, Yes, \\n]</td>\n",
       "      <td>52,500 km</td>\n",
       "      <td>04/2019</td>\n",
       "      <td>[\\nAutomatic\\n]</td>\n",
       "      <td>Gasoline</td>\n",
       "      <td>Grey</td>\n",
       "      <td>Metallic</td>\n",
       "      <td>[Modell: Volvo XC40 R-DESIGN T4 8-Gang Geartro...</td>\n",
       "      <td>Dealer</td>\n",
       "      <td>[\\n, 5, \\n]</td>\n",
       "      <td>[\\n140 kW (190 hp)\\n]</td>\n",
       "      <td>[\\n1,969 cc\\n]</td>\n",
       "      <td>NaN</td>\n",
       "      <td>154 g/km (comb.)</td>\n",
       "      <td>Osmium Grau</td>\n",
       "      <td>NaN</td>\n",
       "      <td>NaN</td>\n",
       "      <td>[[6.6 l/100 km (comb.)], [8.4 l/100 km (city)]...</td>\n",
       "      <td>[Air conditioning, Armrest, Automatic climate ...</td>\n",
       "      <td>[Bluetooth, Digital cockpit, Hands-free equipm...</td>\n",
       "      <td>[ABS, Blind spot monitor, Central door lock, D...</td>\n",
       "      <td>[Alloy wheels, Automatically dimming interior ...</td>\n",
       "      <td>NaN</td>\n",
       "      <td>[\\n, 9101/BMF, \\n]</td>\n",
       "      <td>New</td>\n",
       "      <td>NaN</td>\n",
       "      <td>Yes</td>\n",
       "      <td>Yes</td>\n",
       "      <td>Euro 6c</td>\n",
       "      <td>4 (Green)</td>\n",
       "      <td>Black</td>\n",
       "      <td>alcantara</td>\n",
       "      <td>NaN</td>\n",
       "      <td>[[52,500 km, 04/2019], 1]</td>\n",
       "      <td>NaN</td>\n",
       "      <td>NaN</td>\n",
       "      <td>B</td>\n",
       "      <td>Calculated on basis of measured CO₂-emissions ...</td>\n",
       "      <td>NaN</td>\n",
       "      <td>NaN</td>\n",
       "      <td>NaN</td>\n",
       "      <td>NaN</td>\n",
       "      <td>NaN</td>\n",
       "      <td>NaN</td>\n",
       "      <td>NaN</td>\n",
       "      <td>NaN</td>\n",
       "      <td>NaN</td>\n",
       "    </tr>\n",
       "  </tbody>\n",
       "</table>\n",
       "</div>"
      ],
      "text/plain": [
       "       make_model       short_description   make model   \n",
       "27042  Volvo XC40  T4 R Design Geartronic  Volvo  XC40  \\\n",
       "\n",
       "                                  location       price   \n",
       "27042  Waldstr. 51,  63128 Dietzenbach, DE  € 34,900.-  \\\n",
       "\n",
       "                        body_type            type        doors   \n",
       "27042  [\\n, Off-Road/Pick-up, \\n]  [\\n, Used, \\n]  [\\n, 4, \\n]  \\\n",
       "\n",
       "         country_version      offer_number       warranty    mileage   \n",
       "27042  [\\n, Germany, \\n]  [\\n, 156292, \\n]  [\\n, Yes, \\n]  52,500 km  \\\n",
       "\n",
       "      first_registration          gearbox fuel_type colour     paint   \n",
       "27042            04/2019  [\\nAutomatic\\n]  Gasoline   Grey  Metallic  \\\n",
       "\n",
       "                                                    desc  seller        seats   \n",
       "27042  [Modell: Volvo XC40 R-DESIGN T4 8-Gang Geartro...  Dealer  [\\n, 5, \\n]  \\\n",
       "\n",
       "                       power     engine_size gears     co2_emissions   \n",
       "27042  [\\n140 kW (190 hp)\\n]  [\\n1,969 cc\\n]   NaN  154 g/km (comb.)  \\\n",
       "\n",
       "      manufacturer_colour drivetrain cylinders   \n",
       "27042         Osmium Grau        NaN       NaN  \\\n",
       "\n",
       "                                        fuel_consumption   \n",
       "27042  [[6.6 l/100 km (comb.)], [8.4 l/100 km (city)]...  \\\n",
       "\n",
       "                                     comfort_convenience   \n",
       "27042  [Air conditioning, Armrest, Automatic climate ...  \\\n",
       "\n",
       "                                     entertainment_media   \n",
       "27042  [Bluetooth, Digital cockpit, Hands-free equipm...  \\\n",
       "\n",
       "                                         safety_security   \n",
       "27042  [ABS, Blind spot monitor, Central door lock, D...  \\\n",
       "\n",
       "                                                  extras empty_weight   \n",
       "27042  [Alloy wheels, Automatically dimming interior ...          NaN  \\\n",
       "\n",
       "               model_code general_inspection last_service   \n",
       "27042  [\\n, 9101/BMF, \\n]                New          NaN  \\\n",
       "\n",
       "      full_service_history non_smoker_vehicle emission_class   \n",
       "27042                  Yes                Yes        Euro 6c  \\\n",
       "\n",
       "      emissions_sticker upholstery_colour upholstery  production_date   \n",
       "27042         4 (Green)             Black  alcantara              NaN  \\\n",
       "\n",
       "                  previous_owner other_fuel_types power_consumption   \n",
       "27042  [[52,500 km, 04/2019], 1]              NaN               NaN  \\\n",
       "\n",
       "      energy_efficiency_class   \n",
       "27042                       B  \\\n",
       "\n",
       "                                          co2_efficiency   \n",
       "27042  Calculated on basis of measured CO₂-emissions ...  \\\n",
       "\n",
       "      fuel_consumption_wltp co2_emissions_wltp available_from   \n",
       "27042                   NaN                NaN            NaN  \\\n",
       "\n",
       "      taxi_or_rental_car availability last_timing_belt_change   \n",
       "27042                NaN          NaN                     NaN  \\\n",
       "\n",
       "      electric_range_wltp power_consumption_wltp battery_ownership  \n",
       "27042                 NaN                    NaN               NaN  "
      ]
     },
     "execution_count": 367,
     "metadata": {},
     "output_type": "execute_result"
    }
   ],
   "source": [
    "df.sample(1)"
   ]
  },
  {
   "cell_type": "code",
   "execution_count": 368,
   "metadata": {},
   "outputs": [],
   "source": [
    "# DONE CLEAN paint\n",
    "df.loc[~(df.paint == 'Metallic') & (df.manufacturer_colour.str.lower().str.contains('metallic')),['paint']] = 'Metallic'"
   ]
  },
  {
   "cell_type": "code",
   "execution_count": 369,
   "metadata": {},
   "outputs": [
    {
     "data": {
      "text/html": [
       "<div>\n",
       "<style scoped>\n",
       "    .dataframe tbody tr th:only-of-type {\n",
       "        vertical-align: middle;\n",
       "    }\n",
       "\n",
       "    .dataframe tbody tr th {\n",
       "        vertical-align: top;\n",
       "    }\n",
       "\n",
       "    .dataframe thead th {\n",
       "        text-align: right;\n",
       "    }\n",
       "</style>\n",
       "<table border=\"1\" class=\"dataframe\">\n",
       "  <thead>\n",
       "    <tr style=\"text-align: right;\">\n",
       "      <th></th>\n",
       "      <th>paint</th>\n",
       "      <th>manufacturer_colour</th>\n",
       "    </tr>\n",
       "  </thead>\n",
       "  <tbody>\n",
       "    <tr>\n",
       "      <th>0</th>\n",
       "      <td>Metallic</td>\n",
       "      <td>NaN</td>\n",
       "    </tr>\n",
       "    <tr>\n",
       "      <th>4</th>\n",
       "      <td>Metallic</td>\n",
       "      <td>NaN</td>\n",
       "    </tr>\n",
       "    <tr>\n",
       "      <th>7</th>\n",
       "      <td>Metallic</td>\n",
       "      <td>Gris Montaña</td>\n",
       "    </tr>\n",
       "    <tr>\n",
       "      <th>11</th>\n",
       "      <td>Metallic</td>\n",
       "      <td>Negro</td>\n",
       "    </tr>\n",
       "    <tr>\n",
       "      <th>15</th>\n",
       "      <td>Metallic</td>\n",
       "      <td>Premium \"Kosmosschwarz\"- Met</td>\n",
       "    </tr>\n",
       "    <tr>\n",
       "      <th>...</th>\n",
       "      <td>...</td>\n",
       "      <td>...</td>\n",
       "    </tr>\n",
       "    <tr>\n",
       "      <th>28615</th>\n",
       "      <td>Metallic</td>\n",
       "      <td>Tropic Green</td>\n",
       "    </tr>\n",
       "    <tr>\n",
       "      <th>28619</th>\n",
       "      <td>Metallic</td>\n",
       "      <td>NaN</td>\n",
       "    </tr>\n",
       "    <tr>\n",
       "      <th>28620</th>\n",
       "      <td>Metallic</td>\n",
       "      <td>NaN</td>\n",
       "    </tr>\n",
       "    <tr>\n",
       "      <th>28623</th>\n",
       "      <td>Metallic</td>\n",
       "      <td>NaN</td>\n",
       "    </tr>\n",
       "    <tr>\n",
       "      <th>28627</th>\n",
       "      <td>Metallic</td>\n",
       "      <td>NaN</td>\n",
       "    </tr>\n",
       "  </tbody>\n",
       "</table>\n",
       "<p>9933 rows × 2 columns</p>\n",
       "</div>"
      ],
      "text/plain": [
       "          paint           manufacturer_colour\n",
       "0      Metallic                           NaN\n",
       "4      Metallic                           NaN\n",
       "7      Metallic                  Gris Montaña\n",
       "11     Metallic                         Negro\n",
       "15     Metallic  Premium \"Kosmosschwarz\"- Met\n",
       "...         ...                           ...\n",
       "28615  Metallic                  Tropic Green\n",
       "28619  Metallic                           NaN\n",
       "28620  Metallic                           NaN\n",
       "28623  Metallic                           NaN\n",
       "28627  Metallic                           NaN\n",
       "\n",
       "[9933 rows x 2 columns]"
      ]
     },
     "execution_count": 369,
     "metadata": {},
     "output_type": "execute_result"
    }
   ],
   "source": [
    "df.loc[(df.paint == 'Metallic') & ~(df.manufacturer_colour.str.lower().str.contains('metallic', na=False)),['paint','manufacturer_colour']]"
   ]
  },
  {
   "cell_type": "code",
   "execution_count": 370,
   "metadata": {},
   "outputs": [],
   "source": [
    "# CLEAN power\n",
    "df.power = df.power.astype(str).str.replace(r\"['\\n\", '').str.replace(r\"\\n']\", '').str.strip()"
   ]
  },
  {
   "cell_type": "code",
   "execution_count": 371,
   "metadata": {},
   "outputs": [
    {
     "data": {
      "text/plain": [
       "5430         1 kW (1 hp)\n",
       "18043                nan\n",
       "28179    112 kW (152 hp)\n",
       "Name: power, dtype: object"
      ]
     },
     "execution_count": 371,
     "metadata": {},
     "output_type": "execute_result"
    }
   ],
   "source": [
    "df.power.sample(3)"
   ]
  },
  {
   "cell_type": "code",
   "execution_count": 372,
   "metadata": {},
   "outputs": [],
   "source": [
    "# CLEAN power and MAKE hp\n",
    "# CONTROL pd.concat([df['power'].str.extract(r'\\((\\d+) hp\\)'),df.power], axis =1)\n",
    "df['power_hp'] = df['power'].str.extract(r'\\((\\d+) hp\\)').astype(float)\n"
   ]
  },
  {
   "cell_type": "code",
   "execution_count": 373,
   "metadata": {},
   "outputs": [
    {
     "data": {
      "text/plain": [
       "24226   160.00\n",
       "25111   150.00\n",
       "4550     69.00\n",
       "Name: power_hp, dtype: float64"
      ]
     },
     "execution_count": 373,
     "metadata": {},
     "output_type": "execute_result"
    }
   ],
   "source": [
    "df.power_hp.sample(3)"
   ]
  },
  {
   "cell_type": "code",
   "execution_count": 374,
   "metadata": {},
   "outputs": [],
   "source": [
    "# Make power_kw\n",
    "df['power_kw'] = df['power'].str.extract(r'(\\d+.(\\d+)?) kW')[0].astype(float)"
   ]
  },
  {
   "cell_type": "code",
   "execution_count": 375,
   "metadata": {},
   "outputs": [
    {
     "data": {
      "text/html": [
       "<div>\n",
       "<style scoped>\n",
       "    .dataframe tbody tr th:only-of-type {\n",
       "        vertical-align: middle;\n",
       "    }\n",
       "\n",
       "    .dataframe tbody tr th {\n",
       "        vertical-align: top;\n",
       "    }\n",
       "\n",
       "    .dataframe thead th {\n",
       "        text-align: right;\n",
       "    }\n",
       "</style>\n",
       "<table border=\"1\" class=\"dataframe\">\n",
       "  <thead>\n",
       "    <tr style=\"text-align: right;\">\n",
       "      <th></th>\n",
       "      <th>power</th>\n",
       "      <th>power_hp</th>\n",
       "      <th>power_kw</th>\n",
       "    </tr>\n",
       "  </thead>\n",
       "  <tbody>\n",
       "    <tr>\n",
       "      <th>8101</th>\n",
       "      <td>115 kW (156 hp)</td>\n",
       "      <td>156.00</td>\n",
       "      <td>115.00</td>\n",
       "    </tr>\n",
       "    <tr>\n",
       "      <th>4564</th>\n",
       "      <td>110 kW (150 hp)</td>\n",
       "      <td>150.00</td>\n",
       "      <td>110.00</td>\n",
       "    </tr>\n",
       "    <tr>\n",
       "      <th>28578</th>\n",
       "      <td>110 kW (150 hp)</td>\n",
       "      <td>150.00</td>\n",
       "      <td>110.00</td>\n",
       "    </tr>\n",
       "  </tbody>\n",
       "</table>\n",
       "</div>"
      ],
      "text/plain": [
       "                 power  power_hp  power_kw\n",
       "8101   115 kW (156 hp)    156.00    115.00\n",
       "4564   110 kW (150 hp)    150.00    110.00\n",
       "28578  110 kW (150 hp)    150.00    110.00"
      ]
     },
     "execution_count": 375,
     "metadata": {},
     "output_type": "execute_result"
    }
   ],
   "source": [
    "df.loc[:,['power','power_hp','power_kw']].sample(3)"
   ]
  },
  {
   "cell_type": "code",
   "execution_count": 376,
   "metadata": {},
   "outputs": [],
   "source": [
    "# CLEAN price\n",
    "df.price = df.price.astype(str).str.replace('€','').str.replace('.','').str.replace('-','').str.replace(',','').str.strip().astype(float)"
   ]
  },
  {
   "cell_type": "code",
   "execution_count": 377,
   "metadata": {},
   "outputs": [
    {
     "data": {
      "text/plain": [
       "16381    8900.00\n",
       "12445   36985.00\n",
       "10430    7990.00\n",
       "Name: price, dtype: float64"
      ]
     },
     "execution_count": 377,
     "metadata": {},
     "output_type": "execute_result"
    }
   ],
   "source": [
    "df.price.sample(3)"
   ]
  },
  {
   "cell_type": "code",
   "execution_count": 378,
   "metadata": {},
   "outputs": [
    {
     "data": {
      "text/plain": [
       "18388            [\\n, Sedan, \\n]\n",
       "22712    [\\n, Station wagon, \\n]\n",
       "730        [\\n, Convertible, \\n]\n",
       "Name: body_type, dtype: object"
      ]
     },
     "execution_count": 378,
     "metadata": {},
     "output_type": "execute_result"
    }
   ],
   "source": [
    "df.body_type.sample(3)"
   ]
  },
  {
   "cell_type": "code",
   "execution_count": 379,
   "metadata": {},
   "outputs": [],
   "source": [
    "#CLEAN body_type\n",
    "#  \n",
    "df.body_type = df.body_type.astype(str).str.replace(\"[\\'\\\\n,\", '').str.replace(\", \\\\n\\']\", '').str.strip()"
   ]
  },
  {
   "cell_type": "code",
   "execution_count": 380,
   "metadata": {},
   "outputs": [
    {
     "data": {
      "text/plain": [
       "9598     Compact\n",
       "14817      Sedan\n",
       "5678       Coupe\n",
       "Name: body_type, dtype: object"
      ]
     },
     "execution_count": 380,
     "metadata": {},
     "output_type": "execute_result"
    }
   ],
   "source": [
    "df.body_type.sample(3)"
   ]
  },
  {
   "cell_type": "code",
   "execution_count": 381,
   "metadata": {},
   "outputs": [
    {
     "data": {
      "text/plain": [
       "5241     [\\n, Used, \\n]\n",
       "8863     [\\n, Used, \\n]\n",
       "13345    [\\n, Used, \\n]\n",
       "Name: type, dtype: object"
      ]
     },
     "execution_count": 381,
     "metadata": {},
     "output_type": "execute_result"
    }
   ],
   "source": [
    "df.type.sample(3)"
   ]
  },
  {
   "cell_type": "code",
   "execution_count": 382,
   "metadata": {},
   "outputs": [],
   "source": [
    "#CLEAN type\n",
    "# df.type = df.type.str.replace(\"[\\'\\\\n,\", '').str.replace(\", \\\\n\\']\", '').str.strip().astype(str)\n",
    "df.type = df.type.astype(str).str.replace(\"[\\'\\\\n,\", '').str.replace(\", \\\\n\\']\", '').str.strip().astype(str)"
   ]
  },
  {
   "cell_type": "code",
   "execution_count": 383,
   "metadata": {},
   "outputs": [
    {
     "data": {
      "text/plain": [
       "27680    Used\n",
       "5025     Used\n",
       "9610     Used\n",
       "Name: type, dtype: object"
      ]
     },
     "execution_count": 383,
     "metadata": {},
     "output_type": "execute_result"
    }
   ],
   "source": [
    "df.type.sample(3)"
   ]
  },
  {
   "cell_type": "code",
   "execution_count": 384,
   "metadata": {},
   "outputs": [
    {
     "data": {
      "text/plain": [
       "26522    [\\n, 2, \\n]\n",
       "10649            NaN\n",
       "5568     [\\n, 2, \\n]\n",
       "Name: doors, dtype: object"
      ]
     },
     "execution_count": 384,
     "metadata": {},
     "output_type": "execute_result"
    }
   ],
   "source": [
    "df.doors.sample(3)"
   ]
  },
  {
   "cell_type": "code",
   "execution_count": 385,
   "metadata": {},
   "outputs": [],
   "source": [
    "#CLEAN doors\n",
    "df.doors = df.doors.astype(str).str.replace(\"[\\'\\\\n,\", '').str.replace(\", \\\\n\\']\", '').str.strip().astype(float)"
   ]
  },
  {
   "cell_type": "code",
   "execution_count": 386,
   "metadata": {},
   "outputs": [
    {
     "data": {
      "text/plain": [
       "4317    5.00\n",
       "12018   3.00\n",
       "12542   5.00\n",
       "Name: doors, dtype: float64"
      ]
     },
     "execution_count": 386,
     "metadata": {},
     "output_type": "execute_result"
    }
   ],
   "source": [
    "df.doors.sample(3)"
   ]
  },
  {
   "cell_type": "code",
   "execution_count": 387,
   "metadata": {},
   "outputs": [
    {
     "data": {
      "text/plain": [
       "24836    [\\n, 42 months, \\n]\n",
       "25760    [\\n, 12 months, \\n]\n",
       "12883                    NaN\n",
       "Name: warranty, dtype: object"
      ]
     },
     "execution_count": 387,
     "metadata": {},
     "output_type": "execute_result"
    }
   ],
   "source": [
    "df.warranty.sample(3)"
   ]
  },
  {
   "cell_type": "code",
   "execution_count": 388,
   "metadata": {},
   "outputs": [],
   "source": [
    "#CLEAN warranty\n",
    "df.warranty = df.warranty.astype(str).str.replace(\"[\\'\\\\n,\", '').str.replace(\", \\\\n\\']\", '').str.replace('months', '').str.strip().astype(str)\n"
   ]
  },
  {
   "cell_type": "code",
   "execution_count": 389,
   "metadata": {},
   "outputs": [],
   "source": [
    "df.warranty = df.warranty.str.replace('nan','')\n",
    "df.warranty = df.warranty.str.replace('Yes','')\n",
    "df.warranty = df.warranty.replace('',np.nan)\n",
    "df.warranty = df.warranty.astype(float)"
   ]
  },
  {
   "cell_type": "code",
   "execution_count": 390,
   "metadata": {},
   "outputs": [
    {
     "data": {
      "text/plain": [
       "20744   12.00\n",
       "3238      NaN\n",
       "26712     NaN\n",
       "Name: warranty, dtype: float64"
      ]
     },
     "execution_count": 390,
     "metadata": {},
     "output_type": "execute_result"
    }
   ],
   "source": [
    "df.warranty.sample(3)"
   ]
  },
  {
   "cell_type": "code",
   "execution_count": 391,
   "metadata": {},
   "outputs": [
    {
     "data": {
      "text/plain": [
       "warranty\n",
       "True     15165\n",
       "False    13465\n",
       "Name: count, dtype: int64"
      ]
     },
     "execution_count": 391,
     "metadata": {},
     "output_type": "execute_result"
    }
   ],
   "source": [
    "df.warranty.isna().value_counts()"
   ]
  },
  {
   "cell_type": "code",
   "execution_count": 392,
   "metadata": {},
   "outputs": [],
   "source": [
    "df.warranty = df.warranty.apply(lambda x: 'No' if pd.isna(x) else 'Yes')"
   ]
  },
  {
   "cell_type": "code",
   "execution_count": 393,
   "metadata": {},
   "outputs": [
    {
     "data": {
      "text/plain": [
       "4607     9,169 km\n",
       "4291     3,045 km\n",
       "2101    49,676 km\n",
       "Name: mileage, dtype: object"
      ]
     },
     "execution_count": 393,
     "metadata": {},
     "output_type": "execute_result"
    }
   ],
   "source": [
    "df.mileage.sample(3)"
   ]
  },
  {
   "cell_type": "code",
   "execution_count": 394,
   "metadata": {},
   "outputs": [],
   "source": [
    "# CLEAN mileage\n",
    "# df.mileage = df.mileage.astype(str)\n",
    "df.mileage = df.mileage.str.replace('km','').str.replace(',','').str.strip().astype(float)"
   ]
  },
  {
   "cell_type": "code",
   "execution_count": 395,
   "metadata": {},
   "outputs": [
    {
     "data": {
      "text/plain": [
       "17129   182950.00\n",
       "10924    67000.00\n",
       "8243    158000.00\n",
       "Name: mileage, dtype: float64"
      ]
     },
     "execution_count": 395,
     "metadata": {},
     "output_type": "execute_result"
    }
   ],
   "source": [
    "df.mileage.sample(3)"
   ]
  },
  {
   "cell_type": "code",
   "execution_count": 396,
   "metadata": {},
   "outputs": [],
   "source": [
    "# CLEAN first_registration\n",
    "df['first_registration'] = pd.to_datetime(df['first_registration'], format='%m/%Y')\n",
    "\n",
    "# FEATURE ENGINEERING MAKE AGE\n",
    "df['age'] = 2022 - pd.to_datetime(df.first_registration).dt.year"
   ]
  },
  {
   "cell_type": "code",
   "execution_count": 397,
   "metadata": {},
   "outputs": [
    {
     "data": {
      "text/plain": [
       "1752   8.00\n",
       "4406   5.00\n",
       "8484   5.00\n",
       "Name: age, dtype: float64"
      ]
     },
     "execution_count": 397,
     "metadata": {},
     "output_type": "execute_result"
    }
   ],
   "source": [
    "df.age.sample(3)"
   ]
  },
  {
   "cell_type": "code",
   "execution_count": 398,
   "metadata": {},
   "outputs": [
    {
     "data": {
      "text/plain": [
       "7442        [\\nManual\\n]\n",
       "12809    [\\nAutomatic\\n]\n",
       "17278       [\\nManual\\n]\n",
       "Name: gearbox, dtype: object"
      ]
     },
     "execution_count": 398,
     "metadata": {},
     "output_type": "execute_result"
    }
   ],
   "source": [
    "df.gearbox.sample(3)"
   ]
  },
  {
   "cell_type": "code",
   "execution_count": 399,
   "metadata": {},
   "outputs": [],
   "source": [
    "# CLEAN gearbox\n",
    "df.gearbox = df.gearbox.astype(str).str.replace(\"[\\'\\\\n\", '').str.replace(\"\\\\n\\']\", '').astype(str)"
   ]
  },
  {
   "cell_type": "code",
   "execution_count": 400,
   "metadata": {},
   "outputs": [
    {
     "data": {
      "text/plain": [
       "7236     Manual\n",
       "26514    Manual\n",
       "21747    Manual\n",
       "Name: gearbox, dtype: object"
      ]
     },
     "execution_count": 400,
     "metadata": {},
     "output_type": "execute_result"
    }
   ],
   "source": [
    "df.gearbox.sample(3)"
   ]
  },
  {
   "cell_type": "code",
   "execution_count": 401,
   "metadata": {},
   "outputs": [
    {
     "data": {
      "text/plain": [
       "14998    [\\n, 5, \\n]\n",
       "28575    [\\n, 5, \\n]\n",
       "868      [\\n, 5, \\n]\n",
       "Name: seats, dtype: object"
      ]
     },
     "execution_count": 401,
     "metadata": {},
     "output_type": "execute_result"
    }
   ],
   "source": [
    "df.seats.sample(3)"
   ]
  },
  {
   "cell_type": "code",
   "execution_count": 402,
   "metadata": {},
   "outputs": [],
   "source": [
    "# CLEAN seats\n",
    "df.seats = df.seats.astype(str).str.replace(\"[\\'\\\\n, \", '').str.replace(\", \\\\n\\']\", '').astype(float)"
   ]
  },
  {
   "cell_type": "code",
   "execution_count": 403,
   "metadata": {},
   "outputs": [
    {
     "data": {
      "text/plain": [
       "5190    4.00\n",
       "3672    5.00\n",
       "14247   5.00\n",
       "Name: seats, dtype: float64"
      ]
     },
     "execution_count": 403,
     "metadata": {},
     "output_type": "execute_result"
    }
   ],
   "source": [
    "df.seats.sample(3)"
   ]
  },
  {
   "cell_type": "code",
   "execution_count": 404,
   "metadata": {},
   "outputs": [
    {
     "data": {
      "text/plain": [
       "23555    [\\n1,998 cc\\n]\n",
       "22096    [\\n2,488 cc\\n]\n",
       "5692     [\\n1,998 cc\\n]\n",
       "Name: engine_size, dtype: object"
      ]
     },
     "execution_count": 404,
     "metadata": {},
     "output_type": "execute_result"
    }
   ],
   "source": [
    "df.engine_size.sample(3)"
   ]
  },
  {
   "cell_type": "code",
   "execution_count": 405,
   "metadata": {},
   "outputs": [],
   "source": [
    "# CLEAN engine_size\n",
    "df.engine_size = df.engine_size.astype(str).str.replace(\"[\\'\\\\n\", '').str.replace(\"\\\\n\\']\", '').str.replace(\",\", '').str.replace(\"cc\", '').str.strip().astype(float)"
   ]
  },
  {
   "cell_type": "code",
   "execution_count": 406,
   "metadata": {},
   "outputs": [
    {
     "data": {
      "text/plain": [
       "10660   1747.00\n",
       "26635   1596.00\n",
       "1131    2925.00\n",
       "Name: engine_size, dtype: float64"
      ]
     },
     "execution_count": 406,
     "metadata": {},
     "output_type": "execute_result"
    }
   ],
   "source": [
    "df.engine_size.sample(3)"
   ]
  },
  {
   "cell_type": "code",
   "execution_count": 407,
   "metadata": {},
   "outputs": [
    {
     "data": {
      "text/plain": [
       "17618    [\\n6\\n]\n",
       "1684     [\\n9\\n]\n",
       "10082    [\\n6\\n]\n",
       "Name: gears, dtype: object"
      ]
     },
     "execution_count": 407,
     "metadata": {},
     "output_type": "execute_result"
    }
   ],
   "source": [
    "df.gears.sample(3)"
   ]
  },
  {
   "cell_type": "code",
   "execution_count": 408,
   "metadata": {},
   "outputs": [],
   "source": [
    "df.gears = df.gears.astype(str).str.replace(\"[\\'\\\\n\", '').str.replace(\"\\\\n\\']\", '').str.strip().astype(float)"
   ]
  },
  {
   "cell_type": "code",
   "execution_count": 409,
   "metadata": {},
   "outputs": [
    {
     "data": {
      "text/plain": [
       "18528   5.00\n",
       "18460    NaN\n",
       "26647    NaN\n",
       "Name: gears, dtype: float64"
      ]
     },
     "execution_count": 409,
     "metadata": {},
     "output_type": "execute_result"
    }
   ],
   "source": [
    "df.gears.sample(3)"
   ]
  },
  {
   "cell_type": "code",
   "execution_count": 410,
   "metadata": {},
   "outputs": [],
   "source": [
    "df.co2_emissions = df.co2_emissions.str.replace(',','')\n",
    "df['co2_emissions'] = df['co2_emissions'].str.extract('(\\d+(?:[.,]\\d+)?)').astype(float)"
   ]
  },
  {
   "cell_type": "code",
   "execution_count": 411,
   "metadata": {},
   "outputs": [
    {
     "data": {
      "text/plain": [
       "15798   115.00\n",
       "9136       NaN\n",
       "4966    135.00\n",
       "Name: co2_emissions, dtype: float64"
      ]
     },
     "execution_count": 411,
     "metadata": {},
     "output_type": "execute_result"
    }
   ],
   "source": [
    "df.co2_emissions.sample(3)"
   ]
  },
  {
   "cell_type": "code",
   "execution_count": 412,
   "metadata": {},
   "outputs": [],
   "source": [
    "df.drivetrain = df.drivetrain.astype(str).str.replace(\"[\\'\\\\n, \", '').str.replace(\", \\\\n\\']\", '').str.strip().astype(str)"
   ]
  },
  {
   "cell_type": "code",
   "execution_count": 413,
   "metadata": {},
   "outputs": [],
   "source": [
    "df.drivetrain = df.drivetrain.replace('nan',np.nan)"
   ]
  },
  {
   "cell_type": "code",
   "execution_count": 414,
   "metadata": {},
   "outputs": [
    {
     "data": {
      "text/plain": [
       "9959    Front\n",
       "108      Rear\n",
       "3700      NaN\n",
       "Name: drivetrain, dtype: object"
      ]
     },
     "execution_count": 414,
     "metadata": {},
     "output_type": "execute_result"
    }
   ],
   "source": [
    "df.drivetrain.sample(3)"
   ]
  },
  {
   "cell_type": "code",
   "execution_count": 415,
   "metadata": {},
   "outputs": [],
   "source": [
    "df.cylinders = df.cylinders.astype(str).str.replace(\"[\\'\\\\n\", '').str.replace(\"\\\\n\\']\", '').str.strip().astype(float)"
   ]
  },
  {
   "cell_type": "code",
   "execution_count": 416,
   "metadata": {},
   "outputs": [
    {
     "data": {
      "text/plain": [
       "13893   3.00\n",
       "20045   4.00\n",
       "6769    4.00\n",
       "Name: cylinders, dtype: float64"
      ]
     },
     "execution_count": 416,
     "metadata": {},
     "output_type": "execute_result"
    }
   ],
   "source": [
    "df.cylinders.sample(3)"
   ]
  },
  {
   "cell_type": "code",
   "execution_count": 417,
   "metadata": {},
   "outputs": [
    {
     "data": {
      "text/plain": [
       "[['8.4 l/100 km (comb.)'],\n",
       " ['10.9 l/100 km (city)'],\n",
       " ['5.8 l/100 km (country)']]"
      ]
     },
     "execution_count": 417,
     "metadata": {},
     "output_type": "execute_result"
    }
   ],
   "source": [
    "df.fuel_consumption.iloc[2]"
   ]
  },
  {
   "cell_type": "code",
   "execution_count": 418,
   "metadata": {},
   "outputs": [],
   "source": [
    "df['fuel_consumption_comb'] = df.fuel_consumption.astype(str).str.extract('(\\d+(\\.\\d+)?)\\s*l\\/100 km\\s*\\(comb.\\)')[0].astype(float)"
   ]
  },
  {
   "cell_type": "code",
   "execution_count": 419,
   "metadata": {},
   "outputs": [],
   "source": [
    "df['fuel_consumption_city'] = df.fuel_consumption.astype(str).str.extract('(\\d+(\\.\\d+)?)\\s*l\\/100 km\\s*\\(city\\)')[0].astype(float)"
   ]
  },
  {
   "cell_type": "code",
   "execution_count": 420,
   "metadata": {},
   "outputs": [],
   "source": [
    "df['fuel_consumption_country'] = df.fuel_consumption.astype(str).str.extract('(\\d+(\\.\\d+)?)\\s*l\\/100 km\\s*\\(country\\)')[0].astype(float)"
   ]
  },
  {
   "cell_type": "code",
   "execution_count": 421,
   "metadata": {},
   "outputs": [],
   "source": [
    "# CONTROL df.loc[~df.fuel_consumption_wltp.isna(),['fuel_consumption_wltp']]\n",
    "# CLEAN fuel_consumption_wltp\n",
    "df['fuel_consumption_wltp'] = df.fuel_consumption_wltp.astype(str).str.extract('(\\d+(\\.\\d+)?)\\s*l\\/100 km')[0].astype(float)\n"
   ]
  },
  {
   "cell_type": "code",
   "execution_count": 422,
   "metadata": {},
   "outputs": [],
   "source": [
    "# CLEAN\n",
    "df.country_version = df.country_version.astype(str).str.replace(\"[\\'\\\\n, \", '').str.replace(\", \\\\n\\']\", '').str.strip().astype(str)"
   ]
  },
  {
   "cell_type": "code",
   "execution_count": 423,
   "metadata": {},
   "outputs": [
    {
     "data": {
      "text/plain": [
       "12597        nan\n",
       "23605        nan\n",
       "4637     Belgium\n",
       "Name: country_version, dtype: object"
      ]
     },
     "execution_count": 423,
     "metadata": {},
     "output_type": "execute_result"
    }
   ],
   "source": [
    "df.country_version.sample(3)"
   ]
  },
  {
   "cell_type": "code",
   "execution_count": 424,
   "metadata": {},
   "outputs": [],
   "source": [
    "# CLEAN\n",
    "df.offer_number = df.offer_number.astype(str).str.replace(\"[\\'\\\\n,\", '').str.replace(\", \\\\n\\']\", '').str.strip().astype(str)"
   ]
  },
  {
   "cell_type": "code",
   "execution_count": 425,
   "metadata": {},
   "outputs": [
    {
     "data": {
      "text/plain": [
       "7694       nan\n",
       "26203      nan\n",
       "9660     27695\n",
       "Name: offer_number, dtype: object"
      ]
     },
     "execution_count": 425,
     "metadata": {},
     "output_type": "execute_result"
    }
   ],
   "source": [
    "df.offer_number.sample(3)"
   ]
  },
  {
   "cell_type": "code",
   "execution_count": 426,
   "metadata": {},
   "outputs": [
    {
     "data": {
      "text/html": [
       "<div>\n",
       "<style scoped>\n",
       "    .dataframe tbody tr th:only-of-type {\n",
       "        vertical-align: middle;\n",
       "    }\n",
       "\n",
       "    .dataframe tbody tr th {\n",
       "        vertical-align: top;\n",
       "    }\n",
       "\n",
       "    .dataframe thead th {\n",
       "        text-align: right;\n",
       "    }\n",
       "</style>\n",
       "<table border=\"1\" class=\"dataframe\">\n",
       "  <thead>\n",
       "    <tr style=\"text-align: right;\">\n",
       "      <th></th>\n",
       "      <th>make_model</th>\n",
       "      <th>short_description</th>\n",
       "      <th>make</th>\n",
       "      <th>model</th>\n",
       "      <th>location</th>\n",
       "      <th>price</th>\n",
       "      <th>body_type</th>\n",
       "      <th>type</th>\n",
       "      <th>doors</th>\n",
       "      <th>country_version</th>\n",
       "      <th>offer_number</th>\n",
       "      <th>warranty</th>\n",
       "      <th>mileage</th>\n",
       "      <th>first_registration</th>\n",
       "      <th>gearbox</th>\n",
       "      <th>fuel_type</th>\n",
       "      <th>colour</th>\n",
       "      <th>paint</th>\n",
       "      <th>desc</th>\n",
       "      <th>seller</th>\n",
       "      <th>seats</th>\n",
       "      <th>power</th>\n",
       "      <th>engine_size</th>\n",
       "      <th>gears</th>\n",
       "      <th>co2_emissions</th>\n",
       "      <th>manufacturer_colour</th>\n",
       "      <th>drivetrain</th>\n",
       "      <th>cylinders</th>\n",
       "      <th>fuel_consumption</th>\n",
       "      <th>comfort_convenience</th>\n",
       "      <th>entertainment_media</th>\n",
       "      <th>safety_security</th>\n",
       "      <th>extras</th>\n",
       "      <th>empty_weight</th>\n",
       "      <th>model_code</th>\n",
       "      <th>general_inspection</th>\n",
       "      <th>last_service</th>\n",
       "      <th>full_service_history</th>\n",
       "      <th>non_smoker_vehicle</th>\n",
       "      <th>emission_class</th>\n",
       "      <th>emissions_sticker</th>\n",
       "      <th>upholstery_colour</th>\n",
       "      <th>upholstery</th>\n",
       "      <th>production_date</th>\n",
       "      <th>previous_owner</th>\n",
       "      <th>other_fuel_types</th>\n",
       "      <th>power_consumption</th>\n",
       "      <th>energy_efficiency_class</th>\n",
       "      <th>co2_efficiency</th>\n",
       "      <th>fuel_consumption_wltp</th>\n",
       "      <th>co2_emissions_wltp</th>\n",
       "      <th>available_from</th>\n",
       "      <th>taxi_or_rental_car</th>\n",
       "      <th>availability</th>\n",
       "      <th>last_timing_belt_change</th>\n",
       "      <th>electric_range_wltp</th>\n",
       "      <th>power_consumption_wltp</th>\n",
       "      <th>battery_ownership</th>\n",
       "      <th>power_hp</th>\n",
       "      <th>power_kw</th>\n",
       "      <th>age</th>\n",
       "      <th>fuel_consumption_comb</th>\n",
       "      <th>fuel_consumption_city</th>\n",
       "      <th>fuel_consumption_country</th>\n",
       "    </tr>\n",
       "  </thead>\n",
       "  <tbody>\n",
       "    <tr>\n",
       "      <th>21175</th>\n",
       "      <td>Ford Mustang</td>\n",
       "      <td>Convertible 5.0 Ti-VCT V8 Aut. GT 330 kW,</td>\n",
       "      <td>Ford</td>\n",
       "      <td>Mustang</td>\n",
       "      <td>An der Brückengrube 16,  63452 Hanau, DE</td>\n",
       "      <td>58990.00</td>\n",
       "      <td>Convertible</td>\n",
       "      <td>Demonstration</td>\n",
       "      <td>2.00</td>\n",
       "      <td>Germany</td>\n",
       "      <td>101715304</td>\n",
       "      <td>Yes</td>\n",
       "      <td>8500.00</td>\n",
       "      <td>2021-06-01</td>\n",
       "      <td>Automatic</td>\n",
       "      <td>Regular/Benzine 91</td>\n",
       "      <td>Red</td>\n",
       "      <td>Metallic</td>\n",
       "      <td>[Standort: ,  Diesen erfahren Sie auf Anfrage....</td>\n",
       "      <td>Dealer</td>\n",
       "      <td>4.00</td>\n",
       "      <td>330 kW (449 hp)</td>\n",
       "      <td>5038.00</td>\n",
       "      <td>10.00</td>\n",
       "      <td>273.00</td>\n",
       "      <td>Lucid-Rot Metallic</td>\n",
       "      <td>NaN</td>\n",
       "      <td>NaN</td>\n",
       "      <td>[[12 l/100 km (comb.)], [18.3 l/100 km (city)]...</td>\n",
       "      <td>[Air conditioning, Automatic climate control, ...</td>\n",
       "      <td>[Android Auto, Apple CarPlay, Bluetooth, CD pl...</td>\n",
       "      <td>[ABS, Adaptive Cruise Control, Alarm system, C...</td>\n",
       "      <td>[Alloy wheels (19\"), Automatically dimming int...</td>\n",
       "      <td>[\\n1,893 kg\\n]</td>\n",
       "      <td>[\\n, 1028/AAR, \\n]</td>\n",
       "      <td>06/2024</td>\n",
       "      <td>NaN</td>\n",
       "      <td>Yes</td>\n",
       "      <td>Yes</td>\n",
       "      <td>Euro 6d</td>\n",
       "      <td>4 (Green)</td>\n",
       "      <td>Other</td>\n",
       "      <td>Full leather</td>\n",
       "      <td>NaN</td>\n",
       "      <td>NaN</td>\n",
       "      <td>NaN</td>\n",
       "      <td>NaN</td>\n",
       "      <td>G</td>\n",
       "      <td>Calculated on basis of measured CO₂-emissions ...</td>\n",
       "      <td>NaN</td>\n",
       "      <td>NaN</td>\n",
       "      <td>NaN</td>\n",
       "      <td>NaN</td>\n",
       "      <td>NaN</td>\n",
       "      <td>NaN</td>\n",
       "      <td>NaN</td>\n",
       "      <td>NaN</td>\n",
       "      <td>NaN</td>\n",
       "      <td>449.00</td>\n",
       "      <td>330.00</td>\n",
       "      <td>1.00</td>\n",
       "      <td>12.00</td>\n",
       "      <td>18.30</td>\n",
       "      <td>8.30</td>\n",
       "    </tr>\n",
       "    <tr>\n",
       "      <th>14384</th>\n",
       "      <td>Skoda Octavia</td>\n",
       "      <td>Combi 2.0 TDI RS DSG Xenon Navi Kamera</td>\n",
       "      <td>Skoda</td>\n",
       "      <td>Octavia</td>\n",
       "      <td>Hallesche Straße 15,  06122 Halle-Nietleben, DE</td>\n",
       "      <td>19900.00</td>\n",
       "      <td>Station wagon</td>\n",
       "      <td>Used</td>\n",
       "      <td>5.00</td>\n",
       "      <td>Germany</td>\n",
       "      <td>0001D</td>\n",
       "      <td>No</td>\n",
       "      <td>119987.00</td>\n",
       "      <td>2016-04-01</td>\n",
       "      <td>Automatic</td>\n",
       "      <td>Diesel (Particle filter)</td>\n",
       "      <td>Grey</td>\n",
       "      <td>Metallic</td>\n",
       "      <td>[Komfort, 2- Zonen Klimaautomatik, Zentralverr...</td>\n",
       "      <td>Dealer</td>\n",
       "      <td>5.00</td>\n",
       "      <td>135 kW (184 hp)</td>\n",
       "      <td>1968.00</td>\n",
       "      <td>NaN</td>\n",
       "      <td>126.00</td>\n",
       "      <td>Quarzgrau Metallic</td>\n",
       "      <td>NaN</td>\n",
       "      <td>NaN</td>\n",
       "      <td>[[4.6 l/100 km (comb.)]]</td>\n",
       "      <td>[Armrest, Automatic climate control, 2 zones, ...</td>\n",
       "      <td>[Android Auto, Apple CarPlay, Bluetooth, CD pl...</td>\n",
       "      <td>[ABS, Adaptive Cruise Control, Adaptive headli...</td>\n",
       "      <td>[Alloy wheels, Automatically dimming interior ...</td>\n",
       "      <td>NaN</td>\n",
       "      <td>NaN</td>\n",
       "      <td>New</td>\n",
       "      <td>NaN</td>\n",
       "      <td>Yes</td>\n",
       "      <td>Yes</td>\n",
       "      <td>Euro 6</td>\n",
       "      <td>4 (Green)</td>\n",
       "      <td>Black</td>\n",
       "      <td>Part leather</td>\n",
       "      <td>NaN</td>\n",
       "      <td>NaN</td>\n",
       "      <td>NaN</td>\n",
       "      <td>NaN</td>\n",
       "      <td>NaN</td>\n",
       "      <td>NaN</td>\n",
       "      <td>NaN</td>\n",
       "      <td>NaN</td>\n",
       "      <td>NaN</td>\n",
       "      <td>NaN</td>\n",
       "      <td>NaN</td>\n",
       "      <td>NaN</td>\n",
       "      <td>NaN</td>\n",
       "      <td>NaN</td>\n",
       "      <td>NaN</td>\n",
       "      <td>184.00</td>\n",
       "      <td>135.00</td>\n",
       "      <td>6.00</td>\n",
       "      <td>4.60</td>\n",
       "      <td>NaN</td>\n",
       "      <td>NaN</td>\n",
       "    </tr>\n",
       "    <tr>\n",
       "      <th>14481</th>\n",
       "      <td>Skoda Octavia</td>\n",
       "      <td>2.0 TDI DSG Clever NAVI AAC LED SHZ TEMP</td>\n",
       "      <td>Skoda</td>\n",
       "      <td>Octavia</td>\n",
       "      <td>Tinzer Str. 30,  07546 Gera, DE</td>\n",
       "      <td>19900.00</td>\n",
       "      <td>Station wagon</td>\n",
       "      <td>Used</td>\n",
       "      <td>5.00</td>\n",
       "      <td>Germany</td>\n",
       "      <td>0228C</td>\n",
       "      <td>No</td>\n",
       "      <td>62784.00</td>\n",
       "      <td>2018-08-01</td>\n",
       "      <td>Automatic</td>\n",
       "      <td>Diesel (Particle filter)</td>\n",
       "      <td>White</td>\n",
       "      <td>Metallic</td>\n",
       "      <td>[Komfort, 2- Zonen Klimaautomatik, Zentralverr...</td>\n",
       "      <td>Dealer</td>\n",
       "      <td>5.00</td>\n",
       "      <td>110 kW (150 hp)</td>\n",
       "      <td>1968.00</td>\n",
       "      <td>NaN</td>\n",
       "      <td>0.00</td>\n",
       "      <td>Laser Weiß</td>\n",
       "      <td>NaN</td>\n",
       "      <td>NaN</td>\n",
       "      <td>[[4.3 l/100 km (comb.)]]</td>\n",
       "      <td>[Armrest, Automatic climate control, 2 zones, ...</td>\n",
       "      <td>[Android Auto, Apple CarPlay, Bluetooth, Digit...</td>\n",
       "      <td>[ABS, Alarm system, Central door lock, Daytime...</td>\n",
       "      <td>[Alloy wheels, Automatically dimming interior ...</td>\n",
       "      <td>NaN</td>\n",
       "      <td>NaN</td>\n",
       "      <td>New</td>\n",
       "      <td>NaN</td>\n",
       "      <td>Yes</td>\n",
       "      <td>Yes</td>\n",
       "      <td>Euro 6</td>\n",
       "      <td>4 (Green)</td>\n",
       "      <td>Black</td>\n",
       "      <td>Cloth</td>\n",
       "      <td>NaN</td>\n",
       "      <td>NaN</td>\n",
       "      <td>NaN</td>\n",
       "      <td>NaN</td>\n",
       "      <td>NaN</td>\n",
       "      <td>NaN</td>\n",
       "      <td>NaN</td>\n",
       "      <td>NaN</td>\n",
       "      <td>NaN</td>\n",
       "      <td>NaN</td>\n",
       "      <td>NaN</td>\n",
       "      <td>NaN</td>\n",
       "      <td>NaN</td>\n",
       "      <td>NaN</td>\n",
       "      <td>NaN</td>\n",
       "      <td>150.00</td>\n",
       "      <td>110.00</td>\n",
       "      <td>4.00</td>\n",
       "      <td>4.30</td>\n",
       "      <td>NaN</td>\n",
       "      <td>NaN</td>\n",
       "    </tr>\n",
       "  </tbody>\n",
       "</table>\n",
       "</div>"
      ],
      "text/plain": [
       "          make_model                          short_description   make   \n",
       "21175   Ford Mustang  Convertible 5.0 Ti-VCT V8 Aut. GT 330 kW,   Ford  \\\n",
       "14384  Skoda Octavia     Combi 2.0 TDI RS DSG Xenon Navi Kamera  Skoda   \n",
       "14481  Skoda Octavia   2.0 TDI DSG Clever NAVI AAC LED SHZ TEMP  Skoda   \n",
       "\n",
       "         model                                         location    price   \n",
       "21175  Mustang         An der Brückengrube 16,  63452 Hanau, DE 58990.00  \\\n",
       "14384  Octavia  Hallesche Straße 15,  06122 Halle-Nietleben, DE 19900.00   \n",
       "14481  Octavia                  Tinzer Str. 30,  07546 Gera, DE 19900.00   \n",
       "\n",
       "           body_type           type  doors country_version offer_number   \n",
       "21175    Convertible  Demonstration   2.00         Germany    101715304  \\\n",
       "14384  Station wagon           Used   5.00         Germany        0001D   \n",
       "14481  Station wagon           Used   5.00         Germany        0228C   \n",
       "\n",
       "      warranty   mileage first_registration    gearbox   \n",
       "21175      Yes   8500.00         2021-06-01  Automatic  \\\n",
       "14384       No 119987.00         2016-04-01  Automatic   \n",
       "14481       No  62784.00         2018-08-01  Automatic   \n",
       "\n",
       "                      fuel_type colour     paint   \n",
       "21175        Regular/Benzine 91    Red  Metallic  \\\n",
       "14384  Diesel (Particle filter)   Grey  Metallic   \n",
       "14481  Diesel (Particle filter)  White  Metallic   \n",
       "\n",
       "                                                    desc  seller  seats   \n",
       "21175  [Standort: ,  Diesen erfahren Sie auf Anfrage....  Dealer   4.00  \\\n",
       "14384  [Komfort, 2- Zonen Klimaautomatik, Zentralverr...  Dealer   5.00   \n",
       "14481  [Komfort, 2- Zonen Klimaautomatik, Zentralverr...  Dealer   5.00   \n",
       "\n",
       "                 power  engine_size  gears  co2_emissions manufacturer_colour   \n",
       "21175  330 kW (449 hp)      5038.00  10.00         273.00  Lucid-Rot Metallic  \\\n",
       "14384  135 kW (184 hp)      1968.00    NaN         126.00  Quarzgrau Metallic   \n",
       "14481  110 kW (150 hp)      1968.00    NaN           0.00          Laser Weiß   \n",
       "\n",
       "      drivetrain  cylinders   \n",
       "21175        NaN        NaN  \\\n",
       "14384        NaN        NaN   \n",
       "14481        NaN        NaN   \n",
       "\n",
       "                                        fuel_consumption   \n",
       "21175  [[12 l/100 km (comb.)], [18.3 l/100 km (city)]...  \\\n",
       "14384                           [[4.6 l/100 km (comb.)]]   \n",
       "14481                           [[4.3 l/100 km (comb.)]]   \n",
       "\n",
       "                                     comfort_convenience   \n",
       "21175  [Air conditioning, Automatic climate control, ...  \\\n",
       "14384  [Armrest, Automatic climate control, 2 zones, ...   \n",
       "14481  [Armrest, Automatic climate control, 2 zones, ...   \n",
       "\n",
       "                                     entertainment_media   \n",
       "21175  [Android Auto, Apple CarPlay, Bluetooth, CD pl...  \\\n",
       "14384  [Android Auto, Apple CarPlay, Bluetooth, CD pl...   \n",
       "14481  [Android Auto, Apple CarPlay, Bluetooth, Digit...   \n",
       "\n",
       "                                         safety_security   \n",
       "21175  [ABS, Adaptive Cruise Control, Alarm system, C...  \\\n",
       "14384  [ABS, Adaptive Cruise Control, Adaptive headli...   \n",
       "14481  [ABS, Alarm system, Central door lock, Daytime...   \n",
       "\n",
       "                                                  extras    empty_weight   \n",
       "21175  [Alloy wheels (19\"), Automatically dimming int...  [\\n1,893 kg\\n]  \\\n",
       "14384  [Alloy wheels, Automatically dimming interior ...             NaN   \n",
       "14481  [Alloy wheels, Automatically dimming interior ...             NaN   \n",
       "\n",
       "               model_code general_inspection last_service   \n",
       "21175  [\\n, 1028/AAR, \\n]            06/2024          NaN  \\\n",
       "14384                 NaN                New          NaN   \n",
       "14481                 NaN                New          NaN   \n",
       "\n",
       "      full_service_history non_smoker_vehicle emission_class   \n",
       "21175                  Yes                Yes        Euro 6d  \\\n",
       "14384                  Yes                Yes         Euro 6   \n",
       "14481                  Yes                Yes         Euro 6   \n",
       "\n",
       "      emissions_sticker upholstery_colour    upholstery  production_date   \n",
       "21175         4 (Green)             Other  Full leather              NaN  \\\n",
       "14384         4 (Green)             Black  Part leather              NaN   \n",
       "14481         4 (Green)             Black         Cloth              NaN   \n",
       "\n",
       "      previous_owner other_fuel_types power_consumption   \n",
       "21175            NaN              NaN               NaN  \\\n",
       "14384            NaN              NaN               NaN   \n",
       "14481            NaN              NaN               NaN   \n",
       "\n",
       "      energy_efficiency_class   \n",
       "21175                       G  \\\n",
       "14384                     NaN   \n",
       "14481                     NaN   \n",
       "\n",
       "                                          co2_efficiency   \n",
       "21175  Calculated on basis of measured CO₂-emissions ...  \\\n",
       "14384                                                NaN   \n",
       "14481                                                NaN   \n",
       "\n",
       "       fuel_consumption_wltp co2_emissions_wltp available_from   \n",
       "21175                    NaN                NaN            NaN  \\\n",
       "14384                    NaN                NaN            NaN   \n",
       "14481                    NaN                NaN            NaN   \n",
       "\n",
       "      taxi_or_rental_car availability last_timing_belt_change   \n",
       "21175                NaN          NaN                     NaN  \\\n",
       "14384                NaN          NaN                     NaN   \n",
       "14481                NaN          NaN                     NaN   \n",
       "\n",
       "      electric_range_wltp power_consumption_wltp battery_ownership  power_hp   \n",
       "21175                 NaN                    NaN               NaN    449.00  \\\n",
       "14384                 NaN                    NaN               NaN    184.00   \n",
       "14481                 NaN                    NaN               NaN    150.00   \n",
       "\n",
       "       power_kw  age  fuel_consumption_comb  fuel_consumption_city   \n",
       "21175    330.00 1.00                  12.00                  18.30  \\\n",
       "14384    135.00 6.00                   4.60                    NaN   \n",
       "14481    110.00 4.00                   4.30                    NaN   \n",
       "\n",
       "       fuel_consumption_country  \n",
       "21175                      8.30  \n",
       "14384                       NaN  \n",
       "14481                       NaN  "
      ]
     },
     "execution_count": 426,
     "metadata": {},
     "output_type": "execute_result"
    }
   ],
   "source": [
    "df.sample(3)"
   ]
  },
  {
   "cell_type": "code",
   "execution_count": 427,
   "metadata": {},
   "outputs": [
    {
     "data": {
      "text/plain": [
       "26462               NaN\n",
       "25467    [\\n1,315 kg\\n]\n",
       "20599    [\\n1,504 kg\\n]\n",
       "Name: empty_weight, dtype: object"
      ]
     },
     "execution_count": 427,
     "metadata": {},
     "output_type": "execute_result"
    }
   ],
   "source": [
    "df.empty_weight.sample(3)"
   ]
  },
  {
   "cell_type": "code",
   "execution_count": 428,
   "metadata": {},
   "outputs": [],
   "source": [
    "# CLEAN\n",
    "df.empty_weight = df.empty_weight.astype(str).str.replace(\"[\\'\\\\n\", '').str.replace(\"kg\\\\n\\']\", '').str.replace(',','').str.strip().astype(float)"
   ]
  },
  {
   "cell_type": "code",
   "execution_count": 429,
   "metadata": {},
   "outputs": [
    {
     "data": {
      "text/plain": [
       "18431   NaN\n",
       "6464    NaN\n",
       "19858   NaN\n",
       "Name: empty_weight, dtype: float64"
      ]
     },
     "execution_count": 429,
     "metadata": {},
     "output_type": "execute_result"
    }
   ],
   "source": [
    "df.empty_weight.sample(3)"
   ]
  },
  {
   "cell_type": "code",
   "execution_count": 430,
   "metadata": {},
   "outputs": [],
   "source": [
    "# CLEAN\n",
    "df.model_code = df.model_code.astype(str).str.replace(\"[\\'\\\\n,\", '').str.replace(\", \\\\n\\']\", '').str.strip().astype(str)"
   ]
  },
  {
   "cell_type": "code",
   "execution_count": 431,
   "metadata": {},
   "outputs": [
    {
     "data": {
      "text/plain": [
       "20713    nan\n",
       "2243     nan\n",
       "14065    nan\n",
       "Name: model_code, dtype: object"
      ]
     },
     "execution_count": 431,
     "metadata": {},
     "output_type": "execute_result"
    }
   ],
   "source": [
    "df.model_code.sample(3)"
   ]
  },
  {
   "cell_type": "code",
   "execution_count": 432,
   "metadata": {},
   "outputs": [],
   "source": [
    "# DESC_EN CASH price\n",
    "# df['desc_price'] = df[df.desc_en.astype(str).str.contains('euros')].desc_en.str.extract(r'(\\d+) euros')\n",
    "# df.drop('desc_price',axis=1, inplace=True)"
   ]
  },
  {
   "cell_type": "code",
   "execution_count": 433,
   "metadata": {},
   "outputs": [],
   "source": [
    "# CLEAN country_version\n",
    "df.loc[df.country_version == 'nan','country_version'] = np.nan"
   ]
  },
  {
   "cell_type": "code",
   "execution_count": 434,
   "metadata": {},
   "outputs": [],
   "source": [
    "# df.duplicated().value_counts()  "
   ]
  },
  {
   "cell_type": "code",
   "execution_count": 435,
   "metadata": {},
   "outputs": [],
   "source": [
    "# DONE DROP duplicates\n",
    "# df.drop_duplicates(keep='first', inplace=True)  "
   ]
  },
  {
   "cell_type": "code",
   "execution_count": 436,
   "metadata": {},
   "outputs": [],
   "source": [
    "def calc_fuel_consumption_avg(row):\n",
    "    # if fuel_consumption_comb is not NaN, use its value\n",
    "    if not pd.isna(row['fuel_consumption_comb']):\n",
    "        return row['fuel_consumption_comb']\n",
    "    # if fuel_consumption_comb is NaN, calculate the average\n",
    "    else:\n",
    "        city = row['fuel_consumption_city']\n",
    "        country = row['fuel_consumption_country']\n",
    "        if not pd.isna(city) and not pd.isna(country) and country != 0:\n",
    "            return (float(city) * 1.0 + float(country) * 1.0) / 2.0\n",
    "        else:\n",
    "            return np.nan\n",
    "\n",
    "# apply the function to create the new column\n",
    "df['fuel_consumption_avg'] = df.apply(calc_fuel_consumption_avg, axis=1)\n",
    "# df[(df['fuel_consumption_comb'].isna()) & ~(df['fuel_consumption_city'].isna())].shape"
   ]
  },
  {
   "cell_type": "code",
   "execution_count": 437,
   "metadata": {},
   "outputs": [],
   "source": [
    "# CONTROL\n",
    "# df.loc[~df.fuel_consumption_wltp.isna() & df.fuel_consumption_avg.isna(),['fuel_consumption_wltp','fuel_consumption_avg']]\n",
    "\n",
    "# FILL with df.fuel_consumption_wltp\n",
    "df.loc[~df.fuel_consumption_wltp.isna() & df.fuel_consumption_avg.isna(),['fuel_consumption_avg']] = df.loc[~df.fuel_consumption_wltp.isna() & df.fuel_consumption_avg.isna()].fuel_consumption_wltp"
   ]
  },
  {
   "cell_type": "code",
   "execution_count": 438,
   "metadata": {},
   "outputs": [],
   "source": [
    "def save():\n",
    "    df.to_csv('before_drop.csv',index=False)\n",
    "# save()"
   ]
  },
  {
   "cell_type": "code",
   "execution_count": 439,
   "metadata": {},
   "outputs": [
    {
     "data": {
      "text/plain": [
       "drivetrain\n",
       "Front    12066\n",
       "4WD       3252\n",
       "Rear      1575\n",
       "Name: count, dtype: int64"
      ]
     },
     "execution_count": 439,
     "metadata": {},
     "output_type": "execute_result"
    }
   ],
   "source": [
    "df.drivetrain.value_counts()"
   ]
  },
  {
   "cell_type": "code",
   "execution_count": 440,
   "metadata": {},
   "outputs": [
    {
     "data": {
      "text/plain": [
       "fuel_type\n",
       "Gasoline                                                                                              8532\n",
       "Diesel                                                                                                5911\n",
       "Super 95                                                                                              3557\n",
       "Diesel (Particle filter)                                                                              2816\n",
       "Regular/Benzine 91                                                                                    2065\n",
       "Super E10 95                                                                                          1016\n",
       "Regular/Benzine 91 (Particle filter)                                                                   555\n",
       "Super 95 (Particle filter)                                                                             537\n",
       "Super E10 95 (Particle filter)                                                                         324\n",
       "Regular/Benzine E10 91                                                                                 278\n",
       "Others                                                                                                 197\n",
       "Gasoline (Particle filter)                                                                             196\n",
       "Electric                                                                                               185\n",
       "Super Plus 98                                                                                          170\n",
       "Liquid petroleum gas (LPG)                                                                             148\n",
       "CNG                                                                                                     87\n",
       "LPG                                                                                                     73\n",
       "Super Plus E10 98                                                                                       42\n",
       "Super Plus E10 98 (Particle filter)                                                                     35\n",
       "Domestic gas H                                                                                          24\n",
       "Others (Particle filter)                                                                                16\n",
       "Super Plus 98 (Particle filter)                                                                         15\n",
       "Domestic gas L                                                                                          10\n",
       "Regular/Benzine E10 91 (Particle filter)                                                                 8\n",
       "CNG (Particle filter)                                                                                    8\n",
       "LPG (Particle filter)                                                                                    4\n",
       "Hydrogen                                                                                                 3\n",
       "Liquid petroleum gas (LPG) (Particle filter) / Super 95 / Super E10 95                                   3\n",
       "Electric (Particle filter)                                                                               3\n",
       "Ethanol                                                                                                  3\n",
       "Liquid petroleum gas (LPG) / Super 95 / Super Plus 98 / Super Plus E10 98 / Super E10 95                 2\n",
       "Liquid petroleum gas (LPG) / Super 95 / Super E10 95 / Super Plus 98                                     2\n",
       "Liquid petroleum gas (LPG) / Super 95                                                                    2\n",
       "Liquid petroleum gas (LPG) (Particle filter)                                                             2\n",
       "Domestic gas L (Particle filter)                                                                         2\n",
       "Liquid petroleum gas (LPG) / Super 95 / Super E10 95                                                     2\n",
       "Domestic gas H / Super E10 95 / Super Plus E10 98 / Super 95 / Super Plus 98 / Domestic gas L            1\n",
       "Domestic gas L / Super 95 / Domestic gas H                                                               1\n",
       "Super 95 / Super Plus 98 / Liquid petroleum gas (LPG)                                                    1\n",
       "Biogas                                                                                                   1\n",
       "Liquid petroleum gas (LPG) / Super 95 / Super Plus 98                                                    1\n",
       "Liquid petroleum gas (LPG) / Super E10 95                                                                1\n",
       "Liquid petroleum gas (LPG) / Super E10 95 / Super Plus E10 98 / Super Plus 98 / Super 95                 1\n",
       "Liquid petroleum gas (LPG) / Super E10 95 / Regular/Benzine 91 / Super 95 / Super Plus 98 / Biogas       1\n",
       "Super 95 (Particle filter) / Super E10 95 / Ethanol                                                      1\n",
       "Super 95 / Liquid petroleum gas (LPG)                                                                    1\n",
       "Name: count, dtype: int64"
      ]
     },
     "execution_count": 440,
     "metadata": {},
     "output_type": "execute_result"
    }
   ],
   "source": [
    "df.fuel_type.value_counts()"
   ]
  },
  {
   "cell_type": "code",
   "execution_count": 441,
   "metadata": {},
   "outputs": [],
   "source": [
    "# get information from other_fuel_type and assign\n",
    "df.loc[~df.other_fuel_types.isna() & df.fuel_type.isna(),['fuel_type']] = df[~df.other_fuel_types.isna() & df.fuel_type.isna()].other_fuel_types"
   ]
  },
  {
   "cell_type": "code",
   "execution_count": 442,
   "metadata": {},
   "outputs": [],
   "source": [
    "df['fuel_type'] = df['fuel_type'].str.replace('Hydogen', 'Hydrogen')"
   ]
  },
  {
   "cell_type": "code",
   "execution_count": 443,
   "metadata": {},
   "outputs": [],
   "source": [
    "from functools import reduce\n",
    "\n",
    "benzine = ['Gasoline','Super 95','Regular','Super E10 95','Super Plus 98','Super Plus E10 98','Others']\n",
    "lpg = ['LPG','Liquid petroleum gas','CNG','Biogas','Domestic gas H','Domestic gas L']\n",
    "electric = ['Electric']\n",
    "diesel = ['Diesel']\n",
    "\n",
    "def is_lpg(m):\n",
    "    boollist = list(map(lambda x: x in m, lpg))\n",
    "    return reduce(lambda x,y: x or y, boollist)\n",
    "\n",
    "def is_benzine(m):\n",
    "    boollist = list(map(lambda x: x in m, benzine))\n",
    "    return reduce(lambda x,y: x or y, boollist)\n",
    "\n",
    "def is_electric(m):\n",
    "    boollist = list(map(lambda x: x in m, electric))\n",
    "    return reduce(lambda x,y: x or y, boollist)\n",
    "\n",
    "def is_diesel(m):\n",
    "    boollist = list(map(lambda x: x in m, diesel))\n",
    "    return reduce(lambda x,y: x or y, boollist)\n",
    "\n",
    "def fueltype(f):\n",
    "    if pd.isna(f):\n",
    "        return np.nan\n",
    "    elif is_lpg(f): \n",
    "        return 'LPG/CNG'\n",
    "    elif is_benzine(f):\n",
    "        return 'Benzine'\n",
    "    elif is_electric(f):\n",
    "        return 'Electric'\n",
    "    elif is_diesel(f):\n",
    "        return 'Diesel'\n",
    "    else:\n",
    "        return f\n",
    "df['fuel'] = df.fuel_type.apply(fueltype)"
   ]
  },
  {
   "cell_type": "code",
   "execution_count": 444,
   "metadata": {},
   "outputs": [
    {
     "data": {
      "text/plain": [
       "fuel\n",
       "Benzine     17544\n",
       "Diesel       8727\n",
       "Electric     1955\n",
       "LPG/CNG       378\n",
       "Hydrogen       13\n",
       "Ethanol         3\n",
       "Name: count, dtype: int64"
      ]
     },
     "execution_count": 444,
     "metadata": {},
     "output_type": "execute_result"
    }
   ],
   "source": [
    "df.fuel.value_counts()"
   ]
  },
  {
   "cell_type": "code",
   "execution_count": 445,
   "metadata": {},
   "outputs": [
    {
     "data": {
      "text/html": [
       "<div>\n",
       "<style scoped>\n",
       "    .dataframe tbody tr th:only-of-type {\n",
       "        vertical-align: middle;\n",
       "    }\n",
       "\n",
       "    .dataframe tbody tr th {\n",
       "        vertical-align: top;\n",
       "    }\n",
       "\n",
       "    .dataframe thead th {\n",
       "        text-align: right;\n",
       "    }\n",
       "</style>\n",
       "<table border=\"1\" class=\"dataframe\">\n",
       "  <thead>\n",
       "    <tr style=\"text-align: right;\">\n",
       "      <th></th>\n",
       "      <th>make_model</th>\n",
       "      <th>short_description</th>\n",
       "      <th>make</th>\n",
       "      <th>model</th>\n",
       "      <th>location</th>\n",
       "      <th>price</th>\n",
       "      <th>body_type</th>\n",
       "      <th>type</th>\n",
       "      <th>doors</th>\n",
       "      <th>country_version</th>\n",
       "      <th>offer_number</th>\n",
       "      <th>warranty</th>\n",
       "      <th>mileage</th>\n",
       "      <th>first_registration</th>\n",
       "      <th>gearbox</th>\n",
       "      <th>fuel_type</th>\n",
       "      <th>colour</th>\n",
       "      <th>paint</th>\n",
       "      <th>desc</th>\n",
       "      <th>seller</th>\n",
       "      <th>seats</th>\n",
       "      <th>power</th>\n",
       "      <th>engine_size</th>\n",
       "      <th>gears</th>\n",
       "      <th>co2_emissions</th>\n",
       "      <th>manufacturer_colour</th>\n",
       "      <th>drivetrain</th>\n",
       "      <th>cylinders</th>\n",
       "      <th>fuel_consumption</th>\n",
       "      <th>comfort_convenience</th>\n",
       "      <th>entertainment_media</th>\n",
       "      <th>safety_security</th>\n",
       "      <th>extras</th>\n",
       "      <th>empty_weight</th>\n",
       "      <th>model_code</th>\n",
       "      <th>general_inspection</th>\n",
       "      <th>last_service</th>\n",
       "      <th>full_service_history</th>\n",
       "      <th>non_smoker_vehicle</th>\n",
       "      <th>emission_class</th>\n",
       "      <th>emissions_sticker</th>\n",
       "      <th>upholstery_colour</th>\n",
       "      <th>upholstery</th>\n",
       "      <th>production_date</th>\n",
       "      <th>previous_owner</th>\n",
       "      <th>other_fuel_types</th>\n",
       "      <th>power_consumption</th>\n",
       "      <th>energy_efficiency_class</th>\n",
       "      <th>co2_efficiency</th>\n",
       "      <th>fuel_consumption_wltp</th>\n",
       "      <th>co2_emissions_wltp</th>\n",
       "      <th>available_from</th>\n",
       "      <th>taxi_or_rental_car</th>\n",
       "      <th>availability</th>\n",
       "      <th>last_timing_belt_change</th>\n",
       "      <th>electric_range_wltp</th>\n",
       "      <th>power_consumption_wltp</th>\n",
       "      <th>battery_ownership</th>\n",
       "      <th>power_hp</th>\n",
       "      <th>power_kw</th>\n",
       "      <th>age</th>\n",
       "      <th>fuel_consumption_comb</th>\n",
       "      <th>fuel_consumption_city</th>\n",
       "      <th>fuel_consumption_country</th>\n",
       "      <th>fuel_consumption_avg</th>\n",
       "      <th>fuel</th>\n",
       "    </tr>\n",
       "  </thead>\n",
       "  <tbody>\n",
       "    <tr>\n",
       "      <th>28129</th>\n",
       "      <td>Volvo V90</td>\n",
       "      <td>Kombi R Design D4 DPF EU6d-T LED Navi StandHZG...</td>\n",
       "      <td>Volvo</td>\n",
       "      <td>V90</td>\n",
       "      <td>Uellendahler Str. 523,  42109 Wuppertal, DE</td>\n",
       "      <td>39890.00</td>\n",
       "      <td>Station wagon</td>\n",
       "      <td>Used</td>\n",
       "      <td>5.00</td>\n",
       "      <td>NaN</td>\n",
       "      <td>wu2516-22</td>\n",
       "      <td>No</td>\n",
       "      <td>26515.00</td>\n",
       "      <td>2019-03-01</td>\n",
       "      <td>Automatic</td>\n",
       "      <td>Diesel (Particle filter)</td>\n",
       "      <td>Blue</td>\n",
       "      <td>Metallic</td>\n",
       "      <td>[Getriebe:,  Automatik, Technik:,  Bordcompute...</td>\n",
       "      <td>Dealer</td>\n",
       "      <td>5.00</td>\n",
       "      <td>140 kW (190 hp)</td>\n",
       "      <td>1969.00</td>\n",
       "      <td>8.00</td>\n",
       "      <td>127.00</td>\n",
       "      <td>Bursting blue / metallic</td>\n",
       "      <td>Front</td>\n",
       "      <td>4.00</td>\n",
       "      <td>[[4.8 l/100 km (comb.)], [5.6 l/100 km (city)]...</td>\n",
       "      <td>[Air conditioning, Armrest, Automatic climate ...</td>\n",
       "      <td>[Apple CarPlay, Bluetooth, CD player, Digital ...</td>\n",
       "      <td>[ABS, Adaptive Cruise Control, Adaptive headli...</td>\n",
       "      <td>[Alloy wheels, Roof rack, Sport seats, Sport s...</td>\n",
       "      <td>1906.00</td>\n",
       "      <td>9101/BFH</td>\n",
       "      <td>NaN</td>\n",
       "      <td>NaN</td>\n",
       "      <td>NaN</td>\n",
       "      <td>NaN</td>\n",
       "      <td>Euro 6d-TEMP</td>\n",
       "      <td>NaN</td>\n",
       "      <td>NaN</td>\n",
       "      <td>Full leather</td>\n",
       "      <td>2018.00</td>\n",
       "      <td>[[26,515 km, 03/2019], 2]</td>\n",
       "      <td>NaN</td>\n",
       "      <td>NaN</td>\n",
       "      <td>A+</td>\n",
       "      <td>Calculated on basis of measured CO₂-emissions ...</td>\n",
       "      <td>NaN</td>\n",
       "      <td>NaN</td>\n",
       "      <td>NaN</td>\n",
       "      <td>NaN</td>\n",
       "      <td>NaN</td>\n",
       "      <td>NaN</td>\n",
       "      <td>NaN</td>\n",
       "      <td>NaN</td>\n",
       "      <td>NaN</td>\n",
       "      <td>190.00</td>\n",
       "      <td>140.00</td>\n",
       "      <td>3.00</td>\n",
       "      <td>4.80</td>\n",
       "      <td>5.60</td>\n",
       "      <td>4.40</td>\n",
       "      <td>4.80</td>\n",
       "      <td>Diesel</td>\n",
       "    </tr>\n",
       "    <tr>\n",
       "      <th>19606</th>\n",
       "      <td>Nissan GT-R</td>\n",
       "      <td>R35 Prestige Carbon BOSE KW Titanabgas</td>\n",
       "      <td>Nissan</td>\n",
       "      <td>GT-R</td>\n",
       "      <td>Lötscher Weg 25,  41334 Nettetal, DE</td>\n",
       "      <td>119590.00</td>\n",
       "      <td>Coupe</td>\n",
       "      <td>Used</td>\n",
       "      <td>2.00</td>\n",
       "      <td>Germany</td>\n",
       "      <td>190049</td>\n",
       "      <td>No</td>\n",
       "      <td>31987.00</td>\n",
       "      <td>2018-03-01</td>\n",
       "      <td>Automatic</td>\n",
       "      <td>Regular/Benzine 91</td>\n",
       "      <td>Black</td>\n",
       "      <td>Metallic</td>\n",
       "      <td>[Metallic-Lackierung, Adaptive Front-Lighting-...</td>\n",
       "      <td>Dealer</td>\n",
       "      <td>4.00</td>\n",
       "      <td>419 kW (570 hp)</td>\n",
       "      <td>3799.00</td>\n",
       "      <td>NaN</td>\n",
       "      <td>275.00</td>\n",
       "      <td>PHANTOM BLACK (M)</td>\n",
       "      <td>4WD</td>\n",
       "      <td>NaN</td>\n",
       "      <td>[[11.8 l/100 km (comb.)], [17 l/100 km (city)]...</td>\n",
       "      <td>[Air conditioning, Armrest, Automatic climate ...</td>\n",
       "      <td>[Bluetooth, Digital radio, Hands-free equipmen...</td>\n",
       "      <td>[ABS, Alarm system, Central door lock, Daytime...</td>\n",
       "      <td>[Alloy wheels, Shift paddles, Sport package, S...</td>\n",
       "      <td>NaN</td>\n",
       "      <td>nan</td>\n",
       "      <td>New</td>\n",
       "      <td>NaN</td>\n",
       "      <td>Yes</td>\n",
       "      <td>Yes</td>\n",
       "      <td>Euro 6</td>\n",
       "      <td>4 (Green)</td>\n",
       "      <td>Black</td>\n",
       "      <td>Full leather</td>\n",
       "      <td>NaN</td>\n",
       "      <td>[[31,987 km, 03/2018], 2]</td>\n",
       "      <td>NaN</td>\n",
       "      <td>NaN</td>\n",
       "      <td>NaN</td>\n",
       "      <td>NaN</td>\n",
       "      <td>NaN</td>\n",
       "      <td>NaN</td>\n",
       "      <td>NaN</td>\n",
       "      <td>NaN</td>\n",
       "      <td>NaN</td>\n",
       "      <td>NaN</td>\n",
       "      <td>NaN</td>\n",
       "      <td>NaN</td>\n",
       "      <td>NaN</td>\n",
       "      <td>570.00</td>\n",
       "      <td>419.00</td>\n",
       "      <td>4.00</td>\n",
       "      <td>11.80</td>\n",
       "      <td>17.00</td>\n",
       "      <td>8.80</td>\n",
       "      <td>11.80</td>\n",
       "      <td>Benzine</td>\n",
       "    </tr>\n",
       "    <tr>\n",
       "      <th>7933</th>\n",
       "      <td>Peugeot 308</td>\n",
       "      <td>CC Allure 155 THP, Leder,  Airwave, PDC</td>\n",
       "      <td>Peugeot</td>\n",
       "      <td>308</td>\n",
       "      <td>Albert-Einstein-Str. 10,  31515 Wunstorf, DE</td>\n",
       "      <td>13995.00</td>\n",
       "      <td>Coupe</td>\n",
       "      <td>Used</td>\n",
       "      <td>2.00</td>\n",
       "      <td>Germany</td>\n",
       "      <td>16015</td>\n",
       "      <td>No</td>\n",
       "      <td>65932.00</td>\n",
       "      <td>2011-10-01</td>\n",
       "      <td>Manual</td>\n",
       "      <td>Gasoline</td>\n",
       "      <td>White</td>\n",
       "      <td>Metallic</td>\n",
       "      <td>[zwei Autos in einem - Coupe &amp; Cabrio der Peug...</td>\n",
       "      <td>Dealer</td>\n",
       "      <td>4.00</td>\n",
       "      <td>115 kW (156 hp)</td>\n",
       "      <td>1598.00</td>\n",
       "      <td>NaN</td>\n",
       "      <td>167.00</td>\n",
       "      <td>Weiß</td>\n",
       "      <td>NaN</td>\n",
       "      <td>NaN</td>\n",
       "      <td>[[7.2 l/100 km (comb.)], [10 l/100 km (city)],...</td>\n",
       "      <td>[Air conditioning, Armrest, Automatic climate ...</td>\n",
       "      <td>[Apple CarPlay, Bluetooth, CD player, Digital ...</td>\n",
       "      <td>[ABS, Central door lock, Daytime running light...</td>\n",
       "      <td>[Alloy wheels, Automatically dimming interior ...</td>\n",
       "      <td>NaN</td>\n",
       "      <td>3003/AJY</td>\n",
       "      <td>04/2024</td>\n",
       "      <td>NaN</td>\n",
       "      <td>Yes</td>\n",
       "      <td>Yes</td>\n",
       "      <td>Euro 5</td>\n",
       "      <td>4 (Green)</td>\n",
       "      <td>Black</td>\n",
       "      <td>Full leather</td>\n",
       "      <td>NaN</td>\n",
       "      <td>NaN</td>\n",
       "      <td>NaN</td>\n",
       "      <td>NaN</td>\n",
       "      <td>D</td>\n",
       "      <td>Calculated on basis of measured CO₂-emissions ...</td>\n",
       "      <td>NaN</td>\n",
       "      <td>NaN</td>\n",
       "      <td>NaN</td>\n",
       "      <td>NaN</td>\n",
       "      <td>NaN</td>\n",
       "      <td>NaN</td>\n",
       "      <td>NaN</td>\n",
       "      <td>NaN</td>\n",
       "      <td>NaN</td>\n",
       "      <td>156.00</td>\n",
       "      <td>115.00</td>\n",
       "      <td>11.00</td>\n",
       "      <td>7.20</td>\n",
       "      <td>10.00</td>\n",
       "      <td>5.50</td>\n",
       "      <td>7.20</td>\n",
       "      <td>Benzine</td>\n",
       "    </tr>\n",
       "  </tbody>\n",
       "</table>\n",
       "</div>"
      ],
      "text/plain": [
       "        make_model                                  short_description   \n",
       "28129    Volvo V90  Kombi R Design D4 DPF EU6d-T LED Navi StandHZG...  \\\n",
       "19606  Nissan GT-R             R35 Prestige Carbon BOSE KW Titanabgas   \n",
       "7933   Peugeot 308            CC Allure 155 THP, Leder,  Airwave, PDC   \n",
       "\n",
       "          make model                                      location     price   \n",
       "28129    Volvo   V90   Uellendahler Str. 523,  42109 Wuppertal, DE  39890.00  \\\n",
       "19606   Nissan  GT-R          Lötscher Weg 25,  41334 Nettetal, DE 119590.00   \n",
       "7933   Peugeot   308  Albert-Einstein-Str. 10,  31515 Wunstorf, DE  13995.00   \n",
       "\n",
       "           body_type  type  doors country_version offer_number warranty   \n",
       "28129  Station wagon  Used   5.00             NaN    wu2516-22       No  \\\n",
       "19606          Coupe  Used   2.00         Germany       190049       No   \n",
       "7933           Coupe  Used   2.00         Germany        16015       No   \n",
       "\n",
       "       mileage first_registration    gearbox                 fuel_type colour   \n",
       "28129 26515.00         2019-03-01  Automatic  Diesel (Particle filter)   Blue  \\\n",
       "19606 31987.00         2018-03-01  Automatic        Regular/Benzine 91  Black   \n",
       "7933  65932.00         2011-10-01     Manual                  Gasoline  White   \n",
       "\n",
       "          paint                                               desc  seller   \n",
       "28129  Metallic  [Getriebe:,  Automatik, Technik:,  Bordcompute...  Dealer  \\\n",
       "19606  Metallic  [Metallic-Lackierung, Adaptive Front-Lighting-...  Dealer   \n",
       "7933   Metallic  [zwei Autos in einem - Coupe & Cabrio der Peug...  Dealer   \n",
       "\n",
       "       seats            power  engine_size  gears  co2_emissions   \n",
       "28129   5.00  140 kW (190 hp)      1969.00   8.00         127.00  \\\n",
       "19606   4.00  419 kW (570 hp)      3799.00    NaN         275.00   \n",
       "7933    4.00  115 kW (156 hp)      1598.00    NaN         167.00   \n",
       "\n",
       "            manufacturer_colour drivetrain  cylinders   \n",
       "28129  Bursting blue / metallic      Front       4.00  \\\n",
       "19606         PHANTOM BLACK (M)        4WD        NaN   \n",
       "7933                       Weiß        NaN        NaN   \n",
       "\n",
       "                                        fuel_consumption   \n",
       "28129  [[4.8 l/100 km (comb.)], [5.6 l/100 km (city)]...  \\\n",
       "19606  [[11.8 l/100 km (comb.)], [17 l/100 km (city)]...   \n",
       "7933   [[7.2 l/100 km (comb.)], [10 l/100 km (city)],...   \n",
       "\n",
       "                                     comfort_convenience   \n",
       "28129  [Air conditioning, Armrest, Automatic climate ...  \\\n",
       "19606  [Air conditioning, Armrest, Automatic climate ...   \n",
       "7933   [Air conditioning, Armrest, Automatic climate ...   \n",
       "\n",
       "                                     entertainment_media   \n",
       "28129  [Apple CarPlay, Bluetooth, CD player, Digital ...  \\\n",
       "19606  [Bluetooth, Digital radio, Hands-free equipmen...   \n",
       "7933   [Apple CarPlay, Bluetooth, CD player, Digital ...   \n",
       "\n",
       "                                         safety_security   \n",
       "28129  [ABS, Adaptive Cruise Control, Adaptive headli...  \\\n",
       "19606  [ABS, Alarm system, Central door lock, Daytime...   \n",
       "7933   [ABS, Central door lock, Daytime running light...   \n",
       "\n",
       "                                                  extras  empty_weight   \n",
       "28129  [Alloy wheels, Roof rack, Sport seats, Sport s...       1906.00  \\\n",
       "19606  [Alloy wheels, Shift paddles, Sport package, S...           NaN   \n",
       "7933   [Alloy wheels, Automatically dimming interior ...           NaN   \n",
       "\n",
       "      model_code general_inspection last_service full_service_history   \n",
       "28129   9101/BFH                NaN          NaN                  NaN  \\\n",
       "19606        nan                New          NaN                  Yes   \n",
       "7933    3003/AJY            04/2024          NaN                  Yes   \n",
       "\n",
       "      non_smoker_vehicle emission_class emissions_sticker upholstery_colour   \n",
       "28129                NaN   Euro 6d-TEMP               NaN               NaN  \\\n",
       "19606                Yes         Euro 6         4 (Green)             Black   \n",
       "7933                 Yes         Euro 5         4 (Green)             Black   \n",
       "\n",
       "         upholstery  production_date             previous_owner   \n",
       "28129  Full leather          2018.00  [[26,515 km, 03/2019], 2]  \\\n",
       "19606  Full leather              NaN  [[31,987 km, 03/2018], 2]   \n",
       "7933   Full leather              NaN                        NaN   \n",
       "\n",
       "      other_fuel_types power_consumption energy_efficiency_class   \n",
       "28129              NaN               NaN                      A+  \\\n",
       "19606              NaN               NaN                     NaN   \n",
       "7933               NaN               NaN                       D   \n",
       "\n",
       "                                          co2_efficiency   \n",
       "28129  Calculated on basis of measured CO₂-emissions ...  \\\n",
       "19606                                                NaN   \n",
       "7933   Calculated on basis of measured CO₂-emissions ...   \n",
       "\n",
       "       fuel_consumption_wltp co2_emissions_wltp available_from   \n",
       "28129                    NaN                NaN            NaN  \\\n",
       "19606                    NaN                NaN            NaN   \n",
       "7933                     NaN                NaN            NaN   \n",
       "\n",
       "      taxi_or_rental_car availability last_timing_belt_change   \n",
       "28129                NaN          NaN                     NaN  \\\n",
       "19606                NaN          NaN                     NaN   \n",
       "7933                 NaN          NaN                     NaN   \n",
       "\n",
       "      electric_range_wltp power_consumption_wltp battery_ownership  power_hp   \n",
       "28129                 NaN                    NaN               NaN    190.00  \\\n",
       "19606                 NaN                    NaN               NaN    570.00   \n",
       "7933                  NaN                    NaN               NaN    156.00   \n",
       "\n",
       "       power_kw   age  fuel_consumption_comb  fuel_consumption_city   \n",
       "28129    140.00  3.00                   4.80                   5.60  \\\n",
       "19606    419.00  4.00                  11.80                  17.00   \n",
       "7933     115.00 11.00                   7.20                  10.00   \n",
       "\n",
       "       fuel_consumption_country  fuel_consumption_avg     fuel  \n",
       "28129                      4.40                  4.80   Diesel  \n",
       "19606                      8.80                 11.80  Benzine  \n",
       "7933                       5.50                  7.20  Benzine  "
      ]
     },
     "execution_count": 445,
     "metadata": {},
     "output_type": "execute_result"
    }
   ],
   "source": [
    "df.sample(3)"
   ]
  },
  {
   "cell_type": "code",
   "execution_count": 446,
   "metadata": {},
   "outputs": [
    {
     "data": {
      "text/plain": [
       "0           NaN\n",
       "6           NaN\n",
       "70      1300.00\n",
       "73          NaN\n",
       "93          NaN\n",
       "          ...  \n",
       "28570   2000.00\n",
       "28586   2000.00\n",
       "28606   2000.00\n",
       "28608   2000.00\n",
       "28609   2000.00\n",
       "Name: 0, Length: 1403, dtype: float64"
      ]
     },
     "execution_count": 446,
     "metadata": {},
     "output_type": "execute_result"
    }
   ],
   "source": [
    "# CONTROL engine_size\n",
    "df.loc[df.engine_size.isna(),['engine_size','short_description']].short_description.str.extract(r'(\\d+\\.\\d+)').astype(float).apply(lambda x: x * 1000)[0]"
   ]
  },
  {
   "cell_type": "code",
   "execution_count": 447,
   "metadata": {},
   "outputs": [],
   "source": [
    "# FILL engine_size na\n",
    "# df.loc[df.engine_size.isna(),['engine_size']] = df.loc[df.engine_size.isna(),['engine_size','short_description']].short_description.str.extract(r'(\\d+\\.\\d+)').astype(float).apply(lambda x: x * 1000)[0]"
   ]
  },
  {
   "cell_type": "code",
   "execution_count": 448,
   "metadata": {},
   "outputs": [
    {
     "data": {
      "text/plain": [
       "engine_size\n",
       "False    27227\n",
       "True      1403\n",
       "Name: count, dtype: int64"
      ]
     },
     "execution_count": 448,
     "metadata": {},
     "output_type": "execute_result"
    }
   ],
   "source": [
    "df.engine_size.isna().value_counts()"
   ]
  },
  {
   "cell_type": "code",
   "execution_count": 449,
   "metadata": {},
   "outputs": [
    {
     "data": {
      "text/plain": [
       "21392    [Air conditioning, Armrest, Cruise control, El...\n",
       "8173     [Air conditioning, Automatic climate control, ...\n",
       "16537                                                  NaN\n",
       "Name: comfort_convenience, dtype: object"
      ]
     },
     "execution_count": 449,
     "metadata": {},
     "output_type": "execute_result"
    }
   ],
   "source": [
    "df.comfort_convenience.sample(3)"
   ]
  },
  {
   "cell_type": "code",
   "execution_count": 450,
   "metadata": {},
   "outputs": [],
   "source": [
    "# CLEAN comfort\n",
    "df.comfort_convenience = df.comfort_convenience.astype(str).str.replace(\"[\\'\", '').str.replace(\"\\']\", '')"
   ]
  },
  {
   "cell_type": "code",
   "execution_count": 451,
   "metadata": {},
   "outputs": [
    {
     "data": {
      "text/plain": [
       "23355    Air conditioning, Automatic climate control, C...\n",
       "5964     Air conditioning, Armrest, Automatic climate c...\n",
       "2477     Air conditioning, Armrest, Automatic climate c...\n",
       "Name: comfort_convenience, dtype: object"
      ]
     },
     "execution_count": 451,
     "metadata": {},
     "output_type": "execute_result"
    }
   ],
   "source": [
    "df.comfort_convenience.sample(3)"
   ]
  },
  {
   "cell_type": "code",
   "execution_count": 452,
   "metadata": {},
   "outputs": [],
   "source": [
    "df.comfort_convenience = df.comfort_convenience.replace('nan',np.nan)"
   ]
  },
  {
   "cell_type": "code",
   "execution_count": 453,
   "metadata": {},
   "outputs": [
    {
     "data": {
      "text/plain": [
       "array(['Air conditioning', 'Automatic climate control', 'Power windows',\n",
       "       'Rain sensor', 'Electrical side mirrors',\n",
       "       'Multi-function steering wheel', 'Split rear seats', 'Armrest',\n",
       "       'Cruise control', 'Lumbar support', 'Panorama roof',\n",
       "       'Parking assist system sensors front',\n",
       "       'Parking assist system sensors rear', 'Sunroof', 'Tinted windows',\n",
       "       'Navigation system', 'Parking assist system self-steering',\n",
       "       'Seat heating', 'Leather steering wheel', 'Light sensor',\n",
       "       'Start-stop system', 'Parking assist system camera', 'Hill Holder',\n",
       "       'Electrically heated windshield', 'Heads-up display',\n",
       "       'Keyless central door lock', '2 zones', 'Auxiliary heating',\n",
       "       'Electric tailgate', 'Electrically adjustable seats',\n",
       "       '360° camera', 'Air suspension', 'Seat ventilation',\n",
       "       'Massage seats', 'Park Distance Control', '3 zones',\n",
       "       'Fold flat passenger seat', 'Wind deflector',\n",
       "       'Electric backseat adjustment', 'Heated steering wheel', '4 zones',\n",
       "       'Sliding door right', 'Sliding door left', 'Leather seats'],\n",
       "      dtype=object)"
      ]
     },
     "execution_count": 453,
     "metadata": {},
     "output_type": "execute_result"
    }
   ],
   "source": [
    "df.comfort_convenience.str.split(',', expand=True).stack().str.strip().explode().unique()"
   ]
  },
  {
   "cell_type": "code",
   "execution_count": 454,
   "metadata": {},
   "outputs": [
    {
     "data": {
      "text/plain": [
       "18355    [Bluetooth, Hands-free equipment, On-board com...\n",
       "12084    [Android Auto, Apple CarPlay, Digital radio, H...\n",
       "19936    [Android Auto, Apple CarPlay, Bluetooth, CD pl...\n",
       "Name: entertainment_media, dtype: object"
      ]
     },
     "execution_count": 454,
     "metadata": {},
     "output_type": "execute_result"
    }
   ],
   "source": [
    "df.entertainment_media.sample(3)"
   ]
  },
  {
   "cell_type": "code",
   "execution_count": 455,
   "metadata": {},
   "outputs": [],
   "source": [
    "df.entertainment_media = df.entertainment_media.astype(str).str.replace(\"[\\'\", '').str.replace(\"\\']\", '')"
   ]
  },
  {
   "cell_type": "code",
   "execution_count": 456,
   "metadata": {},
   "outputs": [],
   "source": [
    "df.entertainment_media = df.entertainment_media.replace('nan',np.nan)"
   ]
  },
  {
   "cell_type": "code",
   "execution_count": 457,
   "metadata": {},
   "outputs": [
    {
     "data": {
      "text/plain": [
       "16618                             On-board computer, Radio\n",
       "17432    Bluetooth, CD player, MP3, On-board computer, ...\n",
       "27475                                            Bluetooth\n",
       "Name: entertainment_media, dtype: object"
      ]
     },
     "execution_count": 457,
     "metadata": {},
     "output_type": "execute_result"
    }
   ],
   "source": [
    "df.entertainment_media.sample(3)"
   ]
  },
  {
   "cell_type": "code",
   "execution_count": 458,
   "metadata": {},
   "outputs": [
    {
     "data": {
      "text/plain": [
       "18200    [ABS, Central door lock, Driver-side airbag, F...\n",
       "24724    [ABS, Central door lock, Daytime running light...\n",
       "25083    [ABS, Alarm system, Central door lock, Central...\n",
       "Name: safety_security, dtype: object"
      ]
     },
     "execution_count": 458,
     "metadata": {},
     "output_type": "execute_result"
    }
   ],
   "source": [
    "df.safety_security.sample(3)"
   ]
  },
  {
   "cell_type": "code",
   "execution_count": 459,
   "metadata": {},
   "outputs": [],
   "source": [
    "df.safety_security = df.safety_security.astype(str).str.replace(\"[\\'\", '').str.replace(\"\\']\", '')"
   ]
  },
  {
   "cell_type": "code",
   "execution_count": 460,
   "metadata": {},
   "outputs": [],
   "source": [
    "df.safety_security = df.safety_security.replace('nan',np.nan)"
   ]
  },
  {
   "cell_type": "code",
   "execution_count": 461,
   "metadata": {},
   "outputs": [
    {
     "data": {
      "text/plain": [
       "array(['ABS', 'Central door lock', 'Driver-side airbag',\n",
       "       'Electronic stability control', 'Traction control', 'Isofix',\n",
       "       'Xenon headlights', 'Bi-Xenon headlights', 'Fog lights',\n",
       "       'Head airbag', 'Immobilizer', 'Passenger-side airbag',\n",
       "       'Power steering', 'Side airbag', 'Speed limit control system',\n",
       "       'Emergency brake assistant', 'Alarm system',\n",
       "       'Central door lock with remote control',\n",
       "       'Tire pressure monitoring system', 'Daytime running lights',\n",
       "       'LED Daytime Running Lights', 'LED Headlights',\n",
       "       'Lane departure warning system', 'Traffic sign recognition',\n",
       "       'Full-LED headlights', 'Distance warning system',\n",
       "       'Driver drowsiness detection', 'Emergency system',\n",
       "       'High beam assist', 'Rear airbag', 'Adaptive Cruise Control',\n",
       "       'Blind spot monitor', 'Glare-free high beam headlights',\n",
       "       'Adaptive headlights', 'Laser headlights', 'Night view assist'],\n",
       "      dtype=object)"
      ]
     },
     "execution_count": 461,
     "metadata": {},
     "output_type": "execute_result"
    }
   ],
   "source": [
    "df.safety_security.str.split(',', expand=True).stack().str.strip().explode().unique()"
   ]
  },
  {
   "cell_type": "code",
   "execution_count": 462,
   "metadata": {},
   "outputs": [
    {
     "data": {
      "text/plain": [
       "4560    [All season tyres, Alloy wheels (16\"), Ambient...\n",
       "4468    [Alloy wheels (18\"), Automatically dimming int...\n",
       "9009                            [Alloy wheels, Roof rack]\n",
       "Name: extras, dtype: object"
      ]
     },
     "execution_count": 462,
     "metadata": {},
     "output_type": "execute_result"
    }
   ],
   "source": [
    "df.extras.sample(3)"
   ]
  },
  {
   "cell_type": "code",
   "execution_count": 463,
   "metadata": {},
   "outputs": [],
   "source": [
    "df.extras = df.extras.astype(str).str.replace(\"[\\'\", '').str.replace(\"\\']\", '').str.replace(\"\\\"]\", '').str.replace('[\\\"', '').str.replace('\\\\', '')"
   ]
  },
  {
   "cell_type": "code",
   "execution_count": 464,
   "metadata": {},
   "outputs": [],
   "source": [
    "df.extras = df.extras.replace('nan',np.nan)"
   ]
  },
  {
   "cell_type": "code",
   "execution_count": 465,
   "metadata": {},
   "outputs": [
    {
     "data": {
      "text/plain": [
       "array(['Sport seats', 'Alloy wheels (17\")', 'Catalytic Converter',\n",
       "       'Emergency tyre repair kit', 'Headlight washer system',\n",
       "       \"Smoker's package\", 'Sport package', 'Alloy wheels', 'Spoiler',\n",
       "       'Sport suspension', 'Automatically dimming interior mirror',\n",
       "       'Voice Control', 'Cargo barrier', 'Emergency tyre', 'Summer tyres',\n",
       "       'Winter package', 'Alloy wheels (19\")', 'Ski bag', 'Winter tyres',\n",
       "       'Electronic parking brake', 'Shift paddles', 'Touch screen',\n",
       "       'Sliding door', 'Alloy wheels (18\")', 'Ambient lighting',\n",
       "       'Alloy wheels (16\")', 'E10-enabled', 'Spare tyre',\n",
       "       'Alloy wheels (21\")', 'Trailer hitch', 'Alloy wheels (20\")',\n",
       "       'Steel wheels', 'Biodiesel conversion', 'Handicapped enabled',\n",
       "       'Tuned car', 'Range extender', 'All season tyres',\n",
       "       'Alloy wheels (14\")', 'Alloy wheels (15\")', 'Roof rack',\n",
       "       'Alloy wheels (22\")', 'Alloy wheels (23\")', 'Alloy wheels (13\")',\n",
       "       'Right hand drive', 'Awning', 'Alloy wheels (26\")',\n",
       "       'Alloy wheels (10\")'], dtype=object)"
      ]
     },
     "execution_count": 465,
     "metadata": {},
     "output_type": "execute_result"
    }
   ],
   "source": [
    "df.extras.str.split(',', expand=True).stack().str.strip().explode().unique()"
   ]
  },
  {
   "cell_type": "code",
   "execution_count": 466,
   "metadata": {},
   "outputs": [
    {
     "data": {
      "text/html": [
       "<div>\n",
       "<style scoped>\n",
       "    .dataframe tbody tr th:only-of-type {\n",
       "        vertical-align: middle;\n",
       "    }\n",
       "\n",
       "    .dataframe tbody tr th {\n",
       "        vertical-align: top;\n",
       "    }\n",
       "\n",
       "    .dataframe thead th {\n",
       "        text-align: right;\n",
       "    }\n",
       "</style>\n",
       "<table border=\"1\" class=\"dataframe\">\n",
       "  <thead>\n",
       "    <tr style=\"text-align: right;\">\n",
       "      <th></th>\n",
       "      <th>make_model</th>\n",
       "      <th>short_description</th>\n",
       "      <th>make</th>\n",
       "      <th>model</th>\n",
       "      <th>location</th>\n",
       "      <th>price</th>\n",
       "      <th>body_type</th>\n",
       "      <th>type</th>\n",
       "      <th>doors</th>\n",
       "      <th>country_version</th>\n",
       "      <th>offer_number</th>\n",
       "      <th>warranty</th>\n",
       "      <th>mileage</th>\n",
       "      <th>first_registration</th>\n",
       "      <th>gearbox</th>\n",
       "      <th>fuel_type</th>\n",
       "      <th>colour</th>\n",
       "      <th>paint</th>\n",
       "      <th>desc</th>\n",
       "      <th>seller</th>\n",
       "      <th>seats</th>\n",
       "      <th>power</th>\n",
       "      <th>engine_size</th>\n",
       "      <th>gears</th>\n",
       "      <th>co2_emissions</th>\n",
       "      <th>manufacturer_colour</th>\n",
       "      <th>drivetrain</th>\n",
       "      <th>cylinders</th>\n",
       "      <th>fuel_consumption</th>\n",
       "      <th>comfort_convenience</th>\n",
       "      <th>entertainment_media</th>\n",
       "      <th>safety_security</th>\n",
       "      <th>extras</th>\n",
       "      <th>empty_weight</th>\n",
       "      <th>model_code</th>\n",
       "      <th>general_inspection</th>\n",
       "      <th>last_service</th>\n",
       "      <th>full_service_history</th>\n",
       "      <th>non_smoker_vehicle</th>\n",
       "      <th>emission_class</th>\n",
       "      <th>emissions_sticker</th>\n",
       "      <th>upholstery_colour</th>\n",
       "      <th>upholstery</th>\n",
       "      <th>production_date</th>\n",
       "      <th>previous_owner</th>\n",
       "      <th>other_fuel_types</th>\n",
       "      <th>power_consumption</th>\n",
       "      <th>energy_efficiency_class</th>\n",
       "      <th>co2_efficiency</th>\n",
       "      <th>fuel_consumption_wltp</th>\n",
       "      <th>co2_emissions_wltp</th>\n",
       "      <th>available_from</th>\n",
       "      <th>taxi_or_rental_car</th>\n",
       "      <th>availability</th>\n",
       "      <th>last_timing_belt_change</th>\n",
       "      <th>electric_range_wltp</th>\n",
       "      <th>power_consumption_wltp</th>\n",
       "      <th>battery_ownership</th>\n",
       "      <th>power_hp</th>\n",
       "      <th>power_kw</th>\n",
       "      <th>age</th>\n",
       "      <th>fuel_consumption_comb</th>\n",
       "      <th>fuel_consumption_city</th>\n",
       "      <th>fuel_consumption_country</th>\n",
       "      <th>fuel_consumption_avg</th>\n",
       "      <th>fuel</th>\n",
       "    </tr>\n",
       "  </thead>\n",
       "  <tbody>\n",
       "    <tr>\n",
       "      <th>13948</th>\n",
       "      <td>Skoda Fabia</td>\n",
       "      <td>1.0 MPI Color Concept 55kW</td>\n",
       "      <td>Skoda</td>\n",
       "      <td>Fabia</td>\n",
       "      <td>Avenida del castell Vell Nº 73,  12004 CASTELL...</td>\n",
       "      <td>12200.00</td>\n",
       "      <td>Compact</td>\n",
       "      <td>Used</td>\n",
       "      <td>5.00</td>\n",
       "      <td>Spain</td>\n",
       "      <td>7340375</td>\n",
       "      <td>Yes</td>\n",
       "      <td>57851.00</td>\n",
       "      <td>2019-07-01</td>\n",
       "      <td>Manual</td>\n",
       "      <td>Gasoline</td>\n",
       "      <td>Green</td>\n",
       "      <td>NaN</td>\n",
       "      <td>[Precio al contado: 13700 euros, Extras, Equip...</td>\n",
       "      <td>Dealer</td>\n",
       "      <td>5.00</td>\n",
       "      <td>55 kW (75 hp)</td>\n",
       "      <td>999.00</td>\n",
       "      <td>5.00</td>\n",
       "      <td>NaN</td>\n",
       "      <td>P71Z - VERDE RALLY METALIZADO</td>\n",
       "      <td>Front</td>\n",
       "      <td>3.00</td>\n",
       "      <td>[[4.9 l/100 km (comb.)], [6 l/100 km (city)], ...</td>\n",
       "      <td>Air conditioning, Electrical side mirrors, Lig...</td>\n",
       "      <td>Bluetooth, On-board computer</td>\n",
       "      <td>ABS, Central door lock, Driver-side airbag, Fo...</td>\n",
       "      <td>Alloy wheels</td>\n",
       "      <td>1080.00</td>\n",
       "      <td>nan</td>\n",
       "      <td>NaN</td>\n",
       "      <td>NaN</td>\n",
       "      <td>NaN</td>\n",
       "      <td>NaN</td>\n",
       "      <td>NaN</td>\n",
       "      <td>NaN</td>\n",
       "      <td>NaN</td>\n",
       "      <td>NaN</td>\n",
       "      <td>NaN</td>\n",
       "      <td>NaN</td>\n",
       "      <td>NaN</td>\n",
       "      <td>NaN</td>\n",
       "      <td>NaN</td>\n",
       "      <td>NaN</td>\n",
       "      <td>NaN</td>\n",
       "      <td>NaN</td>\n",
       "      <td>NaN</td>\n",
       "      <td>NaN</td>\n",
       "      <td>NaN</td>\n",
       "      <td>NaN</td>\n",
       "      <td>NaN</td>\n",
       "      <td>NaN</td>\n",
       "      <td>NaN</td>\n",
       "      <td>75.00</td>\n",
       "      <td>55.00</td>\n",
       "      <td>3.00</td>\n",
       "      <td>4.90</td>\n",
       "      <td>6.00</td>\n",
       "      <td>4.30</td>\n",
       "      <td>4.90</td>\n",
       "      <td>Benzine</td>\n",
       "    </tr>\n",
       "    <tr>\n",
       "      <th>23735</th>\n",
       "      <td>Hyundai i20</td>\n",
       "      <td>1.0 T-GDi Sport</td>\n",
       "      <td>Hyundai</td>\n",
       "      <td>i20</td>\n",
       "      <td>2390 Oostmalle, BE</td>\n",
       "      <td>11000.00</td>\n",
       "      <td>Coupe</td>\n",
       "      <td>Used</td>\n",
       "      <td>3.00</td>\n",
       "      <td>NaN</td>\n",
       "      <td>nan</td>\n",
       "      <td>No</td>\n",
       "      <td>46442.00</td>\n",
       "      <td>2016-09-01</td>\n",
       "      <td>Manual</td>\n",
       "      <td>Gasoline</td>\n",
       "      <td>Orange</td>\n",
       "      <td>NaN</td>\n",
       "      <td>[Verkoop wegens verkrijgen bedrijfswagen.]</td>\n",
       "      <td>Private seller</td>\n",
       "      <td>5.00</td>\n",
       "      <td>88 kW (120 hp)</td>\n",
       "      <td>998.00</td>\n",
       "      <td>6.00</td>\n",
       "      <td>112.00</td>\n",
       "      <td>NaN</td>\n",
       "      <td>Front</td>\n",
       "      <td>3.00</td>\n",
       "      <td>[[4.8 l/100 km (comb.)], [6 l/100 km (city)], ...</td>\n",
       "      <td>Air conditioning, Cruise control, Electrical s...</td>\n",
       "      <td>Bluetooth, CD player, Hands-free equipment, MP...</td>\n",
       "      <td>ABS, Alarm system, Central door lock with remo...</td>\n",
       "      <td>Alloy wheels, Emergency tyre, Trailer hitch, V...</td>\n",
       "      <td>1085.00</td>\n",
       "      <td>nan</td>\n",
       "      <td>NaN</td>\n",
       "      <td>NaN</td>\n",
       "      <td>NaN</td>\n",
       "      <td>Yes</td>\n",
       "      <td>Euro 6</td>\n",
       "      <td>NaN</td>\n",
       "      <td>Black</td>\n",
       "      <td>Cloth</td>\n",
       "      <td>NaN</td>\n",
       "      <td>NaN</td>\n",
       "      <td>NaN</td>\n",
       "      <td>NaN</td>\n",
       "      <td>NaN</td>\n",
       "      <td>NaN</td>\n",
       "      <td>NaN</td>\n",
       "      <td>NaN</td>\n",
       "      <td>NaN</td>\n",
       "      <td>NaN</td>\n",
       "      <td>NaN</td>\n",
       "      <td>NaN</td>\n",
       "      <td>NaN</td>\n",
       "      <td>NaN</td>\n",
       "      <td>NaN</td>\n",
       "      <td>120.00</td>\n",
       "      <td>88.00</td>\n",
       "      <td>6.00</td>\n",
       "      <td>4.80</td>\n",
       "      <td>6.00</td>\n",
       "      <td>4.10</td>\n",
       "      <td>4.80</td>\n",
       "      <td>Benzine</td>\n",
       "    </tr>\n",
       "    <tr>\n",
       "      <th>9816</th>\n",
       "      <td>Fiat 500</td>\n",
       "      <td>Lounge 1.2l 69ch</td>\n",
       "      <td>Fiat</td>\n",
       "      <td>500</td>\n",
       "      <td>Chaussée De Fleurus 309,  6060 Gilly, BE</td>\n",
       "      <td>12990.00</td>\n",
       "      <td>Compact</td>\n",
       "      <td>Used</td>\n",
       "      <td>3.00</td>\n",
       "      <td>NaN</td>\n",
       "      <td>845</td>\n",
       "      <td>Yes</td>\n",
       "      <td>15050.00</td>\n",
       "      <td>2019-07-01</td>\n",
       "      <td>Manual</td>\n",
       "      <td>Gasoline</td>\n",
       "      <td>Red</td>\n",
       "      <td>NaN</td>\n",
       "      <td>[Banquette arrière rabattable, Commande vocale...</td>\n",
       "      <td>Dealer</td>\n",
       "      <td>NaN</td>\n",
       "      <td>51 kW (69 hp)</td>\n",
       "      <td>1242.00</td>\n",
       "      <td>5.00</td>\n",
       "      <td>0.00</td>\n",
       "      <td>NaN</td>\n",
       "      <td>Front</td>\n",
       "      <td>NaN</td>\n",
       "      <td>NaN</td>\n",
       "      <td>Air conditioning, Automatic climate control, C...</td>\n",
       "      <td>Android Auto, Apple CarPlay, Bluetooth, Digita...</td>\n",
       "      <td>Central door lock, Isofix, LED Daytime Running...</td>\n",
       "      <td>Alloy wheels, Touch screen</td>\n",
       "      <td>NaN</td>\n",
       "      <td>nan</td>\n",
       "      <td>NaN</td>\n",
       "      <td>NaN</td>\n",
       "      <td>NaN</td>\n",
       "      <td>Yes</td>\n",
       "      <td>Euro 6</td>\n",
       "      <td>NaN</td>\n",
       "      <td>Grey</td>\n",
       "      <td>Part leather</td>\n",
       "      <td>NaN</td>\n",
       "      <td>[[15,050 km, 07/2019], 2]</td>\n",
       "      <td>NaN</td>\n",
       "      <td>NaN</td>\n",
       "      <td>NaN</td>\n",
       "      <td>NaN</td>\n",
       "      <td>NaN</td>\n",
       "      <td>NaN</td>\n",
       "      <td>NaN</td>\n",
       "      <td>NaN</td>\n",
       "      <td>NaN</td>\n",
       "      <td>NaN</td>\n",
       "      <td>NaN</td>\n",
       "      <td>NaN</td>\n",
       "      <td>NaN</td>\n",
       "      <td>69.00</td>\n",
       "      <td>51.00</td>\n",
       "      <td>3.00</td>\n",
       "      <td>NaN</td>\n",
       "      <td>NaN</td>\n",
       "      <td>NaN</td>\n",
       "      <td>NaN</td>\n",
       "      <td>Benzine</td>\n",
       "    </tr>\n",
       "  </tbody>\n",
       "</table>\n",
       "</div>"
      ],
      "text/plain": [
       "        make_model           short_description     make  model   \n",
       "13948  Skoda Fabia  1.0 MPI Color Concept 55kW    Skoda  Fabia  \\\n",
       "23735  Hyundai i20             1.0 T-GDi Sport  Hyundai    i20   \n",
       "9816      Fiat 500            Lounge 1.2l 69ch     Fiat    500   \n",
       "\n",
       "                                                location    price body_type   \n",
       "13948  Avenida del castell Vell Nº 73,  12004 CASTELL... 12200.00   Compact  \\\n",
       "23735                                 2390 Oostmalle, BE 11000.00     Coupe   \n",
       "9816            Chaussée De Fleurus 309,  6060 Gilly, BE 12990.00   Compact   \n",
       "\n",
       "       type  doors country_version offer_number warranty  mileage   \n",
       "13948  Used   5.00           Spain      7340375      Yes 57851.00  \\\n",
       "23735  Used   3.00             NaN          nan       No 46442.00   \n",
       "9816   Used   3.00             NaN          845      Yes 15050.00   \n",
       "\n",
       "      first_registration gearbox fuel_type  colour paint   \n",
       "13948         2019-07-01  Manual  Gasoline   Green   NaN  \\\n",
       "23735         2016-09-01  Manual  Gasoline  Orange   NaN   \n",
       "9816          2019-07-01  Manual  Gasoline     Red   NaN   \n",
       "\n",
       "                                                    desc          seller   \n",
       "13948  [Precio al contado: 13700 euros, Extras, Equip...          Dealer  \\\n",
       "23735         [Verkoop wegens verkrijgen bedrijfswagen.]  Private seller   \n",
       "9816   [Banquette arrière rabattable, Commande vocale...          Dealer   \n",
       "\n",
       "       seats           power  engine_size  gears  co2_emissions   \n",
       "13948   5.00   55 kW (75 hp)       999.00   5.00            NaN  \\\n",
       "23735   5.00  88 kW (120 hp)       998.00   6.00         112.00   \n",
       "9816     NaN   51 kW (69 hp)      1242.00   5.00           0.00   \n",
       "\n",
       "                 manufacturer_colour drivetrain  cylinders   \n",
       "13948  P71Z - VERDE RALLY METALIZADO      Front       3.00  \\\n",
       "23735                            NaN      Front       3.00   \n",
       "9816                             NaN      Front        NaN   \n",
       "\n",
       "                                        fuel_consumption   \n",
       "13948  [[4.9 l/100 km (comb.)], [6 l/100 km (city)], ...  \\\n",
       "23735  [[4.8 l/100 km (comb.)], [6 l/100 km (city)], ...   \n",
       "9816                                                 NaN   \n",
       "\n",
       "                                     comfort_convenience   \n",
       "13948  Air conditioning, Electrical side mirrors, Lig...  \\\n",
       "23735  Air conditioning, Cruise control, Electrical s...   \n",
       "9816   Air conditioning, Automatic climate control, C...   \n",
       "\n",
       "                                     entertainment_media   \n",
       "13948                       Bluetooth, On-board computer  \\\n",
       "23735  Bluetooth, CD player, Hands-free equipment, MP...   \n",
       "9816   Android Auto, Apple CarPlay, Bluetooth, Digita...   \n",
       "\n",
       "                                         safety_security   \n",
       "13948  ABS, Central door lock, Driver-side airbag, Fo...  \\\n",
       "23735  ABS, Alarm system, Central door lock with remo...   \n",
       "9816   Central door lock, Isofix, LED Daytime Running...   \n",
       "\n",
       "                                                  extras  empty_weight   \n",
       "13948                                       Alloy wheels       1080.00  \\\n",
       "23735  Alloy wheels, Emergency tyre, Trailer hitch, V...       1085.00   \n",
       "9816                          Alloy wheels, Touch screen           NaN   \n",
       "\n",
       "      model_code general_inspection last_service full_service_history   \n",
       "13948        nan                NaN          NaN                  NaN  \\\n",
       "23735        nan                NaN          NaN                  NaN   \n",
       "9816         nan                NaN          NaN                  NaN   \n",
       "\n",
       "      non_smoker_vehicle emission_class emissions_sticker upholstery_colour   \n",
       "13948                NaN            NaN               NaN               NaN  \\\n",
       "23735                Yes         Euro 6               NaN             Black   \n",
       "9816                 Yes         Euro 6               NaN              Grey   \n",
       "\n",
       "         upholstery  production_date             previous_owner   \n",
       "13948           NaN              NaN                        NaN  \\\n",
       "23735         Cloth              NaN                        NaN   \n",
       "9816   Part leather              NaN  [[15,050 km, 07/2019], 2]   \n",
       "\n",
       "      other_fuel_types power_consumption energy_efficiency_class   \n",
       "13948              NaN               NaN                     NaN  \\\n",
       "23735              NaN               NaN                     NaN   \n",
       "9816               NaN               NaN                     NaN   \n",
       "\n",
       "      co2_efficiency  fuel_consumption_wltp co2_emissions_wltp available_from   \n",
       "13948            NaN                    NaN                NaN            NaN  \\\n",
       "23735            NaN                    NaN                NaN            NaN   \n",
       "9816             NaN                    NaN                NaN            NaN   \n",
       "\n",
       "      taxi_or_rental_car availability last_timing_belt_change   \n",
       "13948                NaN          NaN                     NaN  \\\n",
       "23735                NaN          NaN                     NaN   \n",
       "9816                 NaN          NaN                     NaN   \n",
       "\n",
       "      electric_range_wltp power_consumption_wltp battery_ownership  power_hp   \n",
       "13948                 NaN                    NaN               NaN     75.00  \\\n",
       "23735                 NaN                    NaN               NaN    120.00   \n",
       "9816                  NaN                    NaN               NaN     69.00   \n",
       "\n",
       "       power_kw  age  fuel_consumption_comb  fuel_consumption_city   \n",
       "13948     55.00 3.00                   4.90                   6.00  \\\n",
       "23735     88.00 6.00                   4.80                   6.00   \n",
       "9816      51.00 3.00                    NaN                    NaN   \n",
       "\n",
       "       fuel_consumption_country  fuel_consumption_avg     fuel  \n",
       "13948                      4.30                  4.90  Benzine  \n",
       "23735                      4.10                  4.80  Benzine  \n",
       "9816                        NaN                   NaN  Benzine  "
      ]
     },
     "execution_count": 466,
     "metadata": {},
     "output_type": "execute_result"
    }
   ],
   "source": [
    "df.sample(3)"
   ]
  },
  {
   "cell_type": "code",
   "execution_count": 467,
   "metadata": {},
   "outputs": [
    {
     "data": {
      "text/plain": [
       "upholstery\n",
       "Cloth           8736\n",
       "Full leather    5439\n",
       "Part leather    2835\n",
       "alcantara        764\n",
       "Other            628\n",
       "Velour           208\n",
       "Name: count, dtype: int64"
      ]
     },
     "execution_count": 467,
     "metadata": {},
     "output_type": "execute_result"
    }
   ],
   "source": [
    "df.upholstery.value_counts()"
   ]
  },
  {
   "cell_type": "code",
   "execution_count": 468,
   "metadata": {},
   "outputs": [
    {
     "data": {
      "text/plain": [
       "upholstery\n",
       "False    18610\n",
       "True     10020\n",
       "Name: count, dtype: int64"
      ]
     },
     "execution_count": 468,
     "metadata": {},
     "output_type": "execute_result"
    }
   ],
   "source": [
    "df.upholstery.isna().value_counts()"
   ]
  },
  {
   "cell_type": "code",
   "execution_count": 469,
   "metadata": {},
   "outputs": [
    {
     "data": {
      "text/plain": [
       "previous_owner\n",
       "True     14615\n",
       "False    14015\n",
       "Name: count, dtype: int64"
      ]
     },
     "execution_count": 469,
     "metadata": {},
     "output_type": "execute_result"
    }
   ],
   "source": [
    "df.previous_owner.isna().value_counts()"
   ]
  },
  {
   "cell_type": "code",
   "execution_count": 470,
   "metadata": {},
   "outputs": [],
   "source": [
    "df.previous_owner = df.previous_owner.str[1]"
   ]
  },
  {
   "cell_type": "code",
   "execution_count": 471,
   "metadata": {},
   "outputs": [],
   "source": [
    "df.full_service_history.fillna('No',inplace=True)"
   ]
  },
  {
   "cell_type": "code",
   "execution_count": 472,
   "metadata": {},
   "outputs": [
    {
     "data": {
      "text/plain": [
       "full_service_history\n",
       "No     16065\n",
       "Yes    12565\n",
       "Name: count, dtype: int64"
      ]
     },
     "execution_count": 472,
     "metadata": {},
     "output_type": "execute_result"
    }
   ],
   "source": [
    "df.full_service_history.value_counts()"
   ]
  },
  {
   "cell_type": "code",
   "execution_count": 473,
   "metadata": {},
   "outputs": [
    {
     "data": {
      "text/html": [
       "<div>\n",
       "<style scoped>\n",
       "    .dataframe tbody tr th:only-of-type {\n",
       "        vertical-align: middle;\n",
       "    }\n",
       "\n",
       "    .dataframe tbody tr th {\n",
       "        vertical-align: top;\n",
       "    }\n",
       "\n",
       "    .dataframe thead th {\n",
       "        text-align: right;\n",
       "    }\n",
       "</style>\n",
       "<table border=\"1\" class=\"dataframe\">\n",
       "  <thead>\n",
       "    <tr style=\"text-align: right;\">\n",
       "      <th></th>\n",
       "      <th>make_model</th>\n",
       "      <th>short_description</th>\n",
       "      <th>make</th>\n",
       "      <th>model</th>\n",
       "      <th>location</th>\n",
       "      <th>price</th>\n",
       "      <th>body_type</th>\n",
       "      <th>type</th>\n",
       "      <th>doors</th>\n",
       "      <th>country_version</th>\n",
       "      <th>offer_number</th>\n",
       "      <th>warranty</th>\n",
       "      <th>mileage</th>\n",
       "      <th>first_registration</th>\n",
       "      <th>gearbox</th>\n",
       "      <th>fuel_type</th>\n",
       "      <th>colour</th>\n",
       "      <th>paint</th>\n",
       "      <th>desc</th>\n",
       "      <th>seller</th>\n",
       "      <th>seats</th>\n",
       "      <th>power</th>\n",
       "      <th>engine_size</th>\n",
       "      <th>gears</th>\n",
       "      <th>co2_emissions</th>\n",
       "      <th>manufacturer_colour</th>\n",
       "      <th>drivetrain</th>\n",
       "      <th>cylinders</th>\n",
       "      <th>fuel_consumption</th>\n",
       "      <th>comfort_convenience</th>\n",
       "      <th>entertainment_media</th>\n",
       "      <th>safety_security</th>\n",
       "      <th>extras</th>\n",
       "      <th>empty_weight</th>\n",
       "      <th>model_code</th>\n",
       "      <th>general_inspection</th>\n",
       "      <th>last_service</th>\n",
       "      <th>full_service_history</th>\n",
       "      <th>non_smoker_vehicle</th>\n",
       "      <th>emission_class</th>\n",
       "      <th>emissions_sticker</th>\n",
       "      <th>upholstery_colour</th>\n",
       "      <th>upholstery</th>\n",
       "      <th>production_date</th>\n",
       "      <th>previous_owner</th>\n",
       "      <th>other_fuel_types</th>\n",
       "      <th>power_consumption</th>\n",
       "      <th>energy_efficiency_class</th>\n",
       "      <th>co2_efficiency</th>\n",
       "      <th>fuel_consumption_wltp</th>\n",
       "      <th>co2_emissions_wltp</th>\n",
       "      <th>available_from</th>\n",
       "      <th>taxi_or_rental_car</th>\n",
       "      <th>availability</th>\n",
       "      <th>last_timing_belt_change</th>\n",
       "      <th>electric_range_wltp</th>\n",
       "      <th>power_consumption_wltp</th>\n",
       "      <th>battery_ownership</th>\n",
       "      <th>power_hp</th>\n",
       "      <th>power_kw</th>\n",
       "      <th>age</th>\n",
       "      <th>fuel_consumption_comb</th>\n",
       "      <th>fuel_consumption_city</th>\n",
       "      <th>fuel_consumption_country</th>\n",
       "      <th>fuel_consumption_avg</th>\n",
       "      <th>fuel</th>\n",
       "    </tr>\n",
       "  </thead>\n",
       "  <tbody>\n",
       "    <tr>\n",
       "      <th>0</th>\n",
       "      <td>0.00</td>\n",
       "      <td>0.00</td>\n",
       "      <td>0.00</td>\n",
       "      <td>0.00</td>\n",
       "      <td>0.00</td>\n",
       "      <td>0.00</td>\n",
       "      <td>0.00</td>\n",
       "      <td>0.00</td>\n",
       "      <td>1.25</td>\n",
       "      <td>41.01</td>\n",
       "      <td>0.00</td>\n",
       "      <td>0.00</td>\n",
       "      <td>0.00</td>\n",
       "      <td>0.01</td>\n",
       "      <td>0.00</td>\n",
       "      <td>0.03</td>\n",
       "      <td>6.02</td>\n",
       "      <td>48.99</td>\n",
       "      <td>2.04</td>\n",
       "      <td>0.00</td>\n",
       "      <td>10.92</td>\n",
       "      <td>0.00</td>\n",
       "      <td>4.90</td>\n",
       "      <td>33.80</td>\n",
       "      <td>35.05</td>\n",
       "      <td>23.90</td>\n",
       "      <td>41.00</td>\n",
       "      <td>34.15</td>\n",
       "      <td>18.32</td>\n",
       "      <td>11.17</td>\n",
       "      <td>17.42</td>\n",
       "      <td>11.23</td>\n",
       "      <td>17.99</td>\n",
       "      <td>37.97</td>\n",
       "      <td>0.00</td>\n",
       "      <td>57.20</td>\n",
       "      <td>93.00</td>\n",
       "      <td>0.00</td>\n",
       "      <td>59.50</td>\n",
       "      <td>37.62</td>\n",
       "      <td>67.12</td>\n",
       "      <td>49.11</td>\n",
       "      <td>35.00</td>\n",
       "      <td>79.36</td>\n",
       "      <td>51.05</td>\n",
       "      <td>91.92</td>\n",
       "      <td>98.20</td>\n",
       "      <td>72.74</td>\n",
       "      <td>72.74</td>\n",
       "      <td>99.65</td>\n",
       "      <td>99.59</td>\n",
       "      <td>98.63</td>\n",
       "      <td>98.53</td>\n",
       "      <td>98.95</td>\n",
       "      <td>98.00</td>\n",
       "      <td>99.94</td>\n",
       "      <td>99.94</td>\n",
       "      <td>99.98</td>\n",
       "      <td>2.01</td>\n",
       "      <td>2.05</td>\n",
       "      <td>0.01</td>\n",
       "      <td>18.93</td>\n",
       "      <td>30.10</td>\n",
       "      <td>30.08</td>\n",
       "      <td>18.52</td>\n",
       "      <td>0.03</td>\n",
       "    </tr>\n",
       "  </tbody>\n",
       "</table>\n",
       "</div>"
      ],
      "text/plain": [
       "   make_model  short_description  make  model  location  price  body_type   \n",
       "0        0.00               0.00  0.00   0.00      0.00   0.00       0.00  \\\n",
       "\n",
       "   type  doors  country_version  offer_number  warranty  mileage   \n",
       "0  0.00   1.25            41.01          0.00      0.00     0.00  \\\n",
       "\n",
       "   first_registration  gearbox  fuel_type  colour  paint  desc  seller  seats   \n",
       "0                0.01     0.00       0.03    6.02  48.99  2.04    0.00  10.92  \\\n",
       "\n",
       "   power  engine_size  gears  co2_emissions  manufacturer_colour  drivetrain   \n",
       "0   0.00         4.90  33.80          35.05                23.90       41.00  \\\n",
       "\n",
       "   cylinders  fuel_consumption  comfort_convenience  entertainment_media   \n",
       "0      34.15             18.32                11.17                17.42  \\\n",
       "\n",
       "   safety_security  extras  empty_weight  model_code  general_inspection   \n",
       "0            11.23   17.99         37.97        0.00               57.20  \\\n",
       "\n",
       "   last_service  full_service_history  non_smoker_vehicle  emission_class   \n",
       "0         93.00                  0.00               59.50           37.62  \\\n",
       "\n",
       "   emissions_sticker  upholstery_colour  upholstery  production_date   \n",
       "0              67.12              49.11       35.00            79.36  \\\n",
       "\n",
       "   previous_owner  other_fuel_types  power_consumption   \n",
       "0           51.05             91.92              98.20  \\\n",
       "\n",
       "   energy_efficiency_class  co2_efficiency  fuel_consumption_wltp   \n",
       "0                    72.74           72.74                  99.65  \\\n",
       "\n",
       "   co2_emissions_wltp  available_from  taxi_or_rental_car  availability   \n",
       "0               99.59           98.63               98.53         98.95  \\\n",
       "\n",
       "   last_timing_belt_change  electric_range_wltp  power_consumption_wltp   \n",
       "0                    98.00                99.94                   99.94  \\\n",
       "\n",
       "   battery_ownership  power_hp  power_kw  age  fuel_consumption_comb   \n",
       "0              99.98      2.01      2.05 0.01                  18.93  \\\n",
       "\n",
       "   fuel_consumption_city  fuel_consumption_country  fuel_consumption_avg  fuel  \n",
       "0                  30.10                     30.08                 18.52  0.03  "
      ]
     },
     "execution_count": 473,
     "metadata": {},
     "output_type": "execute_result"
    }
   ],
   "source": [
    "def show_na():\n",
    "    return (df.isna().sum() / df.shape[0] * 100).to_frame().T\n",
    "show_na()"
   ]
  },
  {
   "cell_type": "code",
   "execution_count": 474,
   "metadata": {},
   "outputs": [],
   "source": [
    "# KEEP important coloumns\n",
    "df.previous_owner.fillna('-',inplace=True)\n",
    "df.energy_efficiency_class.fillna('-',inplace=True)"
   ]
  },
  {
   "cell_type": "code",
   "execution_count": 475,
   "metadata": {},
   "outputs": [],
   "source": [
    "# DROP COLUMNS IF IT HAS MORE THAN 20 percent nans\n",
    "# calculate the percentage of NaN values in each column\n",
    "def drop_columns_nan(dataframe, percentage = 50):\n",
    "    nan_percent = dataframe.isna().sum() / len(dataframe) * 100\n",
    "\n",
    "    # get the column names with more than percentage% NaN values\n",
    "    cols_to_drop = nan_percent[nan_percent > percentage].index.tolist()\n",
    "\n",
    "    # drop the columns with more than percentage% NaN values\n",
    "    return dataframe.drop(cols_to_drop, axis=1)\n",
    "\n",
    "# DROP\n",
    "df = drop_columns_nan(df,50)\n",
    "df = df.drop(['country_version','paint','power','fuel_consumption_city','fuel_consumption_country','upholstery_colour','offer_number','fuel_consumption','fuel_consumption_comb','short_description','desc','first_registration','fuel_type','colour','manufacturer_colour','model_code','emission_class'], axis=1)"
   ]
  },
  {
   "cell_type": "code",
   "execution_count": 476,
   "metadata": {},
   "outputs": [
    {
     "data": {
      "text/plain": [
       "(28630, 32)"
      ]
     },
     "execution_count": 476,
     "metadata": {},
     "output_type": "execute_result"
    }
   ],
   "source": [
    "df.shape"
   ]
  },
  {
   "cell_type": "code",
   "execution_count": 477,
   "metadata": {},
   "outputs": [],
   "source": [
    "df.drop_duplicates(inplace= True)"
   ]
  },
  {
   "cell_type": "code",
   "execution_count": 478,
   "metadata": {},
   "outputs": [
    {
     "data": {
      "text/plain": [
       "(26623, 32)"
      ]
     },
     "execution_count": 478,
     "metadata": {},
     "output_type": "execute_result"
    }
   ],
   "source": [
    "df.shape"
   ]
  },
  {
   "cell_type": "code",
   "execution_count": 479,
   "metadata": {},
   "outputs": [
    {
     "data": {
      "text/html": [
       "<div>\n",
       "<style scoped>\n",
       "    .dataframe tbody tr th:only-of-type {\n",
       "        vertical-align: middle;\n",
       "    }\n",
       "\n",
       "    .dataframe tbody tr th {\n",
       "        vertical-align: top;\n",
       "    }\n",
       "\n",
       "    .dataframe thead th {\n",
       "        text-align: right;\n",
       "    }\n",
       "</style>\n",
       "<table border=\"1\" class=\"dataframe\">\n",
       "  <thead>\n",
       "    <tr style=\"text-align: right;\">\n",
       "      <th></th>\n",
       "      <th>make_model</th>\n",
       "      <th>make</th>\n",
       "      <th>model</th>\n",
       "      <th>location</th>\n",
       "      <th>price</th>\n",
       "      <th>body_type</th>\n",
       "      <th>type</th>\n",
       "      <th>doors</th>\n",
       "      <th>warranty</th>\n",
       "      <th>mileage</th>\n",
       "      <th>gearbox</th>\n",
       "      <th>seller</th>\n",
       "      <th>seats</th>\n",
       "      <th>engine_size</th>\n",
       "      <th>gears</th>\n",
       "      <th>co2_emissions</th>\n",
       "      <th>drivetrain</th>\n",
       "      <th>cylinders</th>\n",
       "      <th>comfort_convenience</th>\n",
       "      <th>entertainment_media</th>\n",
       "      <th>safety_security</th>\n",
       "      <th>extras</th>\n",
       "      <th>empty_weight</th>\n",
       "      <th>full_service_history</th>\n",
       "      <th>upholstery</th>\n",
       "      <th>previous_owner</th>\n",
       "      <th>energy_efficiency_class</th>\n",
       "      <th>power_hp</th>\n",
       "      <th>power_kw</th>\n",
       "      <th>age</th>\n",
       "      <th>fuel_consumption_avg</th>\n",
       "      <th>fuel</th>\n",
       "    </tr>\n",
       "  </thead>\n",
       "  <tbody>\n",
       "    <tr>\n",
       "      <th>12062</th>\n",
       "      <td>Seat Ibiza</td>\n",
       "      <td>Seat</td>\n",
       "      <td>Ibiza</td>\n",
       "      <td>C/ MOSCATEL, 18 - P.I. ARROYO DE LA MIEL,  296...</td>\n",
       "      <td>13000.00</td>\n",
       "      <td>Compact</td>\n",
       "      <td>Used</td>\n",
       "      <td>5.00</td>\n",
       "      <td>Yes</td>\n",
       "      <td>48000.00</td>\n",
       "      <td>Manual</td>\n",
       "      <td>Dealer</td>\n",
       "      <td>5.00</td>\n",
       "      <td>999.00</td>\n",
       "      <td>5.00</td>\n",
       "      <td>NaN</td>\n",
       "      <td>Front</td>\n",
       "      <td>3.00</td>\n",
       "      <td>Air conditioning, Cruise control, Electrical s...</td>\n",
       "      <td>Bluetooth, On-board computer, USB</td>\n",
       "      <td>ABS, Central door lock, Driver-side airbag, Fo...</td>\n",
       "      <td>Alloy wheels</td>\n",
       "      <td>1128.00</td>\n",
       "      <td>No</td>\n",
       "      <td>NaN</td>\n",
       "      <td>-</td>\n",
       "      <td>-</td>\n",
       "      <td>95.00</td>\n",
       "      <td>70.00</td>\n",
       "      <td>4.00</td>\n",
       "      <td>4.50</td>\n",
       "      <td>Benzine</td>\n",
       "    </tr>\n",
       "    <tr>\n",
       "      <th>20512</th>\n",
       "      <td>Nissan Qashqai</td>\n",
       "      <td>Nissan</td>\n",
       "      <td>Qashqai</td>\n",
       "      <td>Oostendesteenweg 208,  8480 Eernegem, BE</td>\n",
       "      <td>20950.00</td>\n",
       "      <td>Sedan</td>\n",
       "      <td>Used</td>\n",
       "      <td>5.00</td>\n",
       "      <td>Yes</td>\n",
       "      <td>50495.00</td>\n",
       "      <td>Automatic</td>\n",
       "      <td>Dealer</td>\n",
       "      <td>NaN</td>\n",
       "      <td>1197.00</td>\n",
       "      <td>6.00</td>\n",
       "      <td>NaN</td>\n",
       "      <td>NaN</td>\n",
       "      <td>4.00</td>\n",
       "      <td>360° camera, Air conditioning, Armrest, Automa...</td>\n",
       "      <td>Bluetooth, Integrated music streaming, MP3, On...</td>\n",
       "      <td>Central door lock, Central door lock with remo...</td>\n",
       "      <td>All season tyres, Alloy wheels, Electronic par...</td>\n",
       "      <td>NaN</td>\n",
       "      <td>No</td>\n",
       "      <td>Full leather</td>\n",
       "      <td>-</td>\n",
       "      <td>-</td>\n",
       "      <td>116.00</td>\n",
       "      <td>85.00</td>\n",
       "      <td>4.00</td>\n",
       "      <td>NaN</td>\n",
       "      <td>Benzine</td>\n",
       "    </tr>\n",
       "    <tr>\n",
       "      <th>20248</th>\n",
       "      <td>Nissan X-Trail</td>\n",
       "      <td>Nissan</td>\n",
       "      <td>X-Trail</td>\n",
       "      <td>Via Cento, 149/8,  44049 Vigarano Mainarda - F...</td>\n",
       "      <td>16950.00</td>\n",
       "      <td>Station wagon</td>\n",
       "      <td>Used</td>\n",
       "      <td>4.00</td>\n",
       "      <td>Yes</td>\n",
       "      <td>127936.00</td>\n",
       "      <td>Automatic</td>\n",
       "      <td>Dealer</td>\n",
       "      <td>5.00</td>\n",
       "      <td>1598.00</td>\n",
       "      <td>6.00</td>\n",
       "      <td>129.00</td>\n",
       "      <td>Front</td>\n",
       "      <td>4.00</td>\n",
       "      <td>Air conditioning, Armrest, Cruise control, Ele...</td>\n",
       "      <td>Bluetooth, On-board computer, USB</td>\n",
       "      <td>ABS, Alarm system, Central door lock, Driver-s...</td>\n",
       "      <td>Alloy wheels, Touch screen</td>\n",
       "      <td>1625.00</td>\n",
       "      <td>No</td>\n",
       "      <td>Cloth</td>\n",
       "      <td>1</td>\n",
       "      <td>-</td>\n",
       "      <td>131.00</td>\n",
       "      <td>96.00</td>\n",
       "      <td>8.00</td>\n",
       "      <td>4.90</td>\n",
       "      <td>Diesel</td>\n",
       "    </tr>\n",
       "  </tbody>\n",
       "</table>\n",
       "</div>"
      ],
      "text/plain": [
       "           make_model    make    model   \n",
       "12062      Seat Ibiza    Seat    Ibiza  \\\n",
       "20512  Nissan Qashqai  Nissan  Qashqai   \n",
       "20248  Nissan X-Trail  Nissan  X-Trail   \n",
       "\n",
       "                                                location    price   \n",
       "12062  C/ MOSCATEL, 18 - P.I. ARROYO DE LA MIEL,  296... 13000.00  \\\n",
       "20512           Oostendesteenweg 208,  8480 Eernegem, BE 20950.00   \n",
       "20248  Via Cento, 149/8,  44049 Vigarano Mainarda - F... 16950.00   \n",
       "\n",
       "           body_type  type  doors warranty   mileage    gearbox  seller   \n",
       "12062        Compact  Used   5.00      Yes  48000.00     Manual  Dealer  \\\n",
       "20512          Sedan  Used   5.00      Yes  50495.00  Automatic  Dealer   \n",
       "20248  Station wagon  Used   4.00      Yes 127936.00  Automatic  Dealer   \n",
       "\n",
       "       seats  engine_size  gears  co2_emissions drivetrain  cylinders   \n",
       "12062   5.00       999.00   5.00            NaN      Front       3.00  \\\n",
       "20512    NaN      1197.00   6.00            NaN        NaN       4.00   \n",
       "20248   5.00      1598.00   6.00         129.00      Front       4.00   \n",
       "\n",
       "                                     comfort_convenience   \n",
       "12062  Air conditioning, Cruise control, Electrical s...  \\\n",
       "20512  360° camera, Air conditioning, Armrest, Automa...   \n",
       "20248  Air conditioning, Armrest, Cruise control, Ele...   \n",
       "\n",
       "                                     entertainment_media   \n",
       "12062                  Bluetooth, On-board computer, USB  \\\n",
       "20512  Bluetooth, Integrated music streaming, MP3, On...   \n",
       "20248                  Bluetooth, On-board computer, USB   \n",
       "\n",
       "                                         safety_security   \n",
       "12062  ABS, Central door lock, Driver-side airbag, Fo...  \\\n",
       "20512  Central door lock, Central door lock with remo...   \n",
       "20248  ABS, Alarm system, Central door lock, Driver-s...   \n",
       "\n",
       "                                                  extras  empty_weight   \n",
       "12062                                       Alloy wheels       1128.00  \\\n",
       "20512  All season tyres, Alloy wheels, Electronic par...           NaN   \n",
       "20248                         Alloy wheels, Touch screen       1625.00   \n",
       "\n",
       "      full_service_history    upholstery previous_owner   \n",
       "12062                   No           NaN              -  \\\n",
       "20512                   No  Full leather              -   \n",
       "20248                   No         Cloth              1   \n",
       "\n",
       "      energy_efficiency_class  power_hp  power_kw  age  fuel_consumption_avg   \n",
       "12062                       -     95.00     70.00 4.00                  4.50  \\\n",
       "20512                       -    116.00     85.00 4.00                   NaN   \n",
       "20248                       -    131.00     96.00 8.00                  4.90   \n",
       "\n",
       "          fuel  \n",
       "12062  Benzine  \n",
       "20512  Benzine  \n",
       "20248   Diesel  "
      ]
     },
     "execution_count": 479,
     "metadata": {},
     "output_type": "execute_result"
    }
   ],
   "source": [
    "df.sample(3)"
   ]
  },
  {
   "cell_type": "code",
   "execution_count": 480,
   "metadata": {},
   "outputs": [],
   "source": [
    "# DONE Merge countrys \n",
    "df = pd.merge(df, pd.read_csv('country.csv'), on='location', how='left')\n",
    "# df.drop('country',axis=1, inplace=True)"
   ]
  },
  {
   "cell_type": "code",
   "execution_count": 481,
   "metadata": {},
   "outputs": [
    {
     "data": {
      "text/plain": [
       "(26623, 33)"
      ]
     },
     "execution_count": 481,
     "metadata": {},
     "output_type": "execute_result"
    }
   ],
   "source": [
    "df.shape"
   ]
  },
  {
   "cell_type": "code",
   "execution_count": 482,
   "metadata": {},
   "outputs": [],
   "source": [
    "df = pd.merge(df, pd.read_csv('address.csv'), on='location', how='left')\n"
   ]
  },
  {
   "cell_type": "code",
   "execution_count": 483,
   "metadata": {},
   "outputs": [
    {
     "data": {
      "text/plain": [
       "(26623, 36)"
      ]
     },
     "execution_count": 483,
     "metadata": {},
     "output_type": "execute_result"
    }
   ],
   "source": [
    "df.shape"
   ]
  },
  {
   "cell_type": "code",
   "execution_count": 484,
   "metadata": {},
   "outputs": [],
   "source": [
    "df.drop(columns=['location'], inplace=True)"
   ]
  },
  {
   "cell_type": "code",
   "execution_count": 485,
   "metadata": {},
   "outputs": [],
   "source": [
    "df.drop_duplicates(inplace=True)"
   ]
  },
  {
   "cell_type": "code",
   "execution_count": 486,
   "metadata": {},
   "outputs": [],
   "source": [
    "df.reset_index(drop=True, inplace=True)"
   ]
  },
  {
   "cell_type": "code",
   "execution_count": 489,
   "metadata": {},
   "outputs": [
    {
     "data": {
      "text/plain": [
       "(26594, 35)"
      ]
     },
     "execution_count": 489,
     "metadata": {},
     "output_type": "execute_result"
    }
   ],
   "source": [
    "df.shape"
   ]
  },
  {
   "cell_type": "code",
   "execution_count": 487,
   "metadata": {},
   "outputs": [],
   "source": [
    "df.to_csv('clean.csv',index=False)"
   ]
  },
  {
   "cell_type": "code",
   "execution_count": 488,
   "metadata": {},
   "outputs": [
    {
     "data": {
      "text/html": [
       "<div>\n",
       "<style scoped>\n",
       "    .dataframe tbody tr th:only-of-type {\n",
       "        vertical-align: middle;\n",
       "    }\n",
       "\n",
       "    .dataframe tbody tr th {\n",
       "        vertical-align: top;\n",
       "    }\n",
       "\n",
       "    .dataframe thead th {\n",
       "        text-align: right;\n",
       "    }\n",
       "</style>\n",
       "<table border=\"1\" class=\"dataframe\">\n",
       "  <thead>\n",
       "    <tr style=\"text-align: right;\">\n",
       "      <th></th>\n",
       "      <th>make_model</th>\n",
       "      <th>make</th>\n",
       "      <th>model</th>\n",
       "      <th>price</th>\n",
       "      <th>body_type</th>\n",
       "      <th>type</th>\n",
       "      <th>doors</th>\n",
       "      <th>warranty</th>\n",
       "      <th>mileage</th>\n",
       "      <th>gearbox</th>\n",
       "      <th>seller</th>\n",
       "      <th>seats</th>\n",
       "      <th>engine_size</th>\n",
       "      <th>gears</th>\n",
       "      <th>co2_emissions</th>\n",
       "      <th>drivetrain</th>\n",
       "      <th>cylinders</th>\n",
       "      <th>comfort_convenience</th>\n",
       "      <th>entertainment_media</th>\n",
       "      <th>safety_security</th>\n",
       "      <th>extras</th>\n",
       "      <th>empty_weight</th>\n",
       "      <th>full_service_history</th>\n",
       "      <th>upholstery</th>\n",
       "      <th>previous_owner</th>\n",
       "      <th>energy_efficiency_class</th>\n",
       "      <th>power_hp</th>\n",
       "      <th>power_kw</th>\n",
       "      <th>age</th>\n",
       "      <th>fuel_consumption_avg</th>\n",
       "      <th>fuel</th>\n",
       "      <th>country</th>\n",
       "      <th>address</th>\n",
       "      <th>latitude</th>\n",
       "      <th>longitude</th>\n",
       "    </tr>\n",
       "  </thead>\n",
       "  <tbody>\n",
       "    <tr>\n",
       "      <th>14689</th>\n",
       "      <td>Skoda Scala</td>\n",
       "      <td>Skoda</td>\n",
       "      <td>Scala</td>\n",
       "      <td>21990.00</td>\n",
       "      <td>Sedan</td>\n",
       "      <td>[\"\\n, Employee's car, \\n\"]</td>\n",
       "      <td>5.00</td>\n",
       "      <td>No</td>\n",
       "      <td>18743.00</td>\n",
       "      <td>Manual</td>\n",
       "      <td>Dealer</td>\n",
       "      <td>5.00</td>\n",
       "      <td>999.00</td>\n",
       "      <td>NaN</td>\n",
       "      <td>107.00</td>\n",
       "      <td>NaN</td>\n",
       "      <td>NaN</td>\n",
       "      <td>Armrest, Automatic climate control, 2 zones, C...</td>\n",
       "      <td>Android Auto, Apple CarPlay, Bluetooth, Digita...</td>\n",
       "      <td>ABS, Adaptive headlights, Blind spot monitor, ...</td>\n",
       "      <td>Alloy wheels, Touch screen</td>\n",
       "      <td>NaN</td>\n",
       "      <td>No</td>\n",
       "      <td>Cloth</td>\n",
       "      <td>-</td>\n",
       "      <td>B</td>\n",
       "      <td>110.00</td>\n",
       "      <td>81.00</td>\n",
       "      <td>1.00</td>\n",
       "      <td>4.70</td>\n",
       "      <td>Benzine</td>\n",
       "      <td>Germany</td>\n",
       "      <td>Merziener Str 10, 06366 Köthen, Germany</td>\n",
       "      <td>51.75</td>\n",
       "      <td>12.00</td>\n",
       "    </tr>\n",
       "    <tr>\n",
       "      <th>9957</th>\n",
       "      <td>Fiat 500C</td>\n",
       "      <td>Fiat</td>\n",
       "      <td>500C</td>\n",
       "      <td>21999.00</td>\n",
       "      <td>Convertible</td>\n",
       "      <td>Pre-registered</td>\n",
       "      <td>2.00</td>\n",
       "      <td>No</td>\n",
       "      <td>5.00</td>\n",
       "      <td>Automatic</td>\n",
       "      <td>Dealer</td>\n",
       "      <td>4.00</td>\n",
       "      <td>1242.00</td>\n",
       "      <td>NaN</td>\n",
       "      <td>NaN</td>\n",
       "      <td>Front</td>\n",
       "      <td>4.00</td>\n",
       "      <td>Air conditioning, Cruise control, Electrical s...</td>\n",
       "      <td>Android Auto, Apple CarPlay, Bluetooth, Hands-...</td>\n",
       "      <td>ABS, Central door lock, Central door lock with...</td>\n",
       "      <td>Alloy wheels (15\"), E10-enabled, Emergency tyr...</td>\n",
       "      <td>1070.00</td>\n",
       "      <td>No</td>\n",
       "      <td>Cloth</td>\n",
       "      <td>1</td>\n",
       "      <td>-</td>\n",
       "      <td>69.00</td>\n",
       "      <td>51.00</td>\n",
       "      <td>1.00</td>\n",
       "      <td>5.40</td>\n",
       "      <td>Benzine</td>\n",
       "      <td>Germany</td>\n",
       "      <td>Dachauer Straße 487A, 80993 Munich, Germany</td>\n",
       "      <td>48.19</td>\n",
       "      <td>11.50</td>\n",
       "    </tr>\n",
       "    <tr>\n",
       "      <th>19800</th>\n",
       "      <td>Nissan Juke</td>\n",
       "      <td>Nissan</td>\n",
       "      <td>Juke</td>\n",
       "      <td>7500.00</td>\n",
       "      <td>Station wagon</td>\n",
       "      <td>Used</td>\n",
       "      <td>4.00</td>\n",
       "      <td>Yes</td>\n",
       "      <td>200000.00</td>\n",
       "      <td>Manual</td>\n",
       "      <td>Dealer</td>\n",
       "      <td>5.00</td>\n",
       "      <td>1461.00</td>\n",
       "      <td>6.00</td>\n",
       "      <td>134.00</td>\n",
       "      <td>Front</td>\n",
       "      <td>4.00</td>\n",
       "      <td>Air conditioning, Electrical side mirrors, Hil...</td>\n",
       "      <td>Bluetooth, CD player, Digital radio, MP3, On-b...</td>\n",
       "      <td>ABS, Alarm system, Central door lock, Daytime ...</td>\n",
       "      <td>Headlight washer system</td>\n",
       "      <td>1360.00</td>\n",
       "      <td>Yes</td>\n",
       "      <td>Cloth</td>\n",
       "      <td>1</td>\n",
       "      <td>-</td>\n",
       "      <td>110.00</td>\n",
       "      <td>81.00</td>\n",
       "      <td>11.00</td>\n",
       "      <td>5.10</td>\n",
       "      <td>Diesel</td>\n",
       "      <td>Italy</td>\n",
       "      <td>Regione Dota, 14053 Canelli Asti, Italy</td>\n",
       "      <td>44.73</td>\n",
       "      <td>8.30</td>\n",
       "    </tr>\n",
       "  </tbody>\n",
       "</table>\n",
       "</div>"
      ],
      "text/plain": [
       "        make_model    make  model    price      body_type   \n",
       "14689  Skoda Scala   Skoda  Scala 21990.00          Sedan  \\\n",
       "9957     Fiat 500C    Fiat   500C 21999.00    Convertible   \n",
       "19800  Nissan Juke  Nissan   Juke  7500.00  Station wagon   \n",
       "\n",
       "                             type  doors warranty   mileage    gearbox   \n",
       "14689  [\"\\n, Employee's car, \\n\"]   5.00       No  18743.00     Manual  \\\n",
       "9957               Pre-registered   2.00       No      5.00  Automatic   \n",
       "19800                        Used   4.00      Yes 200000.00     Manual   \n",
       "\n",
       "       seller  seats  engine_size  gears  co2_emissions drivetrain  cylinders   \n",
       "14689  Dealer   5.00       999.00    NaN         107.00        NaN        NaN  \\\n",
       "9957   Dealer   4.00      1242.00    NaN            NaN      Front       4.00   \n",
       "19800  Dealer   5.00      1461.00   6.00         134.00      Front       4.00   \n",
       "\n",
       "                                     comfort_convenience   \n",
       "14689  Armrest, Automatic climate control, 2 zones, C...  \\\n",
       "9957   Air conditioning, Cruise control, Electrical s...   \n",
       "19800  Air conditioning, Electrical side mirrors, Hil...   \n",
       "\n",
       "                                     entertainment_media   \n",
       "14689  Android Auto, Apple CarPlay, Bluetooth, Digita...  \\\n",
       "9957   Android Auto, Apple CarPlay, Bluetooth, Hands-...   \n",
       "19800  Bluetooth, CD player, Digital radio, MP3, On-b...   \n",
       "\n",
       "                                         safety_security   \n",
       "14689  ABS, Adaptive headlights, Blind spot monitor, ...  \\\n",
       "9957   ABS, Central door lock, Central door lock with...   \n",
       "19800  ABS, Alarm system, Central door lock, Daytime ...   \n",
       "\n",
       "                                                  extras  empty_weight   \n",
       "14689                         Alloy wheels, Touch screen           NaN  \\\n",
       "9957   Alloy wheels (15\"), E10-enabled, Emergency tyr...       1070.00   \n",
       "19800                            Headlight washer system       1360.00   \n",
       "\n",
       "      full_service_history upholstery previous_owner energy_efficiency_class   \n",
       "14689                   No      Cloth              -                       B  \\\n",
       "9957                    No      Cloth              1                       -   \n",
       "19800                  Yes      Cloth              1                       -   \n",
       "\n",
       "       power_hp  power_kw   age  fuel_consumption_avg     fuel  country   \n",
       "14689    110.00     81.00  1.00                  4.70  Benzine  Germany  \\\n",
       "9957      69.00     51.00  1.00                  5.40  Benzine  Germany   \n",
       "19800    110.00     81.00 11.00                  5.10   Diesel    Italy   \n",
       "\n",
       "                                           address  latitude  longitude  \n",
       "14689      Merziener Str 10, 06366 Köthen, Germany     51.75      12.00  \n",
       "9957   Dachauer Straße 487A, 80993 Munich, Germany     48.19      11.50  \n",
       "19800      Regione Dota, 14053 Canelli Asti, Italy     44.73       8.30  "
      ]
     },
     "execution_count": 488,
     "metadata": {},
     "output_type": "execute_result"
    }
   ],
   "source": [
    "df.sample(3)"
   ]
  }
 ],
 "metadata": {
  "colab": {
   "name": "DAwPy-Capstone_Project_(AutoScout)_Student.ipynb",
   "provenance": []
  },
  "kernelspec": {
   "display_name": "Python 3 (ipykernel)",
   "language": "python",
   "name": "python3"
  },
  "language_info": {
   "codemirror_mode": {
    "name": "ipython",
    "version": 3
   },
   "file_extension": ".py",
   "mimetype": "text/x-python",
   "name": "python",
   "nbconvert_exporter": "python",
   "pygments_lexer": "ipython3",
   "version": "3.9.12"
  },
  "toc": {
   "base_numbering": 1,
   "nav_menu": {},
   "number_sections": false,
   "sideBar": true,
   "skip_h1_title": false,
   "title_cell": "Table of Contents",
   "title_sidebar": "Contents",
   "toc_cell": false,
   "toc_position": {},
   "toc_section_display": true,
   "toc_window_display": false
  }
 },
 "nbformat": 4,
 "nbformat_minor": 1
}
