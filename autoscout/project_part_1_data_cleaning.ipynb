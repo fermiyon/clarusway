{
 "cells": [
  {
   "cell_type": "markdown",
   "metadata": {
    "id": "Bkw3_pB0s1L-"
   },
   "source": [
    "___\n",
    "\n",
    "<p style=\"text-align: center;\"><img src=\"https://docs.google.com/uc?id=1lY0Uj5R04yMY3-ZppPWxqCr5pvBLYPnV\" class=\"img-fluid\" \n",
    "alt=\"CLRSWY\"></p>\n",
    "\n",
    "## <p style=\"background-color:#FDFEFE; font-family:newtimeroman; color:#9d4f8c; font-size:100%; text-align:center; border-radius:10px 10px;\">WAY TO REINVENT YOURSELF</p>\n",
    "\n",
    "## <p style=\"background-color:#FDFEFE; font-family:newtimeroman; color:#060108; font-size:200%; text-align:center; border-radius:10px 10px;\">DA & DVwPY</p>\n",
    "\n",
    "## <p style=\"background-color:#FDFEFE; font-family:newtimeroman; color:#060108; font-size:200%; text-align:center; border-radius:10px 10px;\">The Exploratory Data Analysis (EDA) Project</p>\n",
    "\n",
    "<img src=https://i.ibb.co/wJW61Y2/Used-cars.jpg width=\"700\" height=\"200\">\n",
    "\n",
    "## <p style=\"background-color:#FDFEFE; font-family:newtimeroman; color:#060108; font-size:200%; text-align:center; border-radius:10px 10px;\">AutoScout Car Price Prediction EDA</p>\n",
    "\n"
   ]
  },
  {
   "cell_type": "markdown",
   "metadata": {
    "id": "Z_oWczxZs1MA"
   },
   "source": [
    "## Introduction\n",
    "Welcome to \"***AutoScout Exploratory Data Analysis (EDA) Project***\". This is the project of completing ***Data Analysis & Data Visualization*** Courses and a successful hand-over is mandatory for getting certification for both courses. **Auto Scout** data used in this project scraped from the Website of an online car trading company in 2022, and contains many features of 13 different car makes including 594 models. In this project, you will have the opportunity to apply many commonly used algorithms for Data Cleaning and Exploratory Data Analysis by using a variety of Python libraries, such as Numpy, Pandas, Matplotlib, Seaborn, Scipy, and then you will get a clean dataset for your analysis and pretictive modelling in Machine Learning Path. So you will have the chance to use all the skills you have already learned in the Data Analysis and Visualization courses.\n",
    "\n",
    "**``In this context, the project consists of 3 parts in general:``**\n",
    "* **The first part** is related to ``'Data Cleaning'``. It deals with Incorrect Headers, Incorrect Format, Anomalies, and Dropping useless columns.\n",
    "* **The second part** is related to ``'Filling Data'``, in other words 'Imputation'. It deals with Missing Values. Categorical to numeric transformation, Encoding, is done as well.\n",
    "* **The third part** is related to ``'Handling Outliers of Data'`` via Visualization libraries. So, some insights will be extracted.\n",
    "\n",
    "**``SPECIAL NOTE:``**  However, you are ``free to create your own style``. You do ``NOT`` have to stick to the steps above. Nevertheless, we, the DA & DV instructors, recommend you study each part separately to create a source notebook for your further studies. \n",
    "\n",
    "In order to build your Portfolio in terms of the GitHub account, you need to push your solution file up to your own repository.\n",
    "\n",
    "Please after solving the task, commit your notebook to GitHub and submit its link to LMS page where the project is settled down.\n",
    "\n",
    "**BE NOTED:** Please ``DO NOT FORGET`` to click the submit button.\n",
    "\n",
    "### Some Reminders on Exploratory data analysis (EDA)\n",
    "\n",
    "Exploratory data analysis (EDA) is an especially important activity in the routine of a data analyst or scientist. It enables an in depth understanding of the dataset, define or discard hypotheses and create predictive models on a solid basis. It uses data manipulation techniques and several statistical tools to describe and understand the relationship between variables and how these can impact business. By means of EDA, we can obtain meaningful insights that can impact analysis under the following questions (If a checklist is good enough for pilots to use every flight, it’s good enough for data scientists to use with every dataset).\n",
    "1. What question are you trying to solve (or prove wrong)?\n",
    "2. What kind of data do you have?\n",
    "3. What’s missing from the data?\n",
    "4. Where are the outliers?\n",
    "5. How can you add, change or remove features to get more out of your data?\n",
    "\n",
    "**``Exploratory data analysis (EDA)``** is often an **iterative brainstorming process** where you pose a question, review the data, and develop further questions to investigate before beginning model development work. The image below shows how the brainstorming phase is connected with that of understanding the variables and how this in turn is connected again with the brainstorming phase.<br>\n",
    "\n",
    "<img src=https://i.ibb.co/k0MC950/EDA-Process.png width=\"300\" height=\"100\">\n",
    "\n",
    "[Image Credit: Andrew D.](https://towardsdatascience.com/exploratory-data-analysis-in-python-a-step-by-step-process-d0dfa6bf94ee)\n",
    "\n"
   ]
  },
  {
   "cell_type": "markdown",
   "metadata": {
    "id": "vvgJ5KWTs1MB"
   },
   "source": [
    "# PART- 1 `( Data Cleaning )`"
   ]
  },
  {
   "cell_type": "code",
   "execution_count": 16,
   "metadata": {},
   "outputs": [],
   "source": [
    "# %pip install seaborn --upgrade"
   ]
  },
  {
   "cell_type": "code",
   "execution_count": 17,
   "metadata": {},
   "outputs": [],
   "source": [
    "import pandas as pd\n",
    "import seaborn as sns\n",
    "import matplotlib.pyplot as plt\n",
    "from matplotlib.patches import Patch\n",
    "from matplotlib.lines import Line2D\n",
    "import numpy as np\n",
    "from tqdm import tqdm\n",
    "tqdm.pandas()\n"
   ]
  },
  {
   "cell_type": "code",
   "execution_count": 18,
   "metadata": {},
   "outputs": [
    {
     "data": {
      "text/plain": [
       "'2.0.0rc1'"
      ]
     },
     "execution_count": 18,
     "metadata": {},
     "output_type": "execute_result"
    }
   ],
   "source": [
    "pd.__version__"
   ]
  },
  {
   "cell_type": "code",
   "execution_count": 19,
   "metadata": {},
   "outputs": [
    {
     "data": {
      "text/plain": [
       "'0.12.2'"
      ]
     },
     "execution_count": 19,
     "metadata": {},
     "output_type": "execute_result"
    }
   ],
   "source": [
    "sns.__version__"
   ]
  },
  {
   "cell_type": "code",
   "execution_count": 20,
   "metadata": {},
   "outputs": [],
   "source": [
    "def show_nulls(data):\n",
    "    \n",
    "    '''\n",
    "    \n",
    "    This function plots missing values for each column by observation in the dataset.\n",
    "    \n",
    "    ''' \n",
    "    plt.figure(figsize=(10, 5))\n",
    "\n",
    "    sns.displot(data=data.isnull().melt(value_name=\"missing\"),\n",
    "                y=\"variable\",\n",
    "                hue=\"missing\",\n",
    "                multiple=\"fill\",\n",
    "                height=9.25)\n",
    "\n",
    "    plt.axvline(0.2, color=\"r\")\n",
    "    plt.show()"
   ]
  },
  {
   "cell_type": "code",
   "execution_count": 21,
   "metadata": {
    "id": "Y13_gId7s1MC"
   },
   "outputs": [],
   "source": [
    "df = pd.read_json('as24_cars.zip')\n",
    "# pd.options.mode.dtype_backend = 'pyarrow'\n",
    "# df = pd.read_json('as24_cars.json')"
   ]
  },
  {
   "cell_type": "code",
   "execution_count": 22,
   "metadata": {},
   "outputs": [],
   "source": [
    "pd.options.display.max_columns = 100\n",
    "# pd.options.display.max_rows = 100\n",
    "pd.options.display.float_format = '{:.2f}'.format\n"
   ]
  },
  {
   "cell_type": "code",
   "execution_count": 23,
   "metadata": {},
   "outputs": [],
   "source": [
    "def clean_columns(data):\n",
    "    new_column_names = {col: col.lower().replace('\\n', '').replace('&', '').replace('co₂', 'co2').replace('-', '_').replace(' ', '_').replace('__', '_').replace('(', '').replace(')', '') for col in data.columns}\n",
    "    return new_column_names"
   ]
  },
  {
   "cell_type": "code",
   "execution_count": 24,
   "metadata": {},
   "outputs": [
    {
     "data": {
      "text/plain": [
       "{'make_model': 'make_model',\n",
       " 'short_description': 'short_description',\n",
       " 'make': 'make',\n",
       " 'model': 'model',\n",
       " 'location': 'location',\n",
       " 'price': 'price',\n",
       " 'Body type': 'body_type',\n",
       " 'Type': 'type',\n",
       " 'Doors': 'doors',\n",
       " 'Country version': 'country_version',\n",
       " 'Offer number': 'offer_number',\n",
       " 'Warranty': 'warranty',\n",
       " 'Mileage': 'mileage',\n",
       " 'First registration': 'first_registration',\n",
       " 'Gearbox': 'gearbox',\n",
       " 'Fuel type': 'fuel_type',\n",
       " 'Colour': 'colour',\n",
       " 'Paint': 'paint',\n",
       " 'desc': 'desc',\n",
       " 'seller': 'seller',\n",
       " 'Seats': 'seats',\n",
       " 'Power': 'power',\n",
       " 'Engine size': 'engine_size',\n",
       " 'Gears': 'gears',\n",
       " 'CO₂-emissions': 'co2_emissions',\n",
       " 'Manufacturer colour': 'manufacturer_colour',\n",
       " 'Drivetrain': 'drivetrain',\n",
       " 'Cylinders': 'cylinders',\n",
       " 'Fuel consumption': 'fuel_consumption',\n",
       " '\\nComfort & Convenience\\n': 'comfort_convenience',\n",
       " '\\nEntertainment & Media\\n': 'entertainment_media',\n",
       " '\\nSafety & Security\\n': 'safety_security',\n",
       " '\\nExtras\\n': 'extras',\n",
       " 'Empty weight': 'empty_weight',\n",
       " 'Model code': 'model_code',\n",
       " 'General inspection': 'general_inspection',\n",
       " 'Last service': 'last_service',\n",
       " 'Full service history': 'full_service_history',\n",
       " 'Non-smoker vehicle': 'non_smoker_vehicle',\n",
       " 'Emission class': 'emission_class',\n",
       " 'Emissions sticker': 'emissions_sticker',\n",
       " 'Upholstery colour': 'upholstery_colour',\n",
       " 'Upholstery': 'upholstery',\n",
       " 'Production date': 'production_date',\n",
       " 'Previous owner': 'previous_owner',\n",
       " 'Other fuel types': 'other_fuel_types',\n",
       " 'Power consumption': 'power_consumption',\n",
       " 'Energy efficiency class': 'energy_efficiency_class',\n",
       " 'CO₂-efficiency': 'co2_efficiency',\n",
       " 'Fuel consumption (WLTP)': 'fuel_consumption_wltp',\n",
       " 'CO₂-emissions (WLTP)': 'co2_emissions_wltp',\n",
       " 'Available from': 'available_from',\n",
       " 'Taxi or rental car': 'taxi_or_rental_car',\n",
       " 'Availability': 'availability',\n",
       " 'Last timing belt change': 'last_timing_belt_change',\n",
       " 'Electric Range (WLTP)': 'electric_range_wltp',\n",
       " 'Power consumption (WLTP)': 'power_consumption_wltp',\n",
       " 'Battery Ownership': 'battery_ownership'}"
      ]
     },
     "execution_count": 24,
     "metadata": {},
     "output_type": "execute_result"
    }
   ],
   "source": [
    "new_column_names = clean_columns(df)\n",
    "new_column_names"
   ]
  },
  {
   "cell_type": "code",
   "execution_count": 25,
   "metadata": {},
   "outputs": [
    {
     "data": {
      "text/plain": [
       "Index(['make_model', 'short_description', 'make', 'model', 'location', 'price',\n",
       "       'body_type', 'type', 'doors', 'country_version', 'offer_number',\n",
       "       'warranty', 'mileage', 'first_registration', 'gearbox', 'fuel_type',\n",
       "       'colour', 'paint', 'desc', 'seller', 'seats', 'power', 'engine_size',\n",
       "       'gears', 'co2_emissions', 'manufacturer_colour', 'drivetrain',\n",
       "       'cylinders', 'fuel_consumption', 'comfort_convenience',\n",
       "       'entertainment_media', 'safety_security', 'extras', 'empty_weight',\n",
       "       'model_code', 'general_inspection', 'last_service',\n",
       "       'full_service_history', 'non_smoker_vehicle', 'emission_class',\n",
       "       'emissions_sticker', 'upholstery_colour', 'upholstery',\n",
       "       'production_date', 'previous_owner', 'other_fuel_types',\n",
       "       'power_consumption', 'energy_efficiency_class', 'co2_efficiency',\n",
       "       'fuel_consumption_wltp', 'co2_emissions_wltp', 'available_from',\n",
       "       'taxi_or_rental_car', 'availability', 'last_timing_belt_change',\n",
       "       'electric_range_wltp', 'power_consumption_wltp', 'battery_ownership'],\n",
       "      dtype='object')"
      ]
     },
     "execution_count": 25,
     "metadata": {},
     "output_type": "execute_result"
    }
   ],
   "source": [
    "df = df.rename(columns=new_column_names)\n",
    "df.columns"
   ]
  },
  {
   "cell_type": "code",
   "execution_count": 26,
   "metadata": {},
   "outputs": [
    {
     "data": {
      "text/plain": [
       "<Figure size 720x360 with 0 Axes>"
      ]
     },
     "metadata": {},
     "output_type": "display_data"
    },
    {
     "data": {
      "image/png": "[encoded data removed]",
      "text/plain": [
       "<Figure size 727.25x666 with 1 Axes>"
      ]
     },
     "metadata": {
      "needs_background": "light"
     },
     "output_type": "display_data"
    }
   ],
   "source": [
    "show_nulls(df)"
   ]
  },
  {
   "cell_type": "code",
   "execution_count": 27,
   "metadata": {},
   "outputs": [
    {
     "data": {
      "text/html": [
       "<div>\n",
       "<style scoped>\n",
       "    .dataframe tbody tr th:only-of-type {\n",
       "        vertical-align: middle;\n",
       "    }\n",
       "\n",
       "    .dataframe tbody tr th {\n",
       "        vertical-align: top;\n",
       "    }\n",
       "\n",
       "    .dataframe thead th {\n",
       "        text-align: right;\n",
       "    }\n",
       "</style>\n",
       "<table border=\"1\" class=\"dataframe\">\n",
       "  <thead>\n",
       "    <tr style=\"text-align: right;\">\n",
       "      <th></th>\n",
       "      <th>make_model</th>\n",
       "      <th>short_description</th>\n",
       "      <th>make</th>\n",
       "      <th>model</th>\n",
       "      <th>location</th>\n",
       "      <th>price</th>\n",
       "      <th>body_type</th>\n",
       "      <th>type</th>\n",
       "      <th>doors</th>\n",
       "      <th>country_version</th>\n",
       "      <th>offer_number</th>\n",
       "      <th>warranty</th>\n",
       "      <th>mileage</th>\n",
       "      <th>first_registration</th>\n",
       "      <th>gearbox</th>\n",
       "      <th>fuel_type</th>\n",
       "      <th>colour</th>\n",
       "      <th>paint</th>\n",
       "      <th>desc</th>\n",
       "      <th>seller</th>\n",
       "      <th>seats</th>\n",
       "      <th>power</th>\n",
       "      <th>engine_size</th>\n",
       "      <th>gears</th>\n",
       "      <th>co2_emissions</th>\n",
       "      <th>manufacturer_colour</th>\n",
       "      <th>drivetrain</th>\n",
       "      <th>cylinders</th>\n",
       "      <th>fuel_consumption</th>\n",
       "      <th>comfort_convenience</th>\n",
       "      <th>entertainment_media</th>\n",
       "      <th>safety_security</th>\n",
       "      <th>extras</th>\n",
       "      <th>empty_weight</th>\n",
       "      <th>model_code</th>\n",
       "      <th>general_inspection</th>\n",
       "      <th>last_service</th>\n",
       "      <th>full_service_history</th>\n",
       "      <th>non_smoker_vehicle</th>\n",
       "      <th>emission_class</th>\n",
       "      <th>emissions_sticker</th>\n",
       "      <th>upholstery_colour</th>\n",
       "      <th>upholstery</th>\n",
       "      <th>production_date</th>\n",
       "      <th>previous_owner</th>\n",
       "      <th>other_fuel_types</th>\n",
       "      <th>power_consumption</th>\n",
       "      <th>energy_efficiency_class</th>\n",
       "      <th>co2_efficiency</th>\n",
       "      <th>fuel_consumption_wltp</th>\n",
       "      <th>co2_emissions_wltp</th>\n",
       "      <th>available_from</th>\n",
       "      <th>taxi_or_rental_car</th>\n",
       "      <th>availability</th>\n",
       "      <th>last_timing_belt_change</th>\n",
       "      <th>electric_range_wltp</th>\n",
       "      <th>power_consumption_wltp</th>\n",
       "      <th>battery_ownership</th>\n",
       "    </tr>\n",
       "  </thead>\n",
       "  <tbody>\n",
       "    <tr>\n",
       "      <th>22944</th>\n",
       "      <td>Ford Focus</td>\n",
       "      <td>Turnier 2.3 EcoBoost ST LED Navi</td>\n",
       "      <td>\\nFord\\n</td>\n",
       "      <td>[\\n, Focus ,\\n]</td>\n",
       "      <td>Prof.-Oehler-Straße 1,  40589 Düsseldorf, DE</td>\n",
       "      <td>€ 31,480.-</td>\n",
       "      <td>[\\n, Station wagon, \\n]</td>\n",
       "      <td>[\\n, Used, \\n]</td>\n",
       "      <td>[\\n, 5, \\n]</td>\n",
       "      <td>NaN</td>\n",
       "      <td>[\\n, 5662_5662, \\n]</td>\n",
       "      <td>NaN</td>\n",
       "      <td>22,175 km</td>\n",
       "      <td>11/2020</td>\n",
       "      <td>[\\nManual\\n]</td>\n",
       "      <td>Super 95 (Particle filter)</td>\n",
       "      <td>Black</td>\n",
       "      <td>Metallic</td>\n",
       "      <td>[ * Dachhimmel aus Webstoff, schwarz,  * Dachr...</td>\n",
       "      <td>Dealer</td>\n",
       "      <td>[\\n, 5, \\n]</td>\n",
       "      <td>[\\n206 kW (280 hp)\\n]</td>\n",
       "      <td>[\\n2,261 cc\\n]</td>\n",
       "      <td>[\\n6\\n]</td>\n",
       "      <td>187 g/km (comb.)</td>\n",
       "      <td>Obsidian-Schwarz Metallic</td>\n",
       "      <td>[\\n, Front, \\n]</td>\n",
       "      <td>[\\n4\\n]</td>\n",
       "      <td>[[8.2 l/100 km (comb.)], [11.6 l/100 km (city)...</td>\n",
       "      <td>[Air conditioning, Armrest, Automatic climate ...</td>\n",
       "      <td>[Android Auto, Apple CarPlay, Bluetooth, Digit...</td>\n",
       "      <td>[ABS, Adaptive headlights, Alarm system, Centr...</td>\n",
       "      <td>[Alloy wheels (18\"), Automatically dimming int...</td>\n",
       "      <td>[\\n1,543 kg\\n]</td>\n",
       "      <td>[\\n, 8566/BRB, \\n]</td>\n",
       "      <td>New</td>\n",
       "      <td>NaN</td>\n",
       "      <td>Yes</td>\n",
       "      <td>NaN</td>\n",
       "      <td>Euro 6d</td>\n",
       "      <td>4 (Green)</td>\n",
       "      <td>Black</td>\n",
       "      <td>Part leather</td>\n",
       "      <td>NaN</td>\n",
       "      <td>[[22,175 km, 11/2020], 1]</td>\n",
       "      <td>NaN</td>\n",
       "      <td>NaN</td>\n",
       "      <td>E</td>\n",
       "      <td>Calculated on basis of measured CO₂-emissions ...</td>\n",
       "      <td>NaN</td>\n",
       "      <td>NaN</td>\n",
       "      <td>NaN</td>\n",
       "      <td>NaN</td>\n",
       "      <td>NaN</td>\n",
       "      <td>NaN</td>\n",
       "      <td>NaN</td>\n",
       "      <td>NaN</td>\n",
       "      <td>NaN</td>\n",
       "    </tr>\n",
       "    <tr>\n",
       "      <th>21022</th>\n",
       "      <td>Nissan Leaf</td>\n",
       "      <td>40 kWh Connecta N (EU6.2)    9.000 km!!!</td>\n",
       "      <td>\\nNissan\\n</td>\n",
       "      <td>[\\n, Leaf ,\\n]</td>\n",
       "      <td>Ambachtstraat 1,  8620 Nieuwpoort, BE</td>\n",
       "      <td>€ 27,950.-</td>\n",
       "      <td>[\\n, Sedan, \\n]</td>\n",
       "      <td>[\\n, Used, \\n]</td>\n",
       "      <td>[\\n, 5, \\n]</td>\n",
       "      <td>NaN</td>\n",
       "      <td>NaN</td>\n",
       "      <td>[\\n, 12 months, \\n]</td>\n",
       "      <td>9,500 km</td>\n",
       "      <td>06/2020</td>\n",
       "      <td>[\\nAutomatic\\n]</td>\n",
       "      <td>NaN</td>\n",
       "      <td>Black</td>\n",
       "      <td>Metallic</td>\n",
       "      <td>[Specificaties, Kilometerstand, : 9500km, Eers...</td>\n",
       "      <td>Dealer</td>\n",
       "      <td>[\\n, 5, \\n]</td>\n",
       "      <td>[\\n110 kW (150 hp)\\n]</td>\n",
       "      <td>NaN</td>\n",
       "      <td>[\\n1\\n]</td>\n",
       "      <td>NaN</td>\n",
       "      <td>NaN</td>\n",
       "      <td>NaN</td>\n",
       "      <td>[\\n1\\n]</td>\n",
       "      <td>NaN</td>\n",
       "      <td>[Air conditioning, Armrest, Automatic climate ...</td>\n",
       "      <td>[Android Auto, Apple CarPlay, Bluetooth, Digit...</td>\n",
       "      <td>[ABS, Adaptive Cruise Control, Blind spot moni...</td>\n",
       "      <td>[Alloy wheels, Automatically dimming interior ...</td>\n",
       "      <td>[\\n1,500 kg\\n]</td>\n",
       "      <td>NaN</td>\n",
       "      <td>NaN</td>\n",
       "      <td>NaN</td>\n",
       "      <td>NaN</td>\n",
       "      <td>NaN</td>\n",
       "      <td>Euro 6d</td>\n",
       "      <td>NaN</td>\n",
       "      <td>Black</td>\n",
       "      <td>Cloth</td>\n",
       "      <td>NaN</td>\n",
       "      <td>NaN</td>\n",
       "      <td>Electricity</td>\n",
       "      <td>NaN</td>\n",
       "      <td>NaN</td>\n",
       "      <td>NaN</td>\n",
       "      <td>NaN</td>\n",
       "      <td>NaN</td>\n",
       "      <td>NaN</td>\n",
       "      <td>NaN</td>\n",
       "      <td>NaN</td>\n",
       "      <td>NaN</td>\n",
       "      <td>NaN</td>\n",
       "      <td>NaN</td>\n",
       "      <td>NaN</td>\n",
       "    </tr>\n",
       "    <tr>\n",
       "      <th>4414</th>\n",
       "      <td>Opel Senator</td>\n",
       "      <td>3.0 24V</td>\n",
       "      <td>\\nOpel\\n</td>\n",
       "      <td>[\\n, Senator ,\\n]</td>\n",
       "      <td>Am Weidenbach 5d,  82362 Weilheim i. OB, DE</td>\n",
       "      <td>€ 4,500.-</td>\n",
       "      <td>[\\n, Sedan, \\n]</td>\n",
       "      <td>[\\n, Used, \\n]</td>\n",
       "      <td>[\\n, 4, \\n]</td>\n",
       "      <td>NaN</td>\n",
       "      <td>[\\n, 000293, \\n]</td>\n",
       "      <td>NaN</td>\n",
       "      <td>350,000 km</td>\n",
       "      <td>02/1993</td>\n",
       "      <td>[\\nAutomatic\\n]</td>\n",
       "      <td>Super 95</td>\n",
       "      <td>Silver</td>\n",
       "      <td>Metallic</td>\n",
       "      <td>[Der , Opel Senator,  war eine Pkw-Modellreihe...</td>\n",
       "      <td>Dealer</td>\n",
       "      <td>[\\n, 5, \\n]</td>\n",
       "      <td>[\\n150 kW (204 hp)\\n]</td>\n",
       "      <td>[\\n2,969 cc\\n]</td>\n",
       "      <td>[\\n4\\n]</td>\n",
       "      <td>0 g/km (comb.)</td>\n",
       "      <td>Rembrandtsilber</td>\n",
       "      <td>[\\n, Rear, \\n]</td>\n",
       "      <td>NaN</td>\n",
       "      <td>NaN</td>\n",
       "      <td>[Air conditioning, Armrest, Seat heating]</td>\n",
       "      <td>[On-board computer, Radio]</td>\n",
       "      <td>[ABS, Central door lock, Fog lights, Power ste...</td>\n",
       "      <td>[Alloy wheels, Headlight washer system, Smoker...</td>\n",
       "      <td>NaN</td>\n",
       "      <td>[\\n, 0039/838, \\n]</td>\n",
       "      <td>New</td>\n",
       "      <td>NaN</td>\n",
       "      <td>NaN</td>\n",
       "      <td>Yes</td>\n",
       "      <td>Euro 1</td>\n",
       "      <td>4 (Green)</td>\n",
       "      <td>Black</td>\n",
       "      <td>Velour</td>\n",
       "      <td>NaN</td>\n",
       "      <td>[[350,000 km, 02/1993], 2]</td>\n",
       "      <td>NaN</td>\n",
       "      <td>NaN</td>\n",
       "      <td>NaN</td>\n",
       "      <td>NaN</td>\n",
       "      <td>NaN</td>\n",
       "      <td>NaN</td>\n",
       "      <td>NaN</td>\n",
       "      <td>NaN</td>\n",
       "      <td>NaN</td>\n",
       "      <td>NaN</td>\n",
       "      <td>NaN</td>\n",
       "      <td>NaN</td>\n",
       "      <td>NaN</td>\n",
       "    </tr>\n",
       "  </tbody>\n",
       "</table>\n",
       "</div>"
      ],
      "text/plain": [
       "         make_model                         short_description        make   \n",
       "22944    Ford Focus          Turnier 2.3 EcoBoost ST LED Navi    \\nFord\\n  \\\n",
       "21022   Nissan Leaf  40 kWh Connecta N (EU6.2)    9.000 km!!!  \\nNissan\\n   \n",
       "4414   Opel Senator                                   3.0 24V    \\nOpel\\n   \n",
       "\n",
       "                   model                                      location   \n",
       "22944    [\\n, Focus ,\\n]  Prof.-Oehler-Straße 1,  40589 Düsseldorf, DE  \\\n",
       "21022     [\\n, Leaf ,\\n]         Ambachtstraat 1,  8620 Nieuwpoort, BE   \n",
       "4414   [\\n, Senator ,\\n]   Am Weidenbach 5d,  82362 Weilheim i. OB, DE   \n",
       "\n",
       "            price                body_type            type        doors   \n",
       "22944  € 31,480.-  [\\n, Station wagon, \\n]  [\\n, Used, \\n]  [\\n, 5, \\n]  \\\n",
       "21022  € 27,950.-          [\\n, Sedan, \\n]  [\\n, Used, \\n]  [\\n, 5, \\n]   \n",
       "4414    € 4,500.-          [\\n, Sedan, \\n]  [\\n, Used, \\n]  [\\n, 4, \\n]   \n",
       "\n",
       "      country_version         offer_number             warranty     mileage   \n",
       "22944             NaN  [\\n, 5662_5662, \\n]                  NaN   22,175 km  \\\n",
       "21022             NaN                  NaN  [\\n, 12 months, \\n]    9,500 km   \n",
       "4414              NaN     [\\n, 000293, \\n]                  NaN  350,000 km   \n",
       "\n",
       "      first_registration          gearbox                   fuel_type  colour   \n",
       "22944            11/2020     [\\nManual\\n]  Super 95 (Particle filter)   Black  \\\n",
       "21022            06/2020  [\\nAutomatic\\n]                         NaN   Black   \n",
       "4414             02/1993  [\\nAutomatic\\n]                    Super 95  Silver   \n",
       "\n",
       "          paint                                               desc  seller   \n",
       "22944  Metallic  [ * Dachhimmel aus Webstoff, schwarz,  * Dachr...  Dealer  \\\n",
       "21022  Metallic  [Specificaties, Kilometerstand, : 9500km, Eers...  Dealer   \n",
       "4414   Metallic  [Der , Opel Senator,  war eine Pkw-Modellreihe...  Dealer   \n",
       "\n",
       "             seats                  power     engine_size    gears   \n",
       "22944  [\\n, 5, \\n]  [\\n206 kW (280 hp)\\n]  [\\n2,261 cc\\n]  [\\n6\\n]  \\\n",
       "21022  [\\n, 5, \\n]  [\\n110 kW (150 hp)\\n]             NaN  [\\n1\\n]   \n",
       "4414   [\\n, 5, \\n]  [\\n150 kW (204 hp)\\n]  [\\n2,969 cc\\n]  [\\n4\\n]   \n",
       "\n",
       "          co2_emissions        manufacturer_colour       drivetrain cylinders   \n",
       "22944  187 g/km (comb.)  Obsidian-Schwarz Metallic  [\\n, Front, \\n]   [\\n4\\n]  \\\n",
       "21022               NaN                        NaN              NaN   [\\n1\\n]   \n",
       "4414     0 g/km (comb.)            Rembrandtsilber   [\\n, Rear, \\n]       NaN   \n",
       "\n",
       "                                        fuel_consumption   \n",
       "22944  [[8.2 l/100 km (comb.)], [11.6 l/100 km (city)...  \\\n",
       "21022                                                NaN   \n",
       "4414                                                 NaN   \n",
       "\n",
       "                                     comfort_convenience   \n",
       "22944  [Air conditioning, Armrest, Automatic climate ...  \\\n",
       "21022  [Air conditioning, Armrest, Automatic climate ...   \n",
       "4414           [Air conditioning, Armrest, Seat heating]   \n",
       "\n",
       "                                     entertainment_media   \n",
       "22944  [Android Auto, Apple CarPlay, Bluetooth, Digit...  \\\n",
       "21022  [Android Auto, Apple CarPlay, Bluetooth, Digit...   \n",
       "4414                          [On-board computer, Radio]   \n",
       "\n",
       "                                         safety_security   \n",
       "22944  [ABS, Adaptive headlights, Alarm system, Centr...  \\\n",
       "21022  [ABS, Adaptive Cruise Control, Blind spot moni...   \n",
       "4414   [ABS, Central door lock, Fog lights, Power ste...   \n",
       "\n",
       "                                                  extras    empty_weight   \n",
       "22944  [Alloy wheels (18\"), Automatically dimming int...  [\\n1,543 kg\\n]  \\\n",
       "21022  [Alloy wheels, Automatically dimming interior ...  [\\n1,500 kg\\n]   \n",
       "4414   [Alloy wheels, Headlight washer system, Smoker...             NaN   \n",
       "\n",
       "               model_code general_inspection last_service   \n",
       "22944  [\\n, 8566/BRB, \\n]                New          NaN  \\\n",
       "21022                 NaN                NaN          NaN   \n",
       "4414   [\\n, 0039/838, \\n]                New          NaN   \n",
       "\n",
       "      full_service_history non_smoker_vehicle emission_class   \n",
       "22944                  Yes                NaN        Euro 6d  \\\n",
       "21022                  NaN                NaN        Euro 6d   \n",
       "4414                   NaN                Yes         Euro 1   \n",
       "\n",
       "      emissions_sticker upholstery_colour    upholstery  production_date   \n",
       "22944         4 (Green)             Black  Part leather              NaN  \\\n",
       "21022               NaN             Black         Cloth              NaN   \n",
       "4414          4 (Green)             Black        Velour              NaN   \n",
       "\n",
       "                   previous_owner other_fuel_types power_consumption   \n",
       "22944   [[22,175 km, 11/2020], 1]              NaN               NaN  \\\n",
       "21022                         NaN      Electricity               NaN   \n",
       "4414   [[350,000 km, 02/1993], 2]              NaN               NaN   \n",
       "\n",
       "      energy_efficiency_class   \n",
       "22944                       E  \\\n",
       "21022                     NaN   \n",
       "4414                      NaN   \n",
       "\n",
       "                                          co2_efficiency   \n",
       "22944  Calculated on basis of measured CO₂-emissions ...  \\\n",
       "21022                                                NaN   \n",
       "4414                                                 NaN   \n",
       "\n",
       "      fuel_consumption_wltp co2_emissions_wltp available_from   \n",
       "22944                   NaN                NaN            NaN  \\\n",
       "21022                   NaN                NaN            NaN   \n",
       "4414                    NaN                NaN            NaN   \n",
       "\n",
       "      taxi_or_rental_car availability last_timing_belt_change   \n",
       "22944                NaN          NaN                     NaN  \\\n",
       "21022                NaN          NaN                     NaN   \n",
       "4414                 NaN          NaN                     NaN   \n",
       "\n",
       "      electric_range_wltp power_consumption_wltp battery_ownership  \n",
       "22944                 NaN                    NaN               NaN  \n",
       "21022                 NaN                    NaN               NaN  \n",
       "4414                  NaN                    NaN               NaN  "
      ]
     },
     "execution_count": 27,
     "metadata": {},
     "output_type": "execute_result"
    }
   ],
   "source": [
    "df.sample(3)"
   ]
  },
  {
   "cell_type": "code",
   "execution_count": 28,
   "metadata": {},
   "outputs": [
    {
     "name": "stdout",
     "output_type": "stream",
     "text": [
      "Column \u001b[1m\u001b[91mmake_model\u001b[0m has mixed object types.\n",
      "Column \u001b[1m\u001b[91mshort_description\u001b[0m has mixed object types.\n",
      "Column \u001b[1m\u001b[91mmake\u001b[0m has mixed object types.\n",
      "Column \u001b[1m\u001b[91mmodel\u001b[0m has mixed object types.\n",
      "Column \u001b[1m\u001b[91mlocation\u001b[0m has mixed object types.\n",
      "Column \u001b[1m\u001b[91mprice\u001b[0m has mixed object types.\n",
      "Column \u001b[1m\u001b[91mbody_type\u001b[0m has mixed object types.\n",
      "Column \u001b[1m\u001b[91mtype\u001b[0m has mixed object types.\n",
      "Column \u001b[1m\u001b[91mdoors\u001b[0m has mixed object types.\n",
      "Column \u001b[1m\u001b[91mcountry_version\u001b[0m has mixed object types.\n",
      "Column \u001b[1m\u001b[91moffer_number\u001b[0m has mixed object types.\n",
      "Column \u001b[1m\u001b[91mwarranty\u001b[0m has mixed object types.\n",
      "Column \u001b[1m\u001b[91mmileage\u001b[0m has mixed object types.\n",
      "Column \u001b[1m\u001b[91mfirst_registration\u001b[0m has mixed object types.\n",
      "Column \u001b[1m\u001b[91mgearbox\u001b[0m has mixed object types.\n",
      "Column \u001b[1m\u001b[91mfuel_type\u001b[0m has mixed object types.\n",
      "Column \u001b[1m\u001b[91mcolour\u001b[0m has mixed object types.\n",
      "Column \u001b[1m\u001b[91mpaint\u001b[0m has mixed object types.\n",
      "Column \u001b[1m\u001b[91mdesc\u001b[0m has mixed object types.\n",
      "Column \u001b[1m\u001b[91mseller\u001b[0m has mixed object types.\n",
      "Column \u001b[1m\u001b[91mseats\u001b[0m has mixed object types.\n",
      "Column \u001b[1m\u001b[91mpower\u001b[0m has mixed object types.\n",
      "Column \u001b[1m\u001b[91mengine_size\u001b[0m has mixed object types.\n",
      "Column \u001b[1m\u001b[91mgears\u001b[0m has mixed object types.\n",
      "Column \u001b[1m\u001b[91mco2_emissions\u001b[0m has mixed object types.\n",
      "Column \u001b[1m\u001b[91mmanufacturer_colour\u001b[0m has mixed object types.\n",
      "Column \u001b[1m\u001b[91mdrivetrain\u001b[0m has mixed object types.\n",
      "Column \u001b[1m\u001b[91mcylinders\u001b[0m has mixed object types.\n",
      "Column \u001b[1m\u001b[91mfuel_consumption\u001b[0m has mixed object types.\n",
      "Column \u001b[1m\u001b[91mcomfort_convenience\u001b[0m has mixed object types.\n",
      "Column \u001b[1m\u001b[91mentertainment_media\u001b[0m has mixed object types.\n",
      "Column \u001b[1m\u001b[91msafety_security\u001b[0m has mixed object types.\n",
      "Column \u001b[1m\u001b[91mextras\u001b[0m has mixed object types.\n",
      "Column \u001b[1m\u001b[91mempty_weight\u001b[0m has mixed object types.\n",
      "Column \u001b[1m\u001b[91mmodel_code\u001b[0m has mixed object types.\n",
      "Column \u001b[1m\u001b[91mgeneral_inspection\u001b[0m has mixed object types.\n",
      "Column \u001b[1m\u001b[91mlast_service\u001b[0m has mixed object types.\n",
      "Column \u001b[1m\u001b[91mfull_service_history\u001b[0m has mixed object types.\n",
      "Column \u001b[1m\u001b[91mnon_smoker_vehicle\u001b[0m has mixed object types.\n",
      "Column \u001b[1m\u001b[91memission_class\u001b[0m has mixed object types.\n",
      "Column \u001b[1m\u001b[91memissions_sticker\u001b[0m has mixed object types.\n",
      "Column \u001b[1m\u001b[91mupholstery_colour\u001b[0m has mixed object types.\n",
      "Column \u001b[1m\u001b[91mupholstery\u001b[0m has mixed object types.\n",
      "Column \u001b[1m\u001b[92mproduction_date\u001b[0m has one object type.\n",
      "Column \u001b[1m\u001b[91mprevious_owner\u001b[0m has mixed object types.\n",
      "Column \u001b[1m\u001b[91mother_fuel_types\u001b[0m has mixed object types.\n",
      "Column \u001b[1m\u001b[91mpower_consumption\u001b[0m has mixed object types.\n",
      "Column \u001b[1m\u001b[91menergy_efficiency_class\u001b[0m has mixed object types.\n",
      "Column \u001b[1m\u001b[91mco2_efficiency\u001b[0m has mixed object types.\n",
      "Column \u001b[1m\u001b[91mfuel_consumption_wltp\u001b[0m has mixed object types.\n",
      "Column \u001b[1m\u001b[91mco2_emissions_wltp\u001b[0m has mixed object types.\n",
      "Column \u001b[1m\u001b[91mavailable_from\u001b[0m has mixed object types.\n",
      "Column \u001b[1m\u001b[91mtaxi_or_rental_car\u001b[0m has mixed object types.\n",
      "Column \u001b[1m\u001b[91mavailability\u001b[0m has mixed object types.\n",
      "Column \u001b[1m\u001b[91mlast_timing_belt_change\u001b[0m has mixed object types.\n",
      "Column \u001b[1m\u001b[91melectric_range_wltp\u001b[0m has mixed object types.\n",
      "Column \u001b[1m\u001b[91mpower_consumption_wltp\u001b[0m has mixed object types.\n",
      "Column \u001b[1m\u001b[91mbattery_ownership\u001b[0m has mixed object types.\n"
     ]
    }
   ],
   "source": [
    "class color:\n",
    "    PURPLE = '\\033[95m'\n",
    "    CYAN = '\\033[96m'\n",
    "    DARKCYAN = '\\033[36m'\n",
    "    BLUE = '\\033[94m'\n",
    "    GREEN = '\\033[92m'\n",
    "    YELLOW = '\\033[93m'\n",
    "    RED = '\\033[91m'\n",
    "    BOLD = '\\033[1m'\n",
    "    UNDERLINE = '\\033[4m'\n",
    "    END = '\\033[0m'\n",
    "mixed_type_columns = [(x,', '.join(list(df[x].apply(type).unique().astype(str)))) for x in df if df[x].apply(type).nunique() > 1]\n",
    "one_type_columns = [(x,list(df[x].apply(type).unique())) for x in df if df[x].apply(type).nunique() == 1]\n",
    "def check_column_types(data):\n",
    "    for x in data:\n",
    "        if data[x].apply(type).nunique() > 1:\n",
    "            print(\"Column\" + \" \" + color.BOLD + color.RED + str(x) + color.END + \" \" + \"has mixed object types.\" )\n",
    "        elif data[x].apply(type).nunique() == 1:\n",
    "            print(\"Column\" + \" \" + color.BOLD + color.GREEN + str(x) + color.END + \" \" + \"has one object type.\" )\n",
    "        else:\n",
    "            print('Error')\n",
    "check_column_types(df)\n"
   ]
  },
  {
   "cell_type": "code",
   "execution_count": 29,
   "metadata": {},
   "outputs": [],
   "source": [
    "## DONE\n",
    "def removeWhiteFromList(x):\n",
    "    return list(filter(lambda x: x.strip(), x))\n",
    "df['desc'] = df['desc'].apply(lambda x: removeWhiteFromList(x) if isinstance(x, list) else x)"
   ]
  },
  {
   "cell_type": "code",
   "execution_count": 30,
   "metadata": {},
   "outputs": [
    {
     "data": {
      "text/plain": [
       "(29480, 58)"
      ]
     },
     "execution_count": 30,
     "metadata": {},
     "output_type": "execute_result"
    }
   ],
   "source": [
    "df.shape"
   ]
  },
  {
   "cell_type": "code",
   "execution_count": 31,
   "metadata": {},
   "outputs": [
    {
     "name": "stdout",
     "output_type": "stream",
     "text": [
      "<class 'pandas.core.frame.DataFrame'>\n",
      "RangeIndex: 29480 entries, 0 to 29479\n",
      "Data columns (total 58 columns):\n",
      " #   Column                   Non-Null Count  Dtype  \n",
      "---  ------                   --------------  -----  \n",
      " 0   make_model               28630 non-null  object \n",
      " 1   short_description        28630 non-null  object \n",
      " 2   make                     28630 non-null  object \n",
      " 3   model                    28630 non-null  object \n",
      " 4   location                 28630 non-null  object \n",
      " 5   price                    28630 non-null  object \n",
      " 6   body_type                28630 non-null  object \n",
      " 7   type                     28630 non-null  object \n",
      " 8   doors                    28271 non-null  object \n",
      " 9   country_version          16889 non-null  object \n",
      " 10  offer_number             23100 non-null  object \n",
      " 11  warranty                 15784 non-null  object \n",
      " 12  mileage                  28629 non-null  object \n",
      " 13  first_registration       28628 non-null  object \n",
      " 14  gearbox                  28382 non-null  object \n",
      " 15  fuel_type                26843 non-null  object \n",
      " 16  colour                   26906 non-null  object \n",
      " 17  paint                    14495 non-null  object \n",
      " 18  desc                     28047 non-null  object \n",
      " 19  seller                   28630 non-null  object \n",
      " 20  seats                    25505 non-null  object \n",
      " 21  power                    28058 non-null  object \n",
      " 22  engine_size              27227 non-null  object \n",
      " 23  gears                    18954 non-null  object \n",
      " 24  co2_emissions            18594 non-null  object \n",
      " 25  manufacturer_colour      21787 non-null  object \n",
      " 26  drivetrain               16893 non-null  object \n",
      " 27  cylinders                18852 non-null  object \n",
      " 28  fuel_consumption         23385 non-null  object \n",
      " 29  comfort_convenience      25433 non-null  object \n",
      " 30  entertainment_media      23644 non-null  object \n",
      " 31  safety_security          25415 non-null  object \n",
      " 32  extras                   23480 non-null  object \n",
      " 33  empty_weight             17758 non-null  object \n",
      " 34  model_code               8367 non-null   object \n",
      " 35  general_inspection       12254 non-null  object \n",
      " 36  last_service             2003 non-null   object \n",
      " 37  full_service_history     12565 non-null  object \n",
      " 38  non_smoker_vehicle       11594 non-null  object \n",
      " 39  emission_class           17859 non-null  object \n",
      " 40  emissions_sticker        9414 non-null   object \n",
      " 41  upholstery_colour        14569 non-null  object \n",
      " 42  upholstery               18610 non-null  object \n",
      " 43  production_date          5908 non-null   float64\n",
      " 44  previous_owner           14015 non-null  object \n",
      " 45  other_fuel_types         2313 non-null   object \n",
      " 46  power_consumption        515 non-null    object \n",
      " 47  energy_efficiency_class  7804 non-null   object \n",
      " 48  co2_efficiency           7804 non-null   object \n",
      " 49  fuel_consumption_wltp    100 non-null    object \n",
      " 50  co2_emissions_wltp       116 non-null    object \n",
      " 51  available_from           393 non-null    object \n",
      " 52  taxi_or_rental_car       422 non-null    object \n",
      " 53  availability             301 non-null    object \n",
      " 54  last_timing_belt_change  572 non-null    object \n",
      " 55  electric_range_wltp      16 non-null     object \n",
      " 56  power_consumption_wltp   16 non-null     object \n",
      " 57  battery_ownership        7 non-null      object \n",
      "dtypes: float64(1), object(57)\n",
      "memory usage: 13.0+ MB\n"
     ]
    }
   ],
   "source": [
    "df.info()"
   ]
  },
  {
   "cell_type": "code",
   "execution_count": 32,
   "metadata": {},
   "outputs": [],
   "source": [
    "# DONE drop rows with all NaN values\n",
    "df = df.dropna(axis=0, how='all')"
   ]
  },
  {
   "cell_type": "code",
   "execution_count": 33,
   "metadata": {},
   "outputs": [
    {
     "data": {
      "text/plain": [
       "(28630, 58)"
      ]
     },
     "execution_count": 33,
     "metadata": {},
     "output_type": "execute_result"
    }
   ],
   "source": [
    "df.shape"
   ]
  },
  {
   "cell_type": "code",
   "execution_count": 34,
   "metadata": {},
   "outputs": [],
   "source": [
    "# DONE clean make\n",
    "df.make = df.make.str.strip('\\n')\n",
    "df.loc[df.make == 'SEAT','make'] = 'Seat'\n",
    "df = df.reset_index(drop=True)"
   ]
  },
  {
   "cell_type": "code",
   "execution_count": 35,
   "metadata": {},
   "outputs": [],
   "source": [
    "# DONE clean make_model\n",
    "df.loc[df.make_model.str.contains('SEAT'),'make_model'] = df.loc[df.make_model.str.contains('SEAT'),'make_model'].apply(lambda x: x.replace('SEAT','Seat'))\n",
    "df.loc[df.make_model.str.contains('TUCSON'),'make_model'] = df.loc[df.make_model.str.contains('TUCSON'),'make_model'].apply(lambda x: x.replace('TUCSON','Tucson'))"
   ]
  },
  {
   "cell_type": "code",
   "execution_count": 36,
   "metadata": {},
   "outputs": [],
   "source": [
    "# df.make_model.value_counts().to_excel('make_model.xlsx')"
   ]
  },
  {
   "cell_type": "code",
   "execution_count": 37,
   "metadata": {},
   "outputs": [
    {
     "data": {
      "text/plain": [
       "0           [\\n, A 160 ,\\n]\n",
       "1         [\\n, EQE 350 ,\\n]\n",
       "2        [\\n, A 45 AMG ,\\n]\n",
       "3        [\\n, A 35 AMG ,\\n]\n",
       "4        [\\n, A 45 AMG ,\\n]\n",
       "                ...        \n",
       "28625         [\\n, S90 ,\\n]\n",
       "28626         [\\n, S40 ,\\n]\n",
       "28627         [\\n, C30 ,\\n]\n",
       "28628         [\\n, S90 ,\\n]\n",
       "28629         [\\n, S80 ,\\n]\n",
       "Name: model, Length: 28630, dtype: object"
      ]
     },
     "execution_count": 37,
     "metadata": {},
     "output_type": "execute_result"
    }
   ],
   "source": [
    "df.model"
   ]
  },
  {
   "cell_type": "code",
   "execution_count": 38,
   "metadata": {},
   "outputs": [],
   "source": [
    "# DONE clean model\n",
    "df['model'] = df.model.astype(str).str.replace(r\"['\\n,\", '').str.replace(r\",\\n']\", '').str.strip()"
   ]
  },
  {
   "cell_type": "code",
   "execution_count": 39,
   "metadata": {},
   "outputs": [
    {
     "data": {
      "text/plain": [
       "0           A 160\n",
       "1         EQE 350\n",
       "2        A 45 AMG\n",
       "3        A 35 AMG\n",
       "4        A 45 AMG\n",
       "           ...   \n",
       "28625         S90\n",
       "28626         S40\n",
       "28627         C30\n",
       "28628         S90\n",
       "28629         S80\n",
       "Name: model, Length: 28630, dtype: object"
      ]
     },
     "execution_count": 39,
     "metadata": {},
     "output_type": "execute_result"
    }
   ],
   "source": [
    "df.model"
   ]
  },
  {
   "cell_type": "code",
   "execution_count": 40,
   "metadata": {},
   "outputs": [],
   "source": [
    "#pd.set_option('display.max_rows', None)\n",
    "#pd.reset_option('all')"
   ]
  },
  {
   "cell_type": "code",
   "execution_count": 41,
   "metadata": {},
   "outputs": [
    {
     "data": {
      "text/html": [
       "<div>\n",
       "<style scoped>\n",
       "    .dataframe tbody tr th:only-of-type {\n",
       "        vertical-align: middle;\n",
       "    }\n",
       "\n",
       "    .dataframe tbody tr th {\n",
       "        vertical-align: top;\n",
       "    }\n",
       "\n",
       "    .dataframe thead th {\n",
       "        text-align: right;\n",
       "    }\n",
       "</style>\n",
       "<table border=\"1\" class=\"dataframe\">\n",
       "  <thead>\n",
       "    <tr style=\"text-align: right;\">\n",
       "      <th></th>\n",
       "      <th>make_model</th>\n",
       "      <th>short_description</th>\n",
       "      <th>make</th>\n",
       "      <th>model</th>\n",
       "      <th>location</th>\n",
       "      <th>price</th>\n",
       "      <th>body_type</th>\n",
       "      <th>type</th>\n",
       "      <th>doors</th>\n",
       "      <th>country_version</th>\n",
       "      <th>offer_number</th>\n",
       "      <th>warranty</th>\n",
       "      <th>mileage</th>\n",
       "      <th>first_registration</th>\n",
       "      <th>gearbox</th>\n",
       "      <th>fuel_type</th>\n",
       "      <th>colour</th>\n",
       "      <th>paint</th>\n",
       "      <th>desc</th>\n",
       "      <th>seller</th>\n",
       "      <th>seats</th>\n",
       "      <th>power</th>\n",
       "      <th>engine_size</th>\n",
       "      <th>gears</th>\n",
       "      <th>co2_emissions</th>\n",
       "      <th>manufacturer_colour</th>\n",
       "      <th>drivetrain</th>\n",
       "      <th>cylinders</th>\n",
       "      <th>fuel_consumption</th>\n",
       "      <th>comfort_convenience</th>\n",
       "      <th>entertainment_media</th>\n",
       "      <th>safety_security</th>\n",
       "      <th>extras</th>\n",
       "      <th>empty_weight</th>\n",
       "      <th>model_code</th>\n",
       "      <th>general_inspection</th>\n",
       "      <th>last_service</th>\n",
       "      <th>full_service_history</th>\n",
       "      <th>non_smoker_vehicle</th>\n",
       "      <th>emission_class</th>\n",
       "      <th>emissions_sticker</th>\n",
       "      <th>upholstery_colour</th>\n",
       "      <th>upholstery</th>\n",
       "      <th>production_date</th>\n",
       "      <th>previous_owner</th>\n",
       "      <th>other_fuel_types</th>\n",
       "      <th>power_consumption</th>\n",
       "      <th>energy_efficiency_class</th>\n",
       "      <th>co2_efficiency</th>\n",
       "      <th>fuel_consumption_wltp</th>\n",
       "      <th>co2_emissions_wltp</th>\n",
       "      <th>available_from</th>\n",
       "      <th>taxi_or_rental_car</th>\n",
       "      <th>availability</th>\n",
       "      <th>last_timing_belt_change</th>\n",
       "      <th>electric_range_wltp</th>\n",
       "      <th>power_consumption_wltp</th>\n",
       "      <th>battery_ownership</th>\n",
       "    </tr>\n",
       "  </thead>\n",
       "  <tbody>\n",
       "    <tr>\n",
       "      <th>18398</th>\n",
       "      <td>Toyota C-HR</td>\n",
       "      <td>1.8 125H Active</td>\n",
       "      <td>Toyota</td>\n",
       "      <td>C-HR</td>\n",
       "      <td>CUESTA DE LOS CALLEJONES S/N,  04230 HUERCAL D...</td>\n",
       "      <td>€ 21,490.-</td>\n",
       "      <td>[\\n, Sedan, \\n]</td>\n",
       "      <td>[\\n, Used, \\n]</td>\n",
       "      <td>[\\n, 5, \\n]</td>\n",
       "      <td>[\\n, Spain, \\n]</td>\n",
       "      <td>[\\n, 7457013, \\n]</td>\n",
       "      <td>[\\n, 24 months, \\n]</td>\n",
       "      <td>82,429 km</td>\n",
       "      <td>07/2018</td>\n",
       "      <td>[\\nAutomatic\\n]</td>\n",
       "      <td>Others</td>\n",
       "      <td>NaN</td>\n",
       "      <td>NaN</td>\n",
       "      <td>[Precio al contado: 22490 euros, Ref: 7454, CO...</td>\n",
       "      <td>Dealer</td>\n",
       "      <td>[\\n, 5, \\n]</td>\n",
       "      <td>[\\n90 kW (122 hp)\\n]</td>\n",
       "      <td>[\\n1,798 cc\\n]</td>\n",
       "      <td>[\\n5\\n]</td>\n",
       "      <td>NaN</td>\n",
       "      <td>BLANCO PERLADO</td>\n",
       "      <td>NaN</td>\n",
       "      <td>NaN</td>\n",
       "      <td>[[3 l/100 km (comb.)], [3 l/100 km (city)], [4...</td>\n",
       "      <td>NaN</td>\n",
       "      <td>NaN</td>\n",
       "      <td>NaN</td>\n",
       "      <td>NaN</td>\n",
       "      <td>NaN</td>\n",
       "      <td>NaN</td>\n",
       "      <td>NaN</td>\n",
       "      <td>NaN</td>\n",
       "      <td>NaN</td>\n",
       "      <td>NaN</td>\n",
       "      <td>NaN</td>\n",
       "      <td>NaN</td>\n",
       "      <td>NaN</td>\n",
       "      <td>NaN</td>\n",
       "      <td>NaN</td>\n",
       "      <td>NaN</td>\n",
       "      <td>NaN</td>\n",
       "      <td>NaN</td>\n",
       "      <td>NaN</td>\n",
       "      <td>NaN</td>\n",
       "      <td>NaN</td>\n",
       "      <td>NaN</td>\n",
       "      <td>NaN</td>\n",
       "      <td>NaN</td>\n",
       "      <td>NaN</td>\n",
       "      <td>NaN</td>\n",
       "      <td>NaN</td>\n",
       "      <td>NaN</td>\n",
       "      <td>NaN</td>\n",
       "    </tr>\n",
       "  </tbody>\n",
       "</table>\n",
       "</div>"
      ],
      "text/plain": [
       "        make_model short_description    make model   \n",
       "18398  Toyota C-HR   1.8 125H Active  Toyota  C-HR  \\\n",
       "\n",
       "                                                location       price   \n",
       "18398  CUESTA DE LOS CALLEJONES S/N,  04230 HUERCAL D...  € 21,490.-  \\\n",
       "\n",
       "             body_type            type        doors  country_version   \n",
       "18398  [\\n, Sedan, \\n]  [\\n, Used, \\n]  [\\n, 5, \\n]  [\\n, Spain, \\n]  \\\n",
       "\n",
       "            offer_number             warranty    mileage first_registration   \n",
       "18398  [\\n, 7457013, \\n]  [\\n, 24 months, \\n]  82,429 km            07/2018  \\\n",
       "\n",
       "               gearbox fuel_type colour paint   \n",
       "18398  [\\nAutomatic\\n]    Others    NaN   NaN  \\\n",
       "\n",
       "                                                    desc  seller        seats   \n",
       "18398  [Precio al contado: 22490 euros, Ref: 7454, CO...  Dealer  [\\n, 5, \\n]  \\\n",
       "\n",
       "                      power     engine_size    gears co2_emissions   \n",
       "18398  [\\n90 kW (122 hp)\\n]  [\\n1,798 cc\\n]  [\\n5\\n]           NaN  \\\n",
       "\n",
       "      manufacturer_colour drivetrain cylinders   \n",
       "18398      BLANCO PERLADO        NaN       NaN  \\\n",
       "\n",
       "                                        fuel_consumption comfort_convenience   \n",
       "18398  [[3 l/100 km (comb.)], [3 l/100 km (city)], [4...                 NaN  \\\n",
       "\n",
       "      entertainment_media safety_security extras empty_weight model_code   \n",
       "18398                 NaN             NaN    NaN          NaN        NaN  \\\n",
       "\n",
       "      general_inspection last_service full_service_history non_smoker_vehicle   \n",
       "18398                NaN          NaN                  NaN                NaN  \\\n",
       "\n",
       "      emission_class emissions_sticker upholstery_colour upholstery   \n",
       "18398            NaN               NaN               NaN        NaN  \\\n",
       "\n",
       "       production_date previous_owner other_fuel_types power_consumption   \n",
       "18398              NaN            NaN              NaN               NaN  \\\n",
       "\n",
       "      energy_efficiency_class co2_efficiency fuel_consumption_wltp   \n",
       "18398                     NaN            NaN                   NaN  \\\n",
       "\n",
       "      co2_emissions_wltp available_from taxi_or_rental_car availability   \n",
       "18398                NaN            NaN                NaN          NaN  \\\n",
       "\n",
       "      last_timing_belt_change electric_range_wltp power_consumption_wltp   \n",
       "18398                     NaN                 NaN                    NaN  \\\n",
       "\n",
       "      battery_ownership  \n",
       "18398               NaN  "
      ]
     },
     "execution_count": 41,
     "metadata": {},
     "output_type": "execute_result"
    }
   ],
   "source": [
    "df.sample(1)"
   ]
  },
  {
   "cell_type": "code",
   "execution_count": 42,
   "metadata": {},
   "outputs": [],
   "source": [
    "# DONE CLEAN paint\n",
    "df.loc[~(df.paint == 'Metallic') & (df.manufacturer_colour.str.lower().str.contains('metallic')),['paint']] = 'Metallic'"
   ]
  },
  {
   "cell_type": "code",
   "execution_count": 43,
   "metadata": {},
   "outputs": [
    {
     "data": {
      "text/html": [
       "<div>\n",
       "<style scoped>\n",
       "    .dataframe tbody tr th:only-of-type {\n",
       "        vertical-align: middle;\n",
       "    }\n",
       "\n",
       "    .dataframe tbody tr th {\n",
       "        vertical-align: top;\n",
       "    }\n",
       "\n",
       "    .dataframe thead th {\n",
       "        text-align: right;\n",
       "    }\n",
       "</style>\n",
       "<table border=\"1\" class=\"dataframe\">\n",
       "  <thead>\n",
       "    <tr style=\"text-align: right;\">\n",
       "      <th></th>\n",
       "      <th>paint</th>\n",
       "      <th>manufacturer_colour</th>\n",
       "    </tr>\n",
       "  </thead>\n",
       "  <tbody>\n",
       "    <tr>\n",
       "      <th>0</th>\n",
       "      <td>Metallic</td>\n",
       "      <td>NaN</td>\n",
       "    </tr>\n",
       "    <tr>\n",
       "      <th>4</th>\n",
       "      <td>Metallic</td>\n",
       "      <td>NaN</td>\n",
       "    </tr>\n",
       "    <tr>\n",
       "      <th>7</th>\n",
       "      <td>Metallic</td>\n",
       "      <td>Gris Montaña</td>\n",
       "    </tr>\n",
       "    <tr>\n",
       "      <th>11</th>\n",
       "      <td>Metallic</td>\n",
       "      <td>Negro</td>\n",
       "    </tr>\n",
       "    <tr>\n",
       "      <th>15</th>\n",
       "      <td>Metallic</td>\n",
       "      <td>Premium \"Kosmosschwarz\"- Met</td>\n",
       "    </tr>\n",
       "    <tr>\n",
       "      <th>...</th>\n",
       "      <td>...</td>\n",
       "      <td>...</td>\n",
       "    </tr>\n",
       "    <tr>\n",
       "      <th>28615</th>\n",
       "      <td>Metallic</td>\n",
       "      <td>Tropic Green</td>\n",
       "    </tr>\n",
       "    <tr>\n",
       "      <th>28619</th>\n",
       "      <td>Metallic</td>\n",
       "      <td>NaN</td>\n",
       "    </tr>\n",
       "    <tr>\n",
       "      <th>28620</th>\n",
       "      <td>Metallic</td>\n",
       "      <td>NaN</td>\n",
       "    </tr>\n",
       "    <tr>\n",
       "      <th>28623</th>\n",
       "      <td>Metallic</td>\n",
       "      <td>NaN</td>\n",
       "    </tr>\n",
       "    <tr>\n",
       "      <th>28627</th>\n",
       "      <td>Metallic</td>\n",
       "      <td>NaN</td>\n",
       "    </tr>\n",
       "  </tbody>\n",
       "</table>\n",
       "<p>9933 rows × 2 columns</p>\n",
       "</div>"
      ],
      "text/plain": [
       "          paint           manufacturer_colour\n",
       "0      Metallic                           NaN\n",
       "4      Metallic                           NaN\n",
       "7      Metallic                  Gris Montaña\n",
       "11     Metallic                         Negro\n",
       "15     Metallic  Premium \"Kosmosschwarz\"- Met\n",
       "...         ...                           ...\n",
       "28615  Metallic                  Tropic Green\n",
       "28619  Metallic                           NaN\n",
       "28620  Metallic                           NaN\n",
       "28623  Metallic                           NaN\n",
       "28627  Metallic                           NaN\n",
       "\n",
       "[9933 rows x 2 columns]"
      ]
     },
     "execution_count": 43,
     "metadata": {},
     "output_type": "execute_result"
    }
   ],
   "source": [
    "df.loc[(df.paint == 'Metallic') & ~(df.manufacturer_colour.str.lower().str.contains('metallic', na=False)),['paint','manufacturer_colour']]"
   ]
  },
  {
   "cell_type": "code",
   "execution_count": 44,
   "metadata": {},
   "outputs": [],
   "source": [
    "# CLEAN power\n",
    "df.power = df.power.astype(str).str.replace(r\"['\\n\", '').str.replace(r\"\\n']\", '').str.strip()"
   ]
  },
  {
   "cell_type": "code",
   "execution_count": 45,
   "metadata": {},
   "outputs": [
    {
     "data": {
      "text/plain": [
       "13415    110 kW (150 hp)\n",
       "7093                 nan\n",
       "11509     74 kW (101 hp)\n",
       "Name: power, dtype: object"
      ]
     },
     "execution_count": 45,
     "metadata": {},
     "output_type": "execute_result"
    }
   ],
   "source": [
    "df.power.sample(3)"
   ]
  },
  {
   "cell_type": "code",
   "execution_count": 46,
   "metadata": {},
   "outputs": [],
   "source": [
    "# CLEAN power and MAKE hp\n",
    "# CONTROL pd.concat([df['power'].str.extract(r'\\((\\d+) hp\\)'),df.power], axis =1)\n",
    "df['power_hp'] = df['power'].str.extract(r'\\((\\d+) hp\\)').astype(float)\n"
   ]
  },
  {
   "cell_type": "code",
   "execution_count": 47,
   "metadata": {},
   "outputs": [
    {
     "data": {
      "text/plain": [
       "1792    333.00\n",
       "17514   116.00\n",
       "19459   283.00\n",
       "Name: power_hp, dtype: float64"
      ]
     },
     "execution_count": 47,
     "metadata": {},
     "output_type": "execute_result"
    }
   ],
   "source": [
    "df.power_hp.sample(3)"
   ]
  },
  {
   "cell_type": "code",
   "execution_count": 48,
   "metadata": {},
   "outputs": [],
   "source": [
    "# Make power_kw\n",
    "df['power_kw'] = df['power'].str.extract(r'(\\d+.(\\d+)?) kW')[0].astype(float)"
   ]
  },
  {
   "cell_type": "code",
   "execution_count": 49,
   "metadata": {},
   "outputs": [
    {
     "data": {
      "text/html": [
       "<div>\n",
       "<style scoped>\n",
       "    .dataframe tbody tr th:only-of-type {\n",
       "        vertical-align: middle;\n",
       "    }\n",
       "\n",
       "    .dataframe tbody tr th {\n",
       "        vertical-align: top;\n",
       "    }\n",
       "\n",
       "    .dataframe thead th {\n",
       "        text-align: right;\n",
       "    }\n",
       "</style>\n",
       "<table border=\"1\" class=\"dataframe\">\n",
       "  <thead>\n",
       "    <tr style=\"text-align: right;\">\n",
       "      <th></th>\n",
       "      <th>power</th>\n",
       "      <th>power_hp</th>\n",
       "      <th>power_kw</th>\n",
       "    </tr>\n",
       "  </thead>\n",
       "  <tbody>\n",
       "    <tr>\n",
       "      <th>12930</th>\n",
       "      <td>77 kW (105 hp)</td>\n",
       "      <td>105.00</td>\n",
       "      <td>77.00</td>\n",
       "    </tr>\n",
       "    <tr>\n",
       "      <th>4126</th>\n",
       "      <td>107 kW (145 hp)</td>\n",
       "      <td>145.00</td>\n",
       "      <td>107.00</td>\n",
       "    </tr>\n",
       "    <tr>\n",
       "      <th>28058</th>\n",
       "      <td>140 kW (190 hp)</td>\n",
       "      <td>190.00</td>\n",
       "      <td>140.00</td>\n",
       "    </tr>\n",
       "  </tbody>\n",
       "</table>\n",
       "</div>"
      ],
      "text/plain": [
       "                 power  power_hp  power_kw\n",
       "12930   77 kW (105 hp)    105.00     77.00\n",
       "4126   107 kW (145 hp)    145.00    107.00\n",
       "28058  140 kW (190 hp)    190.00    140.00"
      ]
     },
     "execution_count": 49,
     "metadata": {},
     "output_type": "execute_result"
    }
   ],
   "source": [
    "df.loc[:,['power','power_hp','power_kw']].sample(3)"
   ]
  },
  {
   "cell_type": "code",
   "execution_count": 50,
   "metadata": {},
   "outputs": [],
   "source": [
    "# CLEAN price\n",
    "df.price = df.price.astype(str).str.replace('€','').str.replace('.','').str.replace('-','').str.replace(',','').str.strip().astype(float)"
   ]
  },
  {
   "cell_type": "code",
   "execution_count": 51,
   "metadata": {},
   "outputs": [
    {
     "data": {
      "text/plain": [
       "25632   15450.00\n",
       "5967     4500.00\n",
       "28528   51900.00\n",
       "Name: price, dtype: float64"
      ]
     },
     "execution_count": 51,
     "metadata": {},
     "output_type": "execute_result"
    }
   ],
   "source": [
    "df.price.sample(3)"
   ]
  },
  {
   "cell_type": "code",
   "execution_count": 52,
   "metadata": {},
   "outputs": [
    {
     "data": {
      "text/plain": [
       "13622          [\\n, Compact, \\n]\n",
       "13424            [\\n, Sedan, \\n]\n",
       "27818    [\\n, Station wagon, \\n]\n",
       "Name: body_type, dtype: object"
      ]
     },
     "execution_count": 52,
     "metadata": {},
     "output_type": "execute_result"
    }
   ],
   "source": [
    "df.body_type.sample(3)"
   ]
  },
  {
   "cell_type": "code",
   "execution_count": 53,
   "metadata": {},
   "outputs": [],
   "source": [
    "#CLEAN body_type\n",
    "#  \n",
    "df.body_type = df.body_type.astype(str).str.replace(\"[\\'\\\\n,\", '').str.replace(\", \\\\n\\']\", '').str.strip()"
   ]
  },
  {
   "cell_type": "code",
   "execution_count": 54,
   "metadata": {},
   "outputs": [
    {
     "data": {
      "text/plain": [
       "20660               Sedan\n",
       "17680    Off-Road/Pick-up\n",
       "284               Compact\n",
       "Name: body_type, dtype: object"
      ]
     },
     "execution_count": 54,
     "metadata": {},
     "output_type": "execute_result"
    }
   ],
   "source": [
    "df.body_type.sample(3)"
   ]
  },
  {
   "cell_type": "code",
   "execution_count": 55,
   "metadata": {},
   "outputs": [
    {
     "data": {
      "text/plain": [
       "12390    [\\n, Used, \\n]\n",
       "18441    [\\n, Used, \\n]\n",
       "17616    [\\n, Used, \\n]\n",
       "Name: type, dtype: object"
      ]
     },
     "execution_count": 55,
     "metadata": {},
     "output_type": "execute_result"
    }
   ],
   "source": [
    "df.type.sample(3)"
   ]
  },
  {
   "cell_type": "code",
   "execution_count": 56,
   "metadata": {},
   "outputs": [],
   "source": [
    "#CLEAN type\n",
    "# df.type = df.type.str.replace(\"[\\'\\\\n,\", '').str.replace(\", \\\\n\\']\", '').str.strip().astype(str)\n",
    "df.type = df.type.astype(str).str.replace(\"[\\'\\\\n,\", '').str.replace(\", \\\\n\\']\", '').str.strip().astype(str)"
   ]
  },
  {
   "cell_type": "code",
   "execution_count": 57,
   "metadata": {},
   "outputs": [
    {
     "data": {
      "text/plain": [
       "array(['Used', 'Pre-registered', 'Demonstration',\n",
       "       '[\"\\\\n, Employee\\'s car, \\\\n\"]'], dtype=object)"
      ]
     },
     "execution_count": 57,
     "metadata": {},
     "output_type": "execute_result"
    }
   ],
   "source": [
    "df.type.unique()"
   ]
  },
  {
   "cell_type": "code",
   "execution_count": 58,
   "metadata": {},
   "outputs": [],
   "source": [
    "df.type.replace('[\"\\\\n, Employee\\'s car, \\\\n\"]',\"Employee's car\", inplace=True)"
   ]
  },
  {
   "cell_type": "code",
   "execution_count": 59,
   "metadata": {},
   "outputs": [
    {
     "data": {
      "text/plain": [
       "23775    Used\n",
       "8153     Used\n",
       "5973     Used\n",
       "Name: type, dtype: object"
      ]
     },
     "execution_count": 59,
     "metadata": {},
     "output_type": "execute_result"
    }
   ],
   "source": [
    "df.type.sample(3)"
   ]
  },
  {
   "cell_type": "code",
   "execution_count": 60,
   "metadata": {},
   "outputs": [
    {
     "data": {
      "text/plain": [
       "99       [\\n, 5, \\n]\n",
       "17678    [\\n, 5, \\n]\n",
       "21899    [\\n, 2, \\n]\n",
       "Name: doors, dtype: object"
      ]
     },
     "execution_count": 60,
     "metadata": {},
     "output_type": "execute_result"
    }
   ],
   "source": [
    "df.doors.sample(3)"
   ]
  },
  {
   "cell_type": "code",
   "execution_count": 61,
   "metadata": {},
   "outputs": [],
   "source": [
    "#CLEAN doors\n",
    "df.doors = df.doors.astype(str).str.replace(\"[\\'\\\\n,\", '').str.replace(\", \\\\n\\']\", '').str.strip().astype(float)"
   ]
  },
  {
   "cell_type": "code",
   "execution_count": 62,
   "metadata": {},
   "outputs": [
    {
     "data": {
      "text/plain": [
       "2291    4.00\n",
       "17959   2.00\n",
       "1817    5.00\n",
       "Name: doors, dtype: float64"
      ]
     },
     "execution_count": 62,
     "metadata": {},
     "output_type": "execute_result"
    }
   ],
   "source": [
    "df.doors.sample(3)"
   ]
  },
  {
   "cell_type": "code",
   "execution_count": 63,
   "metadata": {},
   "outputs": [
    {
     "data": {
      "text/plain": [
       "25539    [\\n, 12 months, \\n]\n",
       "20134                    NaN\n",
       "24142                    NaN\n",
       "Name: warranty, dtype: object"
      ]
     },
     "execution_count": 63,
     "metadata": {},
     "output_type": "execute_result"
    }
   ],
   "source": [
    "df.warranty.sample(3)"
   ]
  },
  {
   "cell_type": "code",
   "execution_count": 64,
   "metadata": {},
   "outputs": [],
   "source": [
    "#CLEAN warranty\n",
    "df.warranty = df.warranty.astype(str).str.replace(\"[\\'\\\\n,\", '').str.replace(\", \\\\n\\']\", '').str.replace('months', '').str.strip().astype(str)\n"
   ]
  },
  {
   "cell_type": "code",
   "execution_count": 65,
   "metadata": {},
   "outputs": [],
   "source": [
    "df.warranty = df.warranty.str.replace('nan','')\n",
    "df.warranty = df.warranty.str.replace('Yes','')\n",
    "df.warranty = df.warranty.replace('',np.nan)\n",
    "df.warranty = df.warranty.astype(float)"
   ]
  },
  {
   "cell_type": "code",
   "execution_count": 66,
   "metadata": {},
   "outputs": [
    {
     "data": {
      "text/plain": [
       "6542    12.00\n",
       "11581     NaN\n",
       "10839   12.00\n",
       "Name: warranty, dtype: float64"
      ]
     },
     "execution_count": 66,
     "metadata": {},
     "output_type": "execute_result"
    }
   ],
   "source": [
    "df.warranty.sample(3)"
   ]
  },
  {
   "cell_type": "code",
   "execution_count": 67,
   "metadata": {},
   "outputs": [
    {
     "data": {
      "text/plain": [
       "warranty\n",
       "True     15165\n",
       "False    13465\n",
       "Name: count, dtype: int64"
      ]
     },
     "execution_count": 67,
     "metadata": {},
     "output_type": "execute_result"
    }
   ],
   "source": [
    "df.warranty.isna().value_counts()"
   ]
  },
  {
   "cell_type": "code",
   "execution_count": 68,
   "metadata": {},
   "outputs": [],
   "source": [
    "df.warranty = df.warranty.apply(lambda x: 'No' if pd.isna(x) else 'Yes')"
   ]
  },
  {
   "cell_type": "code",
   "execution_count": 69,
   "metadata": {},
   "outputs": [
    {
     "data": {
      "text/plain": [
       "18453         10 km\n",
       "10602    135,000 km\n",
       "11409    127,000 km\n",
       "Name: mileage, dtype: object"
      ]
     },
     "execution_count": 69,
     "metadata": {},
     "output_type": "execute_result"
    }
   ],
   "source": [
    "df.mileage.sample(3)"
   ]
  },
  {
   "cell_type": "code",
   "execution_count": 70,
   "metadata": {},
   "outputs": [],
   "source": [
    "# CLEAN mileage\n",
    "# df.mileage = df.mileage.astype(str)\n",
    "df.mileage = df.mileage.str.replace('km','').str.replace(',','').str.strip().astype(float)"
   ]
  },
  {
   "cell_type": "code",
   "execution_count": 71,
   "metadata": {},
   "outputs": [
    {
     "data": {
      "text/plain": [
       "15526   59565.00\n",
       "14752   51400.00\n",
       "2402    75700.00\n",
       "Name: mileage, dtype: float64"
      ]
     },
     "execution_count": 71,
     "metadata": {},
     "output_type": "execute_result"
    }
   ],
   "source": [
    "df.mileage.sample(3)"
   ]
  },
  {
   "cell_type": "code",
   "execution_count": 72,
   "metadata": {},
   "outputs": [],
   "source": [
    "# CLEAN first_registration\n",
    "df['first_registration'] = pd.to_datetime(df['first_registration'], format='%m/%Y')\n",
    "\n",
    "# FEATURE ENGINEERING MAKE AGE\n",
    "df['age'] = 2022 - pd.to_datetime(df.first_registration).dt.year"
   ]
  },
  {
   "cell_type": "code",
   "execution_count": 73,
   "metadata": {},
   "outputs": [
    {
     "data": {
      "text/plain": [
       "10990   4.00\n",
       "22637   0.00\n",
       "19403   3.00\n",
       "Name: age, dtype: float64"
      ]
     },
     "execution_count": 73,
     "metadata": {},
     "output_type": "execute_result"
    }
   ],
   "source": [
    "df.age.sample(3)"
   ]
  },
  {
   "cell_type": "code",
   "execution_count": 74,
   "metadata": {},
   "outputs": [
    {
     "data": {
      "text/plain": [
       "10219       [\\nManual\\n]\n",
       "26338    [\\nAutomatic\\n]\n",
       "20008       [\\nManual\\n]\n",
       "Name: gearbox, dtype: object"
      ]
     },
     "execution_count": 74,
     "metadata": {},
     "output_type": "execute_result"
    }
   ],
   "source": [
    "df.gearbox.sample(3)"
   ]
  },
  {
   "cell_type": "code",
   "execution_count": 75,
   "metadata": {},
   "outputs": [],
   "source": [
    "# CLEAN gearbox\n",
    "df.gearbox = df.gearbox.astype(str).str.replace(\"[\\'\\\\n\", '').str.replace(\"\\\\n\\']\", '').astype(str)"
   ]
  },
  {
   "cell_type": "code",
   "execution_count": 76,
   "metadata": {},
   "outputs": [
    {
     "data": {
      "text/plain": [
       "7878        Manual\n",
       "16489       Manual\n",
       "27108    Automatic\n",
       "Name: gearbox, dtype: object"
      ]
     },
     "execution_count": 76,
     "metadata": {},
     "output_type": "execute_result"
    }
   ],
   "source": [
    "df.gearbox.sample(3)"
   ]
  },
  {
   "cell_type": "code",
   "execution_count": 77,
   "metadata": {},
   "outputs": [
    {
     "data": {
      "text/plain": [
       "20480    [\\n, 5, \\n]\n",
       "15973    [\\n, 5, \\n]\n",
       "24253    [\\n, 5, \\n]\n",
       "Name: seats, dtype: object"
      ]
     },
     "execution_count": 77,
     "metadata": {},
     "output_type": "execute_result"
    }
   ],
   "source": [
    "df.seats.sample(3)"
   ]
  },
  {
   "cell_type": "code",
   "execution_count": 78,
   "metadata": {},
   "outputs": [],
   "source": [
    "# CLEAN seats\n",
    "df.seats = df.seats.astype(str).str.replace(\"[\\'\\\\n, \", '').str.replace(\", \\\\n\\']\", '').astype(float)"
   ]
  },
  {
   "cell_type": "code",
   "execution_count": 79,
   "metadata": {},
   "outputs": [
    {
     "data": {
      "text/plain": [
       "1623    5.00\n",
       "8461    7.00\n",
       "11430   5.00\n",
       "Name: seats, dtype: float64"
      ]
     },
     "execution_count": 79,
     "metadata": {},
     "output_type": "execute_result"
    }
   ],
   "source": [
    "df.seats.sample(3)"
   ]
  },
  {
   "cell_type": "code",
   "execution_count": 80,
   "metadata": {},
   "outputs": [
    {
     "data": {
      "text/plain": [
       "2362     [\\n1,950 cc\\n]\n",
       "11508      [\\n999 cc\\n]\n",
       "24074        [\\n0 cc\\n]\n",
       "Name: engine_size, dtype: object"
      ]
     },
     "execution_count": 80,
     "metadata": {},
     "output_type": "execute_result"
    }
   ],
   "source": [
    "df.engine_size.sample(3)"
   ]
  },
  {
   "cell_type": "code",
   "execution_count": 81,
   "metadata": {},
   "outputs": [],
   "source": [
    "# CLEAN engine_size\n",
    "df.engine_size = df.engine_size.astype(str).str.replace(\"[\\'\\\\n\", '').str.replace(\"\\\\n\\']\", '').str.replace(\",\", '').str.replace(\"cc\", '').str.strip().astype(float)"
   ]
  },
  {
   "cell_type": "code",
   "execution_count": 82,
   "metadata": {},
   "outputs": [
    {
     "data": {
      "text/plain": [
       "22356   1498.00\n",
       "6821        NaN\n",
       "11529   1000.00\n",
       "Name: engine_size, dtype: float64"
      ]
     },
     "execution_count": 82,
     "metadata": {},
     "output_type": "execute_result"
    }
   ],
   "source": [
    "df.engine_size.sample(3)"
   ]
  },
  {
   "cell_type": "code",
   "execution_count": 83,
   "metadata": {},
   "outputs": [
    {
     "data": {
      "text/plain": [
       "4169     [\\n6\\n]\n",
       "20246        NaN\n",
       "3778     [\\n8\\n]\n",
       "Name: gears, dtype: object"
      ]
     },
     "execution_count": 83,
     "metadata": {},
     "output_type": "execute_result"
    }
   ],
   "source": [
    "df.gears.sample(3)"
   ]
  },
  {
   "cell_type": "code",
   "execution_count": 84,
   "metadata": {},
   "outputs": [],
   "source": [
    "df.gears = df.gears.astype(str).str.replace(\"[\\'\\\\n\", '').str.replace(\"\\\\n\\']\", '').str.strip().astype(float)"
   ]
  },
  {
   "cell_type": "code",
   "execution_count": 85,
   "metadata": {},
   "outputs": [
    {
     "data": {
      "text/plain": [
       "22669   6.00\n",
       "22042   6.00\n",
       "10154   6.00\n",
       "Name: gears, dtype: float64"
      ]
     },
     "execution_count": 85,
     "metadata": {},
     "output_type": "execute_result"
    }
   ],
   "source": [
    "df.gears.sample(3)"
   ]
  },
  {
   "cell_type": "code",
   "execution_count": 86,
   "metadata": {},
   "outputs": [],
   "source": [
    "df.co2_emissions = df.co2_emissions.str.replace(',','')\n",
    "df['co2_emissions'] = df['co2_emissions'].str.extract('(\\d+(?:[.,]\\d+)?)').astype(float)"
   ]
  },
  {
   "cell_type": "code",
   "execution_count": 87,
   "metadata": {},
   "outputs": [
    {
     "data": {
      "text/plain": [
       "328        NaN\n",
       "15753   131.00\n",
       "27955   119.00\n",
       "Name: co2_emissions, dtype: float64"
      ]
     },
     "execution_count": 87,
     "metadata": {},
     "output_type": "execute_result"
    }
   ],
   "source": [
    "df.co2_emissions.sample(3)"
   ]
  },
  {
   "cell_type": "code",
   "execution_count": 88,
   "metadata": {},
   "outputs": [],
   "source": [
    "df.drivetrain = df.drivetrain.astype(str).str.replace(\"[\\'\\\\n, \", '').str.replace(\", \\\\n\\']\", '').str.strip().astype(str)"
   ]
  },
  {
   "cell_type": "code",
   "execution_count": 89,
   "metadata": {},
   "outputs": [],
   "source": [
    "df.drivetrain = df.drivetrain.replace('nan',np.nan)"
   ]
  },
  {
   "cell_type": "code",
   "execution_count": 90,
   "metadata": {},
   "outputs": [
    {
     "data": {
      "text/plain": [
       "26751      4WD\n",
       "22117    Front\n",
       "3403     Front\n",
       "Name: drivetrain, dtype: object"
      ]
     },
     "execution_count": 90,
     "metadata": {},
     "output_type": "execute_result"
    }
   ],
   "source": [
    "df.drivetrain.sample(3)"
   ]
  },
  {
   "cell_type": "code",
   "execution_count": 91,
   "metadata": {},
   "outputs": [],
   "source": [
    "df.cylinders = df.cylinders.astype(str).str.replace(\"[\\'\\\\n\", '').str.replace(\"\\\\n\\']\", '').str.strip().astype(float)"
   ]
  },
  {
   "cell_type": "code",
   "execution_count": 92,
   "metadata": {},
   "outputs": [
    {
     "data": {
      "text/plain": [
       "9634     NaN\n",
       "24010   4.00\n",
       "10187   4.00\n",
       "Name: cylinders, dtype: float64"
      ]
     },
     "execution_count": 92,
     "metadata": {},
     "output_type": "execute_result"
    }
   ],
   "source": [
    "df.cylinders.sample(3)"
   ]
  },
  {
   "cell_type": "code",
   "execution_count": 93,
   "metadata": {},
   "outputs": [
    {
     "data": {
      "text/plain": [
       "[['8.4 l/100 km (comb.)'],\n",
       " ['10.9 l/100 km (city)'],\n",
       " ['5.8 l/100 km (country)']]"
      ]
     },
     "execution_count": 93,
     "metadata": {},
     "output_type": "execute_result"
    }
   ],
   "source": [
    "df.fuel_consumption.iloc[2]"
   ]
  },
  {
   "cell_type": "code",
   "execution_count": 94,
   "metadata": {},
   "outputs": [],
   "source": [
    "df['fuel_consumption_comb'] = df.fuel_consumption.astype(str).str.extract('(\\d+(\\.\\d+)?)\\s*l\\/100 km\\s*\\(comb.\\)')[0].astype(float)"
   ]
  },
  {
   "cell_type": "code",
   "execution_count": 95,
   "metadata": {},
   "outputs": [],
   "source": [
    "df['fuel_consumption_city'] = df.fuel_consumption.astype(str).str.extract('(\\d+(\\.\\d+)?)\\s*l\\/100 km\\s*\\(city\\)')[0].astype(float)"
   ]
  },
  {
   "cell_type": "code",
   "execution_count": 96,
   "metadata": {},
   "outputs": [],
   "source": [
    "df['fuel_consumption_country'] = df.fuel_consumption.astype(str).str.extract('(\\d+(\\.\\d+)?)\\s*l\\/100 km\\s*\\(country\\)')[0].astype(float)"
   ]
  },
  {
   "cell_type": "code",
   "execution_count": 97,
   "metadata": {},
   "outputs": [],
   "source": [
    "# CONTROL df.loc[~df.fuel_consumption_wltp.isna(),['fuel_consumption_wltp']]\n",
    "# CLEAN fuel_consumption_wltp\n",
    "df['fuel_consumption_wltp'] = df.fuel_consumption_wltp.astype(str).str.extract('(\\d+(\\.\\d+)?)\\s*l\\/100 km')[0].astype(float)\n"
   ]
  },
  {
   "cell_type": "code",
   "execution_count": 98,
   "metadata": {},
   "outputs": [],
   "source": [
    "# CLEAN\n",
    "df.country_version = df.country_version.astype(str).str.replace(\"[\\'\\\\n, \", '').str.replace(\", \\\\n\\']\", '').str.strip().astype(str)"
   ]
  },
  {
   "cell_type": "code",
   "execution_count": 99,
   "metadata": {},
   "outputs": [
    {
     "data": {
      "text/plain": [
       "22611        nan\n",
       "27962    Germany\n",
       "5773         nan\n",
       "Name: country_version, dtype: object"
      ]
     },
     "execution_count": 99,
     "metadata": {},
     "output_type": "execute_result"
    }
   ],
   "source": [
    "df.country_version.sample(3)"
   ]
  },
  {
   "cell_type": "code",
   "execution_count": 100,
   "metadata": {},
   "outputs": [],
   "source": [
    "# CLEAN\n",
    "df.offer_number = df.offer_number.astype(str).str.replace(\"[\\'\\\\n,\", '').str.replace(\", \\\\n\\']\", '').str.strip().astype(str)"
   ]
  },
  {
   "cell_type": "code",
   "execution_count": 101,
   "metadata": {},
   "outputs": [
    {
     "data": {
      "text/plain": [
       "28330    7274141\n",
       "6915      GW4022\n",
       "24758     gw-3my\n",
       "Name: offer_number, dtype: object"
      ]
     },
     "execution_count": 101,
     "metadata": {},
     "output_type": "execute_result"
    }
   ],
   "source": [
    "df.offer_number.sample(3)"
   ]
  },
  {
   "cell_type": "code",
   "execution_count": 102,
   "metadata": {},
   "outputs": [
    {
     "data": {
      "text/html": [
       "<div>\n",
       "<style scoped>\n",
       "    .dataframe tbody tr th:only-of-type {\n",
       "        vertical-align: middle;\n",
       "    }\n",
       "\n",
       "    .dataframe tbody tr th {\n",
       "        vertical-align: top;\n",
       "    }\n",
       "\n",
       "    .dataframe thead th {\n",
       "        text-align: right;\n",
       "    }\n",
       "</style>\n",
       "<table border=\"1\" class=\"dataframe\">\n",
       "  <thead>\n",
       "    <tr style=\"text-align: right;\">\n",
       "      <th></th>\n",
       "      <th>make_model</th>\n",
       "      <th>short_description</th>\n",
       "      <th>make</th>\n",
       "      <th>model</th>\n",
       "      <th>location</th>\n",
       "      <th>price</th>\n",
       "      <th>body_type</th>\n",
       "      <th>type</th>\n",
       "      <th>doors</th>\n",
       "      <th>country_version</th>\n",
       "      <th>offer_number</th>\n",
       "      <th>warranty</th>\n",
       "      <th>mileage</th>\n",
       "      <th>first_registration</th>\n",
       "      <th>gearbox</th>\n",
       "      <th>fuel_type</th>\n",
       "      <th>colour</th>\n",
       "      <th>paint</th>\n",
       "      <th>desc</th>\n",
       "      <th>seller</th>\n",
       "      <th>seats</th>\n",
       "      <th>power</th>\n",
       "      <th>engine_size</th>\n",
       "      <th>gears</th>\n",
       "      <th>co2_emissions</th>\n",
       "      <th>manufacturer_colour</th>\n",
       "      <th>drivetrain</th>\n",
       "      <th>cylinders</th>\n",
       "      <th>fuel_consumption</th>\n",
       "      <th>comfort_convenience</th>\n",
       "      <th>entertainment_media</th>\n",
       "      <th>safety_security</th>\n",
       "      <th>extras</th>\n",
       "      <th>empty_weight</th>\n",
       "      <th>model_code</th>\n",
       "      <th>general_inspection</th>\n",
       "      <th>last_service</th>\n",
       "      <th>full_service_history</th>\n",
       "      <th>non_smoker_vehicle</th>\n",
       "      <th>emission_class</th>\n",
       "      <th>emissions_sticker</th>\n",
       "      <th>upholstery_colour</th>\n",
       "      <th>upholstery</th>\n",
       "      <th>production_date</th>\n",
       "      <th>previous_owner</th>\n",
       "      <th>other_fuel_types</th>\n",
       "      <th>power_consumption</th>\n",
       "      <th>energy_efficiency_class</th>\n",
       "      <th>co2_efficiency</th>\n",
       "      <th>fuel_consumption_wltp</th>\n",
       "      <th>co2_emissions_wltp</th>\n",
       "      <th>available_from</th>\n",
       "      <th>taxi_or_rental_car</th>\n",
       "      <th>availability</th>\n",
       "      <th>last_timing_belt_change</th>\n",
       "      <th>electric_range_wltp</th>\n",
       "      <th>power_consumption_wltp</th>\n",
       "      <th>battery_ownership</th>\n",
       "      <th>power_hp</th>\n",
       "      <th>power_kw</th>\n",
       "      <th>age</th>\n",
       "      <th>fuel_consumption_comb</th>\n",
       "      <th>fuel_consumption_city</th>\n",
       "      <th>fuel_consumption_country</th>\n",
       "    </tr>\n",
       "  </thead>\n",
       "  <tbody>\n",
       "    <tr>\n",
       "      <th>15762</th>\n",
       "      <td>Dacia Duster</td>\n",
       "      <td>1.2 TCe 125ch Prestige 4X2 GPS Radar Ar</td>\n",
       "      <td>Dacia</td>\n",
       "      <td>Duster</td>\n",
       "      <td>1 boulevard de l'Europe,  67500 Haguenau, FR</td>\n",
       "      <td>16999.00</td>\n",
       "      <td>Off-Road/Pick-up</td>\n",
       "      <td>Used</td>\n",
       "      <td>5.00</td>\n",
       "      <td>nan</td>\n",
       "      <td>304144</td>\n",
       "      <td>Yes</td>\n",
       "      <td>34574.00</td>\n",
       "      <td>2018-05-01</td>\n",
       "      <td>Manual</td>\n",
       "      <td>Gasoline</td>\n",
       "      <td>NaN</td>\n",
       "      <td>NaN</td>\n",
       "      <td>[Brun Vison;similaire: X2 Captur 500x Duster J...</td>\n",
       "      <td>Dealer</td>\n",
       "      <td>5.00</td>\n",
       "      <td>93 kW (126 hp)</td>\n",
       "      <td>1197.00</td>\n",
       "      <td>NaN</td>\n",
       "      <td>138.00</td>\n",
       "      <td>MARRON</td>\n",
       "      <td>NaN</td>\n",
       "      <td>NaN</td>\n",
       "      <td>NaN</td>\n",
       "      <td>[Air conditioning, Armrest, Automatic climate ...</td>\n",
       "      <td>[Hands-free equipment, Sound system]</td>\n",
       "      <td>[ABS, Driver-side airbag, Electronic stability...</td>\n",
       "      <td>[Alloy wheels, Roof rack]</td>\n",
       "      <td>NaN</td>\n",
       "      <td>NaN</td>\n",
       "      <td>NaN</td>\n",
       "      <td>NaN</td>\n",
       "      <td>NaN</td>\n",
       "      <td>NaN</td>\n",
       "      <td>NaN</td>\n",
       "      <td>NaN</td>\n",
       "      <td>NaN</td>\n",
       "      <td>NaN</td>\n",
       "      <td>NaN</td>\n",
       "      <td>NaN</td>\n",
       "      <td>NaN</td>\n",
       "      <td>NaN</td>\n",
       "      <td>NaN</td>\n",
       "      <td>NaN</td>\n",
       "      <td>NaN</td>\n",
       "      <td>NaN</td>\n",
       "      <td>NaN</td>\n",
       "      <td>NaN</td>\n",
       "      <td>NaN</td>\n",
       "      <td>NaN</td>\n",
       "      <td>NaN</td>\n",
       "      <td>NaN</td>\n",
       "      <td>NaN</td>\n",
       "      <td>126.00</td>\n",
       "      <td>93.00</td>\n",
       "      <td>4.00</td>\n",
       "      <td>NaN</td>\n",
       "      <td>NaN</td>\n",
       "      <td>NaN</td>\n",
       "    </tr>\n",
       "    <tr>\n",
       "      <th>24674</th>\n",
       "      <td>Hyundai i30</td>\n",
       "      <td>Classic (GD)</td>\n",
       "      <td>Hyundai</td>\n",
       "      <td>i30</td>\n",
       "      <td>Fröttstädterweg 10,  99880 Waltershausen, DE</td>\n",
       "      <td>9950.00</td>\n",
       "      <td>Sedan</td>\n",
       "      <td>Used</td>\n",
       "      <td>5.00</td>\n",
       "      <td>nan</td>\n",
       "      <td>nan</td>\n",
       "      <td>Yes</td>\n",
       "      <td>50000.00</td>\n",
       "      <td>2014-12-01</td>\n",
       "      <td>Manual</td>\n",
       "      <td>Regular/Benzine 91</td>\n",
       "      <td>Brown</td>\n",
       "      <td>Metallic</td>\n",
       "      <td>[Sonderausstattung:, Funktions-Paket, Mica-Lac...</td>\n",
       "      <td>Dealer</td>\n",
       "      <td>5.00</td>\n",
       "      <td>73 kW (99 hp)</td>\n",
       "      <td>1396.00</td>\n",
       "      <td>6.00</td>\n",
       "      <td>139.00</td>\n",
       "      <td>Cashmere Brown / MIC</td>\n",
       "      <td>Front</td>\n",
       "      <td>4.00</td>\n",
       "      <td>[[6 l/100 km (comb.)], [7.9 l/100 km (city)], ...</td>\n",
       "      <td>[Air conditioning, Armrest, Electrical side mi...</td>\n",
       "      <td>[Bluetooth, CD player, MP3, On-board computer,...</td>\n",
       "      <td>[ABS, Alarm system, Central door lock, Central...</td>\n",
       "      <td>[Alloy wheels (16\"), Catalytic Converter, Emer...</td>\n",
       "      <td>[\\n1,260 kg\\n]</td>\n",
       "      <td>[\\n, 1349/ACN, \\n]</td>\n",
       "      <td>02/2023</td>\n",
       "      <td>NaN</td>\n",
       "      <td>Yes</td>\n",
       "      <td>Yes</td>\n",
       "      <td>Euro 5</td>\n",
       "      <td>4 (Green)</td>\n",
       "      <td>Black</td>\n",
       "      <td>Cloth</td>\n",
       "      <td>NaN</td>\n",
       "      <td>NaN</td>\n",
       "      <td>NaN</td>\n",
       "      <td>NaN</td>\n",
       "      <td>NaN</td>\n",
       "      <td>NaN</td>\n",
       "      <td>NaN</td>\n",
       "      <td>NaN</td>\n",
       "      <td>NaN</td>\n",
       "      <td>NaN</td>\n",
       "      <td>NaN</td>\n",
       "      <td>NaN</td>\n",
       "      <td>NaN</td>\n",
       "      <td>NaN</td>\n",
       "      <td>NaN</td>\n",
       "      <td>99.00</td>\n",
       "      <td>73.00</td>\n",
       "      <td>8.00</td>\n",
       "      <td>6.00</td>\n",
       "      <td>7.90</td>\n",
       "      <td>4.90</td>\n",
       "    </tr>\n",
       "    <tr>\n",
       "      <th>11352</th>\n",
       "      <td>Fiat Tipo</td>\n",
       "      <td>1.4 120cv gasolina/GLP  Pop</td>\n",
       "      <td>Fiat</td>\n",
       "      <td>Tipo</td>\n",
       "      <td>Avenida de Madrid nº27,  28500 Arganda del Rey...</td>\n",
       "      <td>9499.00</td>\n",
       "      <td>Station wagon</td>\n",
       "      <td>Used</td>\n",
       "      <td>5.00</td>\n",
       "      <td>Spain</td>\n",
       "      <td>7398174</td>\n",
       "      <td>No</td>\n",
       "      <td>138000.00</td>\n",
       "      <td>2018-06-01</td>\n",
       "      <td>Manual</td>\n",
       "      <td>CNG</td>\n",
       "      <td>Black</td>\n",
       "      <td>NaN</td>\n",
       "      <td>[Precio al contado: 9999 euros, FT MOTOR estre...</td>\n",
       "      <td>Dealer</td>\n",
       "      <td>NaN</td>\n",
       "      <td>88 kW (120 hp)</td>\n",
       "      <td>1368.00</td>\n",
       "      <td>NaN</td>\n",
       "      <td>NaN</td>\n",
       "      <td>Negro</td>\n",
       "      <td>NaN</td>\n",
       "      <td>NaN</td>\n",
       "      <td>[[8.3 kg/100 km (comb.)], [11.4 kg/100 km (cit...</td>\n",
       "      <td>[Air conditioning, Tinted windows]</td>\n",
       "      <td>NaN</td>\n",
       "      <td>[ABS, Central door lock, Side airbag]</td>\n",
       "      <td>NaN</td>\n",
       "      <td>NaN</td>\n",
       "      <td>NaN</td>\n",
       "      <td>NaN</td>\n",
       "      <td>NaN</td>\n",
       "      <td>NaN</td>\n",
       "      <td>NaN</td>\n",
       "      <td>NaN</td>\n",
       "      <td>NaN</td>\n",
       "      <td>NaN</td>\n",
       "      <td>NaN</td>\n",
       "      <td>NaN</td>\n",
       "      <td>NaN</td>\n",
       "      <td>NaN</td>\n",
       "      <td>NaN</td>\n",
       "      <td>NaN</td>\n",
       "      <td>NaN</td>\n",
       "      <td>NaN</td>\n",
       "      <td>NaN</td>\n",
       "      <td>NaN</td>\n",
       "      <td>NaN</td>\n",
       "      <td>NaN</td>\n",
       "      <td>NaN</td>\n",
       "      <td>NaN</td>\n",
       "      <td>NaN</td>\n",
       "      <td>NaN</td>\n",
       "      <td>120.00</td>\n",
       "      <td>88.00</td>\n",
       "      <td>4.00</td>\n",
       "      <td>NaN</td>\n",
       "      <td>NaN</td>\n",
       "      <td>NaN</td>\n",
       "    </tr>\n",
       "  </tbody>\n",
       "</table>\n",
       "</div>"
      ],
      "text/plain": [
       "         make_model                        short_description     make   model   \n",
       "15762  Dacia Duster  1.2 TCe 125ch Prestige 4X2 GPS Radar Ar    Dacia  Duster  \\\n",
       "24674   Hyundai i30                             Classic (GD)  Hyundai     i30   \n",
       "11352     Fiat Tipo              1.4 120cv gasolina/GLP  Pop     Fiat    Tipo   \n",
       "\n",
       "                                                location    price   \n",
       "15762       1 boulevard de l'Europe,  67500 Haguenau, FR 16999.00  \\\n",
       "24674       Fröttstädterweg 10,  99880 Waltershausen, DE  9950.00   \n",
       "11352  Avenida de Madrid nº27,  28500 Arganda del Rey...  9499.00   \n",
       "\n",
       "              body_type  type  doors country_version offer_number warranty   \n",
       "15762  Off-Road/Pick-up  Used   5.00             nan       304144      Yes  \\\n",
       "24674             Sedan  Used   5.00             nan          nan      Yes   \n",
       "11352     Station wagon  Used   5.00           Spain      7398174       No   \n",
       "\n",
       "        mileage first_registration gearbox           fuel_type colour   \n",
       "15762  34574.00         2018-05-01  Manual            Gasoline    NaN  \\\n",
       "24674  50000.00         2014-12-01  Manual  Regular/Benzine 91  Brown   \n",
       "11352 138000.00         2018-06-01  Manual                 CNG  Black   \n",
       "\n",
       "          paint                                               desc  seller   \n",
       "15762       NaN  [Brun Vison;similaire: X2 Captur 500x Duster J...  Dealer  \\\n",
       "24674  Metallic  [Sonderausstattung:, Funktions-Paket, Mica-Lac...  Dealer   \n",
       "11352       NaN  [Precio al contado: 9999 euros, FT MOTOR estre...  Dealer   \n",
       "\n",
       "       seats           power  engine_size  gears  co2_emissions   \n",
       "15762   5.00  93 kW (126 hp)      1197.00    NaN         138.00  \\\n",
       "24674   5.00   73 kW (99 hp)      1396.00   6.00         139.00   \n",
       "11352    NaN  88 kW (120 hp)      1368.00    NaN            NaN   \n",
       "\n",
       "        manufacturer_colour drivetrain  cylinders   \n",
       "15762                MARRON        NaN        NaN  \\\n",
       "24674  Cashmere Brown / MIC      Front       4.00   \n",
       "11352                 Negro        NaN        NaN   \n",
       "\n",
       "                                        fuel_consumption   \n",
       "15762                                                NaN  \\\n",
       "24674  [[6 l/100 km (comb.)], [7.9 l/100 km (city)], ...   \n",
       "11352  [[8.3 kg/100 km (comb.)], [11.4 kg/100 km (cit...   \n",
       "\n",
       "                                     comfort_convenience   \n",
       "15762  [Air conditioning, Armrest, Automatic climate ...  \\\n",
       "24674  [Air conditioning, Armrest, Electrical side mi...   \n",
       "11352                 [Air conditioning, Tinted windows]   \n",
       "\n",
       "                                     entertainment_media   \n",
       "15762               [Hands-free equipment, Sound system]  \\\n",
       "24674  [Bluetooth, CD player, MP3, On-board computer,...   \n",
       "11352                                                NaN   \n",
       "\n",
       "                                         safety_security   \n",
       "15762  [ABS, Driver-side airbag, Electronic stability...  \\\n",
       "24674  [ABS, Alarm system, Central door lock, Central...   \n",
       "11352              [ABS, Central door lock, Side airbag]   \n",
       "\n",
       "                                                  extras    empty_weight   \n",
       "15762                          [Alloy wheels, Roof rack]             NaN  \\\n",
       "24674  [Alloy wheels (16\"), Catalytic Converter, Emer...  [\\n1,260 kg\\n]   \n",
       "11352                                                NaN             NaN   \n",
       "\n",
       "               model_code general_inspection last_service   \n",
       "15762                 NaN                NaN          NaN  \\\n",
       "24674  [\\n, 1349/ACN, \\n]            02/2023          NaN   \n",
       "11352                 NaN                NaN          NaN   \n",
       "\n",
       "      full_service_history non_smoker_vehicle emission_class   \n",
       "15762                  NaN                NaN            NaN  \\\n",
       "24674                  Yes                Yes         Euro 5   \n",
       "11352                  NaN                NaN            NaN   \n",
       "\n",
       "      emissions_sticker upholstery_colour upholstery  production_date   \n",
       "15762               NaN               NaN        NaN              NaN  \\\n",
       "24674         4 (Green)             Black      Cloth              NaN   \n",
       "11352               NaN               NaN        NaN              NaN   \n",
       "\n",
       "      previous_owner other_fuel_types power_consumption   \n",
       "15762            NaN              NaN               NaN  \\\n",
       "24674            NaN              NaN               NaN   \n",
       "11352            NaN              NaN               NaN   \n",
       "\n",
       "      energy_efficiency_class co2_efficiency  fuel_consumption_wltp   \n",
       "15762                     NaN            NaN                    NaN  \\\n",
       "24674                     NaN            NaN                    NaN   \n",
       "11352                     NaN            NaN                    NaN   \n",
       "\n",
       "      co2_emissions_wltp available_from taxi_or_rental_car availability   \n",
       "15762                NaN            NaN                NaN          NaN  \\\n",
       "24674                NaN            NaN                NaN          NaN   \n",
       "11352                NaN            NaN                NaN          NaN   \n",
       "\n",
       "      last_timing_belt_change electric_range_wltp power_consumption_wltp   \n",
       "15762                     NaN                 NaN                    NaN  \\\n",
       "24674                     NaN                 NaN                    NaN   \n",
       "11352                     NaN                 NaN                    NaN   \n",
       "\n",
       "      battery_ownership  power_hp  power_kw  age  fuel_consumption_comb   \n",
       "15762               NaN    126.00     93.00 4.00                    NaN  \\\n",
       "24674               NaN     99.00     73.00 8.00                   6.00   \n",
       "11352               NaN    120.00     88.00 4.00                    NaN   \n",
       "\n",
       "       fuel_consumption_city  fuel_consumption_country  \n",
       "15762                    NaN                       NaN  \n",
       "24674                   7.90                      4.90  \n",
       "11352                    NaN                       NaN  "
      ]
     },
     "execution_count": 102,
     "metadata": {},
     "output_type": "execute_result"
    }
   ],
   "source": [
    "df.sample(3)"
   ]
  },
  {
   "cell_type": "code",
   "execution_count": 103,
   "metadata": {},
   "outputs": [
    {
     "data": {
      "text/plain": [
       "10501    [\\n1,390 kg\\n]\n",
       "25668    [\\n1,423 kg\\n]\n",
       "5085     [\\n1,214 kg\\n]\n",
       "Name: empty_weight, dtype: object"
      ]
     },
     "execution_count": 103,
     "metadata": {},
     "output_type": "execute_result"
    }
   ],
   "source": [
    "df.empty_weight.sample(3)"
   ]
  },
  {
   "cell_type": "code",
   "execution_count": 104,
   "metadata": {},
   "outputs": [],
   "source": [
    "# CLEAN\n",
    "df.empty_weight = df.empty_weight.astype(str).str.replace(\"[\\'\\\\n\", '').str.replace(\"kg\\\\n\\']\", '').str.replace(',','').str.strip().astype(float)"
   ]
  },
  {
   "cell_type": "code",
   "execution_count": 105,
   "metadata": {},
   "outputs": [
    {
     "data": {
      "text/plain": [
       "26780   NaN\n",
       "17864   NaN\n",
       "28334   NaN\n",
       "Name: empty_weight, dtype: float64"
      ]
     },
     "execution_count": 105,
     "metadata": {},
     "output_type": "execute_result"
    }
   ],
   "source": [
    "df.empty_weight.sample(3)"
   ]
  },
  {
   "cell_type": "code",
   "execution_count": 106,
   "metadata": {},
   "outputs": [],
   "source": [
    "# CLEAN\n",
    "df.model_code = df.model_code.astype(str).str.replace(\"[\\'\\\\n,\", '').str.replace(\", \\\\n\\']\", '').str.strip().astype(str)"
   ]
  },
  {
   "cell_type": "code",
   "execution_count": 107,
   "metadata": {},
   "outputs": [
    {
     "data": {
      "text/plain": [
       "25215    nan\n",
       "10494    nan\n",
       "13182    nan\n",
       "Name: model_code, dtype: object"
      ]
     },
     "execution_count": 107,
     "metadata": {},
     "output_type": "execute_result"
    }
   ],
   "source": [
    "df.model_code.sample(3)"
   ]
  },
  {
   "cell_type": "code",
   "execution_count": 108,
   "metadata": {},
   "outputs": [],
   "source": [
    "# DESC_EN CASH price\n",
    "# df['desc_price'] = df[df.desc_en.astype(str).str.contains('euros')].desc_en.str.extract(r'(\\d+) euros')\n",
    "# df.drop('desc_price',axis=1, inplace=True)"
   ]
  },
  {
   "cell_type": "code",
   "execution_count": 109,
   "metadata": {},
   "outputs": [],
   "source": [
    "# CLEAN country_version\n",
    "df.loc[df.country_version == 'nan','country_version'] = np.nan"
   ]
  },
  {
   "cell_type": "code",
   "execution_count": 110,
   "metadata": {},
   "outputs": [],
   "source": [
    "# df.duplicated().value_counts()  "
   ]
  },
  {
   "cell_type": "code",
   "execution_count": 111,
   "metadata": {},
   "outputs": [],
   "source": [
    "# DONE DROP duplicates\n",
    "# df.drop_duplicates(keep='first', inplace=True)  "
   ]
  },
  {
   "cell_type": "code",
   "execution_count": 112,
   "metadata": {},
   "outputs": [],
   "source": [
    "def calc_fuel_consumption_avg(row):\n",
    "    # if fuel_consumption_comb is not NaN, use its value\n",
    "    if not pd.isna(row['fuel_consumption_comb']):\n",
    "        return row['fuel_consumption_comb']\n",
    "    # if fuel_consumption_comb is NaN, calculate the average\n",
    "    else:\n",
    "        city = row['fuel_consumption_city']\n",
    "        country = row['fuel_consumption_country']\n",
    "        if not pd.isna(city) and not pd.isna(country) and country != 0:\n",
    "            return (float(city) * 1.0 + float(country) * 1.0) / 2.0\n",
    "        else:\n",
    "            return np.nan\n",
    "\n",
    "# apply the function to create the new column\n",
    "df['fuel_consumption_avg'] = df.apply(calc_fuel_consumption_avg, axis=1)\n",
    "# df[(df['fuel_consumption_comb'].isna()) & ~(df['fuel_consumption_city'].isna())].shape"
   ]
  },
  {
   "cell_type": "code",
   "execution_count": 113,
   "metadata": {},
   "outputs": [],
   "source": [
    "# CONTROL\n",
    "# df.loc[~df.fuel_consumption_wltp.isna() & df.fuel_consumption_avg.isna(),['fuel_consumption_wltp','fuel_consumption_avg']]\n",
    "\n",
    "# FILL with df.fuel_consumption_wltp\n",
    "df.loc[~df.fuel_consumption_wltp.isna() & df.fuel_consumption_avg.isna(),['fuel_consumption_avg']] = df.loc[~df.fuel_consumption_wltp.isna() & df.fuel_consumption_avg.isna()].fuel_consumption_wltp"
   ]
  },
  {
   "cell_type": "code",
   "execution_count": 114,
   "metadata": {},
   "outputs": [],
   "source": [
    "def save():\n",
    "    df.to_csv('before_drop.csv',index=False)\n",
    "# save()"
   ]
  },
  {
   "cell_type": "code",
   "execution_count": 115,
   "metadata": {},
   "outputs": [
    {
     "data": {
      "text/plain": [
       "drivetrain\n",
       "Front    12066\n",
       "4WD       3252\n",
       "Rear      1575\n",
       "Name: count, dtype: int64"
      ]
     },
     "execution_count": 115,
     "metadata": {},
     "output_type": "execute_result"
    }
   ],
   "source": [
    "df.drivetrain.value_counts()"
   ]
  },
  {
   "cell_type": "code",
   "execution_count": 116,
   "metadata": {},
   "outputs": [
    {
     "data": {
      "text/plain": [
       "fuel_type\n",
       "Gasoline                                                                                              8532\n",
       "Diesel                                                                                                5911\n",
       "Super 95                                                                                              3557\n",
       "Diesel (Particle filter)                                                                              2816\n",
       "Regular/Benzine 91                                                                                    2065\n",
       "Super E10 95                                                                                          1016\n",
       "Regular/Benzine 91 (Particle filter)                                                                   555\n",
       "Super 95 (Particle filter)                                                                             537\n",
       "Super E10 95 (Particle filter)                                                                         324\n",
       "Regular/Benzine E10 91                                                                                 278\n",
       "Others                                                                                                 197\n",
       "Gasoline (Particle filter)                                                                             196\n",
       "Electric                                                                                               185\n",
       "Super Plus 98                                                                                          170\n",
       "Liquid petroleum gas (LPG)                                                                             148\n",
       "CNG                                                                                                     87\n",
       "LPG                                                                                                     73\n",
       "Super Plus E10 98                                                                                       42\n",
       "Super Plus E10 98 (Particle filter)                                                                     35\n",
       "Domestic gas H                                                                                          24\n",
       "Others (Particle filter)                                                                                16\n",
       "Super Plus 98 (Particle filter)                                                                         15\n",
       "Domestic gas L                                                                                          10\n",
       "Regular/Benzine E10 91 (Particle filter)                                                                 8\n",
       "CNG (Particle filter)                                                                                    8\n",
       "LPG (Particle filter)                                                                                    4\n",
       "Hydrogen                                                                                                 3\n",
       "Liquid petroleum gas (LPG) (Particle filter) / Super 95 / Super E10 95                                   3\n",
       "Electric (Particle filter)                                                                               3\n",
       "Ethanol                                                                                                  3\n",
       "Liquid petroleum gas (LPG) / Super 95 / Super Plus 98 / Super Plus E10 98 / Super E10 95                 2\n",
       "Liquid petroleum gas (LPG) / Super 95 / Super E10 95 / Super Plus 98                                     2\n",
       "Liquid petroleum gas (LPG) / Super 95                                                                    2\n",
       "Liquid petroleum gas (LPG) (Particle filter)                                                             2\n",
       "Domestic gas L (Particle filter)                                                                         2\n",
       "Liquid petroleum gas (LPG) / Super 95 / Super E10 95                                                     2\n",
       "Domestic gas H / Super E10 95 / Super Plus E10 98 / Super 95 / Super Plus 98 / Domestic gas L            1\n",
       "Domestic gas L / Super 95 / Domestic gas H                                                               1\n",
       "Super 95 / Super Plus 98 / Liquid petroleum gas (LPG)                                                    1\n",
       "Biogas                                                                                                   1\n",
       "Liquid petroleum gas (LPG) / Super 95 / Super Plus 98                                                    1\n",
       "Liquid petroleum gas (LPG) / Super E10 95                                                                1\n",
       "Liquid petroleum gas (LPG) / Super E10 95 / Super Plus E10 98 / Super Plus 98 / Super 95                 1\n",
       "Liquid petroleum gas (LPG) / Super E10 95 / Regular/Benzine 91 / Super 95 / Super Plus 98 / Biogas       1\n",
       "Super 95 (Particle filter) / Super E10 95 / Ethanol                                                      1\n",
       "Super 95 / Liquid petroleum gas (LPG)                                                                    1\n",
       "Name: count, dtype: int64"
      ]
     },
     "execution_count": 116,
     "metadata": {},
     "output_type": "execute_result"
    }
   ],
   "source": [
    "df.fuel_type.value_counts()"
   ]
  },
  {
   "cell_type": "code",
   "execution_count": 117,
   "metadata": {},
   "outputs": [],
   "source": [
    "# get information from other_fuel_type and assign\n",
    "df.loc[~df.other_fuel_types.isna() & df.fuel_type.isna(),['fuel_type']] = df[~df.other_fuel_types.isna() & df.fuel_type.isna()].other_fuel_types"
   ]
  },
  {
   "cell_type": "code",
   "execution_count": 118,
   "metadata": {},
   "outputs": [],
   "source": [
    "df['fuel_type'] = df['fuel_type'].str.replace('Hydogen', 'Hydrogen')"
   ]
  },
  {
   "cell_type": "code",
   "execution_count": 119,
   "metadata": {},
   "outputs": [],
   "source": [
    "from functools import reduce\n",
    "\n",
    "benzine = ['Gasoline','Super 95','Regular','Super E10 95','Super Plus 98','Super Plus E10 98','Others']\n",
    "lpg = ['LPG','Liquid petroleum gas','CNG','Biogas','Domestic gas H','Domestic gas L']\n",
    "electric = ['Electric']\n",
    "diesel = ['Diesel']\n",
    "\n",
    "def is_lpg(m):\n",
    "    boollist = list(map(lambda x: x in m, lpg))\n",
    "    return reduce(lambda x,y: x or y, boollist)\n",
    "\n",
    "def is_benzine(m):\n",
    "    boollist = list(map(lambda x: x in m, benzine))\n",
    "    return reduce(lambda x,y: x or y, boollist)\n",
    "\n",
    "def is_electric(m):\n",
    "    boollist = list(map(lambda x: x in m, electric))\n",
    "    return reduce(lambda x,y: x or y, boollist)\n",
    "\n",
    "def is_diesel(m):\n",
    "    boollist = list(map(lambda x: x in m, diesel))\n",
    "    return reduce(lambda x,y: x or y, boollist)\n",
    "\n",
    "def fueltype(f):\n",
    "    if pd.isna(f):\n",
    "        return np.nan\n",
    "    elif is_lpg(f): \n",
    "        return 'LPG/CNG'\n",
    "    elif is_benzine(f):\n",
    "        return 'Benzine'\n",
    "    elif is_electric(f):\n",
    "        return 'Electric'\n",
    "    elif is_diesel(f):\n",
    "        return 'Diesel'\n",
    "    else:\n",
    "        return f\n",
    "df['fuel'] = df.fuel_type.apply(fueltype)"
   ]
  },
  {
   "cell_type": "code",
   "execution_count": 120,
   "metadata": {},
   "outputs": [
    {
     "data": {
      "text/plain": [
       "fuel\n",
       "Benzine     17544\n",
       "Diesel       8727\n",
       "Electric     1955\n",
       "LPG/CNG       378\n",
       "Hydrogen       13\n",
       "Ethanol         3\n",
       "Name: count, dtype: int64"
      ]
     },
     "execution_count": 120,
     "metadata": {},
     "output_type": "execute_result"
    }
   ],
   "source": [
    "df.fuel.value_counts()"
   ]
  },
  {
   "cell_type": "code",
   "execution_count": 121,
   "metadata": {},
   "outputs": [
    {
     "data": {
      "text/html": [
       "<div>\n",
       "<style scoped>\n",
       "    .dataframe tbody tr th:only-of-type {\n",
       "        vertical-align: middle;\n",
       "    }\n",
       "\n",
       "    .dataframe tbody tr th {\n",
       "        vertical-align: top;\n",
       "    }\n",
       "\n",
       "    .dataframe thead th {\n",
       "        text-align: right;\n",
       "    }\n",
       "</style>\n",
       "<table border=\"1\" class=\"dataframe\">\n",
       "  <thead>\n",
       "    <tr style=\"text-align: right;\">\n",
       "      <th></th>\n",
       "      <th>make_model</th>\n",
       "      <th>short_description</th>\n",
       "      <th>make</th>\n",
       "      <th>model</th>\n",
       "      <th>location</th>\n",
       "      <th>price</th>\n",
       "      <th>body_type</th>\n",
       "      <th>type</th>\n",
       "      <th>doors</th>\n",
       "      <th>country_version</th>\n",
       "      <th>offer_number</th>\n",
       "      <th>warranty</th>\n",
       "      <th>mileage</th>\n",
       "      <th>first_registration</th>\n",
       "      <th>gearbox</th>\n",
       "      <th>fuel_type</th>\n",
       "      <th>colour</th>\n",
       "      <th>paint</th>\n",
       "      <th>desc</th>\n",
       "      <th>seller</th>\n",
       "      <th>seats</th>\n",
       "      <th>power</th>\n",
       "      <th>engine_size</th>\n",
       "      <th>gears</th>\n",
       "      <th>co2_emissions</th>\n",
       "      <th>manufacturer_colour</th>\n",
       "      <th>drivetrain</th>\n",
       "      <th>cylinders</th>\n",
       "      <th>fuel_consumption</th>\n",
       "      <th>comfort_convenience</th>\n",
       "      <th>entertainment_media</th>\n",
       "      <th>safety_security</th>\n",
       "      <th>extras</th>\n",
       "      <th>empty_weight</th>\n",
       "      <th>model_code</th>\n",
       "      <th>general_inspection</th>\n",
       "      <th>last_service</th>\n",
       "      <th>full_service_history</th>\n",
       "      <th>non_smoker_vehicle</th>\n",
       "      <th>emission_class</th>\n",
       "      <th>emissions_sticker</th>\n",
       "      <th>upholstery_colour</th>\n",
       "      <th>upholstery</th>\n",
       "      <th>production_date</th>\n",
       "      <th>previous_owner</th>\n",
       "      <th>other_fuel_types</th>\n",
       "      <th>power_consumption</th>\n",
       "      <th>energy_efficiency_class</th>\n",
       "      <th>co2_efficiency</th>\n",
       "      <th>fuel_consumption_wltp</th>\n",
       "      <th>co2_emissions_wltp</th>\n",
       "      <th>available_from</th>\n",
       "      <th>taxi_or_rental_car</th>\n",
       "      <th>availability</th>\n",
       "      <th>last_timing_belt_change</th>\n",
       "      <th>electric_range_wltp</th>\n",
       "      <th>power_consumption_wltp</th>\n",
       "      <th>battery_ownership</th>\n",
       "      <th>power_hp</th>\n",
       "      <th>power_kw</th>\n",
       "      <th>age</th>\n",
       "      <th>fuel_consumption_comb</th>\n",
       "      <th>fuel_consumption_city</th>\n",
       "      <th>fuel_consumption_country</th>\n",
       "      <th>fuel_consumption_avg</th>\n",
       "      <th>fuel</th>\n",
       "    </tr>\n",
       "  </thead>\n",
       "  <tbody>\n",
       "    <tr>\n",
       "      <th>4972</th>\n",
       "      <td>Renault ZOE</td>\n",
       "      <td>R90 Life 41 kWh|Clima|Bluetooth|Cruise</td>\n",
       "      <td>Renault</td>\n",
       "      <td>ZOE</td>\n",
       "      <td>Rinia van Nautaweg 2b,  9061 AE GYTSJERK, NL</td>\n",
       "      <td>14894.00</td>\n",
       "      <td>Compact</td>\n",
       "      <td>Used</td>\n",
       "      <td>5.00</td>\n",
       "      <td>NaN</td>\n",
       "      <td>J-317-HB</td>\n",
       "      <td>No</td>\n",
       "      <td>106707.00</td>\n",
       "      <td>2017-04-01</td>\n",
       "      <td>Automatic</td>\n",
       "      <td>Electricity</td>\n",
       "      <td>White</td>\n",
       "      <td>NaN</td>\n",
       "      <td>[Renault Zoe R90 Life 41 kWh|Clima|Bluetooth|C...</td>\n",
       "      <td>Dealer</td>\n",
       "      <td>5.00</td>\n",
       "      <td>nan</td>\n",
       "      <td>NaN</td>\n",
       "      <td>NaN</td>\n",
       "      <td>NaN</td>\n",
       "      <td>Biały</td>\n",
       "      <td>Front</td>\n",
       "      <td>NaN</td>\n",
       "      <td>NaN</td>\n",
       "      <td>[Air conditioning, Automatic climate control, ...</td>\n",
       "      <td>[Bluetooth, Digital cockpit, Radio]</td>\n",
       "      <td>[ABS, Alarm system, Central door lock, Central...</td>\n",
       "      <td>[Spoiler]</td>\n",
       "      <td>1455.00</td>\n",
       "      <td>nan</td>\n",
       "      <td>NaN</td>\n",
       "      <td>NaN</td>\n",
       "      <td>Yes</td>\n",
       "      <td>NaN</td>\n",
       "      <td>NaN</td>\n",
       "      <td>NaN</td>\n",
       "      <td>Black</td>\n",
       "      <td>Cloth</td>\n",
       "      <td>NaN</td>\n",
       "      <td>NaN</td>\n",
       "      <td>Electricity</td>\n",
       "      <td>NaN</td>\n",
       "      <td>NaN</td>\n",
       "      <td>NaN</td>\n",
       "      <td>NaN</td>\n",
       "      <td>NaN</td>\n",
       "      <td>NaN</td>\n",
       "      <td>NaN</td>\n",
       "      <td>NaN</td>\n",
       "      <td>NaN</td>\n",
       "      <td>NaN</td>\n",
       "      <td>NaN</td>\n",
       "      <td>NaN</td>\n",
       "      <td>NaN</td>\n",
       "      <td>NaN</td>\n",
       "      <td>5.00</td>\n",
       "      <td>NaN</td>\n",
       "      <td>NaN</td>\n",
       "      <td>NaN</td>\n",
       "      <td>NaN</td>\n",
       "      <td>Electric</td>\n",
       "    </tr>\n",
       "    <tr>\n",
       "      <th>6164</th>\n",
       "      <td>Renault Kadjar</td>\n",
       "      <td>Bose Edition 1.5 dCi Winter &amp; Sicht Paket</td>\n",
       "      <td>Renault</td>\n",
       "      <td>Kadjar</td>\n",
       "      <td>Acheringer Hauptstr.  37,  85354 Freising, DE</td>\n",
       "      <td>9999.00</td>\n",
       "      <td>Off-Road/Pick-up</td>\n",
       "      <td>Used</td>\n",
       "      <td>5.00</td>\n",
       "      <td>NaN</td>\n",
       "      <td>GW6124</td>\n",
       "      <td>No</td>\n",
       "      <td>125000.00</td>\n",
       "      <td>2016-03-01</td>\n",
       "      <td>Automatic</td>\n",
       "      <td>Diesel (Particle filter)</td>\n",
       "      <td>Black</td>\n",
       "      <td>Metallic</td>\n",
       "      <td>[Getriebe:,  Automatik, Technik:,  Partikelfil...</td>\n",
       "      <td>Dealer</td>\n",
       "      <td>5.00</td>\n",
       "      <td>81 kW (110 hp)</td>\n",
       "      <td>1461.00</td>\n",
       "      <td>6.00</td>\n",
       "      <td>103.00</td>\n",
       "      <td>Sternen-schwarz</td>\n",
       "      <td>Front</td>\n",
       "      <td>4.00</td>\n",
       "      <td>[[3.9 l/100 km (comb.)], [4 l/100 km (city)], ...</td>\n",
       "      <td>[Air conditioning, Armrest, Automatic climate ...</td>\n",
       "      <td>[Android Auto, Apple CarPlay, Bluetooth, Digit...</td>\n",
       "      <td>[ABS, Bi-Xenon headlights, Daytime running lig...</td>\n",
       "      <td>[Alloy wheels, Roof rack, Touch screen, Voice ...</td>\n",
       "      <td>1482.00</td>\n",
       "      <td>3333/BDX</td>\n",
       "      <td>NaN</td>\n",
       "      <td>NaN</td>\n",
       "      <td>NaN</td>\n",
       "      <td>NaN</td>\n",
       "      <td>Euro 6</td>\n",
       "      <td>NaN</td>\n",
       "      <td>NaN</td>\n",
       "      <td>Full leather</td>\n",
       "      <td>2015.00</td>\n",
       "      <td>[[125,000 km, 03/2016], 1]</td>\n",
       "      <td>NaN</td>\n",
       "      <td>NaN</td>\n",
       "      <td>A+</td>\n",
       "      <td>Calculated on basis of measured CO₂-emissions ...</td>\n",
       "      <td>NaN</td>\n",
       "      <td>NaN</td>\n",
       "      <td>NaN</td>\n",
       "      <td>NaN</td>\n",
       "      <td>NaN</td>\n",
       "      <td>NaN</td>\n",
       "      <td>NaN</td>\n",
       "      <td>NaN</td>\n",
       "      <td>NaN</td>\n",
       "      <td>110.00</td>\n",
       "      <td>81.00</td>\n",
       "      <td>6.00</td>\n",
       "      <td>3.90</td>\n",
       "      <td>4.00</td>\n",
       "      <td>3.90</td>\n",
       "      <td>3.90</td>\n",
       "      <td>Diesel</td>\n",
       "    </tr>\n",
       "    <tr>\n",
       "      <th>11433</th>\n",
       "      <td>Fiat Tipo</td>\n",
       "      <td>Kombi 1.0 T3 RED</td>\n",
       "      <td>Fiat</td>\n",
       "      <td>Tipo</td>\n",
       "      <td>Im Benzfeld 50,  73527 Schwäbisch Gmünd, DE</td>\n",
       "      <td>24200.00</td>\n",
       "      <td>Station wagon</td>\n",
       "      <td>Pre-registered</td>\n",
       "      <td>4.00</td>\n",
       "      <td>Germany</td>\n",
       "      <td>nan</td>\n",
       "      <td>No</td>\n",
       "      <td>8.00</td>\n",
       "      <td>2022-04-01</td>\n",
       "      <td>Manual</td>\n",
       "      <td>Regular/Benzine 91</td>\n",
       "      <td>Red</td>\n",
       "      <td>NaN</td>\n",
       "      <td>[Fiat Tipo Kombi 1.0 Turbo RED!, 041 Elektrisc...</td>\n",
       "      <td>Dealer</td>\n",
       "      <td>5.00</td>\n",
       "      <td>74 kW (101 hp)</td>\n",
       "      <td>999.00</td>\n",
       "      <td>NaN</td>\n",
       "      <td>124.00</td>\n",
       "      <td>Passione Rot</td>\n",
       "      <td>NaN</td>\n",
       "      <td>NaN</td>\n",
       "      <td>[[5.4 l/100 km (comb.)], [6.6 l/100 km (city)]...</td>\n",
       "      <td>[Air conditioning, Automatic climate control, ...</td>\n",
       "      <td>[Android Auto, Apple CarPlay, Bluetooth, Digit...</td>\n",
       "      <td>[ABS, Adaptive Cruise Control, Blind spot moni...</td>\n",
       "      <td>[Alloy wheels, Automatically dimming interior ...</td>\n",
       "      <td>NaN</td>\n",
       "      <td>nan</td>\n",
       "      <td>04/2025</td>\n",
       "      <td>NaN</td>\n",
       "      <td>NaN</td>\n",
       "      <td>NaN</td>\n",
       "      <td>Euro 6d</td>\n",
       "      <td>4 (Green)</td>\n",
       "      <td>Black</td>\n",
       "      <td>Cloth</td>\n",
       "      <td>NaN</td>\n",
       "      <td>[[8 km, 04/2022], 1]</td>\n",
       "      <td>NaN</td>\n",
       "      <td>NaN</td>\n",
       "      <td>B</td>\n",
       "      <td>Calculated on basis of measured CO₂-emissions ...</td>\n",
       "      <td>NaN</td>\n",
       "      <td>NaN</td>\n",
       "      <td>NaN</td>\n",
       "      <td>NaN</td>\n",
       "      <td>NaN</td>\n",
       "      <td>NaN</td>\n",
       "      <td>NaN</td>\n",
       "      <td>NaN</td>\n",
       "      <td>NaN</td>\n",
       "      <td>101.00</td>\n",
       "      <td>74.00</td>\n",
       "      <td>0.00</td>\n",
       "      <td>5.40</td>\n",
       "      <td>6.60</td>\n",
       "      <td>4.70</td>\n",
       "      <td>5.40</td>\n",
       "      <td>Benzine</td>\n",
       "    </tr>\n",
       "  </tbody>\n",
       "</table>\n",
       "</div>"
      ],
      "text/plain": [
       "           make_model                          short_description     make   \n",
       "4972      Renault ZOE     R90 Life 41 kWh|Clima|Bluetooth|Cruise  Renault  \\\n",
       "6164   Renault Kadjar  Bose Edition 1.5 dCi Winter & Sicht Paket  Renault   \n",
       "11433       Fiat Tipo                           Kombi 1.0 T3 RED     Fiat   \n",
       "\n",
       "        model                                       location    price   \n",
       "4972      ZOE   Rinia van Nautaweg 2b,  9061 AE GYTSJERK, NL 14894.00  \\\n",
       "6164   Kadjar  Acheringer Hauptstr.  37,  85354 Freising, DE  9999.00   \n",
       "11433    Tipo    Im Benzfeld 50,  73527 Schwäbisch Gmünd, DE 24200.00   \n",
       "\n",
       "              body_type            type  doors country_version offer_number   \n",
       "4972            Compact            Used   5.00             NaN     J-317-HB  \\\n",
       "6164   Off-Road/Pick-up            Used   5.00             NaN       GW6124   \n",
       "11433     Station wagon  Pre-registered   4.00         Germany          nan   \n",
       "\n",
       "      warranty   mileage first_registration    gearbox   \n",
       "4972        No 106707.00         2017-04-01  Automatic  \\\n",
       "6164        No 125000.00         2016-03-01  Automatic   \n",
       "11433       No      8.00         2022-04-01     Manual   \n",
       "\n",
       "                      fuel_type colour     paint   \n",
       "4972                Electricity  White       NaN  \\\n",
       "6164   Diesel (Particle filter)  Black  Metallic   \n",
       "11433        Regular/Benzine 91    Red       NaN   \n",
       "\n",
       "                                                    desc  seller  seats   \n",
       "4972   [Renault Zoe R90 Life 41 kWh|Clima|Bluetooth|C...  Dealer   5.00  \\\n",
       "6164   [Getriebe:,  Automatik, Technik:,  Partikelfil...  Dealer   5.00   \n",
       "11433  [Fiat Tipo Kombi 1.0 Turbo RED!, 041 Elektrisc...  Dealer   5.00   \n",
       "\n",
       "                power  engine_size  gears  co2_emissions manufacturer_colour   \n",
       "4972              nan          NaN    NaN            NaN               Biały  \\\n",
       "6164   81 kW (110 hp)      1461.00   6.00         103.00     Sternen-schwarz   \n",
       "11433  74 kW (101 hp)       999.00    NaN         124.00        Passione Rot   \n",
       "\n",
       "      drivetrain  cylinders   \n",
       "4972       Front        NaN  \\\n",
       "6164       Front       4.00   \n",
       "11433        NaN        NaN   \n",
       "\n",
       "                                        fuel_consumption   \n",
       "4972                                                 NaN  \\\n",
       "6164   [[3.9 l/100 km (comb.)], [4 l/100 km (city)], ...   \n",
       "11433  [[5.4 l/100 km (comb.)], [6.6 l/100 km (city)]...   \n",
       "\n",
       "                                     comfort_convenience   \n",
       "4972   [Air conditioning, Automatic climate control, ...  \\\n",
       "6164   [Air conditioning, Armrest, Automatic climate ...   \n",
       "11433  [Air conditioning, Automatic climate control, ...   \n",
       "\n",
       "                                     entertainment_media   \n",
       "4972                 [Bluetooth, Digital cockpit, Radio]  \\\n",
       "6164   [Android Auto, Apple CarPlay, Bluetooth, Digit...   \n",
       "11433  [Android Auto, Apple CarPlay, Bluetooth, Digit...   \n",
       "\n",
       "                                         safety_security   \n",
       "4972   [ABS, Alarm system, Central door lock, Central...  \\\n",
       "6164   [ABS, Bi-Xenon headlights, Daytime running lig...   \n",
       "11433  [ABS, Adaptive Cruise Control, Blind spot moni...   \n",
       "\n",
       "                                                  extras  empty_weight   \n",
       "4972                                           [Spoiler]       1455.00  \\\n",
       "6164   [Alloy wheels, Roof rack, Touch screen, Voice ...       1482.00   \n",
       "11433  [Alloy wheels, Automatically dimming interior ...           NaN   \n",
       "\n",
       "      model_code general_inspection last_service full_service_history   \n",
       "4972         nan                NaN          NaN                  Yes  \\\n",
       "6164    3333/BDX                NaN          NaN                  NaN   \n",
       "11433        nan            04/2025          NaN                  NaN   \n",
       "\n",
       "      non_smoker_vehicle emission_class emissions_sticker upholstery_colour   \n",
       "4972                 NaN            NaN               NaN             Black  \\\n",
       "6164                 NaN         Euro 6               NaN               NaN   \n",
       "11433                NaN        Euro 6d         4 (Green)             Black   \n",
       "\n",
       "         upholstery  production_date              previous_owner   \n",
       "4972          Cloth              NaN                         NaN  \\\n",
       "6164   Full leather          2015.00  [[125,000 km, 03/2016], 1]   \n",
       "11433         Cloth              NaN        [[8 km, 04/2022], 1]   \n",
       "\n",
       "      other_fuel_types power_consumption energy_efficiency_class   \n",
       "4972       Electricity               NaN                     NaN  \\\n",
       "6164               NaN               NaN                      A+   \n",
       "11433              NaN               NaN                       B   \n",
       "\n",
       "                                          co2_efficiency   \n",
       "4972                                                 NaN  \\\n",
       "6164   Calculated on basis of measured CO₂-emissions ...   \n",
       "11433  Calculated on basis of measured CO₂-emissions ...   \n",
       "\n",
       "       fuel_consumption_wltp co2_emissions_wltp available_from   \n",
       "4972                     NaN                NaN            NaN  \\\n",
       "6164                     NaN                NaN            NaN   \n",
       "11433                    NaN                NaN            NaN   \n",
       "\n",
       "      taxi_or_rental_car availability last_timing_belt_change   \n",
       "4972                 NaN          NaN                     NaN  \\\n",
       "6164                 NaN          NaN                     NaN   \n",
       "11433                NaN          NaN                     NaN   \n",
       "\n",
       "      electric_range_wltp power_consumption_wltp battery_ownership  power_hp   \n",
       "4972                  NaN                    NaN               NaN       NaN  \\\n",
       "6164                  NaN                    NaN               NaN    110.00   \n",
       "11433                 NaN                    NaN               NaN    101.00   \n",
       "\n",
       "       power_kw  age  fuel_consumption_comb  fuel_consumption_city   \n",
       "4972        NaN 5.00                    NaN                    NaN  \\\n",
       "6164      81.00 6.00                   3.90                   4.00   \n",
       "11433     74.00 0.00                   5.40                   6.60   \n",
       "\n",
       "       fuel_consumption_country  fuel_consumption_avg      fuel  \n",
       "4972                        NaN                   NaN  Electric  \n",
       "6164                       3.90                  3.90    Diesel  \n",
       "11433                      4.70                  5.40   Benzine  "
      ]
     },
     "execution_count": 121,
     "metadata": {},
     "output_type": "execute_result"
    }
   ],
   "source": [
    "df.sample(3)"
   ]
  },
  {
   "cell_type": "code",
   "execution_count": 122,
   "metadata": {},
   "outputs": [
    {
     "data": {
      "text/plain": [
       "0           NaN\n",
       "6           NaN\n",
       "70      1300.00\n",
       "73          NaN\n",
       "93          NaN\n",
       "          ...  \n",
       "28570   2000.00\n",
       "28586   2000.00\n",
       "28606   2000.00\n",
       "28608   2000.00\n",
       "28609   2000.00\n",
       "Name: 0, Length: 1403, dtype: float64"
      ]
     },
     "execution_count": 122,
     "metadata": {},
     "output_type": "execute_result"
    }
   ],
   "source": [
    "# CONTROL engine_size\n",
    "df.loc[df.engine_size.isna(),['engine_size','short_description']].short_description.str.extract(r'(\\d+\\.\\d+)').astype(float).apply(lambda x: x * 1000)[0]"
   ]
  },
  {
   "cell_type": "code",
   "execution_count": 123,
   "metadata": {},
   "outputs": [],
   "source": [
    "# FILL engine_size na\n",
    "# df.loc[df.engine_size.isna(),['engine_size']] = df.loc[df.engine_size.isna(),['engine_size','short_description']].short_description.str.extract(r'(\\d+\\.\\d+)').astype(float).apply(lambda x: x * 1000)[0]"
   ]
  },
  {
   "cell_type": "code",
   "execution_count": 124,
   "metadata": {},
   "outputs": [
    {
     "data": {
      "text/plain": [
       "engine_size\n",
       "False    27227\n",
       "True      1403\n",
       "Name: count, dtype: int64"
      ]
     },
     "execution_count": 124,
     "metadata": {},
     "output_type": "execute_result"
    }
   ],
   "source": [
    "df.engine_size.isna().value_counts()"
   ]
  },
  {
   "cell_type": "code",
   "execution_count": 125,
   "metadata": {},
   "outputs": [
    {
     "data": {
      "text/plain": [
       "17836                                                  NaN\n",
       "6822     [Armrest, Automatic climate control, 2 zones, ...\n",
       "17725    [Air conditioning, Armrest, Automatic climate ...\n",
       "Name: comfort_convenience, dtype: object"
      ]
     },
     "execution_count": 125,
     "metadata": {},
     "output_type": "execute_result"
    }
   ],
   "source": [
    "df.comfort_convenience.sample(3)"
   ]
  },
  {
   "cell_type": "code",
   "execution_count": 126,
   "metadata": {},
   "outputs": [],
   "source": [
    "# CLEAN comfort\n",
    "df.comfort_convenience = df.comfort_convenience.astype(str).str.replace(\"[\\'\", '').str.replace(\"\\']\", '')"
   ]
  },
  {
   "cell_type": "code",
   "execution_count": 127,
   "metadata": {},
   "outputs": [
    {
     "data": {
      "text/plain": [
       "28583    Air conditioning, Armrest, Automatic climate c...\n",
       "25471    Air conditioning, Armrest, Automatic climate c...\n",
       "26897    Air conditioning, Armrest, Automatic climate c...\n",
       "Name: comfort_convenience, dtype: object"
      ]
     },
     "execution_count": 127,
     "metadata": {},
     "output_type": "execute_result"
    }
   ],
   "source": [
    "df.comfort_convenience.sample(3)"
   ]
  },
  {
   "cell_type": "code",
   "execution_count": 128,
   "metadata": {},
   "outputs": [],
   "source": [
    "df.comfort_convenience = df.comfort_convenience.replace('nan',np.nan)"
   ]
  },
  {
   "cell_type": "code",
   "execution_count": 129,
   "metadata": {},
   "outputs": [
    {
     "data": {
      "text/plain": [
       "array(['Air conditioning', 'Automatic climate control', 'Power windows',\n",
       "       'Rain sensor', 'Electrical side mirrors',\n",
       "       'Multi-function steering wheel', 'Split rear seats', 'Armrest',\n",
       "       'Cruise control', 'Lumbar support', 'Panorama roof',\n",
       "       'Parking assist system sensors front',\n",
       "       'Parking assist system sensors rear', 'Sunroof', 'Tinted windows',\n",
       "       'Navigation system', 'Parking assist system self-steering',\n",
       "       'Seat heating', 'Leather steering wheel', 'Light sensor',\n",
       "       'Start-stop system', 'Parking assist system camera', 'Hill Holder',\n",
       "       'Electrically heated windshield', 'Heads-up display',\n",
       "       'Keyless central door lock', '2 zones', 'Auxiliary heating',\n",
       "       'Electric tailgate', 'Electrically adjustable seats',\n",
       "       '360° camera', 'Air suspension', 'Seat ventilation',\n",
       "       'Massage seats', 'Park Distance Control', '3 zones',\n",
       "       'Fold flat passenger seat', 'Wind deflector',\n",
       "       'Electric backseat adjustment', 'Heated steering wheel', '4 zones',\n",
       "       'Sliding door right', 'Sliding door left', 'Leather seats'],\n",
       "      dtype=object)"
      ]
     },
     "execution_count": 129,
     "metadata": {},
     "output_type": "execute_result"
    }
   ],
   "source": [
    "df.comfort_convenience.str.split(',', expand=True).stack().str.strip().explode().unique()"
   ]
  },
  {
   "cell_type": "code",
   "execution_count": 130,
   "metadata": {},
   "outputs": [
    {
     "data": {
      "text/plain": [
       "14697    [Android Auto, Apple CarPlay, Bluetooth, Digit...\n",
       "15469                                  [On-board computer]\n",
       "17597    [Bluetooth, Hands-free equipment, Integrated m...\n",
       "Name: entertainment_media, dtype: object"
      ]
     },
     "execution_count": 130,
     "metadata": {},
     "output_type": "execute_result"
    }
   ],
   "source": [
    "df.entertainment_media.sample(3)"
   ]
  },
  {
   "cell_type": "code",
   "execution_count": 131,
   "metadata": {},
   "outputs": [],
   "source": [
    "df.entertainment_media = df.entertainment_media.astype(str).str.replace(\"[\\'\", '').str.replace(\"\\']\", '')"
   ]
  },
  {
   "cell_type": "code",
   "execution_count": 132,
   "metadata": {},
   "outputs": [],
   "source": [
    "df.entertainment_media = df.entertainment_media.replace('nan',np.nan)"
   ]
  },
  {
   "cell_type": "code",
   "execution_count": 133,
   "metadata": {},
   "outputs": [
    {
     "data": {
      "text/plain": [
       "412      CD player, Hands-free equipment, Integrated mu...\n",
       "20704                                                  NaN\n",
       "16687    Android Auto, Apple CarPlay, Bluetooth, Digita...\n",
       "Name: entertainment_media, dtype: object"
      ]
     },
     "execution_count": 133,
     "metadata": {},
     "output_type": "execute_result"
    }
   ],
   "source": [
    "df.entertainment_media.sample(3)"
   ]
  },
  {
   "cell_type": "code",
   "execution_count": 134,
   "metadata": {},
   "outputs": [
    {
     "data": {
      "text/plain": [
       "16024                                                  NaN\n",
       "15046    [ABS, Central door lock, Daytime running light...\n",
       "24133    [ABS, Alarm system, Central door lock, Driver-...\n",
       "Name: safety_security, dtype: object"
      ]
     },
     "execution_count": 134,
     "metadata": {},
     "output_type": "execute_result"
    }
   ],
   "source": [
    "df.safety_security.sample(3)"
   ]
  },
  {
   "cell_type": "code",
   "execution_count": 135,
   "metadata": {},
   "outputs": [],
   "source": [
    "df.safety_security = df.safety_security.astype(str).str.replace(\"[\\'\", '').str.replace(\"\\']\", '')"
   ]
  },
  {
   "cell_type": "code",
   "execution_count": 136,
   "metadata": {},
   "outputs": [],
   "source": [
    "df.safety_security = df.safety_security.replace('nan',np.nan)"
   ]
  },
  {
   "cell_type": "code",
   "execution_count": 137,
   "metadata": {},
   "outputs": [
    {
     "data": {
      "text/plain": [
       "array(['ABS', 'Central door lock', 'Driver-side airbag',\n",
       "       'Electronic stability control', 'Traction control', 'Isofix',\n",
       "       'Xenon headlights', 'Bi-Xenon headlights', 'Fog lights',\n",
       "       'Head airbag', 'Immobilizer', 'Passenger-side airbag',\n",
       "       'Power steering', 'Side airbag', 'Speed limit control system',\n",
       "       'Emergency brake assistant', 'Alarm system',\n",
       "       'Central door lock with remote control',\n",
       "       'Tire pressure monitoring system', 'Daytime running lights',\n",
       "       'LED Daytime Running Lights', 'LED Headlights',\n",
       "       'Lane departure warning system', 'Traffic sign recognition',\n",
       "       'Full-LED headlights', 'Distance warning system',\n",
       "       'Driver drowsiness detection', 'Emergency system',\n",
       "       'High beam assist', 'Rear airbag', 'Adaptive Cruise Control',\n",
       "       'Blind spot monitor', 'Glare-free high beam headlights',\n",
       "       'Adaptive headlights', 'Laser headlights', 'Night view assist'],\n",
       "      dtype=object)"
      ]
     },
     "execution_count": 137,
     "metadata": {},
     "output_type": "execute_result"
    }
   ],
   "source": [
    "df.safety_security.str.split(',', expand=True).stack().str.strip().explode().unique()"
   ]
  },
  {
   "cell_type": "code",
   "execution_count": 138,
   "metadata": {},
   "outputs": [
    {
     "data": {
      "text/plain": [
       "15452       [Roof rack]\n",
       "18621    [Touch screen]\n",
       "5050     [Summer tyres]\n",
       "Name: extras, dtype: object"
      ]
     },
     "execution_count": 138,
     "metadata": {},
     "output_type": "execute_result"
    }
   ],
   "source": [
    "df.extras.sample(3)"
   ]
  },
  {
   "cell_type": "code",
   "execution_count": 139,
   "metadata": {},
   "outputs": [],
   "source": [
    "df.extras = df.extras.astype(str).str.replace(\"[\\'\", '').str.replace(\"\\']\", '').str.replace(\"\\\"]\", '').str.replace('[\\\"', '').str.replace('\\\\', '')"
   ]
  },
  {
   "cell_type": "code",
   "execution_count": 140,
   "metadata": {},
   "outputs": [],
   "source": [
    "df.extras = df.extras.replace('nan',np.nan)"
   ]
  },
  {
   "cell_type": "code",
   "execution_count": 141,
   "metadata": {},
   "outputs": [
    {
     "data": {
      "text/plain": [
       "array(['Sport seats', 'Alloy wheels (17\")', 'Catalytic Converter',\n",
       "       'Emergency tyre repair kit', 'Headlight washer system',\n",
       "       \"Smoker's package\", 'Sport package', 'Alloy wheels', 'Spoiler',\n",
       "       'Sport suspension', 'Automatically dimming interior mirror',\n",
       "       'Voice Control', 'Cargo barrier', 'Emergency tyre', 'Summer tyres',\n",
       "       'Winter package', 'Alloy wheels (19\")', 'Ski bag', 'Winter tyres',\n",
       "       'Electronic parking brake', 'Shift paddles', 'Touch screen',\n",
       "       'Sliding door', 'Alloy wheels (18\")', 'Ambient lighting',\n",
       "       'Alloy wheels (16\")', 'E10-enabled', 'Spare tyre',\n",
       "       'Alloy wheels (21\")', 'Trailer hitch', 'Alloy wheels (20\")',\n",
       "       'Steel wheels', 'Biodiesel conversion', 'Handicapped enabled',\n",
       "       'Tuned car', 'Range extender', 'All season tyres',\n",
       "       'Alloy wheels (14\")', 'Alloy wheels (15\")', 'Roof rack',\n",
       "       'Alloy wheels (22\")', 'Alloy wheels (23\")', 'Alloy wheels (13\")',\n",
       "       'Right hand drive', 'Awning', 'Alloy wheels (26\")',\n",
       "       'Alloy wheels (10\")'], dtype=object)"
      ]
     },
     "execution_count": 141,
     "metadata": {},
     "output_type": "execute_result"
    }
   ],
   "source": [
    "df.extras.str.split(',', expand=True).stack().str.strip().explode().unique()"
   ]
  },
  {
   "cell_type": "code",
   "execution_count": 142,
   "metadata": {},
   "outputs": [
    {
     "data": {
      "text/html": [
       "<div>\n",
       "<style scoped>\n",
       "    .dataframe tbody tr th:only-of-type {\n",
       "        vertical-align: middle;\n",
       "    }\n",
       "\n",
       "    .dataframe tbody tr th {\n",
       "        vertical-align: top;\n",
       "    }\n",
       "\n",
       "    .dataframe thead th {\n",
       "        text-align: right;\n",
       "    }\n",
       "</style>\n",
       "<table border=\"1\" class=\"dataframe\">\n",
       "  <thead>\n",
       "    <tr style=\"text-align: right;\">\n",
       "      <th></th>\n",
       "      <th>make_model</th>\n",
       "      <th>short_description</th>\n",
       "      <th>make</th>\n",
       "      <th>model</th>\n",
       "      <th>location</th>\n",
       "      <th>price</th>\n",
       "      <th>body_type</th>\n",
       "      <th>type</th>\n",
       "      <th>doors</th>\n",
       "      <th>country_version</th>\n",
       "      <th>offer_number</th>\n",
       "      <th>warranty</th>\n",
       "      <th>mileage</th>\n",
       "      <th>first_registration</th>\n",
       "      <th>gearbox</th>\n",
       "      <th>fuel_type</th>\n",
       "      <th>colour</th>\n",
       "      <th>paint</th>\n",
       "      <th>desc</th>\n",
       "      <th>seller</th>\n",
       "      <th>seats</th>\n",
       "      <th>power</th>\n",
       "      <th>engine_size</th>\n",
       "      <th>gears</th>\n",
       "      <th>co2_emissions</th>\n",
       "      <th>manufacturer_colour</th>\n",
       "      <th>drivetrain</th>\n",
       "      <th>cylinders</th>\n",
       "      <th>fuel_consumption</th>\n",
       "      <th>comfort_convenience</th>\n",
       "      <th>entertainment_media</th>\n",
       "      <th>safety_security</th>\n",
       "      <th>extras</th>\n",
       "      <th>empty_weight</th>\n",
       "      <th>model_code</th>\n",
       "      <th>general_inspection</th>\n",
       "      <th>last_service</th>\n",
       "      <th>full_service_history</th>\n",
       "      <th>non_smoker_vehicle</th>\n",
       "      <th>emission_class</th>\n",
       "      <th>emissions_sticker</th>\n",
       "      <th>upholstery_colour</th>\n",
       "      <th>upholstery</th>\n",
       "      <th>production_date</th>\n",
       "      <th>previous_owner</th>\n",
       "      <th>other_fuel_types</th>\n",
       "      <th>power_consumption</th>\n",
       "      <th>energy_efficiency_class</th>\n",
       "      <th>co2_efficiency</th>\n",
       "      <th>fuel_consumption_wltp</th>\n",
       "      <th>co2_emissions_wltp</th>\n",
       "      <th>available_from</th>\n",
       "      <th>taxi_or_rental_car</th>\n",
       "      <th>availability</th>\n",
       "      <th>last_timing_belt_change</th>\n",
       "      <th>electric_range_wltp</th>\n",
       "      <th>power_consumption_wltp</th>\n",
       "      <th>battery_ownership</th>\n",
       "      <th>power_hp</th>\n",
       "      <th>power_kw</th>\n",
       "      <th>age</th>\n",
       "      <th>fuel_consumption_comb</th>\n",
       "      <th>fuel_consumption_city</th>\n",
       "      <th>fuel_consumption_country</th>\n",
       "      <th>fuel_consumption_avg</th>\n",
       "      <th>fuel</th>\n",
       "    </tr>\n",
       "  </thead>\n",
       "  <tbody>\n",
       "    <tr>\n",
       "      <th>11878</th>\n",
       "      <td>Seat Ibiza</td>\n",
       "      <td>1.4 TSI FR Autom/21TKM/Xenon/Klimatr/Temp</td>\n",
       "      <td>Seat</td>\n",
       "      <td>Ibiza</td>\n",
       "      <td>Rhinstr.125a,  10315 Berlin, DE</td>\n",
       "      <td>13980.00</td>\n",
       "      <td>Compact</td>\n",
       "      <td>Used</td>\n",
       "      <td>4.00</td>\n",
       "      <td>Germany</td>\n",
       "      <td>01</td>\n",
       "      <td>No</td>\n",
       "      <td>21474.00</td>\n",
       "      <td>2014-01-01</td>\n",
       "      <td>Automatic</td>\n",
       "      <td>Regular/Benzine 91</td>\n",
       "      <td>Blue</td>\n",
       "      <td>Metallic</td>\n",
       "      <td>[Sonderausstattung:, Bi-Xenon-Scheinwerfer mit...</td>\n",
       "      <td>Dealer</td>\n",
       "      <td>5.00</td>\n",
       "      <td>110 kW (150 hp)</td>\n",
       "      <td>1390.00</td>\n",
       "      <td>NaN</td>\n",
       "      <td>140.00</td>\n",
       "      <td>\"apolo\" blau</td>\n",
       "      <td>NaN</td>\n",
       "      <td>NaN</td>\n",
       "      <td>[[5.9 l/100 km (comb.)], [7.5 l/100 km (city)]...</td>\n",
       "      <td>Air conditioning, Automatic climate control, C...</td>\n",
       "      <td>CD player, On-board computer, Sound system</td>\n",
       "      <td>ABS, Adaptive headlights, Bi-Xenon headlights,...</td>\n",
       "      <td>Alloy wheels, Automatically dimming interior m...</td>\n",
       "      <td>NaN</td>\n",
       "      <td>nan</td>\n",
       "      <td>New</td>\n",
       "      <td>NaN</td>\n",
       "      <td>Yes</td>\n",
       "      <td>Yes</td>\n",
       "      <td>Euro 5</td>\n",
       "      <td>4 (Green)</td>\n",
       "      <td>Black</td>\n",
       "      <td>Cloth</td>\n",
       "      <td>NaN</td>\n",
       "      <td>[[21,474 km, 01/2014], 2]</td>\n",
       "      <td>NaN</td>\n",
       "      <td>NaN</td>\n",
       "      <td>NaN</td>\n",
       "      <td>NaN</td>\n",
       "      <td>NaN</td>\n",
       "      <td>NaN</td>\n",
       "      <td>NaN</td>\n",
       "      <td>NaN</td>\n",
       "      <td>NaN</td>\n",
       "      <td>NaN</td>\n",
       "      <td>NaN</td>\n",
       "      <td>NaN</td>\n",
       "      <td>NaN</td>\n",
       "      <td>150.00</td>\n",
       "      <td>110.00</td>\n",
       "      <td>8.00</td>\n",
       "      <td>5.90</td>\n",
       "      <td>7.50</td>\n",
       "      <td>5.10</td>\n",
       "      <td>5.90</td>\n",
       "      <td>Benzine</td>\n",
       "    </tr>\n",
       "    <tr>\n",
       "      <th>3459</th>\n",
       "      <td>Opel Astra</td>\n",
       "      <td>5p 1.6i twinport 16v</td>\n",
       "      <td>Opel</td>\n",
       "      <td>Astra</td>\n",
       "      <td>23013 Cosio Valtellino, IT</td>\n",
       "      <td>6000.00</td>\n",
       "      <td>Coupe</td>\n",
       "      <td>Used</td>\n",
       "      <td>5.00</td>\n",
       "      <td>NaN</td>\n",
       "      <td>nan</td>\n",
       "      <td>No</td>\n",
       "      <td>87000.00</td>\n",
       "      <td>2005-01-01</td>\n",
       "      <td>Manual</td>\n",
       "      <td>Gasoline</td>\n",
       "      <td>Silver</td>\n",
       "      <td>NaN</td>\n",
       "      <td>[Opel astra del 2005 1.6 benzina 110cv con men...</td>\n",
       "      <td>Private seller</td>\n",
       "      <td>5.00</td>\n",
       "      <td>80 kW (109 hp)</td>\n",
       "      <td>1598.00</td>\n",
       "      <td>NaN</td>\n",
       "      <td>NaN</td>\n",
       "      <td>NaN</td>\n",
       "      <td>NaN</td>\n",
       "      <td>4.00</td>\n",
       "      <td>[[6.6 l/100 km (comb.)], [8.7 l/100 km (city)]...</td>\n",
       "      <td>NaN</td>\n",
       "      <td>NaN</td>\n",
       "      <td>NaN</td>\n",
       "      <td>NaN</td>\n",
       "      <td>1111.00</td>\n",
       "      <td>nan</td>\n",
       "      <td>NaN</td>\n",
       "      <td>NaN</td>\n",
       "      <td>Yes</td>\n",
       "      <td>NaN</td>\n",
       "      <td>Euro 4</td>\n",
       "      <td>NaN</td>\n",
       "      <td>NaN</td>\n",
       "      <td>NaN</td>\n",
       "      <td>NaN</td>\n",
       "      <td>NaN</td>\n",
       "      <td>NaN</td>\n",
       "      <td>NaN</td>\n",
       "      <td>NaN</td>\n",
       "      <td>NaN</td>\n",
       "      <td>NaN</td>\n",
       "      <td>NaN</td>\n",
       "      <td>NaN</td>\n",
       "      <td>NaN</td>\n",
       "      <td>NaN</td>\n",
       "      <td>NaN</td>\n",
       "      <td>NaN</td>\n",
       "      <td>NaN</td>\n",
       "      <td>NaN</td>\n",
       "      <td>109.00</td>\n",
       "      <td>80.00</td>\n",
       "      <td>17.00</td>\n",
       "      <td>6.60</td>\n",
       "      <td>8.70</td>\n",
       "      <td>5.50</td>\n",
       "      <td>6.60</td>\n",
       "      <td>Benzine</td>\n",
       "    </tr>\n",
       "    <tr>\n",
       "      <th>21140</th>\n",
       "      <td>Ford Fiesta</td>\n",
       "      <td>TREND 1.25 Wenige Kilometer</td>\n",
       "      <td>Ford</td>\n",
       "      <td>Fiesta</td>\n",
       "      <td>Ossiacher Zeile 29,  9500 Villach, AT</td>\n",
       "      <td>11790.00</td>\n",
       "      <td>Compact</td>\n",
       "      <td>Used</td>\n",
       "      <td>1.00</td>\n",
       "      <td>Austria</td>\n",
       "      <td>HU38221</td>\n",
       "      <td>Yes</td>\n",
       "      <td>14600.00</td>\n",
       "      <td>2017-04-01</td>\n",
       "      <td>Manual</td>\n",
       "      <td>Super E10 95</td>\n",
       "      <td>Grey</td>\n",
       "      <td>NaN</td>\n",
       "      <td>[Ihre Ansprechpartner für dieses KFZ:, Michael...</td>\n",
       "      <td>Dealer</td>\n",
       "      <td>NaN</td>\n",
       "      <td>60 kW (82 hp)</td>\n",
       "      <td>1242.00</td>\n",
       "      <td>NaN</td>\n",
       "      <td>122.00</td>\n",
       "      <td>Grau</td>\n",
       "      <td>NaN</td>\n",
       "      <td>4.00</td>\n",
       "      <td>[[5.2 l/100 km (comb.)]]</td>\n",
       "      <td>Air conditioning, Multi-function steering whee...</td>\n",
       "      <td>CD player, MP3, On-board computer, Radio</td>\n",
       "      <td>ABS, Central door lock, Daytime running lights...</td>\n",
       "      <td>Alloy wheels, E10-enabled</td>\n",
       "      <td>976.00</td>\n",
       "      <td>nan</td>\n",
       "      <td>New</td>\n",
       "      <td>NaN</td>\n",
       "      <td>NaN</td>\n",
       "      <td>Yes</td>\n",
       "      <td>NaN</td>\n",
       "      <td>NaN</td>\n",
       "      <td>NaN</td>\n",
       "      <td>Cloth</td>\n",
       "      <td>2017.00</td>\n",
       "      <td>[[14,600 km, 04/2017], 2]</td>\n",
       "      <td>NaN</td>\n",
       "      <td>NaN</td>\n",
       "      <td>NaN</td>\n",
       "      <td>NaN</td>\n",
       "      <td>NaN</td>\n",
       "      <td>NaN</td>\n",
       "      <td>NaN</td>\n",
       "      <td>NaN</td>\n",
       "      <td>NaN</td>\n",
       "      <td>NaN</td>\n",
       "      <td>NaN</td>\n",
       "      <td>NaN</td>\n",
       "      <td>NaN</td>\n",
       "      <td>82.00</td>\n",
       "      <td>60.00</td>\n",
       "      <td>5.00</td>\n",
       "      <td>5.20</td>\n",
       "      <td>NaN</td>\n",
       "      <td>NaN</td>\n",
       "      <td>5.20</td>\n",
       "      <td>Benzine</td>\n",
       "    </tr>\n",
       "  </tbody>\n",
       "</table>\n",
       "</div>"
      ],
      "text/plain": [
       "        make_model                          short_description  make   model   \n",
       "11878   Seat Ibiza  1.4 TSI FR Autom/21TKM/Xenon/Klimatr/Temp  Seat   Ibiza  \\\n",
       "3459    Opel Astra                       5p 1.6i twinport 16v  Opel   Astra   \n",
       "21140  Ford Fiesta                TREND 1.25 Wenige Kilometer  Ford  Fiesta   \n",
       "\n",
       "                                    location    price body_type  type  doors   \n",
       "11878        Rhinstr.125a,  10315 Berlin, DE 13980.00   Compact  Used   4.00  \\\n",
       "3459              23013 Cosio Valtellino, IT  6000.00     Coupe  Used   5.00   \n",
       "21140  Ossiacher Zeile 29,  9500 Villach, AT 11790.00   Compact  Used   1.00   \n",
       "\n",
       "      country_version offer_number warranty  mileage first_registration   \n",
       "11878         Germany           01       No 21474.00         2014-01-01  \\\n",
       "3459              NaN          nan       No 87000.00         2005-01-01   \n",
       "21140         Austria      HU38221      Yes 14600.00         2017-04-01   \n",
       "\n",
       "         gearbox           fuel_type  colour     paint   \n",
       "11878  Automatic  Regular/Benzine 91    Blue  Metallic  \\\n",
       "3459      Manual            Gasoline  Silver       NaN   \n",
       "21140     Manual        Super E10 95    Grey       NaN   \n",
       "\n",
       "                                                    desc          seller   \n",
       "11878  [Sonderausstattung:, Bi-Xenon-Scheinwerfer mit...          Dealer  \\\n",
       "3459   [Opel astra del 2005 1.6 benzina 110cv con men...  Private seller   \n",
       "21140  [Ihre Ansprechpartner für dieses KFZ:, Michael...          Dealer   \n",
       "\n",
       "       seats            power  engine_size  gears  co2_emissions   \n",
       "11878   5.00  110 kW (150 hp)      1390.00    NaN         140.00  \\\n",
       "3459    5.00   80 kW (109 hp)      1598.00    NaN            NaN   \n",
       "21140    NaN    60 kW (82 hp)      1242.00    NaN         122.00   \n",
       "\n",
       "      manufacturer_colour drivetrain  cylinders   \n",
       "11878        \"apolo\" blau        NaN        NaN  \\\n",
       "3459                  NaN        NaN       4.00   \n",
       "21140                Grau        NaN       4.00   \n",
       "\n",
       "                                        fuel_consumption   \n",
       "11878  [[5.9 l/100 km (comb.)], [7.5 l/100 km (city)]...  \\\n",
       "3459   [[6.6 l/100 km (comb.)], [8.7 l/100 km (city)]...   \n",
       "21140                           [[5.2 l/100 km (comb.)]]   \n",
       "\n",
       "                                     comfort_convenience   \n",
       "11878  Air conditioning, Automatic climate control, C...  \\\n",
       "3459                                                 NaN   \n",
       "21140  Air conditioning, Multi-function steering whee...   \n",
       "\n",
       "                              entertainment_media   \n",
       "11878  CD player, On-board computer, Sound system  \\\n",
       "3459                                          NaN   \n",
       "21140    CD player, MP3, On-board computer, Radio   \n",
       "\n",
       "                                         safety_security   \n",
       "11878  ABS, Adaptive headlights, Bi-Xenon headlights,...  \\\n",
       "3459                                                 NaN   \n",
       "21140  ABS, Central door lock, Daytime running lights...   \n",
       "\n",
       "                                                  extras  empty_weight   \n",
       "11878  Alloy wheels, Automatically dimming interior m...           NaN  \\\n",
       "3459                                                 NaN       1111.00   \n",
       "21140                          Alloy wheels, E10-enabled        976.00   \n",
       "\n",
       "      model_code general_inspection last_service full_service_history   \n",
       "11878        nan                New          NaN                  Yes  \\\n",
       "3459         nan                NaN          NaN                  Yes   \n",
       "21140        nan                New          NaN                  NaN   \n",
       "\n",
       "      non_smoker_vehicle emission_class emissions_sticker upholstery_colour   \n",
       "11878                Yes         Euro 5         4 (Green)             Black  \\\n",
       "3459                 NaN         Euro 4               NaN               NaN   \n",
       "21140                Yes            NaN               NaN               NaN   \n",
       "\n",
       "      upholstery  production_date             previous_owner other_fuel_types   \n",
       "11878      Cloth              NaN  [[21,474 km, 01/2014], 2]              NaN  \\\n",
       "3459         NaN              NaN                        NaN              NaN   \n",
       "21140      Cloth          2017.00  [[14,600 km, 04/2017], 2]              NaN   \n",
       "\n",
       "      power_consumption energy_efficiency_class co2_efficiency   \n",
       "11878               NaN                     NaN            NaN  \\\n",
       "3459                NaN                     NaN            NaN   \n",
       "21140               NaN                     NaN            NaN   \n",
       "\n",
       "       fuel_consumption_wltp co2_emissions_wltp available_from   \n",
       "11878                    NaN                NaN            NaN  \\\n",
       "3459                     NaN                NaN            NaN   \n",
       "21140                    NaN                NaN            NaN   \n",
       "\n",
       "      taxi_or_rental_car availability last_timing_belt_change   \n",
       "11878                NaN          NaN                     NaN  \\\n",
       "3459                 NaN          NaN                     NaN   \n",
       "21140                NaN          NaN                     NaN   \n",
       "\n",
       "      electric_range_wltp power_consumption_wltp battery_ownership  power_hp   \n",
       "11878                 NaN                    NaN               NaN    150.00  \\\n",
       "3459                  NaN                    NaN               NaN    109.00   \n",
       "21140                 NaN                    NaN               NaN     82.00   \n",
       "\n",
       "       power_kw   age  fuel_consumption_comb  fuel_consumption_city   \n",
       "11878    110.00  8.00                   5.90                   7.50  \\\n",
       "3459      80.00 17.00                   6.60                   8.70   \n",
       "21140     60.00  5.00                   5.20                    NaN   \n",
       "\n",
       "       fuel_consumption_country  fuel_consumption_avg     fuel  \n",
       "11878                      5.10                  5.90  Benzine  \n",
       "3459                       5.50                  6.60  Benzine  \n",
       "21140                       NaN                  5.20  Benzine  "
      ]
     },
     "execution_count": 142,
     "metadata": {},
     "output_type": "execute_result"
    }
   ],
   "source": [
    "df.sample(3)"
   ]
  },
  {
   "cell_type": "code",
   "execution_count": 143,
   "metadata": {},
   "outputs": [
    {
     "data": {
      "text/plain": [
       "upholstery\n",
       "Cloth           8736\n",
       "Full leather    5439\n",
       "Part leather    2835\n",
       "alcantara        764\n",
       "Other            628\n",
       "Velour           208\n",
       "Name: count, dtype: int64"
      ]
     },
     "execution_count": 143,
     "metadata": {},
     "output_type": "execute_result"
    }
   ],
   "source": [
    "df.upholstery.value_counts()"
   ]
  },
  {
   "cell_type": "code",
   "execution_count": 144,
   "metadata": {},
   "outputs": [
    {
     "data": {
      "text/plain": [
       "upholstery\n",
       "False    18610\n",
       "True     10020\n",
       "Name: count, dtype: int64"
      ]
     },
     "execution_count": 144,
     "metadata": {},
     "output_type": "execute_result"
    }
   ],
   "source": [
    "df.upholstery.isna().value_counts()"
   ]
  },
  {
   "cell_type": "code",
   "execution_count": 145,
   "metadata": {},
   "outputs": [
    {
     "data": {
      "text/plain": [
       "previous_owner\n",
       "True     14615\n",
       "False    14015\n",
       "Name: count, dtype: int64"
      ]
     },
     "execution_count": 145,
     "metadata": {},
     "output_type": "execute_result"
    }
   ],
   "source": [
    "df.previous_owner.isna().value_counts()"
   ]
  },
  {
   "cell_type": "code",
   "execution_count": 146,
   "metadata": {},
   "outputs": [],
   "source": [
    "df.previous_owner = df.previous_owner.str[1]"
   ]
  },
  {
   "cell_type": "code",
   "execution_count": 147,
   "metadata": {},
   "outputs": [],
   "source": [
    "df.full_service_history.fillna('No',inplace=True)"
   ]
  },
  {
   "cell_type": "code",
   "execution_count": 148,
   "metadata": {},
   "outputs": [
    {
     "data": {
      "text/plain": [
       "full_service_history\n",
       "No     16065\n",
       "Yes    12565\n",
       "Name: count, dtype: int64"
      ]
     },
     "execution_count": 148,
     "metadata": {},
     "output_type": "execute_result"
    }
   ],
   "source": [
    "df.full_service_history.value_counts()"
   ]
  },
  {
   "cell_type": "code",
   "execution_count": 149,
   "metadata": {},
   "outputs": [
    {
     "data": {
      "text/html": [
       "<div>\n",
       "<style scoped>\n",
       "    .dataframe tbody tr th:only-of-type {\n",
       "        vertical-align: middle;\n",
       "    }\n",
       "\n",
       "    .dataframe tbody tr th {\n",
       "        vertical-align: top;\n",
       "    }\n",
       "\n",
       "    .dataframe thead th {\n",
       "        text-align: right;\n",
       "    }\n",
       "</style>\n",
       "<table border=\"1\" class=\"dataframe\">\n",
       "  <thead>\n",
       "    <tr style=\"text-align: right;\">\n",
       "      <th></th>\n",
       "      <th>make_model</th>\n",
       "      <th>short_description</th>\n",
       "      <th>make</th>\n",
       "      <th>model</th>\n",
       "      <th>location</th>\n",
       "      <th>price</th>\n",
       "      <th>body_type</th>\n",
       "      <th>type</th>\n",
       "      <th>doors</th>\n",
       "      <th>country_version</th>\n",
       "      <th>offer_number</th>\n",
       "      <th>warranty</th>\n",
       "      <th>mileage</th>\n",
       "      <th>first_registration</th>\n",
       "      <th>gearbox</th>\n",
       "      <th>fuel_type</th>\n",
       "      <th>colour</th>\n",
       "      <th>paint</th>\n",
       "      <th>desc</th>\n",
       "      <th>seller</th>\n",
       "      <th>seats</th>\n",
       "      <th>power</th>\n",
       "      <th>engine_size</th>\n",
       "      <th>gears</th>\n",
       "      <th>co2_emissions</th>\n",
       "      <th>manufacturer_colour</th>\n",
       "      <th>drivetrain</th>\n",
       "      <th>cylinders</th>\n",
       "      <th>fuel_consumption</th>\n",
       "      <th>comfort_convenience</th>\n",
       "      <th>entertainment_media</th>\n",
       "      <th>safety_security</th>\n",
       "      <th>extras</th>\n",
       "      <th>empty_weight</th>\n",
       "      <th>model_code</th>\n",
       "      <th>general_inspection</th>\n",
       "      <th>last_service</th>\n",
       "      <th>full_service_history</th>\n",
       "      <th>non_smoker_vehicle</th>\n",
       "      <th>emission_class</th>\n",
       "      <th>emissions_sticker</th>\n",
       "      <th>upholstery_colour</th>\n",
       "      <th>upholstery</th>\n",
       "      <th>production_date</th>\n",
       "      <th>previous_owner</th>\n",
       "      <th>other_fuel_types</th>\n",
       "      <th>power_consumption</th>\n",
       "      <th>energy_efficiency_class</th>\n",
       "      <th>co2_efficiency</th>\n",
       "      <th>fuel_consumption_wltp</th>\n",
       "      <th>co2_emissions_wltp</th>\n",
       "      <th>available_from</th>\n",
       "      <th>taxi_or_rental_car</th>\n",
       "      <th>availability</th>\n",
       "      <th>last_timing_belt_change</th>\n",
       "      <th>electric_range_wltp</th>\n",
       "      <th>power_consumption_wltp</th>\n",
       "      <th>battery_ownership</th>\n",
       "      <th>power_hp</th>\n",
       "      <th>power_kw</th>\n",
       "      <th>age</th>\n",
       "      <th>fuel_consumption_comb</th>\n",
       "      <th>fuel_consumption_city</th>\n",
       "      <th>fuel_consumption_country</th>\n",
       "      <th>fuel_consumption_avg</th>\n",
       "      <th>fuel</th>\n",
       "    </tr>\n",
       "  </thead>\n",
       "  <tbody>\n",
       "    <tr>\n",
       "      <th>0</th>\n",
       "      <td>0.00</td>\n",
       "      <td>0.00</td>\n",
       "      <td>0.00</td>\n",
       "      <td>0.00</td>\n",
       "      <td>0.00</td>\n",
       "      <td>0.00</td>\n",
       "      <td>0.00</td>\n",
       "      <td>0.00</td>\n",
       "      <td>1.25</td>\n",
       "      <td>41.01</td>\n",
       "      <td>0.00</td>\n",
       "      <td>0.00</td>\n",
       "      <td>0.00</td>\n",
       "      <td>0.01</td>\n",
       "      <td>0.00</td>\n",
       "      <td>0.03</td>\n",
       "      <td>6.02</td>\n",
       "      <td>48.99</td>\n",
       "      <td>2.04</td>\n",
       "      <td>0.00</td>\n",
       "      <td>10.92</td>\n",
       "      <td>0.00</td>\n",
       "      <td>4.90</td>\n",
       "      <td>33.80</td>\n",
       "      <td>35.05</td>\n",
       "      <td>23.90</td>\n",
       "      <td>41.00</td>\n",
       "      <td>34.15</td>\n",
       "      <td>18.32</td>\n",
       "      <td>11.17</td>\n",
       "      <td>17.42</td>\n",
       "      <td>11.23</td>\n",
       "      <td>17.99</td>\n",
       "      <td>37.97</td>\n",
       "      <td>0.00</td>\n",
       "      <td>57.20</td>\n",
       "      <td>93.00</td>\n",
       "      <td>0.00</td>\n",
       "      <td>59.50</td>\n",
       "      <td>37.62</td>\n",
       "      <td>67.12</td>\n",
       "      <td>49.11</td>\n",
       "      <td>35.00</td>\n",
       "      <td>79.36</td>\n",
       "      <td>51.05</td>\n",
       "      <td>91.92</td>\n",
       "      <td>98.20</td>\n",
       "      <td>72.74</td>\n",
       "      <td>72.74</td>\n",
       "      <td>99.65</td>\n",
       "      <td>99.59</td>\n",
       "      <td>98.63</td>\n",
       "      <td>98.53</td>\n",
       "      <td>98.95</td>\n",
       "      <td>98.00</td>\n",
       "      <td>99.94</td>\n",
       "      <td>99.94</td>\n",
       "      <td>99.98</td>\n",
       "      <td>2.01</td>\n",
       "      <td>2.05</td>\n",
       "      <td>0.01</td>\n",
       "      <td>18.93</td>\n",
       "      <td>30.10</td>\n",
       "      <td>30.08</td>\n",
       "      <td>18.52</td>\n",
       "      <td>0.03</td>\n",
       "    </tr>\n",
       "  </tbody>\n",
       "</table>\n",
       "</div>"
      ],
      "text/plain": [
       "   make_model  short_description  make  model  location  price  body_type   \n",
       "0        0.00               0.00  0.00   0.00      0.00   0.00       0.00  \\\n",
       "\n",
       "   type  doors  country_version  offer_number  warranty  mileage   \n",
       "0  0.00   1.25            41.01          0.00      0.00     0.00  \\\n",
       "\n",
       "   first_registration  gearbox  fuel_type  colour  paint  desc  seller  seats   \n",
       "0                0.01     0.00       0.03    6.02  48.99  2.04    0.00  10.92  \\\n",
       "\n",
       "   power  engine_size  gears  co2_emissions  manufacturer_colour  drivetrain   \n",
       "0   0.00         4.90  33.80          35.05                23.90       41.00  \\\n",
       "\n",
       "   cylinders  fuel_consumption  comfort_convenience  entertainment_media   \n",
       "0      34.15             18.32                11.17                17.42  \\\n",
       "\n",
       "   safety_security  extras  empty_weight  model_code  general_inspection   \n",
       "0            11.23   17.99         37.97        0.00               57.20  \\\n",
       "\n",
       "   last_service  full_service_history  non_smoker_vehicle  emission_class   \n",
       "0         93.00                  0.00               59.50           37.62  \\\n",
       "\n",
       "   emissions_sticker  upholstery_colour  upholstery  production_date   \n",
       "0              67.12              49.11       35.00            79.36  \\\n",
       "\n",
       "   previous_owner  other_fuel_types  power_consumption   \n",
       "0           51.05             91.92              98.20  \\\n",
       "\n",
       "   energy_efficiency_class  co2_efficiency  fuel_consumption_wltp   \n",
       "0                    72.74           72.74                  99.65  \\\n",
       "\n",
       "   co2_emissions_wltp  available_from  taxi_or_rental_car  availability   \n",
       "0               99.59           98.63               98.53         98.95  \\\n",
       "\n",
       "   last_timing_belt_change  electric_range_wltp  power_consumption_wltp   \n",
       "0                    98.00                99.94                   99.94  \\\n",
       "\n",
       "   battery_ownership  power_hp  power_kw  age  fuel_consumption_comb   \n",
       "0              99.98      2.01      2.05 0.01                  18.93  \\\n",
       "\n",
       "   fuel_consumption_city  fuel_consumption_country  fuel_consumption_avg  fuel  \n",
       "0                  30.10                     30.08                 18.52  0.03  "
      ]
     },
     "execution_count": 149,
     "metadata": {},
     "output_type": "execute_result"
    }
   ],
   "source": [
    "def show_na():\n",
    "    return (df.isna().sum() / df.shape[0] * 100).to_frame().T\n",
    "show_na()"
   ]
  },
  {
   "cell_type": "code",
   "execution_count": 150,
   "metadata": {},
   "outputs": [],
   "source": [
    "# KEEP important coloumns\n",
    "df.previous_owner.fillna('-',inplace=True)\n",
    "df.energy_efficiency_class.fillna('-',inplace=True)"
   ]
  },
  {
   "cell_type": "code",
   "execution_count": 151,
   "metadata": {},
   "outputs": [],
   "source": [
    "# DROP COLUMNS IF IT HAS MORE THAN 20 percent nans\n",
    "# calculate the percentage of NaN values in each column\n",
    "def drop_columns_nan(dataframe, percentage = 50):\n",
    "    nan_percent = dataframe.isna().sum() / len(dataframe) * 100\n",
    "\n",
    "    # get the column names with more than percentage% NaN values\n",
    "    cols_to_drop = nan_percent[nan_percent > percentage].index.tolist()\n",
    "\n",
    "    # drop the columns with more than percentage% NaN values\n",
    "    return dataframe.drop(cols_to_drop, axis=1)\n",
    "\n",
    "# DROP\n",
    "df = drop_columns_nan(df,50)\n",
    "df = df.drop(['country_version','paint','power','fuel_consumption_city','fuel_consumption_country','upholstery_colour','offer_number','fuel_consumption','fuel_consumption_comb','short_description','desc','first_registration','fuel_type','colour','manufacturer_colour','model_code','emission_class'], axis=1)"
   ]
  },
  {
   "cell_type": "code",
   "execution_count": 152,
   "metadata": {},
   "outputs": [
    {
     "data": {
      "text/plain": [
       "(28630, 32)"
      ]
     },
     "execution_count": 152,
     "metadata": {},
     "output_type": "execute_result"
    }
   ],
   "source": [
    "df.shape"
   ]
  },
  {
   "cell_type": "code",
   "execution_count": 153,
   "metadata": {},
   "outputs": [],
   "source": [
    "df.drop_duplicates(inplace= True)"
   ]
  },
  {
   "cell_type": "code",
   "execution_count": 154,
   "metadata": {},
   "outputs": [
    {
     "data": {
      "text/plain": [
       "(26623, 32)"
      ]
     },
     "execution_count": 154,
     "metadata": {},
     "output_type": "execute_result"
    }
   ],
   "source": [
    "df.shape"
   ]
  },
  {
   "cell_type": "code",
   "execution_count": 155,
   "metadata": {},
   "outputs": [
    {
     "data": {
      "text/html": [
       "<div>\n",
       "<style scoped>\n",
       "    .dataframe tbody tr th:only-of-type {\n",
       "        vertical-align: middle;\n",
       "    }\n",
       "\n",
       "    .dataframe tbody tr th {\n",
       "        vertical-align: top;\n",
       "    }\n",
       "\n",
       "    .dataframe thead th {\n",
       "        text-align: right;\n",
       "    }\n",
       "</style>\n",
       "<table border=\"1\" class=\"dataframe\">\n",
       "  <thead>\n",
       "    <tr style=\"text-align: right;\">\n",
       "      <th></th>\n",
       "      <th>make_model</th>\n",
       "      <th>make</th>\n",
       "      <th>model</th>\n",
       "      <th>location</th>\n",
       "      <th>price</th>\n",
       "      <th>body_type</th>\n",
       "      <th>type</th>\n",
       "      <th>doors</th>\n",
       "      <th>warranty</th>\n",
       "      <th>mileage</th>\n",
       "      <th>gearbox</th>\n",
       "      <th>seller</th>\n",
       "      <th>seats</th>\n",
       "      <th>engine_size</th>\n",
       "      <th>gears</th>\n",
       "      <th>co2_emissions</th>\n",
       "      <th>drivetrain</th>\n",
       "      <th>cylinders</th>\n",
       "      <th>comfort_convenience</th>\n",
       "      <th>entertainment_media</th>\n",
       "      <th>safety_security</th>\n",
       "      <th>extras</th>\n",
       "      <th>empty_weight</th>\n",
       "      <th>full_service_history</th>\n",
       "      <th>upholstery</th>\n",
       "      <th>previous_owner</th>\n",
       "      <th>energy_efficiency_class</th>\n",
       "      <th>power_hp</th>\n",
       "      <th>power_kw</th>\n",
       "      <th>age</th>\n",
       "      <th>fuel_consumption_avg</th>\n",
       "      <th>fuel</th>\n",
       "    </tr>\n",
       "  </thead>\n",
       "  <tbody>\n",
       "    <tr>\n",
       "      <th>15647</th>\n",
       "      <td>Dacia Duster</td>\n",
       "      <td>Dacia</td>\n",
       "      <td>Duster</td>\n",
       "      <td>Ruhrdeich 130,  47059 Duisburg, DE</td>\n",
       "      <td>15640.00</td>\n",
       "      <td>Off-Road/Pick-up</td>\n",
       "      <td>Used</td>\n",
       "      <td>5.00</td>\n",
       "      <td>No</td>\n",
       "      <td>48836.00</td>\n",
       "      <td>Manual</td>\n",
       "      <td>Dealer</td>\n",
       "      <td>5.00</td>\n",
       "      <td>999.00</td>\n",
       "      <td>5.00</td>\n",
       "      <td>129.00</td>\n",
       "      <td>NaN</td>\n",
       "      <td>NaN</td>\n",
       "      <td>Air conditioning, Hill Holder, Keyless central...</td>\n",
       "      <td>On-board computer, Radio</td>\n",
       "      <td>ABS, Central door lock, Daytime running lights...</td>\n",
       "      <td>Alloy wheels, Roof rack</td>\n",
       "      <td>NaN</td>\n",
       "      <td>Yes</td>\n",
       "      <td>Cloth</td>\n",
       "      <td>1</td>\n",
       "      <td>A</td>\n",
       "      <td>101.00</td>\n",
       "      <td>74.00</td>\n",
       "      <td>2.00</td>\n",
       "      <td>5.70</td>\n",
       "      <td>LPG/CNG</td>\n",
       "    </tr>\n",
       "    <tr>\n",
       "      <th>20728</th>\n",
       "      <td>Nissan Qashqai</td>\n",
       "      <td>Nissan</td>\n",
       "      <td>Qashqai</td>\n",
       "      <td>C. Arroyo Totalán, 36,  29730 Rincón de la Vic...</td>\n",
       "      <td>20026.00</td>\n",
       "      <td>Sedan</td>\n",
       "      <td>Used</td>\n",
       "      <td>5.00</td>\n",
       "      <td>Yes</td>\n",
       "      <td>38434.00</td>\n",
       "      <td>Manual</td>\n",
       "      <td>Dealer</td>\n",
       "      <td>NaN</td>\n",
       "      <td>NaN</td>\n",
       "      <td>NaN</td>\n",
       "      <td>NaN</td>\n",
       "      <td>NaN</td>\n",
       "      <td>NaN</td>\n",
       "      <td>NaN</td>\n",
       "      <td>NaN</td>\n",
       "      <td>NaN</td>\n",
       "      <td>NaN</td>\n",
       "      <td>NaN</td>\n",
       "      <td>No</td>\n",
       "      <td>NaN</td>\n",
       "      <td>-</td>\n",
       "      <td>-</td>\n",
       "      <td>140.00</td>\n",
       "      <td>103.00</td>\n",
       "      <td>2.00</td>\n",
       "      <td>NaN</td>\n",
       "      <td>Benzine</td>\n",
       "    </tr>\n",
       "    <tr>\n",
       "      <th>21499</th>\n",
       "      <td>Ford Mustang</td>\n",
       "      <td>Ford</td>\n",
       "      <td>Mustang</td>\n",
       "      <td>Sutelstr.68,  30659 Hannover, DE</td>\n",
       "      <td>19950.00</td>\n",
       "      <td>Convertible</td>\n",
       "      <td>Used</td>\n",
       "      <td>2.00</td>\n",
       "      <td>No</td>\n",
       "      <td>74400.00</td>\n",
       "      <td>Automatic</td>\n",
       "      <td>Dealer</td>\n",
       "      <td>4.00</td>\n",
       "      <td>3731.00</td>\n",
       "      <td>NaN</td>\n",
       "      <td>NaN</td>\n",
       "      <td>NaN</td>\n",
       "      <td>NaN</td>\n",
       "      <td>Air conditioning, Armrest, Cruise control, Ele...</td>\n",
       "      <td>Bluetooth, CD player, On-board computer, Radio...</td>\n",
       "      <td>ABS, Bi-Xenon headlights, Central door lock, D...</td>\n",
       "      <td>All season tyres, Alloy wheels, Ambient lighti...</td>\n",
       "      <td>NaN</td>\n",
       "      <td>No</td>\n",
       "      <td>Full leather</td>\n",
       "      <td>-</td>\n",
       "      <td>-</td>\n",
       "      <td>309.00</td>\n",
       "      <td>227.00</td>\n",
       "      <td>9.00</td>\n",
       "      <td>NaN</td>\n",
       "      <td>Benzine</td>\n",
       "    </tr>\n",
       "  </tbody>\n",
       "</table>\n",
       "</div>"
      ],
      "text/plain": [
       "           make_model    make    model   \n",
       "15647    Dacia Duster   Dacia   Duster  \\\n",
       "20728  Nissan Qashqai  Nissan  Qashqai   \n",
       "21499    Ford Mustang    Ford  Mustang   \n",
       "\n",
       "                                                location    price   \n",
       "15647                 Ruhrdeich 130,  47059 Duisburg, DE 15640.00  \\\n",
       "20728  C. Arroyo Totalán, 36,  29730 Rincón de la Vic... 20026.00   \n",
       "21499                   Sutelstr.68,  30659 Hannover, DE 19950.00   \n",
       "\n",
       "              body_type  type  doors warranty  mileage    gearbox  seller   \n",
       "15647  Off-Road/Pick-up  Used   5.00       No 48836.00     Manual  Dealer  \\\n",
       "20728             Sedan  Used   5.00      Yes 38434.00     Manual  Dealer   \n",
       "21499       Convertible  Used   2.00       No 74400.00  Automatic  Dealer   \n",
       "\n",
       "       seats  engine_size  gears  co2_emissions drivetrain  cylinders   \n",
       "15647   5.00       999.00   5.00         129.00        NaN        NaN  \\\n",
       "20728    NaN          NaN    NaN            NaN        NaN        NaN   \n",
       "21499   4.00      3731.00    NaN            NaN        NaN        NaN   \n",
       "\n",
       "                                     comfort_convenience   \n",
       "15647  Air conditioning, Hill Holder, Keyless central...  \\\n",
       "20728                                                NaN   \n",
       "21499  Air conditioning, Armrest, Cruise control, Ele...   \n",
       "\n",
       "                                     entertainment_media   \n",
       "15647                           On-board computer, Radio  \\\n",
       "20728                                                NaN   \n",
       "21499  Bluetooth, CD player, On-board computer, Radio...   \n",
       "\n",
       "                                         safety_security   \n",
       "15647  ABS, Central door lock, Daytime running lights...  \\\n",
       "20728                                                NaN   \n",
       "21499  ABS, Bi-Xenon headlights, Central door lock, D...   \n",
       "\n",
       "                                                  extras  empty_weight   \n",
       "15647                            Alloy wheels, Roof rack           NaN  \\\n",
       "20728                                                NaN           NaN   \n",
       "21499  All season tyres, Alloy wheels, Ambient lighti...           NaN   \n",
       "\n",
       "      full_service_history    upholstery previous_owner   \n",
       "15647                  Yes         Cloth              1  \\\n",
       "20728                   No           NaN              -   \n",
       "21499                   No  Full leather              -   \n",
       "\n",
       "      energy_efficiency_class  power_hp  power_kw  age  fuel_consumption_avg   \n",
       "15647                       A    101.00     74.00 2.00                  5.70  \\\n",
       "20728                       -    140.00    103.00 2.00                   NaN   \n",
       "21499                       -    309.00    227.00 9.00                   NaN   \n",
       "\n",
       "          fuel  \n",
       "15647  LPG/CNG  \n",
       "20728  Benzine  \n",
       "21499  Benzine  "
      ]
     },
     "execution_count": 155,
     "metadata": {},
     "output_type": "execute_result"
    }
   ],
   "source": [
    "df.sample(3)"
   ]
  },
  {
   "cell_type": "code",
   "execution_count": 156,
   "metadata": {},
   "outputs": [],
   "source": [
    "# DONE Merge countrys \n",
    "df = pd.merge(df, pd.read_csv('country.csv'), on='location', how='left')\n",
    "# df.drop('country',axis=1, inplace=True)"
   ]
  },
  {
   "cell_type": "code",
   "execution_count": 157,
   "metadata": {},
   "outputs": [
    {
     "data": {
      "text/plain": [
       "(26623, 33)"
      ]
     },
     "execution_count": 157,
     "metadata": {},
     "output_type": "execute_result"
    }
   ],
   "source": [
    "df.shape"
   ]
  },
  {
   "cell_type": "code",
   "execution_count": 158,
   "metadata": {},
   "outputs": [],
   "source": [
    "df = pd.merge(df, pd.read_csv('address.csv'), on='location', how='left')\n"
   ]
  },
  {
   "cell_type": "code",
   "execution_count": 159,
   "metadata": {},
   "outputs": [
    {
     "data": {
      "text/plain": [
       "(26623, 36)"
      ]
     },
     "execution_count": 159,
     "metadata": {},
     "output_type": "execute_result"
    }
   ],
   "source": [
    "df.shape"
   ]
  },
  {
   "cell_type": "code",
   "execution_count": 160,
   "metadata": {},
   "outputs": [],
   "source": [
    "df.drop(columns=['location'], inplace=True)"
   ]
  },
  {
   "cell_type": "code",
   "execution_count": 161,
   "metadata": {},
   "outputs": [],
   "source": [
    "df.drop_duplicates(inplace=True)"
   ]
  },
  {
   "cell_type": "code",
   "execution_count": 162,
   "metadata": {},
   "outputs": [],
   "source": [
    "df.reset_index(drop=True, inplace=True)"
   ]
  },
  {
   "cell_type": "code",
   "execution_count": 163,
   "metadata": {},
   "outputs": [
    {
     "data": {
      "text/plain": [
       "(26594, 35)"
      ]
     },
     "execution_count": 163,
     "metadata": {},
     "output_type": "execute_result"
    }
   ],
   "source": [
    "df.shape"
   ]
  },
  {
   "cell_type": "code",
   "execution_count": 164,
   "metadata": {},
   "outputs": [],
   "source": [
    "df.to_csv('1_clean.csv',index=False)"
   ]
  },
  {
   "cell_type": "code",
   "execution_count": 165,
   "metadata": {},
   "outputs": [
    {
     "data": {
      "text/html": [
       "<div>\n",
       "<style scoped>\n",
       "    .dataframe tbody tr th:only-of-type {\n",
       "        vertical-align: middle;\n",
       "    }\n",
       "\n",
       "    .dataframe tbody tr th {\n",
       "        vertical-align: top;\n",
       "    }\n",
       "\n",
       "    .dataframe thead th {\n",
       "        text-align: right;\n",
       "    }\n",
       "</style>\n",
       "<table border=\"1\" class=\"dataframe\">\n",
       "  <thead>\n",
       "    <tr style=\"text-align: right;\">\n",
       "      <th></th>\n",
       "      <th>make_model</th>\n",
       "      <th>make</th>\n",
       "      <th>model</th>\n",
       "      <th>price</th>\n",
       "      <th>body_type</th>\n",
       "      <th>type</th>\n",
       "      <th>doors</th>\n",
       "      <th>warranty</th>\n",
       "      <th>mileage</th>\n",
       "      <th>gearbox</th>\n",
       "      <th>seller</th>\n",
       "      <th>seats</th>\n",
       "      <th>engine_size</th>\n",
       "      <th>gears</th>\n",
       "      <th>co2_emissions</th>\n",
       "      <th>drivetrain</th>\n",
       "      <th>cylinders</th>\n",
       "      <th>comfort_convenience</th>\n",
       "      <th>entertainment_media</th>\n",
       "      <th>safety_security</th>\n",
       "      <th>extras</th>\n",
       "      <th>empty_weight</th>\n",
       "      <th>full_service_history</th>\n",
       "      <th>upholstery</th>\n",
       "      <th>previous_owner</th>\n",
       "      <th>energy_efficiency_class</th>\n",
       "      <th>power_hp</th>\n",
       "      <th>power_kw</th>\n",
       "      <th>age</th>\n",
       "      <th>fuel_consumption_avg</th>\n",
       "      <th>fuel</th>\n",
       "      <th>country</th>\n",
       "      <th>address</th>\n",
       "      <th>latitude</th>\n",
       "      <th>longitude</th>\n",
       "    </tr>\n",
       "  </thead>\n",
       "  <tbody>\n",
       "    <tr>\n",
       "      <th>18184</th>\n",
       "      <td>Toyota C-HR</td>\n",
       "      <td>Toyota</td>\n",
       "      <td>C-HR</td>\n",
       "      <td>21490.00</td>\n",
       "      <td>Sedan</td>\n",
       "      <td>Used</td>\n",
       "      <td>5.00</td>\n",
       "      <td>Yes</td>\n",
       "      <td>85167.00</td>\n",
       "      <td>Automatic</td>\n",
       "      <td>Dealer</td>\n",
       "      <td>5.00</td>\n",
       "      <td>1798.00</td>\n",
       "      <td>5.00</td>\n",
       "      <td>NaN</td>\n",
       "      <td>NaN</td>\n",
       "      <td>NaN</td>\n",
       "      <td>NaN</td>\n",
       "      <td>NaN</td>\n",
       "      <td>NaN</td>\n",
       "      <td>NaN</td>\n",
       "      <td>NaN</td>\n",
       "      <td>No</td>\n",
       "      <td>NaN</td>\n",
       "      <td>-</td>\n",
       "      <td>-</td>\n",
       "      <td>122.00</td>\n",
       "      <td>90.00</td>\n",
       "      <td>4.00</td>\n",
       "      <td>3.00</td>\n",
       "      <td>Benzine</td>\n",
       "      <td>Spain</td>\n",
       "      <td>Glorieta de Santa Bárbara, 29004 Málaga, Spain</td>\n",
       "      <td>36.69</td>\n",
       "      <td>-4.46</td>\n",
       "    </tr>\n",
       "    <tr>\n",
       "      <th>560</th>\n",
       "      <td>Mercedes-Benz SL 350</td>\n",
       "      <td>Mercedes-Benz</td>\n",
       "      <td>SL 350</td>\n",
       "      <td>17999.00</td>\n",
       "      <td>Convertible</td>\n",
       "      <td>Used</td>\n",
       "      <td>2.00</td>\n",
       "      <td>No</td>\n",
       "      <td>114825.00</td>\n",
       "      <td>Automatic</td>\n",
       "      <td>Dealer</td>\n",
       "      <td>2.00</td>\n",
       "      <td>3724.00</td>\n",
       "      <td>5.00</td>\n",
       "      <td>281.00</td>\n",
       "      <td>Rear</td>\n",
       "      <td>6.00</td>\n",
       "      <td>Air conditioning, Automatic climate control, C...</td>\n",
       "      <td>CD player, Hands-free equipment, On-board comp...</td>\n",
       "      <td>ABS, Alarm system, Bi-Xenon headlights, Centra...</td>\n",
       "      <td>Alloy wheels, Headlight washer system, Shift p...</td>\n",
       "      <td>1770.00</td>\n",
       "      <td>Yes</td>\n",
       "      <td>Full leather</td>\n",
       "      <td>2</td>\n",
       "      <td>G</td>\n",
       "      <td>245.00</td>\n",
       "      <td>180.00</td>\n",
       "      <td>16.00</td>\n",
       "      <td>11.70</td>\n",
       "      <td>Benzine</td>\n",
       "      <td>Germany</td>\n",
       "      <td>Alte Kaserne 1, 47249 Duisburg, Germany</td>\n",
       "      <td>51.39</td>\n",
       "      <td>6.75</td>\n",
       "    </tr>\n",
       "    <tr>\n",
       "      <th>11246</th>\n",
       "      <td>Fiat 500L</td>\n",
       "      <td>Fiat</td>\n",
       "      <td>500L</td>\n",
       "      <td>10990.00</td>\n",
       "      <td>Station wagon</td>\n",
       "      <td>Used</td>\n",
       "      <td>5.00</td>\n",
       "      <td>Yes</td>\n",
       "      <td>46500.00</td>\n",
       "      <td>Manual</td>\n",
       "      <td>Dealer</td>\n",
       "      <td>NaN</td>\n",
       "      <td>1200.00</td>\n",
       "      <td>NaN</td>\n",
       "      <td>NaN</td>\n",
       "      <td>NaN</td>\n",
       "      <td>NaN</td>\n",
       "      <td>NaN</td>\n",
       "      <td>NaN</td>\n",
       "      <td>NaN</td>\n",
       "      <td>NaN</td>\n",
       "      <td>NaN</td>\n",
       "      <td>No</td>\n",
       "      <td>NaN</td>\n",
       "      <td>-</td>\n",
       "      <td>-</td>\n",
       "      <td>86.00</td>\n",
       "      <td>63.00</td>\n",
       "      <td>8.00</td>\n",
       "      <td>4.20</td>\n",
       "      <td>Diesel</td>\n",
       "      <td>Spain</td>\n",
       "      <td>Carretera de Madrid Toledo KM. 63, 45280 Olías...</td>\n",
       "      <td>39.91</td>\n",
       "      <td>-4.01</td>\n",
       "    </tr>\n",
       "  </tbody>\n",
       "</table>\n",
       "</div>"
      ],
      "text/plain": [
       "                 make_model           make   model    price      body_type   \n",
       "18184           Toyota C-HR         Toyota    C-HR 21490.00          Sedan  \\\n",
       "560    Mercedes-Benz SL 350  Mercedes-Benz  SL 350 17999.00    Convertible   \n",
       "11246             Fiat 500L           Fiat    500L 10990.00  Station wagon   \n",
       "\n",
       "       type  doors warranty   mileage    gearbox  seller  seats  engine_size   \n",
       "18184  Used   5.00      Yes  85167.00  Automatic  Dealer   5.00      1798.00  \\\n",
       "560    Used   2.00       No 114825.00  Automatic  Dealer   2.00      3724.00   \n",
       "11246  Used   5.00      Yes  46500.00     Manual  Dealer    NaN      1200.00   \n",
       "\n",
       "       gears  co2_emissions drivetrain  cylinders   \n",
       "18184   5.00            NaN        NaN        NaN  \\\n",
       "560     5.00         281.00       Rear       6.00   \n",
       "11246    NaN            NaN        NaN        NaN   \n",
       "\n",
       "                                     comfort_convenience   \n",
       "18184                                                NaN  \\\n",
       "560    Air conditioning, Automatic climate control, C...   \n",
       "11246                                                NaN   \n",
       "\n",
       "                                     entertainment_media   \n",
       "18184                                                NaN  \\\n",
       "560    CD player, Hands-free equipment, On-board comp...   \n",
       "11246                                                NaN   \n",
       "\n",
       "                                         safety_security   \n",
       "18184                                                NaN  \\\n",
       "560    ABS, Alarm system, Bi-Xenon headlights, Centra...   \n",
       "11246                                                NaN   \n",
       "\n",
       "                                                  extras  empty_weight   \n",
       "18184                                                NaN           NaN  \\\n",
       "560    Alloy wheels, Headlight washer system, Shift p...       1770.00   \n",
       "11246                                                NaN           NaN   \n",
       "\n",
       "      full_service_history    upholstery previous_owner   \n",
       "18184                   No           NaN              -  \\\n",
       "560                    Yes  Full leather              2   \n",
       "11246                   No           NaN              -   \n",
       "\n",
       "      energy_efficiency_class  power_hp  power_kw   age  fuel_consumption_avg   \n",
       "18184                       -    122.00     90.00  4.00                  3.00  \\\n",
       "560                         G    245.00    180.00 16.00                 11.70   \n",
       "11246                       -     86.00     63.00  8.00                  4.20   \n",
       "\n",
       "          fuel  country                                            address   \n",
       "18184  Benzine    Spain     Glorieta de Santa Bárbara, 29004 Málaga, Spain  \\\n",
       "560    Benzine  Germany            Alte Kaserne 1, 47249 Duisburg, Germany   \n",
       "11246   Diesel    Spain  Carretera de Madrid Toledo KM. 63, 45280 Olías...   \n",
       "\n",
       "       latitude  longitude  \n",
       "18184     36.69      -4.46  \n",
       "560       51.39       6.75  \n",
       "11246     39.91      -4.01  "
      ]
     },
     "execution_count": 165,
     "metadata": {},
     "output_type": "execute_result"
    }
   ],
   "source": [
    "df.sample(3)"
   ]
  }
 ],
 "metadata": {
  "colab": {
   "name": "DAwPy-Capstone_Project_(AutoScout)_Student.ipynb",
   "provenance": []
  },
  "kernelspec": {
   "display_name": "Python 3 (ipykernel)",
   "language": "python",
   "name": "python3"
  },
  "language_info": {
   "codemirror_mode": {
    "name": "ipython",
    "version": 3
   },
   "file_extension": ".py",
   "mimetype": "text/x-python",
   "name": "python",
   "nbconvert_exporter": "python",
   "pygments_lexer": "ipython3",
   "version": "3.9.12"
  },
  "toc": {
   "base_numbering": 1,
   "nav_menu": {},
   "number_sections": false,
   "sideBar": true,
   "skip_h1_title": false,
   "title_cell": "Table of Contents",
   "title_sidebar": "Contents",
   "toc_cell": false,
   "toc_position": {},
   "toc_section_display": true,
   "toc_window_display": false
  }
 },
 "nbformat": 4,
 "nbformat_minor": 1
}
