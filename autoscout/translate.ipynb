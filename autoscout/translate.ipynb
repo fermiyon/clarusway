{
 "cells": [
  {
   "attachments": {},
   "cell_type": "markdown",
   "metadata": {},
   "source": [
    "## Translating and detecting the language of desc column "
   ]
  },
  {
   "cell_type": "code",
   "execution_count": 47,
   "metadata": {},
   "outputs": [],
   "source": [
    "# %pip install googletrans==4.0.0rc1"
   ]
  },
  {
   "cell_type": "code",
   "execution_count": 48,
   "metadata": {},
   "outputs": [],
   "source": [
    "#%pip install langdetect"
   ]
  },
  {
   "cell_type": "code",
   "execution_count": 49,
   "metadata": {},
   "outputs": [],
   "source": [
    "#%pip install textblob"
   ]
  },
  {
   "cell_type": "code",
   "execution_count": 50,
   "metadata": {},
   "outputs": [
    {
     "name": "stdout",
     "output_type": "stream",
     "text": [
      "INFO: Pandarallel will run on 2 workers.\n",
      "INFO: Pandarallel will use standard multiprocessing data transfer (pipe) to transfer data between the main process and workers.\n"
     ]
    }
   ],
   "source": [
    "import pandas as pd\n",
    "import json\n",
    "from tqdm import tqdm\n",
    "import numpy as np\n",
    "from pandarallel import pandarallel\n",
    "from textblob import TextBlob\n",
    "from googletrans import LANGUAGES, Translator\n",
    "from langdetect import detect\n",
    "\n",
    "\n",
    "pandarallel.initialize(progress_bar=True)\n",
    "tqdm.pandas()"
   ]
  },
  {
   "cell_type": "code",
   "execution_count": 51,
   "metadata": {},
   "outputs": [
    {
     "data": {
      "text/plain": [
       "'2.0.0rc0'"
      ]
     },
     "execution_count": 51,
     "metadata": {},
     "output_type": "execute_result"
    }
   ],
   "source": [
    "pd.__version__"
   ]
  },
  {
   "cell_type": "code",
   "execution_count": 52,
   "metadata": {},
   "outputs": [],
   "source": [
    "df = pd.read_json('as24_cars.json')\n",
    "pd.options.display.max_columns = 100"
   ]
  },
  {
   "cell_type": "code",
   "execution_count": 53,
   "metadata": {},
   "outputs": [
    {
     "data": {
      "text/html": [
       "<div>\n",
       "<style scoped>\n",
       "    .dataframe tbody tr th:only-of-type {\n",
       "        vertical-align: middle;\n",
       "    }\n",
       "\n",
       "    .dataframe tbody tr th {\n",
       "        vertical-align: top;\n",
       "    }\n",
       "\n",
       "    .dataframe thead th {\n",
       "        text-align: right;\n",
       "    }\n",
       "</style>\n",
       "<table border=\"1\" class=\"dataframe\">\n",
       "  <thead>\n",
       "    <tr style=\"text-align: right;\">\n",
       "      <th></th>\n",
       "      <th>make_model</th>\n",
       "      <th>short_description</th>\n",
       "      <th>make</th>\n",
       "      <th>model</th>\n",
       "      <th>location</th>\n",
       "      <th>price</th>\n",
       "      <th>Body type</th>\n",
       "      <th>Type</th>\n",
       "      <th>Doors</th>\n",
       "      <th>Country version</th>\n",
       "      <th>Offer number</th>\n",
       "      <th>Warranty</th>\n",
       "      <th>Mileage</th>\n",
       "      <th>First registration</th>\n",
       "      <th>Gearbox</th>\n",
       "      <th>Fuel type</th>\n",
       "      <th>Colour</th>\n",
       "      <th>Paint</th>\n",
       "      <th>desc</th>\n",
       "      <th>seller</th>\n",
       "      <th>Seats</th>\n",
       "      <th>Power</th>\n",
       "      <th>Engine size</th>\n",
       "      <th>Gears</th>\n",
       "      <th>CO₂-emissions</th>\n",
       "      <th>Manufacturer colour</th>\n",
       "      <th>Drivetrain</th>\n",
       "      <th>Cylinders</th>\n",
       "      <th>Fuel consumption</th>\n",
       "      <th>\\nComfort &amp; Convenience\\n</th>\n",
       "      <th>\\nEntertainment &amp; Media\\n</th>\n",
       "      <th>\\nSafety &amp; Security\\n</th>\n",
       "      <th>\\nExtras\\n</th>\n",
       "      <th>Empty weight</th>\n",
       "      <th>Model code</th>\n",
       "      <th>General inspection</th>\n",
       "      <th>Last service</th>\n",
       "      <th>Full service history</th>\n",
       "      <th>Non-smoker vehicle</th>\n",
       "      <th>Emission class</th>\n",
       "      <th>Emissions sticker</th>\n",
       "      <th>Upholstery colour</th>\n",
       "      <th>Upholstery</th>\n",
       "      <th>Production date</th>\n",
       "      <th>Previous owner</th>\n",
       "      <th>Other fuel types</th>\n",
       "      <th>Power consumption</th>\n",
       "      <th>Energy efficiency class</th>\n",
       "      <th>CO₂-efficiency</th>\n",
       "      <th>Fuel consumption (WLTP)</th>\n",
       "      <th>CO₂-emissions (WLTP)</th>\n",
       "      <th>Available from</th>\n",
       "      <th>Taxi or rental car</th>\n",
       "      <th>Availability</th>\n",
       "      <th>Last timing belt change</th>\n",
       "      <th>Electric Range (WLTP)</th>\n",
       "      <th>Power consumption (WLTP)</th>\n",
       "      <th>Battery Ownership</th>\n",
       "    </tr>\n",
       "  </thead>\n",
       "  <tbody>\n",
       "    <tr>\n",
       "      <th>2283</th>\n",
       "      <td>Mercedes-Benz A 35 AMG</td>\n",
       "      <td>4M*Fahrass*Pano*Kamera*Burmester*Keyles</td>\n",
       "      <td>\\nMercedes-Benz\\n</td>\n",
       "      <td>[\\n, A 35 AMG ,\\n]</td>\n",
       "      <td>Merowinger Str. 7-9,  70736 Fellbach, DE</td>\n",
       "      <td>€ 48,900.-</td>\n",
       "      <td>[\\n, Sedan, \\n]</td>\n",
       "      <td>[\\n, Used, \\n]</td>\n",
       "      <td>[\\n, 4, \\n]</td>\n",
       "      <td>[\\n, Germany, \\n]</td>\n",
       "      <td>[\\n, 30220588, \\n]</td>\n",
       "      <td>[\\n, Yes, \\n]</td>\n",
       "      <td>11,250 km</td>\n",
       "      <td>10/2020</td>\n",
       "      <td>[\\nAutomatic\\n]</td>\n",
       "      <td>Super E10 95</td>\n",
       "      <td>Grey</td>\n",
       "      <td>Metallic</td>\n",
       "      <td>[Fahrzeug-Nr. für Kundenanfragen: 30220588, *e...</td>\n",
       "      <td>Dealer</td>\n",
       "      <td>[\\n, 5, \\n]</td>\n",
       "      <td>[\\n225 kW (306 hp)\\n]</td>\n",
       "      <td>[\\n1,991 cc\\n]</td>\n",
       "      <td>NaN</td>\n",
       "      <td>188 g/km (comb.)</td>\n",
       "      <td>Mountaingrau</td>\n",
       "      <td>[\\n, 4WD, \\n]</td>\n",
       "      <td>NaN</td>\n",
       "      <td>[[7.4 l/100 km (comb.)], [8.9 l/100 km (city)]...</td>\n",
       "      <td>[Air conditioning, Armrest, Automatic climate ...</td>\n",
       "      <td>[Android Auto, Apple CarPlay, Bluetooth, Digit...</td>\n",
       "      <td>[ABS, Adaptive Cruise Control, Alarm system, B...</td>\n",
       "      <td>[Alloy wheels, Ambient lighting, Automatically...</td>\n",
       "      <td>NaN</td>\n",
       "      <td>[\\n, 2222/AJD, \\n]</td>\n",
       "      <td>New</td>\n",
       "      <td>NaN</td>\n",
       "      <td>Yes</td>\n",
       "      <td>Yes</td>\n",
       "      <td>Euro 6d-TEMP</td>\n",
       "      <td>4 (Green)</td>\n",
       "      <td>Black</td>\n",
       "      <td>Full leather</td>\n",
       "      <td>NaN</td>\n",
       "      <td>[[11,250 km, 10/2020], 3]</td>\n",
       "      <td>NaN</td>\n",
       "      <td>NaN</td>\n",
       "      <td>E</td>\n",
       "      <td>Calculated on basis of measured CO₂-emissions ...</td>\n",
       "      <td>NaN</td>\n",
       "      <td>NaN</td>\n",
       "      <td>NaN</td>\n",
       "      <td>NaN</td>\n",
       "      <td>NaN</td>\n",
       "      <td>NaN</td>\n",
       "      <td>NaN</td>\n",
       "      <td>NaN</td>\n",
       "      <td>NaN</td>\n",
       "    </tr>\n",
       "    <tr>\n",
       "      <th>1481</th>\n",
       "      <td>Mercedes-Benz G 350</td>\n",
       "      <td>DESIGNO*AMG SPORT*DISTR*PANO*STNDH*AHK*HK7</td>\n",
       "      <td>\\nMercedes-Benz\\n</td>\n",
       "      <td>[\\n, G 350 ,\\n]</td>\n",
       "      <td>Schulstraße 117,  73066 Uhingen, DE</td>\n",
       "      <td>€ 93,490.-</td>\n",
       "      <td>[\\n, Off-Road/Pick-up, \\n]</td>\n",
       "      <td>[\\n, Used, \\n]</td>\n",
       "      <td>[\\n, 5, \\n]</td>\n",
       "      <td>[\\n, Germany, \\n]</td>\n",
       "      <td>[\\n, 1X27ASU5783, \\n]</td>\n",
       "      <td>NaN</td>\n",
       "      <td>36,700 km</td>\n",
       "      <td>04/2017</td>\n",
       "      <td>[\\nAutomatic\\n]</td>\n",
       "      <td>Diesel (Particle filter)</td>\n",
       "      <td>Black</td>\n",
       "      <td>Metallic</td>\n",
       "      <td>[IN DIESEM JAHR SIND WIR VON AUTOBILD UNTER DE...</td>\n",
       "      <td>Dealer</td>\n",
       "      <td>[\\n, 5, \\n]</td>\n",
       "      <td>[\\n180 kW (245 hp)\\n]</td>\n",
       "      <td>[\\n2,987 cc\\n]</td>\n",
       "      <td>[\\n7\\n]</td>\n",
       "      <td>262 g/km (comb.)</td>\n",
       "      <td>Sonderl. Obsidianschwarz Metal</td>\n",
       "      <td>[\\n, 4WD, \\n]</td>\n",
       "      <td>[\\n6\\n]</td>\n",
       "      <td>[[9.9 l/100 km (comb.)], [11.1 l/100 km (city)...</td>\n",
       "      <td>[Air conditioning, Armrest, Automatic climate ...</td>\n",
       "      <td>[Android Auto, Apple CarPlay, Bluetooth, CD pl...</td>\n",
       "      <td>[ABS, Adaptive Cruise Control, Adaptive headli...</td>\n",
       "      <td>[Alloy wheels (19\"), Automatically dimming int...</td>\n",
       "      <td>[\\n2,610 kg\\n]</td>\n",
       "      <td>[\\n, 1313/ERT, \\n]</td>\n",
       "      <td>New</td>\n",
       "      <td>NaN</td>\n",
       "      <td>Yes</td>\n",
       "      <td>Yes</td>\n",
       "      <td>Euro 6</td>\n",
       "      <td>4 (Green)</td>\n",
       "      <td>NaN</td>\n",
       "      <td>Full leather</td>\n",
       "      <td>NaN</td>\n",
       "      <td>[[36,700 km, 04/2017], 1]</td>\n",
       "      <td>NaN</td>\n",
       "      <td>NaN</td>\n",
       "      <td>NaN</td>\n",
       "      <td>NaN</td>\n",
       "      <td>NaN</td>\n",
       "      <td>NaN</td>\n",
       "      <td>NaN</td>\n",
       "      <td>NaN</td>\n",
       "      <td>NaN</td>\n",
       "      <td>NaN</td>\n",
       "      <td>NaN</td>\n",
       "      <td>NaN</td>\n",
       "      <td>NaN</td>\n",
       "    </tr>\n",
       "    <tr>\n",
       "      <th>25068</th>\n",
       "      <td>Hyundai i30</td>\n",
       "      <td>1.0 TGDI Klass</td>\n",
       "      <td>\\nHyundai\\n</td>\n",
       "      <td>[\\n, i30 ,\\n]</td>\n",
       "      <td>CARRETERA BILBAO GALDAKAO KM. 6,  48960 BILBAO...</td>\n",
       "      <td>€ 15,290.-</td>\n",
       "      <td>[\\n, Station wagon, \\n]</td>\n",
       "      <td>[\\n, Used, \\n]</td>\n",
       "      <td>[\\n, 5, \\n]</td>\n",
       "      <td>[\\n, Spain, \\n]</td>\n",
       "      <td>[\\n, 7286952, \\n]</td>\n",
       "      <td>[\\n, 12 months, \\n]</td>\n",
       "      <td>5,790 km</td>\n",
       "      <td>08/2020</td>\n",
       "      <td>[\\nManual\\n]</td>\n",
       "      <td>Gasoline</td>\n",
       "      <td>Red</td>\n",
       "      <td>NaN</td>\n",
       "      <td>[ , Precio al contado: 18490 euros,  , Para co...</td>\n",
       "      <td>Dealer</td>\n",
       "      <td>NaN</td>\n",
       "      <td>[\\n88 kW (120 hp)\\n]</td>\n",
       "      <td>[\\n1,000 cc\\n]</td>\n",
       "      <td>NaN</td>\n",
       "      <td>NaN</td>\n",
       "      <td>Rojo</td>\n",
       "      <td>NaN</td>\n",
       "      <td>NaN</td>\n",
       "      <td>[[6.1 l/100 km (comb.)], [6.5 l/100 km (city)]...</td>\n",
       "      <td>NaN</td>\n",
       "      <td>NaN</td>\n",
       "      <td>NaN</td>\n",
       "      <td>NaN</td>\n",
       "      <td>NaN</td>\n",
       "      <td>NaN</td>\n",
       "      <td>NaN</td>\n",
       "      <td>NaN</td>\n",
       "      <td>NaN</td>\n",
       "      <td>NaN</td>\n",
       "      <td>NaN</td>\n",
       "      <td>NaN</td>\n",
       "      <td>NaN</td>\n",
       "      <td>NaN</td>\n",
       "      <td>NaN</td>\n",
       "      <td>NaN</td>\n",
       "      <td>NaN</td>\n",
       "      <td>NaN</td>\n",
       "      <td>NaN</td>\n",
       "      <td>NaN</td>\n",
       "      <td>NaN</td>\n",
       "      <td>NaN</td>\n",
       "      <td>NaN</td>\n",
       "      <td>NaN</td>\n",
       "      <td>NaN</td>\n",
       "      <td>NaN</td>\n",
       "      <td>NaN</td>\n",
       "      <td>NaN</td>\n",
       "      <td>NaN</td>\n",
       "    </tr>\n",
       "  </tbody>\n",
       "</table>\n",
       "</div>"
      ],
      "text/plain": [
       "                   make_model                           short_description   \n",
       "2283   Mercedes-Benz A 35 AMG     4M*Fahrass*Pano*Kamera*Burmester*Keyles  \\\n",
       "1481      Mercedes-Benz G 350  DESIGNO*AMG SPORT*DISTR*PANO*STNDH*AHK*HK7   \n",
       "25068             Hyundai i30                              1.0 TGDI Klass   \n",
       "\n",
       "                    make               model   \n",
       "2283   \\nMercedes-Benz\\n  [\\n, A 35 AMG ,\\n]  \\\n",
       "1481   \\nMercedes-Benz\\n     [\\n, G 350 ,\\n]   \n",
       "25068        \\nHyundai\\n       [\\n, i30 ,\\n]   \n",
       "\n",
       "                                                location       price   \n",
       "2283            Merowinger Str. 7-9,  70736 Fellbach, DE  € 48,900.-  \\\n",
       "1481                 Schulstraße 117,  73066 Uhingen, DE  € 93,490.-   \n",
       "25068  CARRETERA BILBAO GALDAKAO KM. 6,  48960 BILBAO...  € 15,290.-   \n",
       "\n",
       "                        Body type            Type        Doors   \n",
       "2283              [\\n, Sedan, \\n]  [\\n, Used, \\n]  [\\n, 4, \\n]  \\\n",
       "1481   [\\n, Off-Road/Pick-up, \\n]  [\\n, Used, \\n]  [\\n, 5, \\n]   \n",
       "25068     [\\n, Station wagon, \\n]  [\\n, Used, \\n]  [\\n, 5, \\n]   \n",
       "\n",
       "         Country version           Offer number             Warranty   \n",
       "2283   [\\n, Germany, \\n]     [\\n, 30220588, \\n]        [\\n, Yes, \\n]  \\\n",
       "1481   [\\n, Germany, \\n]  [\\n, 1X27ASU5783, \\n]                  NaN   \n",
       "25068    [\\n, Spain, \\n]      [\\n, 7286952, \\n]  [\\n, 12 months, \\n]   \n",
       "\n",
       "         Mileage First registration          Gearbox   \n",
       "2283   11,250 km            10/2020  [\\nAutomatic\\n]  \\\n",
       "1481   36,700 km            04/2017  [\\nAutomatic\\n]   \n",
       "25068   5,790 km            08/2020     [\\nManual\\n]   \n",
       "\n",
       "                      Fuel type Colour     Paint   \n",
       "2283               Super E10 95   Grey  Metallic  \\\n",
       "1481   Diesel (Particle filter)  Black  Metallic   \n",
       "25068                  Gasoline    Red       NaN   \n",
       "\n",
       "                                                    desc  seller        Seats   \n",
       "2283   [Fahrzeug-Nr. für Kundenanfragen: 30220588, *e...  Dealer  [\\n, 5, \\n]  \\\n",
       "1481   [IN DIESEM JAHR SIND WIR VON AUTOBILD UNTER DE...  Dealer  [\\n, 5, \\n]   \n",
       "25068  [ , Precio al contado: 18490 euros,  , Para co...  Dealer          NaN   \n",
       "\n",
       "                       Power     Engine size    Gears     CO₂-emissions   \n",
       "2283   [\\n225 kW (306 hp)\\n]  [\\n1,991 cc\\n]      NaN  188 g/km (comb.)  \\\n",
       "1481   [\\n180 kW (245 hp)\\n]  [\\n2,987 cc\\n]  [\\n7\\n]  262 g/km (comb.)   \n",
       "25068   [\\n88 kW (120 hp)\\n]  [\\n1,000 cc\\n]      NaN               NaN   \n",
       "\n",
       "                  Manufacturer colour     Drivetrain Cylinders   \n",
       "2283                     Mountaingrau  [\\n, 4WD, \\n]       NaN  \\\n",
       "1481   Sonderl. Obsidianschwarz Metal  [\\n, 4WD, \\n]   [\\n6\\n]   \n",
       "25068                            Rojo            NaN       NaN   \n",
       "\n",
       "                                        Fuel consumption   \n",
       "2283   [[7.4 l/100 km (comb.)], [8.9 l/100 km (city)]...  \\\n",
       "1481   [[9.9 l/100 km (comb.)], [11.1 l/100 km (city)...   \n",
       "25068  [[6.1 l/100 km (comb.)], [6.5 l/100 km (city)]...   \n",
       "\n",
       "                               \\nComfort & Convenience\\n   \n",
       "2283   [Air conditioning, Armrest, Automatic climate ...  \\\n",
       "1481   [Air conditioning, Armrest, Automatic climate ...   \n",
       "25068                                                NaN   \n",
       "\n",
       "                               \\nEntertainment & Media\\n   \n",
       "2283   [Android Auto, Apple CarPlay, Bluetooth, Digit...  \\\n",
       "1481   [Android Auto, Apple CarPlay, Bluetooth, CD pl...   \n",
       "25068                                                NaN   \n",
       "\n",
       "                                   \\nSafety & Security\\n   \n",
       "2283   [ABS, Adaptive Cruise Control, Alarm system, B...  \\\n",
       "1481   [ABS, Adaptive Cruise Control, Adaptive headli...   \n",
       "25068                                                NaN   \n",
       "\n",
       "                                              \\nExtras\\n    Empty weight   \n",
       "2283   [Alloy wheels, Ambient lighting, Automatically...             NaN  \\\n",
       "1481   [Alloy wheels (19\"), Automatically dimming int...  [\\n2,610 kg\\n]   \n",
       "25068                                                NaN             NaN   \n",
       "\n",
       "               Model code General inspection Last service   \n",
       "2283   [\\n, 2222/AJD, \\n]                New          NaN  \\\n",
       "1481   [\\n, 1313/ERT, \\n]                New          NaN   \n",
       "25068                 NaN                NaN          NaN   \n",
       "\n",
       "      Full service history Non-smoker vehicle Emission class   \n",
       "2283                   Yes                Yes   Euro 6d-TEMP  \\\n",
       "1481                   Yes                Yes         Euro 6   \n",
       "25068                  NaN                NaN            NaN   \n",
       "\n",
       "      Emissions sticker Upholstery colour    Upholstery  Production date   \n",
       "2283          4 (Green)             Black  Full leather              NaN  \\\n",
       "1481          4 (Green)               NaN  Full leather              NaN   \n",
       "25068               NaN               NaN           NaN              NaN   \n",
       "\n",
       "                  Previous owner Other fuel types Power consumption   \n",
       "2283   [[11,250 km, 10/2020], 3]              NaN               NaN  \\\n",
       "1481   [[36,700 km, 04/2017], 1]              NaN               NaN   \n",
       "25068                        NaN              NaN               NaN   \n",
       "\n",
       "      Energy efficiency class   \n",
       "2283                        E  \\\n",
       "1481                      NaN   \n",
       "25068                     NaN   \n",
       "\n",
       "                                          CO₂-efficiency   \n",
       "2283   Calculated on basis of measured CO₂-emissions ...  \\\n",
       "1481                                                 NaN   \n",
       "25068                                                NaN   \n",
       "\n",
       "      Fuel consumption (WLTP) CO₂-emissions (WLTP) Available from   \n",
       "2283                      NaN                  NaN            NaN  \\\n",
       "1481                      NaN                  NaN            NaN   \n",
       "25068                     NaN                  NaN            NaN   \n",
       "\n",
       "      Taxi or rental car Availability Last timing belt change   \n",
       "2283                 NaN          NaN                     NaN  \\\n",
       "1481                 NaN          NaN                     NaN   \n",
       "25068                NaN          NaN                     NaN   \n",
       "\n",
       "      Electric Range (WLTP) Power consumption (WLTP) Battery Ownership  \n",
       "2283                    NaN                      NaN               NaN  \n",
       "1481                    NaN                      NaN               NaN  \n",
       "25068                   NaN                      NaN               NaN  "
      ]
     },
     "execution_count": 53,
     "metadata": {},
     "output_type": "execute_result"
    }
   ],
   "source": [
    "df.sample(3)"
   ]
  },
  {
   "cell_type": "code",
   "execution_count": 95,
   "metadata": {},
   "outputs": [],
   "source": [
    "translator = Translator()\n",
    "\n",
    "def detect_language(text):\n",
    "    try:\n",
    "        lang = translator.detect(text).lang\n",
    "        return lang # tr\n",
    "        # return LANGUAGES.get(lang) turkish\n",
    "    except:\n",
    "        return np.nan\n",
    "    \n",
    "def translate(x):\n",
    "    try:\n",
    "        text = x\n",
    "        translated_text = translator.translate(text)\n",
    "        return translated_text.text\n",
    "    except: \n",
    "        return np.nan\n",
    "\n",
    "\n",
    "def translateWithBlob(x,from_lang):\n",
    "    try:\n",
    "        blob=TextBlob(x)\n",
    "        return blob.translate(from_lang=from_lang, to='en').string\n",
    "    except: \n",
    "        return np.nan\n"
   ]
  },
  {
   "cell_type": "code",
   "execution_count": 55,
   "metadata": {},
   "outputs": [],
   "source": [
    "## DONE\n",
    "def removeWhiteFromList(x):\n",
    "    return list(filter(lambda x: x.strip(), x))\n",
    "df['desc'] = df['desc'].apply(lambda x: removeWhiteFromList(x) if isinstance(x, list) else x)"
   ]
  },
  {
   "cell_type": "code",
   "execution_count": 56,
   "metadata": {},
   "outputs": [
    {
     "data": {
      "text/plain": [
       "array([<class 'list'>, <class 'float'>], dtype=object)"
      ]
     },
     "execution_count": 56,
     "metadata": {},
     "output_type": "execute_result"
    }
   ],
   "source": [
    "df.desc.apply(type).unique()"
   ]
  },
  {
   "cell_type": "code",
   "execution_count": 59,
   "metadata": {},
   "outputs": [],
   "source": [
    "# DONE convert to string\n",
    "df['desc'] = df['desc'].apply(lambda x: '. '.join(x) if isinstance(x, list) else x)\n"
   ]
  },
  {
   "cell_type": "code",
   "execution_count": 86,
   "metadata": {},
   "outputs": [
    {
     "data": {
      "text/plain": [
       "0    Precio al contado: 16950 euros. Vehículo con H...\n",
       "Name: desc, dtype: object"
      ]
     },
     "execution_count": 86,
     "metadata": {},
     "output_type": "execute_result"
    }
   ],
   "source": [
    "df.desc.head(1)"
   ]
  },
  {
   "cell_type": "code",
   "execution_count": 87,
   "metadata": {},
   "outputs": [
    {
     "data": {
      "application/vnd.jupyter.widget-view+json": {
       "model_id": "9fbc851a2e56456b9d9d340db30bca69",
       "version_major": 2,
       "version_minor": 0
      },
      "text/plain": [
       "VBox(children=(HBox(children=(IntProgress(value=0, description='0.00%', max=50), Label(value='0 / 50'))), HBox…"
      ]
     },
     "metadata": {},
     "output_type": "display_data"
    }
   ],
   "source": [
    "# DONE detect language\n",
    "# df.desc.head(10).parallel_apply(lambda x: detect_language(x))\n",
    "df['desc_lang'] = df.desc.parallel_apply(lambda x: detect_language(x))"
   ]
  },
  {
   "cell_type": "code",
   "execution_count": 62,
   "metadata": {},
   "outputs": [
    {
     "data": {
      "text/plain": [
       "'Precio al contado: 16950 euros. Vehículo con HISTORIAL de mantenimiento y un solo propietario.. GARANTÍA de 12 meses ampliable a 24, consúltenos.. EXTRAS: Pantalla frontal, navegador, cámara de marcha atrás, espejos  eléctricos, volante multifunción, llantas, sensor lluvia y luces, cierre centralizado con mando, ordenador a bordo, aire acondicionado, ISOFIX, bluetooth, bluetooth Audio, USB y más extras.... Kilometraje GARANTIZADO y garantía de no haber sufrido accidente.. Precio final de venta, incluyendo IVA y no vinculado a financiación ni entrega de otro vehículo.. TRANSFERENCIA incluida en el precio .. IVA DEDUCIBLE.. Posibilidad de recogida de su antiguo vehículo como parte de pago.. Financiamos el 100% de nuestros vehículos. (consulte condiciones). Realizamos la gestión de búsqueda de tu vehículo sin ningún tipo de compromiso .. English Spoken!!!. <hr>LAS ESPECIFICACIONES DEL VEHÍCULO QUE SE INDICAN REFERENTES A : MODELO, EQUIPAMIENTO Y EXTRAS, PUEDEN CONTENER ERRORES, Y POR TANTO, NO TIENEN CARÁCTER VINCULANTE CONTRACTUAL. CONSULTE EN EXPOSICIÓN.. Condiciones de la financiación. Consulte nuestras opciones de financiación sin compromiso.. See more'"
      ]
     },
     "execution_count": 62,
     "metadata": {},
     "output_type": "execute_result"
    }
   ],
   "source": [
    "df.desc.head(1)[0]"
   ]
  },
  {
   "cell_type": "code",
   "execution_count": 88,
   "metadata": {},
   "outputs": [
    {
     "data": {
      "text/plain": [
       "'Cash price: 16950 euros.Vehicle with maintenance history and a single owner .. 12 -month guarantee expandable to 24, consult us .. extras: front screen, browser, back camera, electric mirrors, multifunction steering wheel, tire, rain sensor and lights, centralized closing withCommand, computer on board, air conditioning, isofix, bluetooth, bluetooth audio, USB and more extras .... guaranteed mileage and guarantee of not having suffered accident .. final sale price, including VAT and not linked to financing or delivery ofanother vehicle .. transfer included in the price .. deductible VAT .. possibility of collection of your old vehicle as part of payment .. we finance 100% of our vehicles.(See conditions).We carry out the search management of your vehicle without any commitment .. English Sphen !!!<HR> vehicle specifications indicated by: model, equipment and extras, may contain errors, and therefore have no contractual binding character.Consult exposure .. financing conditions.See our financing options without obligation .. see more'"
      ]
     },
     "execution_count": 88,
     "metadata": {},
     "output_type": "execute_result"
    }
   ],
   "source": [
    "translate(df.desc.head(1)[0])"
   ]
  },
  {
   "cell_type": "code",
   "execution_count": 90,
   "metadata": {},
   "outputs": [
    {
     "name": "stderr",
     "output_type": "stream",
     "text": [
      "100%|██████████| 10/10 [00:01<00:00,  8.70it/s]\n"
     ]
    }
   ],
   "source": [
    "# DONE translate desc\n",
    "# df['desc_en'] = df.desc.head(10).progress_apply(lambda x: translate(x)) # type: ignore\n",
    "df['desc_en'] = df.desc.progress_apply(lambda x: translate(x)) # type: ignore"
   ]
  },
  {
   "cell_type": "code",
   "execution_count": 93,
   "metadata": {},
   "outputs": [
    {
     "data": {
      "text/plain": [
       "'Cash price: 16950 euros.Vehicle with maintenance history and a single owner .. 12 -month guarantee expandable to 24, consult us .. extras: front screen, browser, back camera, electric mirrors, multifunction steering wheel, tire, rain sensor and lights, centralized closing withCommand, computer on board, air conditioning, isofix, bluetooth, bluetooth audio, USB and more extras .... guaranteed mileage and guarantee of not having suffered accident .. final sale price, including VAT and not linked to financing or delivery ofanother vehicle .. transfer included in the price .. deductible VAT .. possibility of collection of your old vehicle as part of payment .. we finance 100% of our vehicles.(See conditions).We carry out the search management of your vehicle without any commitment .. English Sphen !!!<HR> vehicle specifications indicated by: model, equipment and extras, may contain errors, and therefore have no contractual binding character.Consult exposure .. financing conditions.See our financing options without obligation .. see more'"
      ]
     },
     "execution_count": 93,
     "metadata": {},
     "output_type": "execute_result"
    }
   ],
   "source": [
    "df.desc_en.head(10)[0]"
   ]
  }
 ],
 "metadata": {
  "kernelspec": {
   "display_name": "base",
   "language": "python",
   "name": "python3"
  },
  "language_info": {
   "codemirror_mode": {
    "name": "ipython",
    "version": 3
   },
   "file_extension": ".py",
   "mimetype": "text/x-python",
   "name": "python",
   "nbconvert_exporter": "python",
   "pygments_lexer": "ipython3",
   "version": "3.9.12"
  },
  "orig_nbformat": 4
 },
 "nbformat": 4,
 "nbformat_minor": 2
}
