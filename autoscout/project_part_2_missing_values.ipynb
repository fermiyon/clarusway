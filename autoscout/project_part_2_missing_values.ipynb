{
 "cells": [
  {
   "cell_type": "markdown",
   "metadata": {
    "id": "uGeKSdYds1MD"
   },
   "source": [
    "# PART- 2 `( Handling With Missing Vales )`"
   ]
  },
  {
   "cell_type": "code",
   "execution_count": 234,
   "metadata": {},
   "outputs": [],
   "source": [
    "import pandas as pd\n",
    "import seaborn as sns\n",
    "import matplotlib.pyplot as plt\n",
    "from matplotlib.patches import Patch\n",
    "from matplotlib.lines import Line2D\n",
    "import numpy as np\n",
    "from tqdm import tqdm\n",
    "tqdm.pandas()"
   ]
  },
  {
   "cell_type": "code",
   "execution_count": 235,
   "metadata": {},
   "outputs": [],
   "source": [
    "pd.options.mode.dtype_backend = 'pyarrow'\n",
    "plt.rcParams[\"figure.figsize\"] = (10, 6)\n",
    "pd.options.display.max_columns = 100\n",
    "# pd.options.display.max_rows = 100\n",
    "pd.options.display.float_format = '{:.2f}'.format"
   ]
  },
  {
   "cell_type": "code",
   "execution_count": 236,
   "metadata": {},
   "outputs": [],
   "source": [
    "df = pd.read_csv('clean.csv')"
   ]
  },
  {
   "cell_type": "code",
   "execution_count": 237,
   "metadata": {},
   "outputs": [
    {
     "data": {
      "text/plain": [
       "(26594, 35)"
      ]
     },
     "execution_count": 237,
     "metadata": {},
     "output_type": "execute_result"
    }
   ],
   "source": [
    "df.shape"
   ]
  },
  {
   "cell_type": "code",
   "execution_count": 238,
   "metadata": {},
   "outputs": [],
   "source": [
    "def show_nulls(data):\n",
    "    \n",
    "    '''\n",
    "    \n",
    "    This function plots missing values for each column by observation in the dataset.\n",
    "    \n",
    "    ''' \n",
    "    plt.figure(figsize=(10, 5))\n",
    "\n",
    "    sns.displot(data=data.isnull().melt(value_name=\"missing\"),\n",
    "                y=\"variable\",\n",
    "                hue=\"missing\",\n",
    "                multiple=\"fill\",\n",
    "                height=9.25)\n",
    "\n",
    "    plt.axvline(0.2, color=\"r\")\n",
    "    plt.show()"
   ]
  },
  {
   "cell_type": "code",
   "execution_count": 239,
   "metadata": {},
   "outputs": [
    {
     "data": {
      "text/plain": [
       "(26594, 35)"
      ]
     },
     "execution_count": 239,
     "metadata": {},
     "output_type": "execute_result"
    }
   ],
   "source": [
    "df.shape"
   ]
  },
  {
   "cell_type": "code",
   "execution_count": 240,
   "metadata": {},
   "outputs": [
    {
     "name": "stdout",
     "output_type": "stream",
     "text": [
      "<class 'pandas.core.frame.DataFrame'>\n",
      "RangeIndex: 26594 entries, 0 to 26593\n",
      "Data columns (total 35 columns):\n",
      " #   Column                   Non-Null Count  Dtype  \n",
      "---  ------                   --------------  -----  \n",
      " 0   make_model               26594 non-null  object \n",
      " 1   make                     26594 non-null  object \n",
      " 2   model                    26330 non-null  object \n",
      " 3   price                    26594 non-null  float64\n",
      " 4   body_type                26594 non-null  object \n",
      " 5   type                     26594 non-null  object \n",
      " 6   doors                    26253 non-null  float64\n",
      " 7   warranty                 26594 non-null  object \n",
      " 8   mileage                  26593 non-null  float64\n",
      " 9   gearbox                  26360 non-null  object \n",
      " 10  seller                   26594 non-null  object \n",
      " 11  seats                    23633 non-null  float64\n",
      " 12  engine_size              25251 non-null  float64\n",
      " 13  gears                    17571 non-null  float64\n",
      " 14  co2_emissions            17205 non-null  float64\n",
      " 15  drivetrain               15509 non-null  object \n",
      " 16  cylinders                17425 non-null  float64\n",
      " 17  comfort_convenience      23541 non-null  object \n",
      " 18  entertainment_media      21971 non-null  object \n",
      " 19  safety_security          23529 non-null  object \n",
      " 20  extras                   21685 non-null  object \n",
      " 21  empty_weight             16367 non-null  float64\n",
      " 22  full_service_history     26594 non-null  object \n",
      " 23  upholstery               17200 non-null  object \n",
      " 24  previous_owner           26594 non-null  object \n",
      " 25  energy_efficiency_class  26594 non-null  object \n",
      " 26  power_hp                 26032 non-null  float64\n",
      " 27  power_kw                 26020 non-null  float64\n",
      " 28  age                      26592 non-null  float64\n",
      " 29  fuel_consumption_avg     21540 non-null  float64\n",
      " 30  fuel                     26584 non-null  object \n",
      " 31  country                  26594 non-null  object \n",
      " 32  address                  26594 non-null  object \n",
      " 33  latitude                 26584 non-null  float64\n",
      " 34  longitude                26584 non-null  float64\n",
      "dtypes: float64(15), object(20)\n",
      "memory usage: 7.1+ MB\n"
     ]
    }
   ],
   "source": [
    "df.info()"
   ]
  },
  {
   "cell_type": "code",
   "execution_count": 241,
   "metadata": {},
   "outputs": [
    {
     "name": "stdout",
     "output_type": "stream",
     "text": [
      "Column \u001b[1m\u001b[91mmodel\u001b[0m has mixed object types.\n",
      "Column \u001b[1m\u001b[91mgearbox\u001b[0m has mixed object types.\n",
      "Column \u001b[1m\u001b[91mdrivetrain\u001b[0m has mixed object types.\n",
      "Column \u001b[1m\u001b[91mcomfort_convenience\u001b[0m has mixed object types.\n",
      "Column \u001b[1m\u001b[91mentertainment_media\u001b[0m has mixed object types.\n",
      "Column \u001b[1m\u001b[91msafety_security\u001b[0m has mixed object types.\n",
      "Column \u001b[1m\u001b[91mextras\u001b[0m has mixed object types.\n",
      "Column \u001b[1m\u001b[91mupholstery\u001b[0m has mixed object types.\n",
      "Column \u001b[1m\u001b[91mfuel\u001b[0m has mixed object types.\n"
     ]
    }
   ],
   "source": [
    "class color:\n",
    "    PURPLE = '\\033[95m'\n",
    "    CYAN = '\\033[96m'\n",
    "    DARKCYAN = '\\033[36m'\n",
    "    BLUE = '\\033[94m'\n",
    "    GREEN = '\\033[92m'\n",
    "    YELLOW = '\\033[93m'\n",
    "    RED = '\\033[91m'\n",
    "    BOLD = '\\033[1m'\n",
    "    UNDERLINE = '\\033[4m'\n",
    "    END = '\\033[0m'\n",
    "\n",
    "mixed_type_columns = [(x,', '.join(list(df[x].apply(type).unique().astype(str)))) for x in df if df[x].apply(type).nunique() > 1]\n",
    "one_type_columns = [(x,list(df[x].apply(type).unique())) for x in df if df[x].apply(type).nunique() == 1]\n",
    "\n",
    "def check_column_types(data):\n",
    "    for x in data:\n",
    "        if data[x].apply(type).nunique() > 1:\n",
    "            print(\"Column\" + \" \" + color.BOLD + color.RED + str(x) + color.END + \" \" + \"has mixed object types.\" )\n",
    "        #elif data[x].apply(type).nunique() == 1:\n",
    "            #print(\"Column\" + \" \" + color.BOLD + color.GREEN + str(x) + color.END + \" \" + \"has one object type.\" )\n",
    "        #else:\n",
    "            #print('Error')\n",
    "check_column_types(df)"
   ]
  },
  {
   "cell_type": "code",
   "execution_count": 242,
   "metadata": {},
   "outputs": [
    {
     "data": {
      "text/html": [
       "<div>\n",
       "<style scoped>\n",
       "    .dataframe tbody tr th:only-of-type {\n",
       "        vertical-align: middle;\n",
       "    }\n",
       "\n",
       "    .dataframe tbody tr th {\n",
       "        vertical-align: top;\n",
       "    }\n",
       "\n",
       "    .dataframe thead th {\n",
       "        text-align: right;\n",
       "    }\n",
       "</style>\n",
       "<table border=\"1\" class=\"dataframe\">\n",
       "  <thead>\n",
       "    <tr style=\"text-align: right;\">\n",
       "      <th></th>\n",
       "      <th>make_model</th>\n",
       "      <th>make</th>\n",
       "      <th>model</th>\n",
       "      <th>price</th>\n",
       "      <th>body_type</th>\n",
       "      <th>type</th>\n",
       "      <th>doors</th>\n",
       "      <th>warranty</th>\n",
       "      <th>mileage</th>\n",
       "      <th>gearbox</th>\n",
       "      <th>seller</th>\n",
       "      <th>seats</th>\n",
       "      <th>engine_size</th>\n",
       "      <th>gears</th>\n",
       "      <th>co2_emissions</th>\n",
       "      <th>drivetrain</th>\n",
       "      <th>cylinders</th>\n",
       "      <th>comfort_convenience</th>\n",
       "      <th>entertainment_media</th>\n",
       "      <th>safety_security</th>\n",
       "      <th>extras</th>\n",
       "      <th>empty_weight</th>\n",
       "      <th>full_service_history</th>\n",
       "      <th>upholstery</th>\n",
       "      <th>previous_owner</th>\n",
       "      <th>energy_efficiency_class</th>\n",
       "      <th>power_hp</th>\n",
       "      <th>power_kw</th>\n",
       "      <th>age</th>\n",
       "      <th>fuel_consumption_avg</th>\n",
       "      <th>fuel</th>\n",
       "      <th>country</th>\n",
       "      <th>address</th>\n",
       "      <th>latitude</th>\n",
       "      <th>longitude</th>\n",
       "    </tr>\n",
       "  </thead>\n",
       "  <tbody>\n",
       "    <tr>\n",
       "      <th>6702</th>\n",
       "      <td>Renault Megane E-Tech</td>\n",
       "      <td>Renault</td>\n",
       "      <td>Megane E-Tech</td>\n",
       "      <td>47690.00</td>\n",
       "      <td>Sedan</td>\n",
       "      <td>Demonstration</td>\n",
       "      <td>5.00</td>\n",
       "      <td>Yes</td>\n",
       "      <td>9990.00</td>\n",
       "      <td>Automatic</td>\n",
       "      <td>Dealer</td>\n",
       "      <td>5.00</td>\n",
       "      <td>NaN</td>\n",
       "      <td>1.00</td>\n",
       "      <td>NaN</td>\n",
       "      <td>Front</td>\n",
       "      <td>NaN</td>\n",
       "      <td>360° camera, Armrest, Automatic climate contro...</td>\n",
       "      <td>Android Auto, Apple CarPlay, Bluetooth, Digita...</td>\n",
       "      <td>ABS, Adaptive headlights, Blind spot monitor, ...</td>\n",
       "      <td>Alloy wheels, Ambient lighting, Automatically ...</td>\n",
       "      <td>1776.00</td>\n",
       "      <td>Yes</td>\n",
       "      <td>Full leather</td>\n",
       "      <td>1</td>\n",
       "      <td>A+++</td>\n",
       "      <td>218.00</td>\n",
       "      <td>160.00</td>\n",
       "      <td>0.00</td>\n",
       "      <td>NaN</td>\n",
       "      <td>Electric</td>\n",
       "      <td>Germany</td>\n",
       "      <td>70469, BW, Germany</td>\n",
       "      <td>48.81</td>\n",
       "      <td>9.16</td>\n",
       "    </tr>\n",
       "    <tr>\n",
       "      <th>14365</th>\n",
       "      <td>Skoda Superb</td>\n",
       "      <td>Skoda</td>\n",
       "      <td>Superb</td>\n",
       "      <td>22980.00</td>\n",
       "      <td>Station wagon</td>\n",
       "      <td>Used</td>\n",
       "      <td>5.00</td>\n",
       "      <td>No</td>\n",
       "      <td>77489.00</td>\n",
       "      <td>Manual</td>\n",
       "      <td>Dealer</td>\n",
       "      <td>5.00</td>\n",
       "      <td>1395.00</td>\n",
       "      <td>6.00</td>\n",
       "      <td>119.00</td>\n",
       "      <td>NaN</td>\n",
       "      <td>4.00</td>\n",
       "      <td>Air conditioning, Armrest, Automatic climate c...</td>\n",
       "      <td>Bluetooth, CD player, Digital radio, Hands-fre...</td>\n",
       "      <td>ABS, Adaptive headlights, Bi-Xenon headlights,...</td>\n",
       "      <td>Alloy wheels, Automatically dimming interior m...</td>\n",
       "      <td>1460.00</td>\n",
       "      <td>Yes</td>\n",
       "      <td>Full leather</td>\n",
       "      <td>1</td>\n",
       "      <td>A</td>\n",
       "      <td>150.00</td>\n",
       "      <td>110.00</td>\n",
       "      <td>4.00</td>\n",
       "      <td>5.00</td>\n",
       "      <td>Benzine</td>\n",
       "      <td>Germany</td>\n",
       "      <td>Niederhofheimer Straße 49, 65719 Hofheim am Ta...</td>\n",
       "      <td>50.09</td>\n",
       "      <td>8.46</td>\n",
       "    </tr>\n",
       "    <tr>\n",
       "      <th>8716</th>\n",
       "      <td>Peugeot 508</td>\n",
       "      <td>Peugeot</td>\n",
       "      <td>508</td>\n",
       "      <td>32890.00</td>\n",
       "      <td>Station wagon</td>\n",
       "      <td>Used</td>\n",
       "      <td>5.00</td>\n",
       "      <td>Yes</td>\n",
       "      <td>32606.00</td>\n",
       "      <td>Automatic</td>\n",
       "      <td>Dealer</td>\n",
       "      <td>5.00</td>\n",
       "      <td>1997.00</td>\n",
       "      <td>8.00</td>\n",
       "      <td>122.00</td>\n",
       "      <td>Front</td>\n",
       "      <td>4.00</td>\n",
       "      <td>360° camera, Armrest, Automatic climate contro...</td>\n",
       "      <td>Android Auto, Apple CarPlay, Bluetooth, Digita...</td>\n",
       "      <td>ABS, Adaptive Cruise Control, Adaptive headlig...</td>\n",
       "      <td>Alloy wheels, Ambient lighting, Automatically ...</td>\n",
       "      <td>1615.00</td>\n",
       "      <td>No</td>\n",
       "      <td>Part leather</td>\n",
       "      <td>1</td>\n",
       "      <td>A</td>\n",
       "      <td>163.00</td>\n",
       "      <td>120.00</td>\n",
       "      <td>2.00</td>\n",
       "      <td>4.60</td>\n",
       "      <td>Diesel</td>\n",
       "      <td>Germany</td>\n",
       "      <td>Bebraer Str 6, 37269 Eschwege, Germany</td>\n",
       "      <td>51.18</td>\n",
       "      <td>10.03</td>\n",
       "    </tr>\n",
       "  </tbody>\n",
       "</table>\n",
       "</div>"
      ],
      "text/plain": [
       "                  make_model     make          model    price      body_type   \n",
       "6702   Renault Megane E-Tech  Renault  Megane E-Tech 47690.00          Sedan  \\\n",
       "14365           Skoda Superb    Skoda         Superb 22980.00  Station wagon   \n",
       "8716             Peugeot 508  Peugeot            508 32890.00  Station wagon   \n",
       "\n",
       "                type  doors warranty  mileage    gearbox  seller  seats   \n",
       "6702   Demonstration   5.00      Yes  9990.00  Automatic  Dealer   5.00  \\\n",
       "14365           Used   5.00       No 77489.00     Manual  Dealer   5.00   \n",
       "8716            Used   5.00      Yes 32606.00  Automatic  Dealer   5.00   \n",
       "\n",
       "       engine_size  gears  co2_emissions drivetrain  cylinders   \n",
       "6702           NaN   1.00            NaN      Front        NaN  \\\n",
       "14365      1395.00   6.00         119.00        NaN       4.00   \n",
       "8716       1997.00   8.00         122.00      Front       4.00   \n",
       "\n",
       "                                     comfort_convenience   \n",
       "6702   360° camera, Armrest, Automatic climate contro...  \\\n",
       "14365  Air conditioning, Armrest, Automatic climate c...   \n",
       "8716   360° camera, Armrest, Automatic climate contro...   \n",
       "\n",
       "                                     entertainment_media   \n",
       "6702   Android Auto, Apple CarPlay, Bluetooth, Digita...  \\\n",
       "14365  Bluetooth, CD player, Digital radio, Hands-fre...   \n",
       "8716   Android Auto, Apple CarPlay, Bluetooth, Digita...   \n",
       "\n",
       "                                         safety_security   \n",
       "6702   ABS, Adaptive headlights, Blind spot monitor, ...  \\\n",
       "14365  ABS, Adaptive headlights, Bi-Xenon headlights,...   \n",
       "8716   ABS, Adaptive Cruise Control, Adaptive headlig...   \n",
       "\n",
       "                                                  extras  empty_weight   \n",
       "6702   Alloy wheels, Ambient lighting, Automatically ...       1776.00  \\\n",
       "14365  Alloy wheels, Automatically dimming interior m...       1460.00   \n",
       "8716   Alloy wheels, Ambient lighting, Automatically ...       1615.00   \n",
       "\n",
       "      full_service_history    upholstery previous_owner   \n",
       "6702                   Yes  Full leather              1  \\\n",
       "14365                  Yes  Full leather              1   \n",
       "8716                    No  Part leather              1   \n",
       "\n",
       "      energy_efficiency_class  power_hp  power_kw  age  fuel_consumption_avg   \n",
       "6702                     A+++    218.00    160.00 0.00                   NaN  \\\n",
       "14365                       A    150.00    110.00 4.00                  5.00   \n",
       "8716                        A    163.00    120.00 2.00                  4.60   \n",
       "\n",
       "           fuel  country                                            address   \n",
       "6702   Electric  Germany                                 70469, BW, Germany  \\\n",
       "14365   Benzine  Germany  Niederhofheimer Straße 49, 65719 Hofheim am Ta...   \n",
       "8716     Diesel  Germany             Bebraer Str 6, 37269 Eschwege, Germany   \n",
       "\n",
       "       latitude  longitude  \n",
       "6702      48.81       9.16  \n",
       "14365     50.09       8.46  \n",
       "8716      51.18      10.03  "
      ]
     },
     "execution_count": 242,
     "metadata": {},
     "output_type": "execute_result"
    }
   ],
   "source": [
    "df.sample(3)"
   ]
  },
  {
   "cell_type": "code",
   "execution_count": 243,
   "metadata": {
    "id": "WDZnqBhbs1ME"
   },
   "outputs": [
    {
     "data": {
      "text/plain": [
       "<Figure size 720x360 with 0 Axes>"
      ]
     },
     "metadata": {},
     "output_type": "display_data"
    },
    {
     "data": {
      "image/png": "[encoded data removed]",
      "text/plain": [
       "<Figure size 727.25x666 with 1 Axes>"
      ]
     },
     "metadata": {
      "needs_background": "light"
     },
     "output_type": "display_data"
    }
   ],
   "source": [
    "show_nulls(df)"
   ]
  },
  {
   "cell_type": "code",
   "execution_count": 342,
   "metadata": {},
   "outputs": [
    {
     "data": {
      "text/html": [
       "<div>\n",
       "<style scoped>\n",
       "    .dataframe tbody tr th:only-of-type {\n",
       "        vertical-align: middle;\n",
       "    }\n",
       "\n",
       "    .dataframe tbody tr th {\n",
       "        vertical-align: top;\n",
       "    }\n",
       "\n",
       "    .dataframe thead th {\n",
       "        text-align: right;\n",
       "    }\n",
       "</style>\n",
       "<table border=\"1\" class=\"dataframe\">\n",
       "  <thead>\n",
       "    <tr style=\"text-align: right;\">\n",
       "      <th></th>\n",
       "      <th>0</th>\n",
       "    </tr>\n",
       "  </thead>\n",
       "  <tbody>\n",
       "    <tr>\n",
       "      <th>longitude</th>\n",
       "      <td>0.04</td>\n",
       "    </tr>\n",
       "    <tr>\n",
       "      <th>latitude</th>\n",
       "      <td>0.04</td>\n",
       "    </tr>\n",
       "    <tr>\n",
       "      <th>model</th>\n",
       "      <td>0.99</td>\n",
       "    </tr>\n",
       "    <tr>\n",
       "      <th>doors</th>\n",
       "      <td>1.28</td>\n",
       "    </tr>\n",
       "    <tr>\n",
       "      <th>power_hp</th>\n",
       "      <td>2.11</td>\n",
       "    </tr>\n",
       "    <tr>\n",
       "      <th>power_kw</th>\n",
       "      <td>2.15</td>\n",
       "    </tr>\n",
       "    <tr>\n",
       "      <th>engine_size</th>\n",
       "      <td>5.05</td>\n",
       "    </tr>\n",
       "    <tr>\n",
       "      <th>seats</th>\n",
       "      <td>11.14</td>\n",
       "    </tr>\n",
       "    <tr>\n",
       "      <th>comfort_convenience</th>\n",
       "      <td>11.48</td>\n",
       "    </tr>\n",
       "    <tr>\n",
       "      <th>safety_security</th>\n",
       "      <td>11.53</td>\n",
       "    </tr>\n",
       "    <tr>\n",
       "      <th>entertainment_media</th>\n",
       "      <td>17.39</td>\n",
       "    </tr>\n",
       "    <tr>\n",
       "      <th>extras</th>\n",
       "      <td>18.46</td>\n",
       "    </tr>\n",
       "    <tr>\n",
       "      <th>fuel_consumption_avg</th>\n",
       "      <td>19.00</td>\n",
       "    </tr>\n",
       "    <tr>\n",
       "      <th>gears</th>\n",
       "      <td>33.93</td>\n",
       "    </tr>\n",
       "    <tr>\n",
       "      <th>cylinders</th>\n",
       "      <td>34.48</td>\n",
       "    </tr>\n",
       "    <tr>\n",
       "      <th>co2_emissions</th>\n",
       "      <td>35.31</td>\n",
       "    </tr>\n",
       "    <tr>\n",
       "      <th>upholstery</th>\n",
       "      <td>35.32</td>\n",
       "    </tr>\n",
       "    <tr>\n",
       "      <th>empty_weight</th>\n",
       "      <td>38.46</td>\n",
       "    </tr>\n",
       "    <tr>\n",
       "      <th>drivetrain</th>\n",
       "      <td>41.68</td>\n",
       "    </tr>\n",
       "  </tbody>\n",
       "</table>\n",
       "</div>"
      ],
      "text/plain": [
       "                         0\n",
       "longitude             0.04\n",
       "latitude              0.04\n",
       "model                 0.99\n",
       "doors                 1.28\n",
       "power_hp              2.11\n",
       "power_kw              2.15\n",
       "engine_size           5.05\n",
       "seats                11.14\n",
       "comfort_convenience  11.48\n",
       "safety_security      11.53\n",
       "entertainment_media  17.39\n",
       "extras               18.46\n",
       "fuel_consumption_avg 19.00\n",
       "gears                33.93\n",
       "cylinders            34.48\n",
       "co2_emissions        35.31\n",
       "upholstery           35.32\n",
       "empty_weight         38.46\n",
       "drivetrain           41.68"
      ]
     },
     "execution_count": 342,
     "metadata": {},
     "output_type": "execute_result"
    }
   ],
   "source": [
    "def show_cols_nan():\n",
    "    missing_values_percentage = (df.isna().sum() / df.shape[0] * 100).to_frame()\n",
    "    return missing_values_percentage[missing_values_percentage[0] > 0].sort_values(by=0, ascending=True)\n",
    "show_cols_nan()"
   ]
  },
  {
   "cell_type": "code",
   "execution_count": 343,
   "metadata": {},
   "outputs": [
    {
     "data": {
      "text/plain": [
       "['make_model',\n",
       " 'make',\n",
       " 'price',\n",
       " 'body_type',\n",
       " 'type',\n",
       " 'warranty',\n",
       " 'mileage',\n",
       " 'gearbox',\n",
       " 'seller',\n",
       " 'full_service_history',\n",
       " 'previous_owner',\n",
       " 'energy_efficiency_class',\n",
       " 'age',\n",
       " 'fuel',\n",
       " 'country',\n",
       " 'address']"
      ]
     },
     "execution_count": 343,
     "metadata": {},
     "output_type": "execute_result"
    }
   ],
   "source": [
    "# COLUMNS THAT DO NOT HAVE NANS\n",
    "def full_columns():\n",
    "    return df.isna().sum()[df.isna().sum() == 0].index.to_list()\n",
    "full_columns()"
   ]
  },
  {
   "cell_type": "code",
   "execution_count": 247,
   "metadata": {},
   "outputs": [],
   "source": [
    "def i(col):\n",
    "    print(df[col].isna().value_counts())"
   ]
  },
  {
   "cell_type": "code",
   "execution_count": 248,
   "metadata": {},
   "outputs": [],
   "source": [
    "def first_looking(col):\n",
    "    print(\"COLUMN NAME    : \", col)\n",
    "    print(\"--------------------------------\")\n",
    "    print(\"per_of_nulls   : \", \"%\", round(df[col].isnull().sum()*100 / df.shape[0], 2))\n",
    "    print(\"num_of_nulls   : \", df[col].isnull().sum())\n",
    "    print(\"num_of_uniques : \", df[col].nunique())\n",
    "    print(\"--------------------------------\")\n",
    "    print(df[col].value_counts(dropna = False))"
   ]
  },
  {
   "cell_type": "code",
   "execution_count": 249,
   "metadata": {},
   "outputs": [],
   "source": [
    "# ['make_model', 'body_type','age','hp']\n",
    "def fill_with_mean(col, groups=[]):\n",
    "    df_copy = df.copy()\n",
    "    print(df_copy[col].isna().value_counts()) \n",
    "    for x in range(len(groups) ,0,-1):\n",
    "        df_copy[col] = df_copy.groupby(groups[:x])[col].transform(lambda x: x.fillna(x.mean()))\n",
    "        print(df_copy[col].isna().value_counts()) \n",
    "    return df_copy"
   ]
  },
  {
   "cell_type": "code",
   "execution_count": 325,
   "metadata": {},
   "outputs": [],
   "source": [
    "# ['make_model', 'body_type','age','fuel']\n",
    "def fill_with_mode(col, groups=[]):\n",
    "    df_copy = df.copy()\n",
    "    print(df_copy[col].isna().value_counts()) \n",
    "    for x in range(len(groups) ,0,-1):\n",
    "        print(groups[:x])\n",
    "        df_copy[col] = df_copy.groupby(groups[:x])[col].transform(lambda x: x.fillna(x.mode()[0]) if not x.mode().empty else np.nan)\n",
    "        print(df_copy[col].isna().value_counts())\n",
    "    return df_copy"
   ]
  },
  {
   "cell_type": "markdown",
   "metadata": {},
   "source": [
    "## age"
   ]
  },
  {
   "cell_type": "code",
   "execution_count": 251,
   "metadata": {},
   "outputs": [
    {
     "name": "stdout",
     "output_type": "stream",
     "text": [
      "COLUMN NAME    :  age\n",
      "--------------------------------\n",
      "per_of_nulls   :  % 0.01\n",
      "num_of_nulls   :  2\n",
      "num_of_uniques :  83\n",
      "--------------------------------\n",
      "age\n",
      "3.00       3425\n",
      "4.00       3218\n",
      "0.00       2834\n",
      "1.00       2708\n",
      "2.00       2349\n",
      "           ... \n",
      "72.00         1\n",
      "76.00         1\n",
      "66.00         1\n",
      "-180.00       1\n",
      "69.00         1\n",
      "Name: count, Length: 84, dtype: int64\n"
     ]
    }
   ],
   "source": [
    "first_looking('age')"
   ]
  },
  {
   "cell_type": "code",
   "execution_count": 252,
   "metadata": {},
   "outputs": [
    {
     "data": {
      "text/plain": [
       "Index([6944, 9685, 18894], dtype='int64')"
      ]
     },
     "execution_count": 252,
     "metadata": {},
     "output_type": "execute_result"
    }
   ],
   "source": [
    "rows_to_drop = df[df.age < 0].index\n",
    "rows_to_drop"
   ]
  },
  {
   "cell_type": "code",
   "execution_count": 253,
   "metadata": {},
   "outputs": [
    {
     "data": {
      "text/plain": [
       "(26594, 35)"
      ]
     },
     "execution_count": 253,
     "metadata": {},
     "output_type": "execute_result"
    }
   ],
   "source": [
    "df.shape"
   ]
  },
  {
   "cell_type": "code",
   "execution_count": 254,
   "metadata": {},
   "outputs": [],
   "source": [
    "df.drop(rows_to_drop, inplace= True)"
   ]
  },
  {
   "cell_type": "code",
   "execution_count": 255,
   "metadata": {},
   "outputs": [
    {
     "data": {
      "text/plain": [
       "(26591, 35)"
      ]
     },
     "execution_count": 255,
     "metadata": {},
     "output_type": "execute_result"
    }
   ],
   "source": [
    "df.shape"
   ]
  },
  {
   "cell_type": "code",
   "execution_count": 256,
   "metadata": {},
   "outputs": [
    {
     "data": {
      "text/html": [
       "<div>\n",
       "<style scoped>\n",
       "    .dataframe tbody tr th:only-of-type {\n",
       "        vertical-align: middle;\n",
       "    }\n",
       "\n",
       "    .dataframe tbody tr th {\n",
       "        vertical-align: top;\n",
       "    }\n",
       "\n",
       "    .dataframe thead th {\n",
       "        text-align: right;\n",
       "    }\n",
       "</style>\n",
       "<table border=\"1\" class=\"dataframe\">\n",
       "  <thead>\n",
       "    <tr style=\"text-align: right;\">\n",
       "      <th></th>\n",
       "      <th>make_model</th>\n",
       "      <th>make</th>\n",
       "      <th>model</th>\n",
       "      <th>price</th>\n",
       "      <th>body_type</th>\n",
       "      <th>type</th>\n",
       "      <th>doors</th>\n",
       "      <th>warranty</th>\n",
       "      <th>mileage</th>\n",
       "      <th>gearbox</th>\n",
       "      <th>seller</th>\n",
       "      <th>seats</th>\n",
       "      <th>engine_size</th>\n",
       "      <th>gears</th>\n",
       "      <th>co2_emissions</th>\n",
       "      <th>drivetrain</th>\n",
       "      <th>cylinders</th>\n",
       "      <th>comfort_convenience</th>\n",
       "      <th>entertainment_media</th>\n",
       "      <th>safety_security</th>\n",
       "      <th>extras</th>\n",
       "      <th>empty_weight</th>\n",
       "      <th>full_service_history</th>\n",
       "      <th>upholstery</th>\n",
       "      <th>previous_owner</th>\n",
       "      <th>energy_efficiency_class</th>\n",
       "      <th>power_hp</th>\n",
       "      <th>power_kw</th>\n",
       "      <th>age</th>\n",
       "      <th>fuel_consumption_avg</th>\n",
       "      <th>fuel</th>\n",
       "      <th>country</th>\n",
       "      <th>address</th>\n",
       "      <th>latitude</th>\n",
       "      <th>longitude</th>\n",
       "    </tr>\n",
       "  </thead>\n",
       "  <tbody>\n",
       "    <tr>\n",
       "      <th>677</th>\n",
       "      <td>Mercedes-Benz E 53 AMG</td>\n",
       "      <td>Mercedes-Benz</td>\n",
       "      <td>E 53 AMG</td>\n",
       "      <td>108900.00</td>\n",
       "      <td>Convertible</td>\n",
       "      <td>Demonstration</td>\n",
       "      <td>2.00</td>\n",
       "      <td>Yes</td>\n",
       "      <td>3856.00</td>\n",
       "      <td>Automatic</td>\n",
       "      <td>Dealer</td>\n",
       "      <td>4.00</td>\n",
       "      <td>2999.00</td>\n",
       "      <td>8.00</td>\n",
       "      <td>219.00</td>\n",
       "      <td>4WD</td>\n",
       "      <td>NaN</td>\n",
       "      <td>360° camera, Air conditioning, Automatic clima...</td>\n",
       "      <td>Android Auto, Apple CarPlay, Bluetooth, CD pla...</td>\n",
       "      <td>Alarm system, Central door lock, Driver-side a...</td>\n",
       "      <td>Alloy wheels, Ambient lighting, Automatically ...</td>\n",
       "      <td>NaN</td>\n",
       "      <td>No</td>\n",
       "      <td>Full leather</td>\n",
       "      <td>-</td>\n",
       "      <td>-</td>\n",
       "      <td>435.00</td>\n",
       "      <td>320.00</td>\n",
       "      <td>NaN</td>\n",
       "      <td>NaN</td>\n",
       "      <td>Benzine</td>\n",
       "      <td>Belgium</td>\n",
       "      <td>Avenue de l'Industrie 24, 4500 Huy</td>\n",
       "      <td>50.53</td>\n",
       "      <td>5.26</td>\n",
       "    </tr>\n",
       "    <tr>\n",
       "      <th>16598</th>\n",
       "      <td>Toyota Corolla</td>\n",
       "      <td>Toyota</td>\n",
       "      <td>Corolla</td>\n",
       "      <td>33999.00</td>\n",
       "      <td>Compact</td>\n",
       "      <td>Demonstration</td>\n",
       "      <td>5.00</td>\n",
       "      <td>No</td>\n",
       "      <td>2494.00</td>\n",
       "      <td>Automatic</td>\n",
       "      <td>Dealer</td>\n",
       "      <td>NaN</td>\n",
       "      <td>1987.00</td>\n",
       "      <td>NaN</td>\n",
       "      <td>89.00</td>\n",
       "      <td>NaN</td>\n",
       "      <td>4.00</td>\n",
       "      <td>Air conditioning, Armrest, Automatic climate c...</td>\n",
       "      <td>Android Auto, Apple CarPlay, Bluetooth, Digita...</td>\n",
       "      <td>ABS, Daytime running lights, Distance warning ...</td>\n",
       "      <td>Alloy wheels, Automatically dimming interior m...</td>\n",
       "      <td>1315.00</td>\n",
       "      <td>Yes</td>\n",
       "      <td>Cloth</td>\n",
       "      <td>-</td>\n",
       "      <td>-</td>\n",
       "      <td>184.00</td>\n",
       "      <td>135.00</td>\n",
       "      <td>NaN</td>\n",
       "      <td>NaN</td>\n",
       "      <td>Benzine</td>\n",
       "      <td>Netherlands</td>\n",
       "      <td>Steenbokstraat 3, 7324 AZ Apeldoorn, Netherlands</td>\n",
       "      <td>52.24</td>\n",
       "      <td>5.98</td>\n",
       "    </tr>\n",
       "  </tbody>\n",
       "</table>\n",
       "</div>"
      ],
      "text/plain": [
       "                   make_model           make     model     price    body_type   \n",
       "677    Mercedes-Benz E 53 AMG  Mercedes-Benz  E 53 AMG 108900.00  Convertible  \\\n",
       "16598          Toyota Corolla         Toyota   Corolla  33999.00      Compact   \n",
       "\n",
       "                type  doors warranty  mileage    gearbox  seller  seats   \n",
       "677    Demonstration   2.00      Yes  3856.00  Automatic  Dealer   4.00  \\\n",
       "16598  Demonstration   5.00       No  2494.00  Automatic  Dealer    NaN   \n",
       "\n",
       "       engine_size  gears  co2_emissions drivetrain  cylinders   \n",
       "677        2999.00   8.00         219.00        4WD        NaN  \\\n",
       "16598      1987.00    NaN          89.00        NaN       4.00   \n",
       "\n",
       "                                     comfort_convenience   \n",
       "677    360° camera, Air conditioning, Automatic clima...  \\\n",
       "16598  Air conditioning, Armrest, Automatic climate c...   \n",
       "\n",
       "                                     entertainment_media   \n",
       "677    Android Auto, Apple CarPlay, Bluetooth, CD pla...  \\\n",
       "16598  Android Auto, Apple CarPlay, Bluetooth, Digita...   \n",
       "\n",
       "                                         safety_security   \n",
       "677    Alarm system, Central door lock, Driver-side a...  \\\n",
       "16598  ABS, Daytime running lights, Distance warning ...   \n",
       "\n",
       "                                                  extras  empty_weight   \n",
       "677    Alloy wheels, Ambient lighting, Automatically ...           NaN  \\\n",
       "16598  Alloy wheels, Automatically dimming interior m...       1315.00   \n",
       "\n",
       "      full_service_history    upholstery previous_owner   \n",
       "677                     No  Full leather              -  \\\n",
       "16598                  Yes         Cloth              -   \n",
       "\n",
       "      energy_efficiency_class  power_hp  power_kw  age  fuel_consumption_avg   \n",
       "677                         -    435.00    320.00  NaN                   NaN  \\\n",
       "16598                       -    184.00    135.00  NaN                   NaN   \n",
       "\n",
       "          fuel      country                                           address   \n",
       "677    Benzine      Belgium                Avenue de l'Industrie 24, 4500 Huy  \\\n",
       "16598  Benzine  Netherlands  Steenbokstraat 3, 7324 AZ Apeldoorn, Netherlands   \n",
       "\n",
       "       latitude  longitude  \n",
       "677       50.53       5.26  \n",
       "16598     52.24       5.98  "
      ]
     },
     "execution_count": 256,
     "metadata": {},
     "output_type": "execute_result"
    }
   ],
   "source": [
    "df[df.age.isna()]"
   ]
  },
  {
   "cell_type": "code",
   "execution_count": 257,
   "metadata": {},
   "outputs": [],
   "source": [
    "df.loc[df.age.isna() & (df.mileage < 10000),['age']] = 0"
   ]
  },
  {
   "cell_type": "code",
   "execution_count": 258,
   "metadata": {},
   "outputs": [
    {
     "data": {
      "text/html": [
       "<div>\n",
       "<style scoped>\n",
       "    .dataframe tbody tr th:only-of-type {\n",
       "        vertical-align: middle;\n",
       "    }\n",
       "\n",
       "    .dataframe tbody tr th {\n",
       "        vertical-align: top;\n",
       "    }\n",
       "\n",
       "    .dataframe thead th {\n",
       "        text-align: right;\n",
       "    }\n",
       "</style>\n",
       "<table border=\"1\" class=\"dataframe\">\n",
       "  <thead>\n",
       "    <tr style=\"text-align: right;\">\n",
       "      <th></th>\n",
       "      <th>make_model</th>\n",
       "      <th>make</th>\n",
       "      <th>model</th>\n",
       "      <th>price</th>\n",
       "      <th>body_type</th>\n",
       "      <th>type</th>\n",
       "      <th>doors</th>\n",
       "      <th>warranty</th>\n",
       "      <th>mileage</th>\n",
       "      <th>gearbox</th>\n",
       "      <th>seller</th>\n",
       "      <th>seats</th>\n",
       "      <th>engine_size</th>\n",
       "      <th>gears</th>\n",
       "      <th>co2_emissions</th>\n",
       "      <th>drivetrain</th>\n",
       "      <th>cylinders</th>\n",
       "      <th>comfort_convenience</th>\n",
       "      <th>entertainment_media</th>\n",
       "      <th>safety_security</th>\n",
       "      <th>extras</th>\n",
       "      <th>empty_weight</th>\n",
       "      <th>full_service_history</th>\n",
       "      <th>upholstery</th>\n",
       "      <th>previous_owner</th>\n",
       "      <th>energy_efficiency_class</th>\n",
       "      <th>power_hp</th>\n",
       "      <th>power_kw</th>\n",
       "      <th>age</th>\n",
       "      <th>fuel_consumption_avg</th>\n",
       "      <th>fuel</th>\n",
       "      <th>country</th>\n",
       "      <th>address</th>\n",
       "      <th>latitude</th>\n",
       "      <th>longitude</th>\n",
       "    </tr>\n",
       "  </thead>\n",
       "  <tbody>\n",
       "  </tbody>\n",
       "</table>\n",
       "</div>"
      ],
      "text/plain": [
       "Empty DataFrame\n",
       "Columns: [make_model, make, model, price, body_type, type, doors, warranty, mileage, gearbox, seller, seats, engine_size, gears, co2_emissions, drivetrain, cylinders, comfort_convenience, entertainment_media, safety_security, extras, empty_weight, full_service_history, upholstery, previous_owner, energy_efficiency_class, power_hp, power_kw, age, fuel_consumption_avg, fuel, country, address, latitude, longitude]\n",
       "Index: []"
      ]
     },
     "execution_count": 258,
     "metadata": {},
     "output_type": "execute_result"
    }
   ],
   "source": [
    "df[df.age.isna()]"
   ]
  },
  {
   "cell_type": "code",
   "execution_count": 271,
   "metadata": {},
   "outputs": [],
   "source": [
    "def remove_duplicates():\n",
    "    print(df.shape)\n",
    "    df.drop_duplicates(inplace = True)\n",
    "    df.reset_index(drop=True, inplace=True)\n",
    "    print(df.shape)"
   ]
  },
  {
   "attachments": {},
   "cell_type": "markdown",
   "metadata": {},
   "source": [
    "## mileage"
   ]
  },
  {
   "cell_type": "code",
   "execution_count": 260,
   "metadata": {},
   "outputs": [
    {
     "data": {
      "text/plain": [
       "0       120200.00\n",
       "1         5000.00\n",
       "2        18900.00\n",
       "3        18995.00\n",
       "4       197000.00\n",
       "           ...   \n",
       "26586    40345.00\n",
       "26587   145000.00\n",
       "26588    96000.00\n",
       "26589    94343.00\n",
       "26590   230047.00\n",
       "Name: mileage, Length: 26591, dtype: float64"
      ]
     },
     "execution_count": 260,
     "metadata": {},
     "output_type": "execute_result"
    }
   ],
   "source": [
    "df.mileage"
   ]
  },
  {
   "cell_type": "code",
   "execution_count": 261,
   "metadata": {},
   "outputs": [
    {
     "data": {
      "text/plain": [
       "120200.0"
      ]
     },
     "execution_count": 261,
     "metadata": {},
     "output_type": "execute_result"
    }
   ],
   "source": [
    "df.mileage.iloc[0]"
   ]
  },
  {
   "cell_type": "code",
   "execution_count": 262,
   "metadata": {},
   "outputs": [
    {
     "name": "stdout",
     "output_type": "stream",
     "text": [
      "COLUMN NAME    :  mileage\n",
      "--------------------------------\n",
      "per_of_nulls   :  % 0.0\n",
      "num_of_nulls   :  1\n",
      "num_of_uniques :  14180\n",
      "--------------------------------\n",
      "mileage\n",
      "10.00        518\n",
      "1.00         159\n",
      "5000.00      118\n",
      "100.00       111\n",
      "5.00         105\n",
      "            ... \n",
      "30705.00       1\n",
      "41484.00       1\n",
      "40687.00       1\n",
      "92117.00       1\n",
      "230047.00      1\n",
      "Name: count, Length: 14181, dtype: int64\n"
     ]
    }
   ],
   "source": [
    "first_looking('mileage')"
   ]
  },
  {
   "cell_type": "code",
   "execution_count": 263,
   "metadata": {},
   "outputs": [
    {
     "data": {
      "text/html": [
       "<div>\n",
       "<style scoped>\n",
       "    .dataframe tbody tr th:only-of-type {\n",
       "        vertical-align: middle;\n",
       "    }\n",
       "\n",
       "    .dataframe tbody tr th {\n",
       "        vertical-align: top;\n",
       "    }\n",
       "\n",
       "    .dataframe thead th {\n",
       "        text-align: right;\n",
       "    }\n",
       "</style>\n",
       "<table border=\"1\" class=\"dataframe\">\n",
       "  <thead>\n",
       "    <tr style=\"text-align: right;\">\n",
       "      <th></th>\n",
       "      <th>make_model</th>\n",
       "      <th>make</th>\n",
       "      <th>model</th>\n",
       "      <th>price</th>\n",
       "      <th>body_type</th>\n",
       "      <th>type</th>\n",
       "      <th>doors</th>\n",
       "      <th>warranty</th>\n",
       "      <th>mileage</th>\n",
       "      <th>gearbox</th>\n",
       "      <th>seller</th>\n",
       "      <th>seats</th>\n",
       "      <th>engine_size</th>\n",
       "      <th>gears</th>\n",
       "      <th>co2_emissions</th>\n",
       "      <th>drivetrain</th>\n",
       "      <th>cylinders</th>\n",
       "      <th>comfort_convenience</th>\n",
       "      <th>entertainment_media</th>\n",
       "      <th>safety_security</th>\n",
       "      <th>extras</th>\n",
       "      <th>empty_weight</th>\n",
       "      <th>full_service_history</th>\n",
       "      <th>upholstery</th>\n",
       "      <th>previous_owner</th>\n",
       "      <th>energy_efficiency_class</th>\n",
       "      <th>power_hp</th>\n",
       "      <th>power_kw</th>\n",
       "      <th>age</th>\n",
       "      <th>fuel_consumption_avg</th>\n",
       "      <th>fuel</th>\n",
       "      <th>country</th>\n",
       "      <th>address</th>\n",
       "      <th>latitude</th>\n",
       "      <th>longitude</th>\n",
       "    </tr>\n",
       "  </thead>\n",
       "  <tbody>\n",
       "    <tr>\n",
       "      <th>10652</th>\n",
       "      <td>Fiat 500X</td>\n",
       "      <td>Fiat</td>\n",
       "      <td>500X</td>\n",
       "      <td>41570.00</td>\n",
       "      <td>Off-Road/Pick-up</td>\n",
       "      <td>Demonstration</td>\n",
       "      <td>5.00</td>\n",
       "      <td>No</td>\n",
       "      <td>NaN</td>\n",
       "      <td>Automatic</td>\n",
       "      <td>Dealer</td>\n",
       "      <td>5.00</td>\n",
       "      <td>1469.00</td>\n",
       "      <td>7.00</td>\n",
       "      <td>NaN</td>\n",
       "      <td>NaN</td>\n",
       "      <td>4.00</td>\n",
       "      <td>Air conditioning, Armrest, Automatic climate c...</td>\n",
       "      <td>Android Auto, Apple CarPlay, Radio</td>\n",
       "      <td>ABS, Central door lock, Central door lock with...</td>\n",
       "      <td>Alloy wheels, Electronic parking brake, Emerge...</td>\n",
       "      <td>1380.00</td>\n",
       "      <td>No</td>\n",
       "      <td>Full leather</td>\n",
       "      <td>-</td>\n",
       "      <td>-</td>\n",
       "      <td>131.00</td>\n",
       "      <td>96.00</td>\n",
       "      <td>0.00</td>\n",
       "      <td>NaN</td>\n",
       "      <td>Electric</td>\n",
       "      <td>Netherlands</td>\n",
       "      <td>Cruquiusweg 35, 2102 LS Heemstede, Netherlands</td>\n",
       "      <td>52.34</td>\n",
       "      <td>4.63</td>\n",
       "    </tr>\n",
       "  </tbody>\n",
       "</table>\n",
       "</div>"
      ],
      "text/plain": [
       "      make_model  make model    price         body_type           type  doors   \n",
       "10652  Fiat 500X  Fiat  500X 41570.00  Off-Road/Pick-up  Demonstration   5.00  \\\n",
       "\n",
       "      warranty  mileage    gearbox  seller  seats  engine_size  gears   \n",
       "10652       No      NaN  Automatic  Dealer   5.00      1469.00   7.00  \\\n",
       "\n",
       "       co2_emissions drivetrain  cylinders   \n",
       "10652            NaN        NaN       4.00  \\\n",
       "\n",
       "                                     comfort_convenience   \n",
       "10652  Air conditioning, Armrest, Automatic climate c...  \\\n",
       "\n",
       "                      entertainment_media   \n",
       "10652  Android Auto, Apple CarPlay, Radio  \\\n",
       "\n",
       "                                         safety_security   \n",
       "10652  ABS, Central door lock, Central door lock with...  \\\n",
       "\n",
       "                                                  extras  empty_weight   \n",
       "10652  Alloy wheels, Electronic parking brake, Emerge...       1380.00  \\\n",
       "\n",
       "      full_service_history    upholstery previous_owner   \n",
       "10652                   No  Full leather              -  \\\n",
       "\n",
       "      energy_efficiency_class  power_hp  power_kw  age  fuel_consumption_avg   \n",
       "10652                       -    131.00     96.00 0.00                   NaN  \\\n",
       "\n",
       "           fuel      country                                         address   \n",
       "10652  Electric  Netherlands  Cruquiusweg 35, 2102 LS Heemstede, Netherlands  \\\n",
       "\n",
       "       latitude  longitude  \n",
       "10652     52.34       4.63  "
      ]
     },
     "execution_count": 263,
     "metadata": {},
     "output_type": "execute_result"
    }
   ],
   "source": [
    "df[df.mileage.isna()]"
   ]
  },
  {
   "cell_type": "code",
   "execution_count": 266,
   "metadata": {},
   "outputs": [
    {
     "name": "stdout",
     "output_type": "stream",
     "text": [
      "mileage\n",
      "False    26590\n",
      "True         1\n",
      "Name: count, dtype: int64\n",
      "mileage\n",
      "False    26591\n",
      "Name: count, dtype: int64\n",
      "mileage\n",
      "False    26591\n",
      "Name: count, dtype: int64\n",
      "mileage\n",
      "False    26591\n",
      "Name: count, dtype: int64\n",
      "mileage\n",
      "False    26591\n",
      "Name: count, dtype: int64\n"
     ]
    }
   ],
   "source": [
    "df = fill_with_mean('mileage',groups=['make','make_model','body_type','age'])"
   ]
  },
  {
   "cell_type": "code",
   "execution_count": 267,
   "metadata": {},
   "outputs": [],
   "source": [
    "# CONTROL\n",
    "# df[(df.make == 'Fiat') & (df.make_model == 'Fiat 500X') & (df.body_type == 'Off-Road/Pick-up') & (df.age == 0)]"
   ]
  },
  {
   "cell_type": "code",
   "execution_count": 268,
   "metadata": {},
   "outputs": [
    {
     "data": {
      "text/plain": [
       "(26591,)"
      ]
     },
     "execution_count": 268,
     "metadata": {},
     "output_type": "execute_result"
    }
   ],
   "source": [
    "df.mileage.shape"
   ]
  },
  {
   "cell_type": "code",
   "execution_count": 272,
   "metadata": {},
   "outputs": [
    {
     "name": "stdout",
     "output_type": "stream",
     "text": [
      "(26591, 35)\n",
      "(26591, 35)\n"
     ]
    }
   ],
   "source": [
    "remove_duplicates()"
   ]
  },
  {
   "cell_type": "markdown",
   "metadata": {},
   "source": [
    "## fuel"
   ]
  },
  {
   "cell_type": "code",
   "execution_count": 275,
   "metadata": {},
   "outputs": [
    {
     "data": {
      "text/plain": [
       "0          Diesel\n",
       "1        Electric\n",
       "2         Benzine\n",
       "3         Benzine\n",
       "4          Diesel\n",
       "           ...   \n",
       "26586    Electric\n",
       "26587     Benzine\n",
       "26588      Diesel\n",
       "26589     Benzine\n",
       "26590     Benzine\n",
       "Name: fuel, Length: 26591, dtype: object"
      ]
     },
     "execution_count": 275,
     "metadata": {},
     "output_type": "execute_result"
    }
   ],
   "source": [
    "df.fuel"
   ]
  },
  {
   "cell_type": "code",
   "execution_count": 332,
   "metadata": {},
   "outputs": [
    {
     "name": "stdout",
     "output_type": "stream",
     "text": [
      "fuel\n",
      "False    26581\n",
      "True        10\n",
      "Name: count, dtype: int64\n",
      "['make', 'make_model', 'body_type', 'country', 'age']\n",
      "fuel\n",
      "False    26589\n",
      "True         2\n",
      "Name: count, dtype: int64\n",
      "['make', 'make_model', 'body_type', 'country']\n",
      "fuel\n",
      "False    26591\n",
      "Name: count, dtype: int64\n",
      "['make', 'make_model', 'body_type']\n",
      "fuel\n",
      "False    26591\n",
      "Name: count, dtype: int64\n",
      "['make', 'make_model']\n",
      "fuel\n",
      "False    26591\n",
      "Name: count, dtype: int64\n",
      "['make']\n",
      "fuel\n",
      "False    26591\n",
      "Name: count, dtype: int64\n"
     ]
    }
   ],
   "source": [
    "# ['make','make_model','body_type','country','age']\n",
    "df = fill_with_mode('fuel',groups=['make','make_model','body_type','country','age'])"
   ]
  },
  {
   "cell_type": "code",
   "execution_count": 335,
   "metadata": {},
   "outputs": [
    {
     "name": "stdout",
     "output_type": "stream",
     "text": [
      "(26591, 35)\n",
      "(26591, 35)\n"
     ]
    }
   ],
   "source": [
    "remove_duplicates()"
   ]
  },
  {
   "cell_type": "markdown",
   "metadata": {},
   "source": [
    "## gearbox"
   ]
  },
  {
   "cell_type": "code",
   "execution_count": 338,
   "metadata": {},
   "outputs": [
    {
     "name": "stdout",
     "output_type": "stream",
     "text": [
      "COLUMN NAME    :  gearbox\n",
      "--------------------------------\n",
      "per_of_nulls   :  % 0.88\n",
      "num_of_nulls   :  234\n",
      "num_of_uniques :  3\n",
      "--------------------------------\n",
      "gearbox\n",
      "Manual            16124\n",
      "Automatic         10169\n",
      "NaN                 234\n",
      "Semi-automatic       64\n",
      "Name: count, dtype: int64\n"
     ]
    }
   ],
   "source": [
    "first_looking('gearbox')"
   ]
  },
  {
   "cell_type": "code",
   "execution_count": 339,
   "metadata": {},
   "outputs": [
    {
     "name": "stdout",
     "output_type": "stream",
     "text": [
      "gearbox\n",
      "False    26357\n",
      "True       234\n",
      "Name: count, dtype: int64\n",
      "['make', 'make_model', 'body_type', 'fuel', 'age', 'country']\n",
      "gearbox\n",
      "False    26454\n",
      "True       137\n",
      "Name: count, dtype: int64\n",
      "['make', 'make_model', 'body_type', 'fuel', 'age']\n",
      "gearbox\n",
      "False    26529\n",
      "True        62\n",
      "Name: count, dtype: int64\n",
      "['make', 'make_model', 'body_type', 'fuel']\n",
      "gearbox\n",
      "False    26576\n",
      "True        15\n",
      "Name: count, dtype: int64\n",
      "['make', 'make_model', 'body_type']\n",
      "gearbox\n",
      "False    26583\n",
      "True         8\n",
      "Name: count, dtype: int64\n",
      "['make', 'make_model']\n",
      "gearbox\n",
      "False    26591\n",
      "Name: count, dtype: int64\n",
      "['make']\n",
      "gearbox\n",
      "False    26591\n",
      "Name: count, dtype: int64\n"
     ]
    }
   ],
   "source": [
    "df = fill_with_mode('gearbox',groups=['make','make_model','body_type', 'fuel','age','country'])"
   ]
  },
  {
   "cell_type": "code",
   "execution_count": null,
   "metadata": {},
   "outputs": [],
   "source": []
  },
  {
   "cell_type": "code",
   "execution_count": null,
   "metadata": {},
   "outputs": [],
   "source": [
    "fillwith('hp')"
   ]
  },
  {
   "cell_type": "code",
   "execution_count": null,
   "metadata": {},
   "outputs": [],
   "source": [
    "fillwith('doors')"
   ]
  },
  {
   "cell_type": "code",
   "execution_count": null,
   "metadata": {},
   "outputs": [],
   "source": [
    "fillwithMode('gearbox')"
   ]
  },
  {
   "cell_type": "code",
   "execution_count": null,
   "metadata": {},
   "outputs": [],
   "source": [
    "fillwithMode('colour')"
   ]
  },
  {
   "cell_type": "code",
   "execution_count": null,
   "metadata": {},
   "outputs": [],
   "source": [
    "fillwithMode('seats')"
   ]
  },
  {
   "cell_type": "code",
   "execution_count": null,
   "metadata": {},
   "outputs": [],
   "source": [
    "fillwith('engine_size')"
   ]
  },
  {
   "cell_type": "code",
   "execution_count": null,
   "metadata": {},
   "outputs": [],
   "source": [
    "df.engine_size.isna().value_counts()"
   ]
  },
  {
   "cell_type": "code",
   "execution_count": null,
   "metadata": {},
   "outputs": [],
   "source": [
    "fillwith('fuel_consumption_avg')"
   ]
  },
  {
   "cell_type": "code",
   "execution_count": null,
   "metadata": {},
   "outputs": [],
   "source": [
    "fillwithMode('comfort_convenience')"
   ]
  },
  {
   "cell_type": "code",
   "execution_count": null,
   "metadata": {},
   "outputs": [],
   "source": [
    "fillwithMode('safety_security')"
   ]
  },
  {
   "cell_type": "code",
   "execution_count": null,
   "metadata": {},
   "outputs": [],
   "source": [
    "fillwithMode('extras')"
   ]
  },
  {
   "cell_type": "code",
   "execution_count": null,
   "metadata": {},
   "outputs": [],
   "source": [
    "fillwithMode('entertainment_media')"
   ]
  },
  {
   "cell_type": "code",
   "execution_count": null,
   "metadata": {},
   "outputs": [],
   "source": [
    "show_nulls(df)"
   ]
  },
  {
   "cell_type": "code",
   "execution_count": null,
   "metadata": {},
   "outputs": [],
   "source": [
    "fillwith('fuel_consumption_avg')"
   ]
  },
  {
   "cell_type": "code",
   "execution_count": null,
   "metadata": {},
   "outputs": [],
   "source": [
    "df.fillna(method='ffill', inplace=True)\n",
    "df.fillna(method='bfill', inplace=True)"
   ]
  },
  {
   "cell_type": "code",
   "execution_count": null,
   "metadata": {},
   "outputs": [],
   "source": [
    "df.isna().value_counts()"
   ]
  },
  {
   "cell_type": "markdown",
   "metadata": {
    "id": "gPPdPAu5s1ME"
   },
   "source": [
    "# PART- 3 `( Handling With Outliers )`"
   ]
  },
  {
   "cell_type": "markdown",
   "metadata": {},
   "source": []
  },
  {
   "cell_type": "code",
   "execution_count": null,
   "metadata": {
    "id": "Is4HLjHWs1MF"
   },
   "outputs": [],
   "source": []
  },
  {
   "cell_type": "markdown",
   "metadata": {
    "id": "EKxmsgfts1MG"
   },
   "source": [
    "# Final Step (Checking final situation of data via graphs)"
   ]
  },
  {
   "cell_type": "code",
   "execution_count": null,
   "metadata": {},
   "outputs": [],
   "source": [
    "plt.figure(figsize=(20,20))\n",
    "mask = np.triu(df.corr())\n",
    "sns.heatmap(df.corr(), annot=True, mask=mask, vmin=-1, vmax=1,cmap='RdBu')"
   ]
  },
  {
   "cell_type": "markdown",
   "metadata": {
    "id": "2PgUVPoes1MH"
   },
   "source": [
    "## Export dataframe to csv file (without dummy)"
   ]
  },
  {
   "cell_type": "code",
   "execution_count": null,
   "metadata": {
    "id": "Byg_o2ZMs1MI"
   },
   "outputs": [],
   "source": [
    "df.to_csv(\"final_scout_not_dummy.csv\", index=False)"
   ]
  },
  {
   "cell_type": "markdown",
   "metadata": {
    "id": "hrw9hr-3s1MJ"
   },
   "source": [
    "# Dummy Operation"
   ]
  },
  {
   "cell_type": "code",
   "execution_count": null,
   "metadata": {
    "id": "faDyWTC9s1MJ"
   },
   "outputs": [],
   "source": [
    "dummies_em = df['entertainment_media'].str.get_dummies(sep=', ').add_prefix('em_')\n"
   ]
  },
  {
   "cell_type": "code",
   "execution_count": null,
   "metadata": {},
   "outputs": [],
   "source": [
    "dummies_ss = df['safety_security'].str.get_dummies(sep=', ').add_prefix('ss_')\n"
   ]
  },
  {
   "cell_type": "code",
   "execution_count": null,
   "metadata": {},
   "outputs": [],
   "source": [
    "dummies_cc = df.comfort_convenience.str.get_dummies(sep=', ').add_prefix('cc_')\n"
   ]
  },
  {
   "cell_type": "code",
   "execution_count": null,
   "metadata": {},
   "outputs": [],
   "source": [
    "dummies_ex = df.extras.str.get_dummies(sep=', ').add_prefix('ex_')\n"
   ]
  },
  {
   "cell_type": "code",
   "execution_count": null,
   "metadata": {},
   "outputs": [],
   "source": [
    "df_dummied = pd.get_dummies(df.drop(['make','model','entertainment_media','safety_security','comfort_convenience','extras'], axis=1), drop_first = True)"
   ]
  },
  {
   "cell_type": "code",
   "execution_count": null,
   "metadata": {},
   "outputs": [],
   "source": [
    "df_dummied = pd.concat([df_dummied, dummies_em,dummies_ss,dummies_cc,dummies_ex], axis=1)"
   ]
  },
  {
   "cell_type": "code",
   "execution_count": null,
   "metadata": {},
   "outputs": [],
   "source": [
    "new_column_names1 = {col: col.lower().replace('\\n', '').strip().replace('\\\\', '').replace('\\\"', '').replace('&', '').replace('co₂', 'co2').replace('-', '_').replace(' ', '_').replace('__', '_').replace('(', '').replace(')', '') for col in df_dummied.columns}\n",
    "new_column_names1"
   ]
  },
  {
   "cell_type": "code",
   "execution_count": null,
   "metadata": {},
   "outputs": [],
   "source": [
    "df_dummied = df_dummied.rename(columns=new_column_names1)\n",
    "df_dummied.columns"
   ]
  },
  {
   "cell_type": "markdown",
   "metadata": {
    "id": "DUOdihlqs1MJ"
   },
   "source": [
    "## Export dataframe to csv file (dummy)"
   ]
  },
  {
   "cell_type": "code",
   "execution_count": null,
   "metadata": {
    "id": "IJT7Yl1Us1MK"
   },
   "outputs": [],
   "source": [
    "df_dummied.to_csv(\"final_scout_dummy.csv\", index=False)"
   ]
  }
 ],
 "metadata": {
  "colab": {
   "name": "DAwPy-Capstone_Project_(AutoScout)_Student.ipynb",
   "provenance": []
  },
  "kernelspec": {
   "display_name": "Python 3 (ipykernel)",
   "language": "python",
   "name": "python3"
  },
  "language_info": {
   "codemirror_mode": {
    "name": "ipython",
    "version": 3
   },
   "file_extension": ".py",
   "mimetype": "text/x-python",
   "name": "python",
   "nbconvert_exporter": "python",
   "pygments_lexer": "ipython3",
   "version": "3.9.12"
  },
  "toc": {
   "base_numbering": 1,
   "nav_menu": {},
   "number_sections": false,
   "sideBar": true,
   "skip_h1_title": false,
   "title_cell": "Table of Contents",
   "title_sidebar": "Contents",
   "toc_cell": false,
   "toc_position": {},
   "toc_section_display": true,
   "toc_window_display": false
  }
 },
 "nbformat": 4,
 "nbformat_minor": 1
}
