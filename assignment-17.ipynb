{
 "cells": [
  {
   "cell_type": "code",
   "execution_count": 9,
   "metadata": {},
   "outputs": [
    {
     "name": "stdout",
     "output_type": "stream",
     "text": [
      "{'u': 2, '!': 1, 'o': 2, 'h': 1, 'p': 2, 'r': 1, ' ': 3, 't': 1, 'i': 1, 'n': 1, 's': 2}\n"
     ]
    }
   ],
   "source": [
    "# Count the number of each letter in a sentence - assignment 17\n",
    "\n",
    "sentence = input('Please enter a sentence: ').lower().strip()\n",
    "sentence_set = set(sentence)\n",
    "dic = {}\n",
    "for i in sentence_set:\n",
    "  dic[i] = sentence.count(i)\n",
    "print(dic)"
   ]
  }
 ],
 "metadata": {
  "kernelspec": {
   "display_name": "Python 3.10.7 64-bit",
   "language": "python",
   "name": "python3"
  },
  "language_info": {
   "codemirror_mode": {
    "name": "ipython",
    "version": 3
   },
   "file_extension": ".py",
   "mimetype": "text/x-python",
   "name": "python",
   "nbconvert_exporter": "python",
   "pygments_lexer": "ipython3",
   "version": "3.10.7"
  },
  "orig_nbformat": 4,
  "vscode": {
   "interpreter": {
    "hash": "aee8b7b246df8f9039afb4144a1f6fd8d2ca17a180786b69acc140d282b71a49"
   }
  }
 },
 "nbformat": 4,
 "nbformat_minor": 2
}
